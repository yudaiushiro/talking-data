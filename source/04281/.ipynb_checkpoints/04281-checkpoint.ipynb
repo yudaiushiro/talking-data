{
 "cells": [
  {
   "cell_type": "code",
   "execution_count": 1,
   "metadata": {},
   "outputs": [],
   "source": [
    "import pandas as pd\n",
    "import time\n",
    "import numpy as np\n",
    "from sklearn.model_selection import train_test_split\n",
    "import lightgbm as lgb\n",
    "import gc\n",
    "from contextlib import contextmanager"
   ]
  },
  {
   "cell_type": "code",
   "execution_count": 2,
   "metadata": {},
   "outputs": [],
   "source": [
    "@contextmanager\n",
    "def timer(name):\n",
    "    t0 = time.time()\n",
    "    yield\n",
    "    print(f'[{name}] done in {time.time() - t0:.0f} s')\n",
    "    \n",
    "def df_add_counts(df, cols):\n",
    "    arr_slice = df[cols].values\n",
    "    unq, unqtags, counts = np.unique(np.ravel_multi_index(arr_slice.T, arr_slice.max(axis=0) + 1),\n",
    "                                     return_inverse=True, return_counts=True)\n",
    "    df[\"_\".join(cols)+'_count'] = counts[unqtags]\n",
    "    \n",
    "def make_count_features(df):\n",
    "    with timer(\"add count features\"):\n",
    "        df['click_time']= pd.to_datetime(df['click_time'])\n",
    "        dt= df['click_time'].dt\n",
    "        df['day'] = dt.day.astype('uint8')\n",
    "        df['hour'] = dt.hour.astype('uint8')\n",
    "        df['minute'] = dt.minute.astype('uint8')\n",
    "        del(dt)\n",
    "        \n",
    "        df_add_counts(df, ['ip'])\n",
    "        df_add_counts(df, ['ip','day','hour','minute'])\n",
    "        df_add_counts(df, ['os','device'])\n",
    "        df_add_counts(df, ['os','app','channel'])\n",
    "        \n",
    "        df_add_counts(df, ['ip', 'day', 'hour'])\n",
    "        df_add_counts(df, ['ip', 'app'])\n",
    "        df_add_counts(df, ['ip', 'app', 'os'])\n",
    "        df_add_counts(df, ['ip', 'device'])\n",
    "        df_add_counts(df, ['app', 'channel'])\n",
    "\n",
    "def make_next_click_feature(df):\n",
    "    with timer(\"Adding next click times\"):\n",
    "        D= 2**26\n",
    "        df['category'] = (df['ip'].astype(str) + \"_\" + df['app'].astype(str) + \"_\" + df['device'].astype(str) \\\n",
    "                         + \"_\" + df['os'].astype(str)).apply(hash) % D\n",
    "        click_buffer= np.full(D, 3000000000, dtype=np.uint32)\n",
    "        df['epochtime']= df['click_time'].astype(np.int64) // 10 ** 9\n",
    "        next_clicks= []\n",
    "        for category, time in zip(reversed(df['category'].values), reversed(df['epochtime'].values)):\n",
    "            next_clicks.append(click_buffer[category]-time)\n",
    "            click_buffer[category]= time\n",
    "        del(click_buffer)\n",
    "        df['next_click']= list(reversed(next_clicks))\n",
    "        \n",
    "path = '../input/'\n",
    "\n",
    "dtypes = {\n",
    "        'ip'            : 'uint32',\n",
    "        'app'           : 'uint16',\n",
    "        'device'        : 'uint16',\n",
    "        'os'            : 'uint16',\n",
    "        'channel'       : 'uint16',\n",
    "        'is_attributed' : 'uint8',\n",
    "        'click_id'      : 'uint32'\n",
    "        }"
   ]
  },
  {
   "cell_type": "code",
   "execution_count": 3,
   "metadata": {},
   "outputs": [
    {
     "name": "stdout",
     "output_type": "stream",
     "text": [
      "[load training data] done in 339 s\n",
      "[load test data] done in 16 s\n"
     ]
    }
   ],
   "source": [
    "with timer(\"load training data\"):\n",
    "#     lines = 184903891\n",
    "#     skiplines = np.random.choice(np.arange(1, lines), size=lines-1-20000000, replace=False)\n",
    "#     skiplines=np.sort(skiplines)\n",
    "#     train_df = pd.read_csv(path+\"train.csv\", skiprows=skiplines, nrows=20000000, usecols=['ip','app','device','os', 'channel', 'click_time', 'is_attributed'], dtype=dtypes)\n",
    "    train_df = pd.read_csv(path+\"train.csv\", skiprows=range(1,164903891), nrows=20000000, usecols=['ip','app','device','os', 'channel', 'click_time', 'is_attributed'], dtype=dtypes)\n",
    "\n",
    "\n",
    "with timer(\"load test data\"):\n",
    "    test_df = pd.read_csv(path+\"test.csv\", dtype=dtypes, usecols=['ip','app','device','os', 'channel', 'click_time', 'click_id'])"
   ]
  },
  {
   "cell_type": "code",
   "execution_count": 4,
   "metadata": {},
   "outputs": [
    {
     "data": {
      "text/plain": [
       "96"
      ]
     },
     "execution_count": 4,
     "metadata": {},
     "output_type": "execute_result"
    }
   ],
   "source": [
    "num_train = train_df.shape[0]\n",
    "y = train_df.is_attributed.values\n",
    "\n",
    "sub = pd.DataFrame()\n",
    "sub['click_id'] = test_df.click_id.values\n",
    "\n",
    "common_column = ['ip','app','device','os','channel','click_time']\n",
    "concat_df = pd.concat([train_df[common_column],test_df[common_column]])\n",
    "\n",
    "del train_df, test_df\n",
    "gc.collect()"
   ]
  },
  {
   "cell_type": "code",
   "execution_count": 5,
   "metadata": {},
   "outputs": [
    {
     "name": "stdout",
     "output_type": "stream",
     "text": [
      "[add count features] done in 307 s\n",
      "[Adding next click times] done in 316 s\n"
     ]
    },
    {
     "data": {
      "text/plain": [
       "35"
      ]
     },
     "execution_count": 5,
     "metadata": {},
     "output_type": "execute_result"
    }
   ],
   "source": [
    "make_count_features(concat_df)\n",
    "make_next_click_feature(concat_df)\n",
    "\n",
    "gc.collect()"
   ]
  },
  {
   "cell_type": "code",
   "execution_count": 6,
   "metadata": {},
   "outputs": [],
   "source": [
    "train_df = concat_df.iloc[:num_train]\n",
    "test_df = concat_df.iloc[num_train:]\n",
    "del concat_df"
   ]
  },
  {
   "cell_type": "code",
   "execution_count": 7,
   "metadata": {},
   "outputs": [
    {
     "name": "stderr",
     "output_type": "stream",
     "text": [
      "/home/um003580/.pyenv/versions/anaconda3-5.1.0/lib/python3.6/site-packages/sklearn/model_selection/_split.py:2026: FutureWarning: From version 0.21, test_size will always complement train_size unless both are specified.\n",
      "  FutureWarning)\n"
     ]
    }
   ],
   "source": [
    "train_df, val_df, y_train, y_val = train_test_split(train_df, y, train_size=0.9, random_state=0)\n",
    "\n",
    "evals_results = {}\n",
    "num_boost_round = 250\n",
    "early_stopping_rounds = 30"
   ]
  },
  {
   "cell_type": "code",
   "execution_count": 8,
   "metadata": {},
   "outputs": [],
   "source": [
    "lgb_params = {\n",
    "    'boosting_type': 'gbdt',\n",
    "    'objective': 'binary',\n",
    "    'subsample_for_bin': 200000,  # Number of samples for constructing bin\n",
    "    'min_split_gain': 0,  # lambda_l1, lambda_l2 and min_gain_to_split to regularization\n",
    "    'reg_alpha': 0,  # L1 regularization term on weights\n",
    "    'reg_lambda': 0,  # L2 regularization term on weights\n",
    "    'nthread': 4,\n",
    "    'verbose': 0,\n",
    "    'metric':'auc',     \n",
    " \n",
    "    'learning_rate': 0.15,\n",
    "    'num_leaves': 7,  # 2^max_depth - 1\n",
    "    'max_depth': 3,  # -1 means no limit\n",
    "    'min_child_samples': 100,  # Minimum number of data need in a child(min_data_in_leaf)\n",
    "    'max_bin': 100,  # Number of bucketed bin for feature values\n",
    "    'subsample': 0.7,  # Subsample ratio of the training instance.\n",
    "    'subsample_freq': 1,  # frequence of subsample, <=0 means no enable\n",
    "    'colsample_bytree': 0.9,  # Subsample ratio of columns when constructing each tree.\n",
    "    'min_child_weight': 0,  # Minimum sum of instance weight(hessian) needed in a child(leaf)\n",
    "    'scale_pos_weight':99\n",
    "}\n",
    "# metrics = 'auc'\n",
    "# lgb_params = {\n",
    "#     'boosting_type': 'gbdt',\n",
    "#     'objective': 'binary',\n",
    "#     'metric': metrics,\n",
    "#     'learning_rate': .1,\n",
    "#     'num_leaves': 7,\n",
    "#     'max_depth': 4,\n",
    "#     'min_child_samples': 100,\n",
    "#     'max_bin': 100,\n",
    "#     'subsample': 0.7,\n",
    "#     'subsample_freq': 1,\n",
    "#     'colsample_bytree': 0.7,\n",
    "#     'min_child_weight': 0,\n",
    "#     'min_split_gain': 0,\n",
    "#     'nthread': 4,\n",
    "#     'verbose': 1,\n",
    "#     'scale_pos_weight': 99.7\n",
    "#     #'scale_pos_weight': 400\n",
    "# }"
   ]
  },
  {
   "cell_type": "code",
   "execution_count": 9,
   "metadata": {},
   "outputs": [
    {
     "name": "stdout",
     "output_type": "stream",
     "text": [
      "preparing validation datasets\n"
     ]
    },
    {
     "data": {
      "text/plain": [
       "25"
      ]
     },
     "execution_count": 9,
     "metadata": {},
     "output_type": "execute_result"
    }
   ],
   "source": [
    "target = \"is_attributed\"\n",
    "# categorical = ['ip','app','os','channel','device']\n",
    "categorical = ['app','os','channel','device']\n",
    "predictors = list(set(train_df.columns)-set([target])-set(['click_time','category','epochtime','ip']))\n",
    "# predictors = list(set(train_df.columns)-set([target])-set(['click_time']))\n",
    "\n",
    "print(\"preparing validation datasets\")\n",
    "\n",
    "xgtrain = lgb.Dataset(train_df[predictors].values,\n",
    "                      label=y_train,\n",
    "                      feature_name=predictors,\n",
    "                      categorical_feature=categorical\n",
    "                      )\n",
    "\n",
    "del train_df\n",
    "del y_train\n",
    "gc.collect()\n",
    "\n",
    "xgvalid = lgb.Dataset(val_df[predictors].values,\n",
    "                      label=y_val,\n",
    "                      feature_name=predictors,\n",
    "                      categorical_feature=categorical\n",
    "                      )\n",
    "\n",
    "del val_df\n",
    "del y_val\n",
    "gc.collect()"
   ]
  },
  {
   "cell_type": "code",
   "execution_count": 10,
   "metadata": {},
   "outputs": [
    {
     "name": "stderr",
     "output_type": "stream",
     "text": [
      "/home/um003580/.pyenv/versions/anaconda3-5.1.0/lib/python3.6/site-packages/lightgbm/basic.py:1036: UserWarning: Using categorical_feature in Dataset.\n",
      "  warnings.warn('Using categorical_feature in Dataset.')\n",
      "/home/um003580/.pyenv/versions/anaconda3-5.1.0/lib/python3.6/site-packages/lightgbm/basic.py:681: UserWarning: categorical_feature in param dict is overrided.\n",
      "  warnings.warn('categorical_feature in param dict is overrided.')\n"
     ]
    },
    {
     "name": "stdout",
     "output_type": "stream",
     "text": [
      "[1]\tvalid's auc: 0.923994\n",
      "Training until validation scores don't improve for 30 rounds.\n",
      "[2]\tvalid's auc: 0.950348\n",
      "[3]\tvalid's auc: 0.949714\n",
      "[4]\tvalid's auc: 0.950071\n",
      "[5]\tvalid's auc: 0.950061\n",
      "[6]\tvalid's auc: 0.951662\n",
      "[7]\tvalid's auc: 0.953525\n",
      "[8]\tvalid's auc: 0.953591\n",
      "[9]\tvalid's auc: 0.95522\n",
      "[10]\tvalid's auc: 0.955268\n",
      "[11]\tvalid's auc: 0.956312\n",
      "[12]\tvalid's auc: 0.959697\n",
      "[13]\tvalid's auc: 0.960296\n",
      "[14]\tvalid's auc: 0.960488\n",
      "[15]\tvalid's auc: 0.961041\n",
      "[16]\tvalid's auc: 0.962027\n",
      "[17]\tvalid's auc: 0.962274\n",
      "[18]\tvalid's auc: 0.961986\n",
      "[19]\tvalid's auc: 0.962836\n",
      "[20]\tvalid's auc: 0.963154\n",
      "[21]\tvalid's auc: 0.963275\n",
      "[22]\tvalid's auc: 0.963492\n",
      "[23]\tvalid's auc: 0.965271\n",
      "[24]\tvalid's auc: 0.965475\n",
      "[25]\tvalid's auc: 0.9666\n",
      "[26]\tvalid's auc: 0.966582\n",
      "[27]\tvalid's auc: 0.966576\n",
      "[28]\tvalid's auc: 0.966654\n",
      "[29]\tvalid's auc: 0.967066\n",
      "[30]\tvalid's auc: 0.967629\n",
      "[31]\tvalid's auc: 0.967827\n",
      "[32]\tvalid's auc: 0.968191\n",
      "[33]\tvalid's auc: 0.968226\n",
      "[34]\tvalid's auc: 0.96829\n",
      "[35]\tvalid's auc: 0.968496\n",
      "[36]\tvalid's auc: 0.968561\n",
      "[37]\tvalid's auc: 0.968855\n",
      "[38]\tvalid's auc: 0.969112\n",
      "[39]\tvalid's auc: 0.969101\n",
      "[40]\tvalid's auc: 0.968986\n",
      "[41]\tvalid's auc: 0.969085\n",
      "[42]\tvalid's auc: 0.969194\n",
      "[43]\tvalid's auc: 0.969366\n",
      "[44]\tvalid's auc: 0.969408\n",
      "[45]\tvalid's auc: 0.969498\n",
      "[46]\tvalid's auc: 0.969864\n",
      "[47]\tvalid's auc: 0.969929\n",
      "[48]\tvalid's auc: 0.969928\n",
      "[49]\tvalid's auc: 0.970097\n",
      "[50]\tvalid's auc: 0.970242\n",
      "[51]\tvalid's auc: 0.97025\n",
      "[52]\tvalid's auc: 0.970298\n",
      "[53]\tvalid's auc: 0.97026\n",
      "[54]\tvalid's auc: 0.970463\n",
      "[55]\tvalid's auc: 0.970464\n",
      "[56]\tvalid's auc: 0.970483\n",
      "[57]\tvalid's auc: 0.970558\n",
      "[58]\tvalid's auc: 0.970499\n",
      "[59]\tvalid's auc: 0.970464\n",
      "[60]\tvalid's auc: 0.970475\n",
      "[61]\tvalid's auc: 0.970527\n",
      "[62]\tvalid's auc: 0.97056\n",
      "[63]\tvalid's auc: 0.970561\n",
      "[64]\tvalid's auc: 0.970582\n",
      "[65]\tvalid's auc: 0.970601\n",
      "[66]\tvalid's auc: 0.970654\n",
      "[67]\tvalid's auc: 0.97076\n",
      "[68]\tvalid's auc: 0.970787\n",
      "[69]\tvalid's auc: 0.970812\n",
      "[70]\tvalid's auc: 0.97088\n",
      "[71]\tvalid's auc: 0.970888\n",
      "[72]\tvalid's auc: 0.970954\n",
      "[73]\tvalid's auc: 0.971084\n",
      "[74]\tvalid's auc: 0.971089\n",
      "[75]\tvalid's auc: 0.970961\n",
      "[76]\tvalid's auc: 0.970952\n",
      "[77]\tvalid's auc: 0.97093\n",
      "[78]\tvalid's auc: 0.971036\n",
      "[79]\tvalid's auc: 0.971024\n",
      "[80]\tvalid's auc: 0.971057\n",
      "[81]\tvalid's auc: 0.971122\n",
      "[82]\tvalid's auc: 0.971111\n",
      "[83]\tvalid's auc: 0.971105\n",
      "[84]\tvalid's auc: 0.971111\n",
      "[85]\tvalid's auc: 0.971116\n",
      "[86]\tvalid's auc: 0.97117\n",
      "[87]\tvalid's auc: 0.97115\n",
      "[88]\tvalid's auc: 0.971183\n",
      "[89]\tvalid's auc: 0.971192\n",
      "[90]\tvalid's auc: 0.971249\n",
      "[91]\tvalid's auc: 0.971316\n",
      "[92]\tvalid's auc: 0.971407\n",
      "[93]\tvalid's auc: 0.971393\n",
      "[94]\tvalid's auc: 0.971377\n",
      "[95]\tvalid's auc: 0.971371\n",
      "[96]\tvalid's auc: 0.971358\n",
      "[97]\tvalid's auc: 0.971406\n",
      "[98]\tvalid's auc: 0.9715\n",
      "[99]\tvalid's auc: 0.971517\n",
      "[100]\tvalid's auc: 0.971555\n",
      "[101]\tvalid's auc: 0.971574\n",
      "[102]\tvalid's auc: 0.971478\n",
      "[103]\tvalid's auc: 0.971509\n",
      "[104]\tvalid's auc: 0.971503\n",
      "[105]\tvalid's auc: 0.971507\n",
      "[106]\tvalid's auc: 0.971539\n",
      "[107]\tvalid's auc: 0.971538\n",
      "[108]\tvalid's auc: 0.971635\n",
      "[109]\tvalid's auc: 0.971623\n",
      "[110]\tvalid's auc: 0.971616\n",
      "[111]\tvalid's auc: 0.971603\n",
      "[112]\tvalid's auc: 0.971589\n",
      "[113]\tvalid's auc: 0.971591\n",
      "[114]\tvalid's auc: 0.971595\n",
      "[115]\tvalid's auc: 0.9716\n",
      "[116]\tvalid's auc: 0.971605\n",
      "[117]\tvalid's auc: 0.971599\n",
      "[118]\tvalid's auc: 0.971643\n",
      "[119]\tvalid's auc: 0.971676\n",
      "[120]\tvalid's auc: 0.971665\n",
      "[121]\tvalid's auc: 0.971754\n",
      "[122]\tvalid's auc: 0.971756\n",
      "[123]\tvalid's auc: 0.971748\n",
      "[124]\tvalid's auc: 0.971743\n",
      "[125]\tvalid's auc: 0.971874\n",
      "[126]\tvalid's auc: 0.9719\n",
      "[127]\tvalid's auc: 0.971899\n",
      "[128]\tvalid's auc: 0.971991\n",
      "[129]\tvalid's auc: 0.971986\n",
      "[130]\tvalid's auc: 0.971984\n",
      "[131]\tvalid's auc: 0.971982\n",
      "[132]\tvalid's auc: 0.971982\n",
      "[133]\tvalid's auc: 0.971992\n",
      "[134]\tvalid's auc: 0.97198\n",
      "[135]\tvalid's auc: 0.971942\n",
      "[136]\tvalid's auc: 0.97194\n",
      "[137]\tvalid's auc: 0.971965\n",
      "[138]\tvalid's auc: 0.971967\n",
      "[139]\tvalid's auc: 0.972021\n",
      "[140]\tvalid's auc: 0.972046\n",
      "[141]\tvalid's auc: 0.972043\n",
      "[142]\tvalid's auc: 0.972035\n",
      "[143]\tvalid's auc: 0.972033\n",
      "[144]\tvalid's auc: 0.972034\n",
      "[145]\tvalid's auc: 0.972086\n",
      "[146]\tvalid's auc: 0.972072\n",
      "[147]\tvalid's auc: 0.972058\n",
      "[148]\tvalid's auc: 0.972056\n",
      "[149]\tvalid's auc: 0.972103\n",
      "[150]\tvalid's auc: 0.972096\n",
      "[151]\tvalid's auc: 0.972075\n",
      "[152]\tvalid's auc: 0.97207\n",
      "[153]\tvalid's auc: 0.972065\n",
      "[154]\tvalid's auc: 0.97209\n",
      "[155]\tvalid's auc: 0.972092\n",
      "[156]\tvalid's auc: 0.972103\n",
      "[157]\tvalid's auc: 0.972108\n",
      "[158]\tvalid's auc: 0.972095\n",
      "[159]\tvalid's auc: 0.972047\n",
      "[160]\tvalid's auc: 0.972019\n",
      "[161]\tvalid's auc: 0.972007\n",
      "[162]\tvalid's auc: 0.971978\n",
      "[163]\tvalid's auc: 0.971965\n",
      "[164]\tvalid's auc: 0.971971\n",
      "[165]\tvalid's auc: 0.972056\n",
      "[166]\tvalid's auc: 0.972056\n",
      "[167]\tvalid's auc: 0.972043\n",
      "[168]\tvalid's auc: 0.972062\n",
      "[169]\tvalid's auc: 0.97205\n",
      "[170]\tvalid's auc: 0.972048\n",
      "[171]\tvalid's auc: 0.972106\n",
      "[172]\tvalid's auc: 0.972103\n",
      "[173]\tvalid's auc: 0.972123\n",
      "[174]\tvalid's auc: 0.972149\n",
      "[175]\tvalid's auc: 0.972197\n",
      "[176]\tvalid's auc: 0.972189\n",
      "[177]\tvalid's auc: 0.972277\n",
      "[178]\tvalid's auc: 0.972287\n",
      "[179]\tvalid's auc: 0.972318\n",
      "[180]\tvalid's auc: 0.972341\n",
      "[181]\tvalid's auc: 0.972336\n",
      "[182]\tvalid's auc: 0.972349\n",
      "[183]\tvalid's auc: 0.972345\n",
      "[184]\tvalid's auc: 0.972359\n",
      "[185]\tvalid's auc: 0.972331\n",
      "[186]\tvalid's auc: 0.972284\n",
      "[187]\tvalid's auc: 0.972287\n",
      "[188]\tvalid's auc: 0.972318\n",
      "[189]\tvalid's auc: 0.972315\n",
      "[190]\tvalid's auc: 0.972335\n",
      "[191]\tvalid's auc: 0.972321\n",
      "[192]\tvalid's auc: 0.972312\n",
      "[193]\tvalid's auc: 0.972316\n",
      "[194]\tvalid's auc: 0.972316\n",
      "[195]\tvalid's auc: 0.972318\n",
      "[196]\tvalid's auc: 0.972337\n",
      "[197]\tvalid's auc: 0.972394\n",
      "[198]\tvalid's auc: 0.972393\n",
      "[199]\tvalid's auc: 0.972393\n",
      "[200]\tvalid's auc: 0.972387\n",
      "[201]\tvalid's auc: 0.972368\n",
      "[202]\tvalid's auc: 0.972329\n",
      "[203]\tvalid's auc: 0.972285\n",
      "[204]\tvalid's auc: 0.972275\n",
      "[205]\tvalid's auc: 0.972275\n",
      "[206]\tvalid's auc: 0.972287\n",
      "[207]\tvalid's auc: 0.972327\n",
      "[208]\tvalid's auc: 0.972374\n",
      "[209]\tvalid's auc: 0.972393\n",
      "[210]\tvalid's auc: 0.972376\n",
      "[211]\tvalid's auc: 0.972374\n",
      "[212]\tvalid's auc: 0.972383\n",
      "[213]\tvalid's auc: 0.972384\n",
      "[214]\tvalid's auc: 0.972365\n",
      "[215]\tvalid's auc: 0.972357\n",
      "[216]\tvalid's auc: 0.972319\n",
      "[217]\tvalid's auc: 0.972279\n",
      "[218]\tvalid's auc: 0.972255\n",
      "[219]\tvalid's auc: 0.972235\n",
      "[220]\tvalid's auc: 0.972211\n",
      "[221]\tvalid's auc: 0.972201\n",
      "[222]\tvalid's auc: 0.972175\n",
      "[223]\tvalid's auc: 0.972139\n",
      "[224]\tvalid's auc: 0.972127\n",
      "[225]\tvalid's auc: 0.972135\n",
      "[226]\tvalid's auc: 0.972127\n",
      "[227]\tvalid's auc: 0.972119\n",
      "Early stopping, best iteration is:\n",
      "[197]\tvalid's auc: 0.972394\n"
     ]
    },
    {
     "data": {
      "text/plain": [
       "41"
      ]
     },
     "execution_count": 10,
     "metadata": {},
     "output_type": "execute_result"
    }
   ],
   "source": [
    "booster = lgb.train(\n",
    "     lgb_params, \n",
    "     xgtrain,\n",
    "     valid_sets=[xgvalid],\n",
    "     valid_names=['valid'],\n",
    "     evals_result=evals_results, \n",
    "     num_boost_round=num_boost_round,\n",
    "     early_stopping_rounds=early_stopping_rounds,\n",
    "     verbose_eval=1\n",
    ")\n",
    "\n",
    "# n_estimators = model.best_iteration\n",
    "\n",
    "# print('\\nModel Info:')\n",
    "# print('n_estimators:', n_estimators)\n",
    "# print(metrics+':', evals_results['valid'][metrics][n_estimators-1])\n",
    "\n",
    "del xgvalid\n",
    "del xgtrain\n",
    "gc.collect()"
   ]
  },
  {
   "cell_type": "code",
   "execution_count": 14,
   "metadata": {},
   "outputs": [
    {
     "data": {
      "image/png": "[encoded data removed]",
      "text/plain": [
       "<matplotlib.figure.Figure at 0x7f7145ae2f98>"
      ]
     },
     "metadata": {},
     "output_type": "display_data"
    }
   ],
   "source": [
    "import matplotlib.pyplot as plt\n",
    "ax = lgb.plot_importance(booster, max_num_features=100)\n",
    "plt.show()"
   ]
  },
  {
   "cell_type": "code",
   "execution_count": 15,
   "metadata": {},
   "outputs": [],
   "source": [
    "preditions=booster.predict(test_df[predictors].values)"
   ]
  },
  {
   "cell_type": "code",
   "execution_count": 16,
   "metadata": {},
   "outputs": [],
   "source": [
    "sub['is_attributed']  = preditions\n",
    "\n",
    "sub.to_csv('my_lgb_sub.csv', float_format='%.8f', index=False)"
   ]
  },
  {
   "cell_type": "markdown",
   "metadata": {},
   "source": [
    "Early stopping, best iteration is:\n",
    "[197]\tvalid's auc: 0.972394\n",
    "traindata random with ip"
   ]
  }
 ],
 "metadata": {
  "kernelspec": {
   "display_name": "Python 3",
   "language": "python",
   "name": "python3"
  },
  "language_info": {
   "codemirror_mode": {
    "name": "ipython",
    "version": 3
   },
   "file_extension": ".py",
   "mimetype": "text/x-python",
   "name": "python",
   "nbconvert_exporter": "python",
   "pygments_lexer": "ipython3",
   "version": "3.6.4"
  }
 },
 "nbformat": 4,
 "nbformat_minor": 2
}
