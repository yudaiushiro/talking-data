{
 "cells": [
  {
   "cell_type": "code",
   "execution_count": 1,
   "metadata": {},
   "outputs": [],
   "source": [
    "import pandas as pd\n",
    "import time\n",
    "import numpy as np\n",
    "from sklearn.model_selection import train_test_split\n",
    "import lightgbm as lgb\n",
    "import gc\n",
    "from contextlib import contextmanager"
   ]
  },
  {
   "cell_type": "code",
   "execution_count": 2,
   "metadata": {},
   "outputs": [],
   "source": [
    "@contextmanager\n",
    "def timer(name):\n",
    "    t0 = time.time()\n",
    "    yield\n",
    "    print(f'[{name}] done in {time.time() - t0:.0f} s')\n",
    "    \n",
    "def df_add_counts(df, cols):\n",
    "    arr_slice = df[cols].values\n",
    "    unq, unqtags, counts = np.unique(np.ravel_multi_index(arr_slice.T, arr_slice.max(axis=0) + 1),\n",
    "                                     return_inverse=True, return_counts=True)\n",
    "    df[\"_\".join(cols)+'_count'] = counts[unqtags]\n",
    "    \n",
    "def make_count_features(df):\n",
    "    with timer(\"add count features\"):\n",
    "        df['click_time']= pd.to_datetime(df['click_time'])\n",
    "        dt= df['click_time'].dt\n",
    "        df['day'] = dt.day.astype('uint8')\n",
    "        df['hour'] = dt.hour.astype('uint8')\n",
    "        df['minute'] = dt.minute.astype('uint8')\n",
    "#         df['second'] = dt.second.astype('uint8')\n",
    "\n",
    "        del(dt)\n",
    "        \n",
    "        df_add_counts(df, ['ip'])\n",
    "        df_add_counts(df, ['ip','day','hour','minute'])\n",
    "        df_add_counts(df, ['os','device'])\n",
    "        df_add_counts(df, ['os','app','channel'])\n",
    "        \n",
    "        df_add_counts(df, ['ip', 'day', 'hour'])\n",
    "        df_add_counts(df, ['ip', 'app'])\n",
    "        df_add_counts(df, ['ip', 'app', 'os'])\n",
    "        df_add_counts(df, ['ip', 'device'])\n",
    "        df_add_counts(df, ['app', 'channel'])\n",
    "\n",
    "def make_next_click_feature(df):\n",
    "    with timer(\"Adding next click times\"):\n",
    "        D= 2**26\n",
    "        df['category'] = (df['ip'].astype(str) + \"_\" + df['app'].astype(str) + \"_\" + df['device'].astype(str) \\\n",
    "                         + \"_\" + df['os'].astype(str)).apply(hash) % D\n",
    "        click_buffer= np.full(D, 3000000000, dtype=np.uint32)\n",
    "        df['epochtime']= df['click_time'].astype(np.int64) // 10 ** 9\n",
    "        next_clicks= []\n",
    "        for category, time in zip(reversed(df['category'].values), reversed(df['epochtime'].values)):\n",
    "            next_clicks.append(click_buffer[category]-time)\n",
    "            click_buffer[category]= time\n",
    "        del(click_buffer)\n",
    "        df['next_click']= list(reversed(next_clicks))\n",
    "        \n",
    "path = '~/talkingdata/input/'\n",
    "\n",
    "dtypes = {\n",
    "        'ip'            : 'uint32',\n",
    "        'app'           : 'uint16',\n",
    "        'device'        : 'uint16',\n",
    "        'os'            : 'uint16',\n",
    "        'channel'       : 'uint16',\n",
    "        'is_attributed' : 'uint8',\n",
    "        'click_id'      : 'uint32'\n",
    "        }"
   ]
  },
  {
   "cell_type": "code",
   "execution_count": 3,
   "metadata": {},
   "outputs": [
    {
     "name": "stdout",
     "output_type": "stream",
     "text": [
      "[load training data] done in 139 s\n",
      "[load test data] done in 14 s\n"
     ]
    }
   ],
   "source": [
    "with timer(\"load training data\"):\n",
    "#     lines = 184903891\n",
    "#     skiplines = np.random.choice(np.arange(1, lines), size=lines-1-20000000, replace=False)\n",
    "#     skiplines=np.sort(skiplines)\n",
    "#     train_df = pd.read_csv(path+\"train.csv\", skiprows=skiplines, nrows=20000000, usecols=['ip','app','device','os', 'channel', 'click_time', 'is_attributed'], dtype=dtypes)\n",
    "    train_df = pd.read_csv(path+\"train.csv\", skiprows=range(1,140703891), nrows=44200000, usecols=['ip','app','device','os', 'channel', 'click_time', 'is_attributed'], dtype=dtypes)\n",
    "\n",
    "\n",
    "with timer(\"load test data\"):\n",
    "    test_df = pd.read_csv(path+\"test.csv\", dtype=dtypes, usecols=['ip','app','device','os', 'channel', 'click_time', 'click_id'])"
   ]
  },
  {
   "cell_type": "code",
   "execution_count": 4,
   "metadata": {},
   "outputs": [
    {
     "name": "stdout",
     "output_type": "stream",
     "text": [
      "36085903\n",
      "126411\n"
     ]
    }
   ],
   "source": [
    "test_ip_max = test_df.ip.max()\n",
    "train_df = train_df[train_df.ip <= test_ip_max]\n",
    "print(len(train_df.index))\n",
    "print(train_df.ip.max())"
   ]
  },
  {
   "cell_type": "code",
   "execution_count": 5,
   "metadata": {},
   "outputs": [
    {
     "data": {
      "text/plain": [
       "115"
      ]
     },
     "execution_count": 5,
     "metadata": {},
     "output_type": "execute_result"
    }
   ],
   "source": [
    "num_train = train_df.shape[0]\n",
    "y = train_df.is_attributed.values\n",
    "\n",
    "sub = pd.DataFrame()\n",
    "sub['click_id'] = test_df.click_id.values\n",
    "\n",
    "common_column = ['ip','app','device','os','channel','click_time']\n",
    "concat_df = pd.concat([train_df[common_column],test_df[common_column]])\n",
    "\n",
    "del train_df, test_df\n",
    "gc.collect()"
   ]
  },
  {
   "cell_type": "code",
   "execution_count": 6,
   "metadata": {},
   "outputs": [
    {
     "name": "stdout",
     "output_type": "stream",
     "text": [
      "[add count features] done in 329 s\n",
      "[Adding next click times] done in 521 s\n"
     ]
    },
    {
     "data": {
      "text/plain": [
       "35"
      ]
     },
     "execution_count": 6,
     "metadata": {},
     "output_type": "execute_result"
    }
   ],
   "source": [
    "make_count_features(concat_df)\n",
    "make_next_click_feature(concat_df)\n",
    "\n",
    "gc.collect()"
   ]
  },
  {
   "cell_type": "code",
   "execution_count": 7,
   "metadata": {},
   "outputs": [],
   "source": [
    "train_df = concat_df.iloc[:num_train]\n",
    "test_df = concat_df.iloc[num_train:]\n",
    "del concat_df"
   ]
  },
  {
   "cell_type": "code",
   "execution_count": 8,
   "metadata": {},
   "outputs": [
    {
     "name": "stderr",
     "output_type": "stream",
     "text": [
      "/home/um003580/.pyenv/versions/anaconda3-5.1.0/lib/python3.6/site-packages/sklearn/model_selection/_split.py:2026: FutureWarning: From version 0.21, test_size will always complement train_size unless both are specified.\n",
      "  FutureWarning)\n"
     ]
    }
   ],
   "source": [
    "train_df, val_df, y_train, y_val = train_test_split(train_df, y, train_size=0.9, random_state=0)\n",
    "\n",
    "evals_results = {}\n",
    "num_boost_round = 250\n",
    "early_stopping_rounds = 30"
   ]
  },
  {
   "cell_type": "code",
   "execution_count": 9,
   "metadata": {},
   "outputs": [],
   "source": [
    "lgb_params = {\n",
    "    'boosting_type': 'gbdt',\n",
    "    'objective': 'binary',\n",
    "    'subsample_for_bin': 200000,  # Number of samples for constructing bin\n",
    "    'min_split_gain': 0,  # lambda_l1, lambda_l2 and min_gain_to_split to regularization\n",
    "    'reg_alpha': 0,  # L1 regularization term on weights\n",
    "    'reg_lambda': 0,  # L2 regularization term on weights\n",
    "    'nthread': 4,\n",
    "    'verbose': 0,\n",
    "    'metric':'auc',     \n",
    " \n",
    "    'learning_rate': 0.15,\n",
    "    'num_leaves': 7,  # 2^max_depth - 1\n",
    "    'max_depth': 3,  # -1 means no limit\n",
    "    'min_child_samples': 100,  # Minimum number of data need in a child(min_data_in_leaf)\n",
    "    'max_bin': 100,  # Number of bucketed bin for feature values\n",
    "    'subsample': 0.7,  # Subsample ratio of the training instance.\n",
    "    'subsample_freq': 1,  # frequence of subsample, <=0 means no enable\n",
    "    'colsample_bytree': 0.9,  # Subsample ratio of columns when constructing each tree.\n",
    "    'min_child_weight': 0,  # Minimum sum of instance weight(hessian) needed in a child(leaf)\n",
    "    'scale_pos_weight':99\n",
    "}\n",
    "# metrics = 'auc'\n",
    "# lgb_params = {\n",
    "#     'boosting_type': 'gbdt',\n",
    "#     'objective': 'binary',\n",
    "#     'metric': metrics,\n",
    "#     'learning_rate': .1,\n",
    "#     'num_leaves': 7,\n",
    "#     'max_depth': 4,\n",
    "#     'min_child_samples': 100,\n",
    "#     'max_bin': 100,\n",
    "#     'subsample': 0.7,\n",
    "#     'subsample_freq': 1,\n",
    "#     'colsample_bytree': 0.7,\n",
    "#     'min_child_weight': 0,\n",
    "#     'min_split_gain': 0,\n",
    "#     'nthread': 4,\n",
    "#     'verbose': 1,\n",
    "#     'scale_pos_weight': 99.7\n",
    "#     #'scale_pos_weight': 400\n",
    "# }"
   ]
  },
  {
   "cell_type": "code",
   "execution_count": 10,
   "metadata": {},
   "outputs": [
    {
     "name": "stdout",
     "output_type": "stream",
     "text": [
      "preparing validation datasets\n"
     ]
    },
    {
     "data": {
      "text/plain": [
       "25"
      ]
     },
     "execution_count": 10,
     "metadata": {},
     "output_type": "execute_result"
    }
   ],
   "source": [
    "target = \"is_attributed\"\n",
    "categorical = ['ip','app','os','channel','device']#ipをカテゴリカル変数に追加\n",
    "predictors = list(set(train_df.columns)-set([target])-set(['click_time','category','epochtime']))\n",
    "# predictors = list(set(train_df.columns)-set([target])-set(['click_time']))\n",
    "\n",
    "print(\"preparing validation datasets\")\n",
    "\n",
    "xgtrain = lgb.Dataset(train_df[predictors].values,\n",
    "                      label=y_train,\n",
    "                      feature_name=predictors,\n",
    "                      categorical_feature=categorical\n",
    "                      )\n",
    "\n",
    "del train_df\n",
    "del y_train\n",
    "gc.collect()\n",
    "\n",
    "xgvalid = lgb.Dataset(val_df[predictors].values,\n",
    "                      label=y_val,\n",
    "                      feature_name=predictors,\n",
    "                      categorical_feature=categorical\n",
    "                      )\n",
    "\n",
    "del val_df\n",
    "del y_val\n",
    "gc.collect()"
   ]
  },
  {
   "cell_type": "code",
   "execution_count": 11,
   "metadata": {
    "scrolled": false
   },
   "outputs": [
    {
     "name": "stderr",
     "output_type": "stream",
     "text": [
      "/home/um003580/.pyenv/versions/anaconda3-5.1.0/lib/python3.6/site-packages/lightgbm/basic.py:1036: UserWarning: Using categorical_feature in Dataset.\n",
      "  warnings.warn('Using categorical_feature in Dataset.')\n",
      "/home/um003580/.pyenv/versions/anaconda3-5.1.0/lib/python3.6/site-packages/lightgbm/basic.py:681: UserWarning: categorical_feature in param dict is overrided.\n",
      "  warnings.warn('categorical_feature in param dict is overrided.')\n"
     ]
    },
    {
     "name": "stdout",
     "output_type": "stream",
     "text": [
      "[1]\tvalid's auc: 0.906565\n",
      "Training until validation scores don't improve for 30 rounds.\n",
      "[2]\tvalid's auc: 0.909529\n",
      "[3]\tvalid's auc: 0.910077\n",
      "[4]\tvalid's auc: 0.909942\n",
      "[5]\tvalid's auc: 0.913089\n",
      "[6]\tvalid's auc: 0.928676\n",
      "[7]\tvalid's auc: 0.928204\n",
      "[8]\tvalid's auc: 0.929697\n",
      "[9]\tvalid's auc: 0.931023\n",
      "[10]\tvalid's auc: 0.931437\n",
      "[11]\tvalid's auc: 0.936485\n",
      "[12]\tvalid's auc: 0.938321\n",
      "[13]\tvalid's auc: 0.938625\n",
      "[14]\tvalid's auc: 0.939551\n",
      "[15]\tvalid's auc: 0.941548\n",
      "[16]\tvalid's auc: 0.94177\n",
      "[17]\tvalid's auc: 0.941801\n",
      "[18]\tvalid's auc: 0.942618\n",
      "[19]\tvalid's auc: 0.943368\n",
      "[20]\tvalid's auc: 0.943143\n",
      "[21]\tvalid's auc: 0.943412\n",
      "[22]\tvalid's auc: 0.943356\n",
      "[23]\tvalid's auc: 0.945417\n",
      "[24]\tvalid's auc: 0.945682\n",
      "[25]\tvalid's auc: 0.947003\n",
      "[26]\tvalid's auc: 0.947981\n",
      "[27]\tvalid's auc: 0.948134\n",
      "[28]\tvalid's auc: 0.948537\n",
      "[29]\tvalid's auc: 0.949675\n",
      "[30]\tvalid's auc: 0.951022\n",
      "[31]\tvalid's auc: 0.951478\n",
      "[32]\tvalid's auc: 0.952053\n",
      "[33]\tvalid's auc: 0.953011\n",
      "[34]\tvalid's auc: 0.953545\n",
      "[35]\tvalid's auc: 0.954347\n",
      "[36]\tvalid's auc: 0.954557\n",
      "[37]\tvalid's auc: 0.95474\n",
      "[38]\tvalid's auc: 0.955337\n",
      "[39]\tvalid's auc: 0.955541\n",
      "[40]\tvalid's auc: 0.955693\n",
      "[41]\tvalid's auc: 0.95611\n",
      "[42]\tvalid's auc: 0.956319\n",
      "[43]\tvalid's auc: 0.956468\n",
      "[44]\tvalid's auc: 0.95716\n",
      "[45]\tvalid's auc: 0.957024\n",
      "[46]\tvalid's auc: 0.957383\n",
      "[47]\tvalid's auc: 0.957399\n",
      "[48]\tvalid's auc: 0.957597\n",
      "[49]\tvalid's auc: 0.957774\n",
      "[50]\tvalid's auc: 0.957867\n",
      "[51]\tvalid's auc: 0.958088\n",
      "[52]\tvalid's auc: 0.958119\n",
      "[53]\tvalid's auc: 0.95813\n",
      "[54]\tvalid's auc: 0.958192\n",
      "[55]\tvalid's auc: 0.958214\n",
      "[56]\tvalid's auc: 0.958418\n",
      "[57]\tvalid's auc: 0.958643\n",
      "[58]\tvalid's auc: 0.958803\n",
      "[59]\tvalid's auc: 0.958853\n",
      "[60]\tvalid's auc: 0.959116\n",
      "[61]\tvalid's auc: 0.959259\n",
      "[62]\tvalid's auc: 0.959416\n",
      "[63]\tvalid's auc: 0.959464\n",
      "[64]\tvalid's auc: 0.959533\n",
      "[65]\tvalid's auc: 0.9595\n",
      "[66]\tvalid's auc: 0.959547\n",
      "[67]\tvalid's auc: 0.959636\n",
      "[68]\tvalid's auc: 0.959739\n",
      "[69]\tvalid's auc: 0.959764\n",
      "[70]\tvalid's auc: 0.959912\n",
      "[71]\tvalid's auc: 0.95988\n",
      "[72]\tvalid's auc: 0.959976\n",
      "[73]\tvalid's auc: 0.960101\n",
      "[74]\tvalid's auc: 0.960045\n",
      "[75]\tvalid's auc: 0.960224\n",
      "[76]\tvalid's auc: 0.960397\n",
      "[77]\tvalid's auc: 0.960385\n",
      "[78]\tvalid's auc: 0.960534\n",
      "[79]\tvalid's auc: 0.960538\n",
      "[80]\tvalid's auc: 0.960663\n",
      "[81]\tvalid's auc: 0.96067\n",
      "[82]\tvalid's auc: 0.960843\n",
      "[83]\tvalid's auc: 0.960841\n",
      "[84]\tvalid's auc: 0.960807\n",
      "[85]\tvalid's auc: 0.960862\n",
      "[86]\tvalid's auc: 0.960848\n",
      "[87]\tvalid's auc: 0.960869\n",
      "[88]\tvalid's auc: 0.960911\n",
      "[89]\tvalid's auc: 0.960905\n",
      "[90]\tvalid's auc: 0.960884\n",
      "[91]\tvalid's auc: 0.960848\n",
      "[92]\tvalid's auc: 0.96084\n",
      "[93]\tvalid's auc: 0.960922\n",
      "[94]\tvalid's auc: 0.960976\n",
      "[95]\tvalid's auc: 0.961163\n",
      "[96]\tvalid's auc: 0.961257\n",
      "[97]\tvalid's auc: 0.961272\n",
      "[98]\tvalid's auc: 0.961391\n",
      "[99]\tvalid's auc: 0.961374\n",
      "[100]\tvalid's auc: 0.961447\n",
      "[101]\tvalid's auc: 0.96142\n",
      "[102]\tvalid's auc: 0.96143\n",
      "[103]\tvalid's auc: 0.9615\n",
      "[104]\tvalid's auc: 0.96151\n",
      "[105]\tvalid's auc: 0.961624\n",
      "[106]\tvalid's auc: 0.961616\n",
      "[107]\tvalid's auc: 0.961599\n",
      "[108]\tvalid's auc: 0.96159\n",
      "[109]\tvalid's auc: 0.961608\n",
      "[110]\tvalid's auc: 0.961577\n",
      "[111]\tvalid's auc: 0.961614\n",
      "[112]\tvalid's auc: 0.961575\n",
      "[113]\tvalid's auc: 0.961565\n",
      "[114]\tvalid's auc: 0.961549\n",
      "[115]\tvalid's auc: 0.961547\n",
      "[116]\tvalid's auc: 0.961543\n",
      "[117]\tvalid's auc: 0.961523\n",
      "[118]\tvalid's auc: 0.961527\n",
      "[119]\tvalid's auc: 0.961586\n",
      "[120]\tvalid's auc: 0.961613\n",
      "[121]\tvalid's auc: 0.961725\n",
      "[122]\tvalid's auc: 0.961731\n",
      "[123]\tvalid's auc: 0.961728\n",
      "[124]\tvalid's auc: 0.961744\n",
      "[125]\tvalid's auc: 0.961745\n",
      "[126]\tvalid's auc: 0.961827\n",
      "[127]\tvalid's auc: 0.961865\n",
      "[128]\tvalid's auc: 0.961903\n",
      "[129]\tvalid's auc: 0.96191\n",
      "[130]\tvalid's auc: 0.961894\n",
      "[131]\tvalid's auc: 0.961886\n",
      "[132]\tvalid's auc: 0.961918\n",
      "[133]\tvalid's auc: 0.961903\n",
      "[134]\tvalid's auc: 0.961895\n",
      "[135]\tvalid's auc: 0.96191\n",
      "[136]\tvalid's auc: 0.96191\n",
      "[137]\tvalid's auc: 0.962084\n",
      "[138]\tvalid's auc: 0.962052\n",
      "[139]\tvalid's auc: 0.962102\n",
      "[140]\tvalid's auc: 0.962084\n",
      "[141]\tvalid's auc: 0.962103\n",
      "[142]\tvalid's auc: 0.962101\n",
      "[143]\tvalid's auc: 0.962102\n",
      "[144]\tvalid's auc: 0.962069\n",
      "[145]\tvalid's auc: 0.962044\n",
      "[146]\tvalid's auc: 0.96203\n",
      "[147]\tvalid's auc: 0.962062\n",
      "[148]\tvalid's auc: 0.962056\n",
      "[149]\tvalid's auc: 0.962061\n",
      "[150]\tvalid's auc: 0.962148\n",
      "[151]\tvalid's auc: 0.962195\n",
      "[152]\tvalid's auc: 0.96219\n",
      "[153]\tvalid's auc: 0.962237\n",
      "[154]\tvalid's auc: 0.962218\n",
      "[155]\tvalid's auc: 0.962233\n",
      "[156]\tvalid's auc: 0.962272\n",
      "[157]\tvalid's auc: 0.962253\n",
      "[158]\tvalid's auc: 0.96226\n",
      "[159]\tvalid's auc: 0.962264\n",
      "[160]\tvalid's auc: 0.962254\n",
      "[161]\tvalid's auc: 0.962309\n",
      "[162]\tvalid's auc: 0.962287\n",
      "[163]\tvalid's auc: 0.962286\n",
      "[164]\tvalid's auc: 0.962283\n",
      "[165]\tvalid's auc: 0.962308\n",
      "[166]\tvalid's auc: 0.9623\n",
      "[167]\tvalid's auc: 0.962285\n",
      "[168]\tvalid's auc: 0.962264\n",
      "[169]\tvalid's auc: 0.962247\n",
      "[170]\tvalid's auc: 0.962249\n",
      "[171]\tvalid's auc: 0.962221\n",
      "[172]\tvalid's auc: 0.962242\n",
      "[173]\tvalid's auc: 0.962243\n",
      "[174]\tvalid's auc: 0.962236\n",
      "[175]\tvalid's auc: 0.962337\n",
      "[176]\tvalid's auc: 0.962312\n",
      "[177]\tvalid's auc: 0.962424\n",
      "[178]\tvalid's auc: 0.962463\n",
      "[179]\tvalid's auc: 0.96247\n",
      "[180]\tvalid's auc: 0.962458\n",
      "[181]\tvalid's auc: 0.962442\n",
      "[182]\tvalid's auc: 0.962444\n",
      "[183]\tvalid's auc: 0.962448\n",
      "[184]\tvalid's auc: 0.962431\n",
      "[185]\tvalid's auc: 0.962448\n",
      "[186]\tvalid's auc: 0.96246\n",
      "[187]\tvalid's auc: 0.962441\n",
      "[188]\tvalid's auc: 0.962436\n",
      "[189]\tvalid's auc: 0.962443\n",
      "[190]\tvalid's auc: 0.962459\n",
      "[191]\tvalid's auc: 0.962481\n",
      "[192]\tvalid's auc: 0.962476\n",
      "[193]\tvalid's auc: 0.962442\n",
      "[194]\tvalid's auc: 0.962443\n",
      "[195]\tvalid's auc: 0.962449\n",
      "[196]\tvalid's auc: 0.96243\n",
      "[197]\tvalid's auc: 0.962545\n",
      "[198]\tvalid's auc: 0.962542\n",
      "[199]\tvalid's auc: 0.9625\n",
      "[200]\tvalid's auc: 0.962484\n",
      "[201]\tvalid's auc: 0.962498\n",
      "[202]\tvalid's auc: 0.962499\n",
      "[203]\tvalid's auc: 0.962488\n",
      "[204]\tvalid's auc: 0.962563\n",
      "[205]\tvalid's auc: 0.962569\n",
      "[206]\tvalid's auc: 0.96257\n",
      "[207]\tvalid's auc: 0.962686\n",
      "[208]\tvalid's auc: 0.962674\n",
      "[209]\tvalid's auc: 0.962679\n",
      "[210]\tvalid's auc: 0.96266\n",
      "[211]\tvalid's auc: 0.96267\n",
      "[212]\tvalid's auc: 0.962666\n",
      "[213]\tvalid's auc: 0.962697\n",
      "[214]\tvalid's auc: 0.962651\n",
      "[215]\tvalid's auc: 0.962665\n",
      "[216]\tvalid's auc: 0.962651\n",
      "[217]\tvalid's auc: 0.962632\n",
      "[218]\tvalid's auc: 0.962638\n",
      "[219]\tvalid's auc: 0.962636\n",
      "[220]\tvalid's auc: 0.962653\n",
      "[221]\tvalid's auc: 0.962644\n",
      "[222]\tvalid's auc: 0.962644\n",
      "[223]\tvalid's auc: 0.962654\n",
      "[224]\tvalid's auc: 0.962676\n",
      "[225]\tvalid's auc: 0.962655\n",
      "[226]\tvalid's auc: 0.962636\n",
      "[227]\tvalid's auc: 0.962647\n",
      "[228]\tvalid's auc: 0.962625\n",
      "[229]\tvalid's auc: 0.962621\n",
      "[230]\tvalid's auc: 0.962574\n",
      "[231]\tvalid's auc: 0.9626\n",
      "[232]\tvalid's auc: 0.96264\n",
      "[233]\tvalid's auc: 0.962611\n",
      "[234]\tvalid's auc: 0.962639\n",
      "[235]\tvalid's auc: 0.962656\n",
      "[236]\tvalid's auc: 0.962637\n",
      "[237]\tvalid's auc: 0.962641\n",
      "[238]\tvalid's auc: 0.962647\n",
      "[239]\tvalid's auc: 0.962648\n",
      "[240]\tvalid's auc: 0.962656\n",
      "[241]\tvalid's auc: 0.962609\n",
      "[242]\tvalid's auc: 0.962612\n",
      "[243]\tvalid's auc: 0.962564\n",
      "Early stopping, best iteration is:\n",
      "[213]\tvalid's auc: 0.962697\n"
     ]
    },
    {
     "data": {
      "text/plain": [
       "41"
      ]
     },
     "execution_count": 11,
     "metadata": {},
     "output_type": "execute_result"
    }
   ],
   "source": [
    "booster = lgb.train(\n",
    "     lgb_params, \n",
    "     xgtrain,\n",
    "     valid_sets=[xgvalid],\n",
    "     valid_names=['valid'],\n",
    "     evals_result=evals_results, \n",
    "     num_boost_round=num_boost_round,\n",
    "     early_stopping_rounds=early_stopping_rounds,\n",
    "     verbose_eval=1\n",
    ")\n",
    "\n",
    "# n_estimators = model.best_iteration\n",
    "\n",
    "# print('\\nModel Info:')\n",
    "# print('n_estimators:', n_estimators)\n",
    "# print(metrics+':', evals_results['valid'][metrics][n_estimators-1])\n",
    "\n",
    "del xgvalid\n",
    "del xgtrain\n",
    "gc.collect()"
   ]
  },
  {
   "cell_type": "markdown",
   "metadata": {},
   "source": [
    "ipをカテゴリカル変数に指定したらスコアが下がった。ip除去した方がいい？\n",
    "[243]\tvalid's auc: 0.962564\n",
    "Early stopping, best iteration is:\n",
    "[213]\tvalid's auc: 0.962697"
   ]
  },
  {
   "cell_type": "code",
   "execution_count": 15,
   "metadata": {},
   "outputs": [
    {
     "data": {
      "image/png": "[encoded data removed]",
      "text/plain": [
       "<matplotlib.figure.Figure at 0x7fbcfcec5a58>"
      ]
     },
     "metadata": {},
     "output_type": "display_data"
    }
   ],
   "source": [
    "import matplotlib.pyplot as plt\n",
    "ax = lgb.plot_importance(booster, max_num_features=100)\n",
    "# plt.savefig('04283-2imp.png', dpi=600, bbox_inches='tight')\n",
    "plt.show()"
   ]
  },
  {
   "cell_type": "code",
   "execution_count": 13,
   "metadata": {},
   "outputs": [],
   "source": [
    "preditions=booster.predict(test_df[predictors].values)"
   ]
  },
  {
   "cell_type": "code",
   "execution_count": 14,
   "metadata": {},
   "outputs": [],
   "source": [
    "sub['is_attributed']  = preditions\n",
    "\n",
    "sub.to_csv('04283-2sub.csv', float_format='%.8f', index=False)"
   ]
  },
  {
   "cell_type": "code",
   "execution_count": null,
   "metadata": {},
   "outputs": [],
   "source": []
  }
 ],
 "metadata": {
  "kernelspec": {
   "display_name": "Python 3",
   "language": "python",
   "name": "python3"
  },
  "language_info": {
   "codemirror_mode": {
    "name": "ipython",
    "version": 3
   },
   "file_extension": ".py",
   "mimetype": "text/x-python",
   "name": "python",
   "nbconvert_exporter": "python",
   "pygments_lexer": "ipython3",
   "version": "3.6.4"
  }
 },
 "nbformat": 4,
 "nbformat_minor": 2
}
