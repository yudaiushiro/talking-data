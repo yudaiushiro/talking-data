{
 "cells": [
  {
   "cell_type": "code",
   "execution_count": 1,
   "metadata": {},
   "outputs": [],
   "source": [
    "import pandas as pd\n",
    "import time\n",
    "import numpy as np\n",
    "from sklearn.model_selection import train_test_split\n",
    "import lightgbm as lgb\n",
    "import gc\n",
    "from contextlib import contextmanager"
   ]
  },
  {
   "cell_type": "code",
   "execution_count": 2,
   "metadata": {},
   "outputs": [],
   "source": [
    "@contextmanager\n",
    "def timer(name):\n",
    "    t0 = time.time()\n",
    "    yield\n",
    "    print(f'[{name}] done in {time.time() - t0:.0f} s')\n",
    "    \n",
    "def df_add_counts(df, cols):\n",
    "    arr_slice = df[cols].values\n",
    "    unq, unqtags, counts = np.unique(np.ravel_multi_index(arr_slice.T, arr_slice.max(axis=0) + 1),\n",
    "                                     return_inverse=True, return_counts=True)\n",
    "    df[\"_\".join(cols)+'_count'] = counts[unqtags]\n",
    "    \n",
    "def make_count_features(df):\n",
    "    with timer(\"add count features\"):\n",
    "        df['click_time']= pd.to_datetime(df['click_time'])\n",
    "        dt= df['click_time'].dt\n",
    "        df['day'] = dt.day.astype('uint8')\n",
    "        df['hour'] = dt.hour.astype('uint8')\n",
    "        df['minute'] = dt.minute.astype('uint8')\n",
    "#         df['second'] = dt.second.astype('uint8')\n",
    "\n",
    "        del(dt)\n",
    "        \n",
    "        df_add_counts(df, ['ip'])\n",
    "        df_add_counts(df, ['ip','day','hour','minute'])\n",
    "        df_add_counts(df, ['os','device'])\n",
    "        df_add_counts(df, ['os','app','channel'])\n",
    "        \n",
    "        df_add_counts(df, ['ip', 'day', 'hour'])\n",
    "        df_add_counts(df, ['ip', 'app'])\n",
    "        df_add_counts(df, ['ip', 'app', 'os'])\n",
    "        df_add_counts(df, ['ip', 'device'])\n",
    "        df_add_counts(df, ['app', 'channel'])\n",
    "\n",
    "def make_next_click_feature(df):\n",
    "    with timer(\"Adding next click times\"):\n",
    "        D= 2**26\n",
    "        df['category'] = (df['ip'].astype(str) + \"_\" + df['app'].astype(str) + \"_\" + df['device'].astype(str) \\\n",
    "                         + \"_\" + df['os'].astype(str)).apply(hash) % D\n",
    "        click_buffer= np.full(D, 3000000000, dtype=np.uint32)\n",
    "        df['epochtime']= df['click_time'].astype(np.int64) // 10 ** 9\n",
    "        next_clicks= []\n",
    "        for category, time in zip(reversed(df['category'].values), reversed(df['epochtime'].values)):\n",
    "            next_clicks.append(click_buffer[category]-time)\n",
    "            click_buffer[category]= time\n",
    "        del(click_buffer)\n",
    "        df['next_click']= list(reversed(next_clicks))\n",
    "        \n",
    "path = '~/talkingdata/input/'\n",
    "\n",
    "dtypes = {\n",
    "        'ip'            : 'uint32',\n",
    "        'app'           : 'uint16',\n",
    "        'device'        : 'uint16',\n",
    "        'os'            : 'uint16',\n",
    "        'channel'       : 'uint16',\n",
    "        'is_attributed' : 'uint8',\n",
    "        'click_id'      : 'uint32'\n",
    "        }"
   ]
  },
  {
   "cell_type": "code",
   "execution_count": 3,
   "metadata": {
    "scrolled": true
   },
   "outputs": [
    {
     "name": "stdout",
     "output_type": "stream",
     "text": [
      "[load training data] done in 123 s\n",
      "[load test data] done in 15 s\n"
     ]
    }
   ],
   "source": [
    "with timer(\"load training data\"):\n",
    "#     lines = 184903891\n",
    "#     skiplines = np.random.choice(np.arange(1, lines), size=lines-1-20000000, replace=False)\n",
    "#     skiplines=np.sort(skiplines)\n",
    "#     train_df = pd.read_csv(path+\"train.csv\", skiprows=skiplines, nrows=20000000, usecols=['ip','app','device','os', 'channel', 'click_time', 'is_attributed'], dtype=dtypes)\n",
    "    train_df = pd.read_csv(path+\"train.csv\", skiprows=range(1,140703891), nrows=44200000, usecols=['ip','app','device','os', 'channel', 'click_time', 'is_attributed'], dtype=dtypes)\n",
    "\n",
    "\n",
    "with timer(\"load test data\"):\n",
    "    test_df = pd.read_csv(path+\"test.csv\", dtype=dtypes, usecols=['ip','app','device','os', 'channel', 'click_time', 'click_id'])"
   ]
  },
  {
   "cell_type": "code",
   "execution_count": 4,
   "metadata": {
    "scrolled": true
   },
   "outputs": [
    {
     "name": "stdout",
     "output_type": "stream",
     "text": [
      "36085903\n",
      "126411\n"
     ]
    }
   ],
   "source": [
    "test_ip_max = test_df.ip.max()\n",
    "train_df = train_df[train_df.ip <= test_ip_max]\n",
    "print(len(train_df.index))\n",
    "print(train_df.ip.max())"
   ]
  },
  {
   "cell_type": "code",
   "execution_count": 4,
   "metadata": {},
   "outputs": [
    {
     "data": {
      "text/plain": [
       "96"
      ]
     },
     "execution_count": 4,
     "metadata": {},
     "output_type": "execute_result"
    }
   ],
   "source": [
    "num_train = train_df.shape[0]\n",
    "y = train_df.is_attributed.values\n",
    "\n",
    "sub = pd.DataFrame()\n",
    "sub['click_id'] = test_df.click_id.values\n",
    "\n",
    "common_column = ['ip','app','device','os','channel','click_time']\n",
    "concat_df = pd.concat([train_df[common_column],test_df[common_column]])\n",
    "\n",
    "del train_df, test_df\n",
    "gc.collect()"
   ]
  },
  {
   "cell_type": "code",
   "execution_count": 5,
   "metadata": {},
   "outputs": [
    {
     "name": "stdout",
     "output_type": "stream",
     "text": [
      "[add count features] done in 293 s\n",
      "[Adding next click times] done in 458 s\n"
     ]
    },
    {
     "data": {
      "text/plain": [
       "35"
      ]
     },
     "execution_count": 5,
     "metadata": {},
     "output_type": "execute_result"
    }
   ],
   "source": [
    "make_count_features(concat_df)\n",
    "make_next_click_feature(concat_df)\n",
    "\n",
    "gc.collect()"
   ]
  },
  {
   "cell_type": "code",
   "execution_count": 6,
   "metadata": {},
   "outputs": [],
   "source": [
    "train_df = concat_df.iloc[:num_train]\n",
    "test_df = concat_df.iloc[num_train:]\n",
    "del concat_df"
   ]
  },
  {
   "cell_type": "code",
   "execution_count": 7,
   "metadata": {},
   "outputs": [
    {
     "name": "stderr",
     "output_type": "stream",
     "text": [
      "/home/um003580/.pyenv/versions/anaconda3-5.1.0/lib/python3.6/site-packages/sklearn/model_selection/_split.py:2026: FutureWarning: From version 0.21, test_size will always complement train_size unless both are specified.\n",
      "  FutureWarning)\n"
     ]
    }
   ],
   "source": [
    "train_df, val_df, y_train, y_val = train_test_split(train_df, y, train_size=0.9, random_state=0)\n",
    "\n",
    "evals_results = {}\n",
    "num_boost_round = 250\n",
    "early_stopping_rounds = 30"
   ]
  },
  {
   "cell_type": "code",
   "execution_count": 8,
   "metadata": {},
   "outputs": [],
   "source": [
    "lgb_params = {\n",
    "    'boosting_type': 'gbdt',\n",
    "    'objective': 'binary',\n",
    "    'subsample_for_bin': 200000,  # Number of samples for constructing bin\n",
    "    'min_split_gain': 0,  # lambda_l1, lambda_l2 and min_gain_to_split to regularization\n",
    "    'reg_alpha': 0,  # L1 regularization term on weights\n",
    "    'reg_lambda': 0,  # L2 regularization term on weights\n",
    "    'nthread': 4,\n",
    "    'verbose': 0,\n",
    "    'metric':'auc',     \n",
    " \n",
    "    'learning_rate': 0.15,\n",
    "    'num_leaves': 7,  # 2^max_depth - 1\n",
    "    'max_depth': 3,  # -1 means no limit\n",
    "    'min_child_samples': 100,  # Minimum number of data need in a child(min_data_in_leaf)\n",
    "    'max_bin': 100,  # Number of bucketed bin for feature values\n",
    "    'subsample': 0.7,  # Subsample ratio of the training instance.\n",
    "    'subsample_freq': 1,  # frequence of subsample, <=0 means no enable\n",
    "    'colsample_bytree': 0.9,  # Subsample ratio of columns when constructing each tree.\n",
    "    'min_child_weight': 0,  # Minimum sum of instance weight(hessian) needed in a child(leaf)\n",
    "    'scale_pos_weight':99\n",
    "}\n",
    "# metrics = 'auc'\n",
    "# lgb_params = {\n",
    "#     'boosting_type': 'gbdt',\n",
    "#     'objective': 'binary',\n",
    "#     'metric': metrics,\n",
    "#     'learning_rate': .1,\n",
    "#     'num_leaves': 7,\n",
    "#     'max_depth': 4,\n",
    "#     'min_child_samples': 100,\n",
    "#     'max_bin': 100,\n",
    "#     'subsample': 0.7,\n",
    "#     'subsample_freq': 1,\n",
    "#     'colsample_bytree': 0.7,\n",
    "#     'min_child_weight': 0,\n",
    "#     'min_split_gain': 0,\n",
    "#     'nthread': 4,\n",
    "#     'verbose': 1,\n",
    "#     'scale_pos_weight': 99.7\n",
    "#     #'scale_pos_weight': 400\n",
    "# }"
   ]
  },
  {
   "cell_type": "code",
   "execution_count": 9,
   "metadata": {},
   "outputs": [
    {
     "name": "stdout",
     "output_type": "stream",
     "text": [
      "preparing validation datasets\n"
     ]
    },
    {
     "data": {
      "text/plain": [
       "25"
      ]
     },
     "execution_count": 9,
     "metadata": {},
     "output_type": "execute_result"
    }
   ],
   "source": [
    "target = \"is_attributed\"\n",
    "# categorical = ['ip','app','os','channel','device']\n",
    "categorical = ['app','os','channel','device']#ipをカテゴリカル変数に入れ忘れたか\n",
    "predictors = list(set(train_df.columns)-set([target])-set(['click_time','category','epochtime']))\n",
    "# predictors = list(set(train_df.columns)-set([target])-set(['click_time']))\n",
    "\n",
    "print(\"preparing validation datasets\")\n",
    "\n",
    "xgtrain = lgb.Dataset(train_df[predictors].values,\n",
    "                      label=y_train,\n",
    "                      feature_name=predictors,\n",
    "                      categorical_feature=categorical\n",
    "                      )\n",
    "\n",
    "del train_df\n",
    "del y_train\n",
    "gc.collect()\n",
    "\n",
    "xgvalid = lgb.Dataset(val_df[predictors].values,\n",
    "                      label=y_val,\n",
    "                      feature_name=predictors,\n",
    "                      categorical_feature=categorical\n",
    "                      )\n",
    "\n",
    "del val_df\n",
    "del y_val\n",
    "gc.collect()"
   ]
  },
  {
   "cell_type": "code",
   "execution_count": 10,
   "metadata": {
    "scrolled": false
   },
   "outputs": [
    {
     "name": "stderr",
     "output_type": "stream",
     "text": [
      "/home/um003580/.pyenv/versions/anaconda3-5.1.0/lib/python3.6/site-packages/lightgbm/basic.py:1036: UserWarning: Using categorical_feature in Dataset.\n",
      "  warnings.warn('Using categorical_feature in Dataset.')\n",
      "/home/um003580/.pyenv/versions/anaconda3-5.1.0/lib/python3.6/site-packages/lightgbm/basic.py:681: UserWarning: categorical_feature in param dict is overrided.\n",
      "  warnings.warn('categorical_feature in param dict is overrided.')\n"
     ]
    },
    {
     "name": "stdout",
     "output_type": "stream",
     "text": [
      "[1]\tvalid's auc: 0.922889\n",
      "Training until validation scores don't improve for 30 rounds.\n",
      "[2]\tvalid's auc: 0.923134\n",
      "[3]\tvalid's auc: 0.949738\n",
      "[4]\tvalid's auc: 0.950882\n",
      "[5]\tvalid's auc: 0.951487\n",
      "[6]\tvalid's auc: 0.961269\n",
      "[7]\tvalid's auc: 0.961791\n",
      "[8]\tvalid's auc: 0.961703\n",
      "[9]\tvalid's auc: 0.961965\n",
      "[10]\tvalid's auc: 0.963204\n",
      "[11]\tvalid's auc: 0.964034\n",
      "[12]\tvalid's auc: 0.964288\n",
      "[13]\tvalid's auc: 0.964647\n",
      "[14]\tvalid's auc: 0.966048\n",
      "[15]\tvalid's auc: 0.967789\n",
      "[16]\tvalid's auc: 0.968374\n",
      "[17]\tvalid's auc: 0.968901\n",
      "[18]\tvalid's auc: 0.9689\n",
      "[19]\tvalid's auc: 0.969938\n",
      "[20]\tvalid's auc: 0.969994\n",
      "[21]\tvalid's auc: 0.970525\n",
      "[22]\tvalid's auc: 0.970842\n",
      "[23]\tvalid's auc: 0.97139\n",
      "[24]\tvalid's auc: 0.972217\n",
      "[25]\tvalid's auc: 0.972517\n",
      "[26]\tvalid's auc: 0.972967\n",
      "[27]\tvalid's auc: 0.973618\n",
      "[28]\tvalid's auc: 0.974061\n",
      "[29]\tvalid's auc: 0.974514\n",
      "[30]\tvalid's auc: 0.974948\n",
      "[31]\tvalid's auc: 0.975327\n",
      "[32]\tvalid's auc: 0.975579\n",
      "[33]\tvalid's auc: 0.975883\n",
      "[34]\tvalid's auc: 0.976097\n",
      "[35]\tvalid's auc: 0.976274\n",
      "[36]\tvalid's auc: 0.9765\n",
      "[37]\tvalid's auc: 0.976692\n",
      "[38]\tvalid's auc: 0.97691\n",
      "[39]\tvalid's auc: 0.977025\n",
      "[40]\tvalid's auc: 0.977278\n",
      "[41]\tvalid's auc: 0.977542\n",
      "[42]\tvalid's auc: 0.977653\n",
      "[43]\tvalid's auc: 0.977741\n",
      "[44]\tvalid's auc: 0.977867\n",
      "[45]\tvalid's auc: 0.978008\n",
      "[46]\tvalid's auc: 0.978224\n",
      "[47]\tvalid's auc: 0.97831\n",
      "[48]\tvalid's auc: 0.978416\n",
      "[49]\tvalid's auc: 0.978455\n",
      "[50]\tvalid's auc: 0.978658\n",
      "[51]\tvalid's auc: 0.978797\n",
      "[52]\tvalid's auc: 0.978876\n",
      "[53]\tvalid's auc: 0.978962\n",
      "[54]\tvalid's auc: 0.979022\n",
      "[55]\tvalid's auc: 0.979087\n",
      "[56]\tvalid's auc: 0.979123\n",
      "[57]\tvalid's auc: 0.97918\n",
      "[58]\tvalid's auc: 0.979226\n",
      "[59]\tvalid's auc: 0.97932\n",
      "[60]\tvalid's auc: 0.979444\n",
      "[61]\tvalid's auc: 0.979547\n",
      "[62]\tvalid's auc: 0.97964\n",
      "[63]\tvalid's auc: 0.979717\n",
      "[64]\tvalid's auc: 0.979762\n",
      "[65]\tvalid's auc: 0.979784\n",
      "[66]\tvalid's auc: 0.979838\n",
      "[67]\tvalid's auc: 0.979956\n",
      "[68]\tvalid's auc: 0.979953\n",
      "[69]\tvalid's auc: 0.980036\n",
      "[70]\tvalid's auc: 0.980067\n",
      "[71]\tvalid's auc: 0.980115\n",
      "[72]\tvalid's auc: 0.980134\n",
      "[73]\tvalid's auc: 0.980174\n",
      "[74]\tvalid's auc: 0.980222\n",
      "[75]\tvalid's auc: 0.980287\n",
      "[76]\tvalid's auc: 0.98031\n",
      "[77]\tvalid's auc: 0.980311\n",
      "[78]\tvalid's auc: 0.980351\n",
      "[79]\tvalid's auc: 0.980395\n",
      "[80]\tvalid's auc: 0.980421\n",
      "[81]\tvalid's auc: 0.980423\n",
      "[82]\tvalid's auc: 0.980448\n",
      "[83]\tvalid's auc: 0.980451\n",
      "[84]\tvalid's auc: 0.980467\n",
      "[85]\tvalid's auc: 0.980469\n",
      "[86]\tvalid's auc: 0.980493\n",
      "[87]\tvalid's auc: 0.980558\n",
      "[88]\tvalid's auc: 0.980574\n",
      "[89]\tvalid's auc: 0.980591\n",
      "[90]\tvalid's auc: 0.980605\n",
      "[91]\tvalid's auc: 0.980608\n",
      "[92]\tvalid's auc: 0.980636\n",
      "[93]\tvalid's auc: 0.980673\n",
      "[94]\tvalid's auc: 0.980693\n",
      "[95]\tvalid's auc: 0.980728\n",
      "[96]\tvalid's auc: 0.980737\n",
      "[97]\tvalid's auc: 0.980774\n",
      "[98]\tvalid's auc: 0.980786\n",
      "[99]\tvalid's auc: 0.980822\n",
      "[100]\tvalid's auc: 0.980864\n",
      "[101]\tvalid's auc: 0.980892\n",
      "[102]\tvalid's auc: 0.980918\n",
      "[103]\tvalid's auc: 0.980941\n",
      "[104]\tvalid's auc: 0.980951\n",
      "[105]\tvalid's auc: 0.980964\n",
      "[106]\tvalid's auc: 0.980967\n",
      "[107]\tvalid's auc: 0.981012\n",
      "[108]\tvalid's auc: 0.981044\n",
      "[109]\tvalid's auc: 0.981065\n",
      "[110]\tvalid's auc: 0.981082\n",
      "[111]\tvalid's auc: 0.98109\n",
      "[112]\tvalid's auc: 0.981097\n",
      "[113]\tvalid's auc: 0.981098\n",
      "[114]\tvalid's auc: 0.981111\n",
      "[115]\tvalid's auc: 0.981109\n",
      "[116]\tvalid's auc: 0.981122\n",
      "[117]\tvalid's auc: 0.98115\n",
      "[118]\tvalid's auc: 0.981168\n",
      "[119]\tvalid's auc: 0.981191\n",
      "[120]\tvalid's auc: 0.981194\n",
      "[121]\tvalid's auc: 0.981202\n",
      "[122]\tvalid's auc: 0.981208\n",
      "[123]\tvalid's auc: 0.981218\n",
      "[124]\tvalid's auc: 0.981238\n",
      "[125]\tvalid's auc: 0.98123\n",
      "[126]\tvalid's auc: 0.98124\n",
      "[127]\tvalid's auc: 0.981251\n",
      "[128]\tvalid's auc: 0.981272\n",
      "[129]\tvalid's auc: 0.981305\n",
      "[130]\tvalid's auc: 0.981302\n",
      "[131]\tvalid's auc: 0.981314\n",
      "[132]\tvalid's auc: 0.981309\n",
      "[133]\tvalid's auc: 0.981306\n",
      "[134]\tvalid's auc: 0.981319\n",
      "[135]\tvalid's auc: 0.981335\n",
      "[136]\tvalid's auc: 0.981353\n",
      "[137]\tvalid's auc: 0.981356\n",
      "[138]\tvalid's auc: 0.981352\n",
      "[139]\tvalid's auc: 0.981361\n",
      "[140]\tvalid's auc: 0.98138\n",
      "[141]\tvalid's auc: 0.98141\n",
      "[142]\tvalid's auc: 0.981416\n",
      "[143]\tvalid's auc: 0.981428\n",
      "[144]\tvalid's auc: 0.981422\n",
      "[145]\tvalid's auc: 0.981431\n",
      "[146]\tvalid's auc: 0.981437\n",
      "[147]\tvalid's auc: 0.981454\n",
      "[148]\tvalid's auc: 0.981461\n",
      "[149]\tvalid's auc: 0.981466\n",
      "[150]\tvalid's auc: 0.981463\n",
      "[151]\tvalid's auc: 0.981479\n",
      "[152]\tvalid's auc: 0.981486\n",
      "[153]\tvalid's auc: 0.981489\n",
      "[154]\tvalid's auc: 0.981494\n",
      "[155]\tvalid's auc: 0.9815\n",
      "[156]\tvalid's auc: 0.981504\n",
      "[157]\tvalid's auc: 0.981507\n",
      "[158]\tvalid's auc: 0.981514\n",
      "[159]\tvalid's auc: 0.981532\n",
      "[160]\tvalid's auc: 0.981553\n",
      "[161]\tvalid's auc: 0.981543\n",
      "[162]\tvalid's auc: 0.981541\n",
      "[163]\tvalid's auc: 0.981549\n",
      "[164]\tvalid's auc: 0.981543\n",
      "[165]\tvalid's auc: 0.981559\n",
      "[166]\tvalid's auc: 0.981565\n",
      "[167]\tvalid's auc: 0.981563\n",
      "[168]\tvalid's auc: 0.981567\n",
      "[169]\tvalid's auc: 0.981578\n",
      "[170]\tvalid's auc: 0.981596\n",
      "[171]\tvalid's auc: 0.98161\n",
      "[172]\tvalid's auc: 0.98161\n",
      "[173]\tvalid's auc: 0.981611\n",
      "[174]\tvalid's auc: 0.981617\n",
      "[175]\tvalid's auc: 0.981617\n",
      "[176]\tvalid's auc: 0.981616\n",
      "[177]\tvalid's auc: 0.98162\n",
      "[178]\tvalid's auc: 0.981624\n",
      "[179]\tvalid's auc: 0.981611\n",
      "[180]\tvalid's auc: 0.981598\n",
      "[181]\tvalid's auc: 0.981631\n",
      "[182]\tvalid's auc: 0.981628\n",
      "[183]\tvalid's auc: 0.981616\n",
      "[184]\tvalid's auc: 0.981615\n",
      "[185]\tvalid's auc: 0.981611\n",
      "[186]\tvalid's auc: 0.981617\n",
      "[187]\tvalid's auc: 0.981633\n",
      "[188]\tvalid's auc: 0.981632\n",
      "[189]\tvalid's auc: 0.981639\n",
      "[190]\tvalid's auc: 0.981645\n",
      "[191]\tvalid's auc: 0.981649\n",
      "[192]\tvalid's auc: 0.981655\n",
      "[193]\tvalid's auc: 0.981666\n",
      "[194]\tvalid's auc: 0.981664\n",
      "[195]\tvalid's auc: 0.981665\n",
      "[196]\tvalid's auc: 0.981676\n",
      "[197]\tvalid's auc: 0.981678\n",
      "[198]\tvalid's auc: 0.981683\n",
      "[199]\tvalid's auc: 0.98168\n",
      "[200]\tvalid's auc: 0.981671\n",
      "[201]\tvalid's auc: 0.981675\n",
      "[202]\tvalid's auc: 0.981684\n",
      "[203]\tvalid's auc: 0.981692\n",
      "[204]\tvalid's auc: 0.981706\n",
      "[205]\tvalid's auc: 0.981721\n",
      "[206]\tvalid's auc: 0.981729\n",
      "[207]\tvalid's auc: 0.98173\n",
      "[208]\tvalid's auc: 0.981735\n",
      "[209]\tvalid's auc: 0.981735\n",
      "[210]\tvalid's auc: 0.981737\n",
      "[211]\tvalid's auc: 0.98175\n",
      "[212]\tvalid's auc: 0.981748\n",
      "[213]\tvalid's auc: 0.981765\n",
      "[214]\tvalid's auc: 0.981782\n",
      "[215]\tvalid's auc: 0.98179\n",
      "[216]\tvalid's auc: 0.981792\n",
      "[217]\tvalid's auc: 0.9818\n",
      "[218]\tvalid's auc: 0.981802\n",
      "[219]\tvalid's auc: 0.981807\n",
      "[220]\tvalid's auc: 0.981802\n",
      "[221]\tvalid's auc: 0.981807\n",
      "[222]\tvalid's auc: 0.981814\n",
      "[223]\tvalid's auc: 0.98182\n",
      "[224]\tvalid's auc: 0.981817\n",
      "[225]\tvalid's auc: 0.981834\n",
      "[226]\tvalid's auc: 0.981828\n",
      "[227]\tvalid's auc: 0.981819\n",
      "[228]\tvalid's auc: 0.981826\n",
      "[229]\tvalid's auc: 0.981831\n",
      "[230]\tvalid's auc: 0.981847\n",
      "[231]\tvalid's auc: 0.981836\n",
      "[232]\tvalid's auc: 0.981837\n",
      "[233]\tvalid's auc: 0.981842\n",
      "[234]\tvalid's auc: 0.981838\n",
      "[235]\tvalid's auc: 0.981832\n",
      "[236]\tvalid's auc: 0.981832\n",
      "[237]\tvalid's auc: 0.981837\n",
      "[238]\tvalid's auc: 0.98185\n",
      "[239]\tvalid's auc: 0.98186\n",
      "[240]\tvalid's auc: 0.981862\n",
      "[241]\tvalid's auc: 0.981865\n",
      "[242]\tvalid's auc: 0.981873\n",
      "[243]\tvalid's auc: 0.98188\n",
      "[244]\tvalid's auc: 0.981875\n",
      "[245]\tvalid's auc: 0.981871\n",
      "[246]\tvalid's auc: 0.981872\n",
      "[247]\tvalid's auc: 0.981876\n",
      "[248]\tvalid's auc: 0.981875\n",
      "[249]\tvalid's auc: 0.981885\n",
      "[250]\tvalid's auc: 0.981883\n",
      "Did not meet early stopping. Best iteration is:\n",
      "[249]\tvalid's auc: 0.981885\n"
     ]
    },
    {
     "data": {
      "text/plain": [
       "32"
      ]
     },
     "execution_count": 10,
     "metadata": {},
     "output_type": "execute_result"
    }
   ],
   "source": [
    "booster = lgb.train(\n",
    "     lgb_params, \n",
    "     xgtrain,\n",
    "     valid_sets=[xgvalid],\n",
    "     valid_names=['valid'],\n",
    "     evals_result=evals_results, \n",
    "     num_boost_round=num_boost_round,\n",
    "     early_stopping_rounds=early_stopping_rounds,\n",
    "     verbose_eval=1\n",
    ")\n",
    "\n",
    "# n_estimators = model.best_iteration\n",
    "\n",
    "# print('\\nModel Info:')\n",
    "# print('n_estimators:', n_estimators)\n",
    "# print(metrics+':', evals_results['valid'][metrics][n_estimators-1])\n",
    "\n",
    "del xgvalid\n",
    "del xgtrain\n",
    "gc.collect()"
   ]
  },
  {
   "cell_type": "markdown",
   "metadata": {},
   "source": [
    "[250]\tvalid's auc: 0.981883\n",
    "Did not meet early stopping. Best iteration is:\n",
    "[249]\tvalid's auc: 0.981885"
   ]
  },
  {
   "cell_type": "code",
   "execution_count": 14,
   "metadata": {},
   "outputs": [
    {
     "data": {
      "image/png": "[encoded data removed]",
      "text/plain": [
       "<matplotlib.figure.Figure at 0x7fc9083efd68>"
      ]
     },
     "metadata": {},
     "output_type": "display_data"
    }
   ],
   "source": [
    "import matplotlib.pyplot as plt\n",
    "ax = lgb.plot_importance(booster, max_num_features=100)\n",
    "plt.savefig('04283imp.png', dpi=600, bbox_inches='tight')\n",
    "plt.show()"
   ]
  },
  {
   "cell_type": "code",
   "execution_count": 12,
   "metadata": {},
   "outputs": [],
   "source": [
    "preditions=booster.predict(test_df[predictors].values)"
   ]
  },
  {
   "cell_type": "code",
   "execution_count": 13,
   "metadata": {},
   "outputs": [],
   "source": [
    "sub['is_attributed']  = preditions\n",
    "\n",
    "sub.to_csv('04283sub.csv', float_format='%.8f', index=False)"
   ]
  },
  {
   "cell_type": "code",
   "execution_count": null,
   "metadata": {},
   "outputs": [],
   "source": []
  }
 ],
 "metadata": {
  "kernelspec": {
   "display_name": "Python 3",
   "language": "python",
   "name": "python3"
  },
  "language_info": {
   "codemirror_mode": {
    "name": "ipython",
    "version": 3
   },
   "file_extension": ".py",
   "mimetype": "text/x-python",
   "name": "python",
   "nbconvert_exporter": "python",
   "pygments_lexer": "ipython3",
   "version": "3.6.4"
  }
 },
 "nbformat": 4,
 "nbformat_minor": 2
}
