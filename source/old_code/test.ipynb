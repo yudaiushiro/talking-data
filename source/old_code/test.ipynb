{
 "cells": [
  {
   "cell_type": "code",
   "execution_count": 1,
   "metadata": {},
   "outputs": [],
   "source": [
    "import numpy as np \n",
    "import pandas as pd \n",
    "import datetime\n",
    "import os\n",
    "import time\n",
    "import matplotlib.pyplot as plt\n",
    "import seaborn as sns\n",
    "import gc\n",
    "import dask\n",
    "import dask.dataframe as dd\n",
    "%matplotlib inline"
   ]
  },
  {
   "cell_type": "code",
   "execution_count": 2,
   "metadata": {},
   "outputs": [],
   "source": [
    "dtypes = {'ip':'uint32',\n",
    "          'app': 'uint16',\n",
    "          'device': 'uint16',\n",
    "          'os': 'uint16',\n",
    "          'channel': 'uint16',\n",
    "          'is_attributed': 'uint8'}\n",
    "\n",
    "train = pd.read_csv(\"../input/train_sample.csv\", dtype=dtypes, parse_dates=['click_time', 'attributed_time'])"
   ]
  },
  {
   "cell_type": "code",
   "execution_count": 4,
   "metadata": {},
   "outputs": [
    {
     "data": {
      "text/plain": [
       "100000"
      ]
     },
     "execution_count": 4,
     "metadata": {},
     "output_type": "execute_result"
    }
   ],
   "source": [
    "train.shape[0]"
   ]
  },
  {
   "cell_type": "code",
   "execution_count": 5,
   "metadata": {},
   "outputs": [
    {
     "data": {
      "text/plain": [
       "100000"
      ]
     },
     "execution_count": 5,
     "metadata": {},
     "output_type": "execute_result"
    }
   ],
   "source": [
    "len(train)"
   ]
  },
  {
   "cell_type": "code",
   "execution_count": 4,
   "metadata": {},
   "outputs": [
    {
     "name": "stdout",
     "output_type": "stream",
     "text": [
      "<class 'dask.dataframe.core.DataFrame'>\n",
      "Columns: 8 entries, ip to is_attributed\n",
      "dtypes: datetime64[ns](2), uint16(4), uint32(1), uint8(1)"
     ]
    }
   ],
   "source": [
    "train.info()"
   ]
  },
  {
   "cell_type": "code",
   "execution_count": 5,
   "metadata": {},
   "outputs": [],
   "source": [
    "#len(train)"
   ]
  },
  {
   "cell_type": "code",
   "execution_count": 6,
   "metadata": {},
   "outputs": [
    {
     "data": {
      "text/html": [
       "<div>\n",
       "<style scoped>\n",
       "    .dataframe tbody tr th:only-of-type {\n",
       "        vertical-align: middle;\n",
       "    }\n",
       "\n",
       "    .dataframe tbody tr th {\n",
       "        vertical-align: top;\n",
       "    }\n",
       "\n",
       "    .dataframe thead th {\n",
       "        text-align: right;\n",
       "    }\n",
       "</style>\n",
       "<table border=\"1\" class=\"dataframe\">\n",
       "  <thead>\n",
       "    <tr style=\"text-align: right;\">\n",
       "      <th></th>\n",
       "      <th>ip</th>\n",
       "      <th>app</th>\n",
       "      <th>device</th>\n",
       "      <th>os</th>\n",
       "      <th>channel</th>\n",
       "      <th>click_time</th>\n",
       "      <th>attributed_time</th>\n",
       "      <th>is_attributed</th>\n",
       "      <th>id</th>\n",
       "    </tr>\n",
       "  </thead>\n",
       "  <tbody>\n",
       "    <tr>\n",
       "      <th>0</th>\n",
       "      <td>83230</td>\n",
       "      <td>3</td>\n",
       "      <td>1</td>\n",
       "      <td>13</td>\n",
       "      <td>379</td>\n",
       "      <td>2017-11-06 14:32:21</td>\n",
       "      <td>NaT</td>\n",
       "      <td>0</td>\n",
       "      <td>0</td>\n",
       "    </tr>\n",
       "    <tr>\n",
       "      <th>1</th>\n",
       "      <td>17357</td>\n",
       "      <td>3</td>\n",
       "      <td>1</td>\n",
       "      <td>19</td>\n",
       "      <td>379</td>\n",
       "      <td>2017-11-06 14:33:34</td>\n",
       "      <td>NaT</td>\n",
       "      <td>0</td>\n",
       "      <td>1</td>\n",
       "    </tr>\n",
       "    <tr>\n",
       "      <th>2</th>\n",
       "      <td>35810</td>\n",
       "      <td>3</td>\n",
       "      <td>1</td>\n",
       "      <td>13</td>\n",
       "      <td>379</td>\n",
       "      <td>2017-11-06 14:34:12</td>\n",
       "      <td>NaT</td>\n",
       "      <td>0</td>\n",
       "      <td>2</td>\n",
       "    </tr>\n",
       "    <tr>\n",
       "      <th>3</th>\n",
       "      <td>45745</td>\n",
       "      <td>14</td>\n",
       "      <td>1</td>\n",
       "      <td>13</td>\n",
       "      <td>478</td>\n",
       "      <td>2017-11-06 14:34:52</td>\n",
       "      <td>NaT</td>\n",
       "      <td>0</td>\n",
       "      <td>3</td>\n",
       "    </tr>\n",
       "    <tr>\n",
       "      <th>4</th>\n",
       "      <td>161007</td>\n",
       "      <td>3</td>\n",
       "      <td>1</td>\n",
       "      <td>13</td>\n",
       "      <td>379</td>\n",
       "      <td>2017-11-06 14:35:08</td>\n",
       "      <td>NaT</td>\n",
       "      <td>0</td>\n",
       "      <td>4</td>\n",
       "    </tr>\n",
       "  </tbody>\n",
       "</table>\n",
       "</div>"
      ],
      "text/plain": [
       "       ip  app  device  os  channel          click_time attributed_time  \\\n",
       "0   83230    3       1  13      379 2017-11-06 14:32:21             NaT   \n",
       "1   17357    3       1  19      379 2017-11-06 14:33:34             NaT   \n",
       "2   35810    3       1  13      379 2017-11-06 14:34:12             NaT   \n",
       "3   45745   14       1  13      478 2017-11-06 14:34:52             NaT   \n",
       "4  161007    3       1  13      379 2017-11-06 14:35:08             NaT   \n",
       "\n",
       "   is_attributed  id  \n",
       "0              0   0  \n",
       "1              0   1  \n",
       "2              0   2  \n",
       "3              0   3  \n",
       "4              0   4  "
      ]
     },
     "execution_count": 6,
     "metadata": {},
     "output_type": "execute_result"
    }
   ],
   "source": [
    "train['id'] = train.index\n",
    "train.head()"
   ]
  },
  {
   "cell_type": "code",
   "execution_count": 7,
   "metadata": {},
   "outputs": [
    {
     "data": {
      "text/plain": [
       "['./export-000.csv',\n",
       " './export-001.csv',\n",
       " './export-002.csv',\n",
       " './export-003.csv',\n",
       " './export-004.csv',\n",
       " './export-005.csv',\n",
       " './export-006.csv',\n",
       " './export-007.csv',\n",
       " './export-008.csv',\n",
       " './export-009.csv',\n",
       " './export-010.csv',\n",
       " './export-011.csv',\n",
       " './export-012.csv',\n",
       " './export-013.csv',\n",
       " './export-014.csv',\n",
       " './export-015.csv',\n",
       " './export-016.csv',\n",
       " './export-017.csv',\n",
       " './export-018.csv',\n",
       " './export-019.csv',\n",
       " './export-020.csv',\n",
       " './export-021.csv',\n",
       " './export-022.csv',\n",
       " './export-023.csv',\n",
       " './export-024.csv',\n",
       " './export-025.csv',\n",
       " './export-026.csv',\n",
       " './export-027.csv',\n",
       " './export-028.csv',\n",
       " './export-029.csv',\n",
       " './export-030.csv',\n",
       " './export-031.csv',\n",
       " './export-032.csv',\n",
       " './export-033.csv',\n",
       " './export-034.csv',\n",
       " './export-035.csv',\n",
       " './export-036.csv',\n",
       " './export-037.csv',\n",
       " './export-038.csv',\n",
       " './export-039.csv',\n",
       " './export-040.csv',\n",
       " './export-041.csv',\n",
       " './export-042.csv',\n",
       " './export-043.csv',\n",
       " './export-044.csv',\n",
       " './export-045.csv',\n",
       " './export-046.csv',\n",
       " './export-047.csv',\n",
       " './export-048.csv',\n",
       " './export-049.csv',\n",
       " './export-050.csv',\n",
       " './export-051.csv',\n",
       " './export-052.csv',\n",
       " './export-053.csv',\n",
       " './export-054.csv',\n",
       " './export-055.csv',\n",
       " './export-056.csv',\n",
       " './export-057.csv',\n",
       " './export-058.csv',\n",
       " './export-059.csv',\n",
       " './export-060.csv',\n",
       " './export-061.csv',\n",
       " './export-062.csv',\n",
       " './export-063.csv',\n",
       " './export-064.csv',\n",
       " './export-065.csv',\n",
       " './export-066.csv',\n",
       " './export-067.csv',\n",
       " './export-068.csv',\n",
       " './export-069.csv',\n",
       " './export-070.csv',\n",
       " './export-071.csv',\n",
       " './export-072.csv',\n",
       " './export-073.csv',\n",
       " './export-074.csv',\n",
       " './export-075.csv',\n",
       " './export-076.csv',\n",
       " './export-077.csv',\n",
       " './export-078.csv',\n",
       " './export-079.csv',\n",
       " './export-080.csv',\n",
       " './export-081.csv',\n",
       " './export-082.csv',\n",
       " './export-083.csv',\n",
       " './export-084.csv',\n",
       " './export-085.csv',\n",
       " './export-086.csv',\n",
       " './export-087.csv',\n",
       " './export-088.csv',\n",
       " './export-089.csv',\n",
       " './export-090.csv',\n",
       " './export-091.csv',\n",
       " './export-092.csv',\n",
       " './export-093.csv',\n",
       " './export-094.csv',\n",
       " './export-095.csv',\n",
       " './export-096.csv',\n",
       " './export-097.csv',\n",
       " './export-098.csv',\n",
       " './export-099.csv',\n",
       " './export-100.csv',\n",
       " './export-101.csv',\n",
       " './export-102.csv',\n",
       " './export-103.csv',\n",
       " './export-104.csv',\n",
       " './export-105.csv',\n",
       " './export-106.csv',\n",
       " './export-107.csv',\n",
       " './export-108.csv',\n",
       " './export-109.csv',\n",
       " './export-110.csv',\n",
       " './export-111.csv',\n",
       " './export-112.csv',\n",
       " './export-113.csv',\n",
       " './export-114.csv',\n",
       " './export-115.csv',\n",
       " './export-116.csv',\n",
       " './export-117.csv']"
      ]
     },
     "execution_count": 7,
     "metadata": {},
     "output_type": "execute_result"
    }
   ],
   "source": [
    "# dd.to_csv(df=train,index=False)\n",
    "train.to_csv('./export-*.csv')"
   ]
  },
  {
   "cell_type": "code",
   "execution_count": null,
   "metadata": {},
   "outputs": [],
   "source": []
  }
 ],
 "metadata": {
  "kernelspec": {
   "display_name": "Python 3",
   "language": "python",
   "name": "python3"
  },
  "language_info": {
   "codemirror_mode": {
    "name": "ipython",
    "version": 3
   },
   "file_extension": ".py",
   "mimetype": "text/x-python",
   "name": "python",
   "nbconvert_exporter": "python",
   "pygments_lexer": "ipython3",
   "version": "3.6.4"
  }
 },
 "nbformat": 4,
 "nbformat_minor": 2
}
