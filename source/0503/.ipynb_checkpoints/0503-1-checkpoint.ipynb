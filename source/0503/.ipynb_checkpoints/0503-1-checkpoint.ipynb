{
 "cells": [
  {
   "cell_type": "markdown",
   "metadata": {},
   "source": [
    "train120m-180m, train:valid 90:10  \n",
    "copy tiger kernel"
   ]
  },
  {
   "cell_type": "code",
   "execution_count": 1,
   "metadata": {},
   "outputs": [],
   "source": [
    "# BIG SHOUTOUT TO PRANAV FOR HIS MODEL\n",
    "# Thanks to panjn for his helper methods\n",
    "\n",
    "from sklearn.model_selection import train_test_split\n",
    "import pandas as pd\n",
    "import time\n",
    "import numpy as np\n",
    "import lightgbm as lgb\n",
    "import os\n",
    "import gc\n",
    "\n",
    "# os.environ['OMP_NUM_THREADS'] = '4'\n",
    "\n",
    "max_rounds = 1000\n",
    "early_stop = 30\n",
    "# opt_rounds = 680\n",
    "\n",
    "# output_file = 'lgbm_submit.csv'\n",
    "\n",
    "path = \"~/talkingdata/input/\"\n",
    "\n",
    "dtypes = {\n",
    "    'ip'\t\t:'uint32',\n",
    "    'app'\t\t:'uint16',\n",
    "\t'device'\t:'uint16',\n",
    "\t'os'\t\t:'uint16',\n",
    "\t'channel'\t:'uint16',\n",
    "\t'is_attributed'\t:'uint8',\n",
    "\t'click_id'\t:'uint32',\n",
    "\t}\n",
    "\n",
    "# most_freq_hours_in_test_data = [4,5,9,10,13,14]\n",
    "# least_freq_hours_in_test_data = [6, 11, 15]\n",
    "\n",
    "def add_counts(df, cols):\n",
    "    arr_slice = df[cols].values\n",
    "    unq, unqtags, counts = np.unique(np.ravel_multi_index(arr_slice.T, arr_slice.max(axis=0)+1),\n",
    "                                     return_inverse=True, return_counts=True)\n",
    "    df[\"_\".join(cols)+\"_count\"] = counts[unqtags]\n",
    "    print(\"_\".join(cols)+\"_count done\")\n",
    "    gc.collect()    \n",
    "\n",
    "def add_next_click(df):\n",
    "    D = 2**26\n",
    "    df['category'] = (df['ip'].astype(str) + \"_\" + df['app'].astype(str) + \"_\" + df['device'].astype(str) \\\n",
    "                      + \"_\" + df['os'].astype(str)).apply(hash) % D\n",
    "    click_buffer = np.full(D, 3000000000, dtype=np.uint32)\n",
    "    df['epochtime'] = df['click_time'].astype(np.int64) // 10 ** 9\n",
    "    next_clicks = []\n",
    "    for category, time in zip(reversed(df['category'].values), reversed(df['epochtime'].values)):\n",
    "        next_clicks.append(click_buffer[category] - time)\n",
    "        click_buffer[category] = time\n",
    "    del click_buffer\n",
    "    df['next_click'] = list(reversed(next_clicks))\n",
    "    df.drop(['category', 'epochtime'], axis=1, inplace=True)\n",
    "\n",
    "def preproc_data(df):\n",
    "    \n",
    "    #Extrace date info\n",
    "    df['click_time']= pd.to_datetime(df['click_time'])\n",
    "    df['hour'] = df['click_time'].dt.hour.astype('uint8')\n",
    "#     df['day'] = df['click_time'].dt.day.astype('uint8')\n",
    "#     df['wday'] = df['click_time'].dt.dayofweek.astype('uint8')\n",
    "    gc.collect()\n",
    "\n",
    "    #Groups\n",
    "#     df['in_test_hh'] = ( 3\n",
    "# \t    \t\t - 2 * df['hour'].isin( most_freq_hours_in_test_data )\n",
    "# \t\t\t - 1 * df['hour'].isin( least_freq_hours_in_test_data )).astype('uint8')\n",
    "\n",
    "    print('Adding next_click...')\n",
    "    add_next_click(df)\n",
    "    gc.collect()\n",
    "\n",
    "    print('Grouping...')\n",
    "    \n",
    "    add_counts(df, ['ip'])\n",
    "    add_counts(df, ['os', 'device'])\n",
    "    add_counts(df, ['os', 'app', 'channel'])\n",
    "\n",
    "    add_counts(df, ['ip', 'device'])\n",
    "    add_counts(df, ['app', 'channel'])\n",
    "\n",
    "#     add_counts(df, ['ip', 'wday', 'in_test_hh'])\n",
    "    add_counts(df, ['ip', 'hour'])\n",
    "    add_counts(df, ['ip', 'os', 'hour'])\n",
    "    add_counts(df, ['ip', 'app', 'hour'])\n",
    "    add_counts(df, ['ip', 'device', 'hour'])\n",
    "    add_counts(df, ['ip', 'app', 'os'])\n",
    "    add_counts(df, ['hour', 'app'])\n",
    "    \n",
    "\n",
    "#     df.drop(['ip', 'day', 'click_time'], axis=1, inplace=True )\n",
    "    df.drop(['ip', 'click_time'], axis=1, inplace=True )\n",
    "\n",
    "    gc.collect()\n",
    "\n",
    "    print( df.info() )\n",
    "\n",
    "    return df"
   ]
  },
  {
   "cell_type": "code",
   "execution_count": 2,
   "metadata": {},
   "outputs": [
    {
     "name": "stdout",
     "output_type": "stream",
     "text": [
      "Loading train.csv...\n",
      "Load test.csv...\n"
     ]
    }
   ],
   "source": [
    "print('Loading train.csv...')\n",
    "\n",
    "train_cols = ['ip', 'app', 'device', 'os', 'channel', 'is_attributed', 'click_time']\n",
    "train_df = pd.read_csv(path + 'train.csv', skiprows=range(1,122071518), dtype=dtypes, usecols=train_cols)\n",
    "\n",
    "print('Load test.csv...')\n",
    "test_cols = ['ip', 'app', 'device', 'os', 'click_time', 'channel', 'click_id']\n",
    "testsup_df = pd.read_csv(path + \"test_supplement.csv\", dtype=dtypes, usecols=test_cols)"
   ]
  },
  {
   "cell_type": "code",
   "execution_count": 3,
   "metadata": {},
   "outputs": [
    {
     "name": "stdout",
     "output_type": "stream",
     "text": [
      "62832373\n"
     ]
    },
    {
     "data": {
      "text/plain": [
       "96"
      ]
     },
     "execution_count": 3,
     "metadata": {},
     "output_type": "execute_result"
    }
   ],
   "source": [
    "y = train_df.is_attributed.values\n",
    "\n",
    "submit = pd.DataFrame()\n",
    "submit['click_id'] = testsup_df['click_id']\n",
    "\n",
    "train_len = len(train_df)\n",
    "print(train_len)\n",
    "common_cols = ['ip', 'app', 'device', 'os', 'channel', 'click_time']\n",
    "train_df = pd.concat([train_df[common_cols], testsup_df[common_cols]])\n",
    "del testsup_df\n",
    "gc.collect()"
   ]
  },
  {
   "cell_type": "code",
   "execution_count": null,
   "metadata": {},
   "outputs": [
    {
     "name": "stdout",
     "output_type": "stream",
     "text": [
      "Preprocessing...\n",
      "Adding next_click...\n",
      "Grouping...\n"
     ]
    }
   ],
   "source": [
    "print('Preprocessing...')\n",
    "train_df = preproc_data(train_df)\n",
    "gc.collect()"
   ]
  },
  {
   "cell_type": "code",
   "execution_count": 11,
   "metadata": {},
   "outputs": [
    {
     "ename": "NameError",
     "evalue": "name 'train_df' is not defined",
     "output_type": "error",
     "traceback": [
      "\u001b[0;31m---------------------------------------------------------------------------\u001b[0m",
      "\u001b[0;31mNameError\u001b[0m                                 Traceback (most recent call last)",
      "\u001b[0;32m<ipython-input-11-e6f26ee5f7fe>\u001b[0m in \u001b[0;36m<module>\u001b[0;34m()\u001b[0m\n\u001b[0;32m----> 1\u001b[0;31m \u001b[0mtrain_df\u001b[0m\u001b[0;34m.\u001b[0m\u001b[0mhead\u001b[0m\u001b[0;34m(\u001b[0m\u001b[0;34m)\u001b[0m\u001b[0;34m\u001b[0m\u001b[0m\n\u001b[0m\u001b[1;32m      2\u001b[0m \u001b[0mgc\u001b[0m\u001b[0;34m.\u001b[0m\u001b[0mcollect\u001b[0m\u001b[0;34m(\u001b[0m\u001b[0;34m)\u001b[0m\u001b[0;34m\u001b[0m\u001b[0m\n",
      "\u001b[0;31mNameError\u001b[0m: name 'train_df' is not defined"
     ]
    }
   ],
   "source": [
    "train_df.head()\n",
    "gc.collect()"
   ]
  },
  {
   "cell_type": "code",
   "execution_count": null,
   "metadata": {},
   "outputs": [],
   "source": [
    "test_df = train_df.iloc[train_len:]\n",
    "train_df = train_df.iloc[:train_len]\n",
    "gc.collect()"
   ]
  },
  {
   "cell_type": "code",
   "execution_count": null,
   "metadata": {},
   "outputs": [],
   "source": [
    "metrics = 'auc'\n",
    "lgb_params = {\n",
    "\t'boosting_type': 'gbdt',\n",
    "\t'objective': 'binary',\n",
    "\t'metric': metrics,\n",
    "\t'learning_rate': .1,\n",
    "\t'num_leaves': 7,\n",
    "\t'max_depth': 4,\n",
    "\t'min_child_samples': 100,\n",
    "\t'max_bin': 100,\n",
    "\t'subsample': 0.7,\n",
    "\t'subsample_freq': 1,\n",
    "\t'colsample_bytree': 0.7,\n",
    "\t'min_child_weight': 0,\n",
    "\t'min_split_gain': 0,\n",
    "\t'nthread': 4,\n",
    "\t'verbose': 1,\n",
    "\t'scale_pos_weight': 99.7\n",
    "\t#'scale_pos_weight': 400\n",
    "}\n",
    "\n",
    "target = 'is_attributed'\n",
    "\n",
    "inputs = list(set(train_df.columns) - set([target]))  \n",
    "cat_vars = ['app', 'device', 'os', 'channel', 'hour', 'wday']"
   ]
  },
  {
   "cell_type": "code",
   "execution_count": null,
   "metadata": {},
   "outputs": [],
   "source": [
    "train_df, val_df = train_test_split(train_df, train_size=.9, shuffle=False)\n",
    "y_train, y_val = train_test_split(y, train_size=.9, shuffle=False)\n",
    "\n",
    "print('Train size:', len(train_df))\n",
    "print('Valid size:', len(val_df))\n",
    "\n",
    "gc.collect()"
   ]
  },
  {
   "cell_type": "code",
   "execution_count": null,
   "metadata": {},
   "outputs": [],
   "source": [
    "print('Training...')\n",
    "\n",
    "num_boost_round=max_rounds\n",
    "early_stopping_rounds=early_stop\n",
    "\n",
    "xgtrain = lgb.Dataset(train_df[inputs].values, label=y_train,\n",
    "\t\t      feature_name=inputs,\n",
    "\t\t      categorical_feature=cat_vars)\n",
    "del train_df, y_train\n",
    "gc.collect()\n",
    "\n",
    "xgvalid = lgb.Dataset(val_df[inputs].values, label=y_val,\n",
    "\t\t      feature_name=inputs,\n",
    "\t\t      categorical_feature=cat_vars)\n",
    "del val_df, y_val\n",
    "gc.collect()"
   ]
  },
  {
   "cell_type": "code",
   "execution_count": null,
   "metadata": {},
   "outputs": [],
   "source": [
    "evals_results = {}\n",
    "\n",
    "model = lgb.train(lgb_params,\n",
    "\t\t  xgtrain,\n",
    "\t\t  valid_sets= [xgvalid],\n",
    "\t\t  valid_names=['valid'],\n",
    "\t\t  evals_result=evals_results,\n",
    "\t\t  num_boost_round=num_boost_round,\n",
    "\t\t  early_stopping_rounds=early_stopping_rounds,\n",
    "\t\t  verbose_eval=1,\n",
    "\t\t  feval=None)\n",
    "n_estimators = model.best_iteration\n",
    "\n",
    "print('\\nModel Info:')\n",
    "print('n_estimators:', n_estimators)\n",
    "print(metrics+':', evals_results['valid'][metrics][n_estimators-1])\n",
    "\n",
    "del xgvalid\n",
    "del xgtrain\n",
    "gc.collect()\n",
    "\n",
    "# print('Predicting...')\n",
    "# submit['is_attributed'] = model.predict(test_df[inputs])\n",
    "\n",
    "# print('Creating:', output_file)\n",
    "# submit.to_csv(output_file, index=False, float_format='%.9f')\n",
    "# print('Done!')"
   ]
  },
  {
   "cell_type": "code",
   "execution_count": 14,
   "metadata": {},
   "outputs": [
    {
     "data": {
      "image/png": "[encoded data removed]",
      "text/plain": [
       "<matplotlib.figure.Figure at 0x7fcf321014a8>"
      ]
     },
     "metadata": {},
     "output_type": "display_data"
    }
   ],
   "source": [
    "import matplotlib.pyplot as plt\n",
    "ax = lgb.plot_importance(model, max_num_features=100)\n",
    "plt.show()"
   ]
  },
  {
   "cell_type": "code",
   "execution_count": 15,
   "metadata": {},
   "outputs": [
    {
     "data": {
      "text/plain": [
       "5270"
      ]
     },
     "execution_count": 15,
     "metadata": {},
     "output_type": "execute_result"
    }
   ],
   "source": [
    "gc.collect()"
   ]
  },
  {
   "cell_type": "code",
   "execution_count": 22,
   "metadata": {},
   "outputs": [
    {
     "data": {
      "text/html": [
       "<div>\n",
       "<style scoped>\n",
       "    .dataframe tbody tr th:only-of-type {\n",
       "        vertical-align: middle;\n",
       "    }\n",
       "\n",
       "    .dataframe tbody tr th {\n",
       "        vertical-align: top;\n",
       "    }\n",
       "\n",
       "    .dataframe thead th {\n",
       "        text-align: right;\n",
       "    }\n",
       "</style>\n",
       "<table border=\"1\" class=\"dataframe\">\n",
       "  <thead>\n",
       "    <tr style=\"text-align: right;\">\n",
       "      <th></th>\n",
       "      <th>app</th>\n",
       "      <th>device</th>\n",
       "      <th>os</th>\n",
       "      <th>channel</th>\n",
       "      <th>hour</th>\n",
       "      <th>wday</th>\n",
       "      <th>in_test_hh</th>\n",
       "      <th>next_click</th>\n",
       "      <th>ip_count</th>\n",
       "      <th>os_device_count</th>\n",
       "      <th>os_app_channel_count</th>\n",
       "      <th>ip_device_count</th>\n",
       "      <th>app_channel_count</th>\n",
       "      <th>ip_wday_in_test_hh_count</th>\n",
       "      <th>ip_wday_hour_count</th>\n",
       "      <th>ip_os_wday_hour_count</th>\n",
       "      <th>ip_app_wday_hour_count</th>\n",
       "      <th>ip_device_wday_hour_count</th>\n",
       "      <th>ip_app_os_count</th>\n",
       "      <th>wday_hour_app_count</th>\n",
       "    </tr>\n",
       "  </thead>\n",
       "  <tbody>\n",
       "  </tbody>\n",
       "</table>\n",
       "</div>"
      ],
      "text/plain": [
       "Empty DataFrame\n",
       "Columns: [app, device, os, channel, hour, wday, in_test_hh, next_click, ip_count, os_device_count, os_app_channel_count, ip_device_count, app_channel_count, ip_wday_in_test_hh_count, ip_wday_hour_count, ip_os_wday_hour_count, ip_app_wday_hour_count, ip_device_wday_hour_count, ip_app_os_count, wday_hour_app_count]\n",
       "Index: []"
      ]
     },
     "execution_count": 22,
     "metadata": {},
     "output_type": "execute_result"
    }
   ],
   "source": [
    "test_df"
   ]
  },
  {
   "cell_type": "code",
   "execution_count": null,
   "metadata": {},
   "outputs": [],
   "source": [
    "with timer(\"load test data\"):\n",
    "    test_df = pd.read_csv(path+\"test.csv\", dtype=dtypes, usecols=['ip','app','device','os', 'channel', 'click_time', 'click_id'])"
   ]
  },
  {
   "cell_type": "code",
   "execution_count": null,
   "metadata": {},
   "outputs": [],
   "source": [
    "test_df.dtypes"
   ]
  },
  {
   "cell_type": "code",
   "execution_count": null,
   "metadata": {},
   "outputs": [],
   "source": [
    "testsup_df.dtypes"
   ]
  },
  {
   "cell_type": "code",
   "execution_count": 70,
   "metadata": {},
   "outputs": [],
   "source": [
    "test_df['click_time']= pd.to_datetime(test_df['click_time'])\n",
    "testsup_df['click_time']= pd.to_datetime(testsup_df['click_time'])"
   ]
  },
  {
   "cell_type": "code",
   "execution_count": 53,
   "metadata": {},
   "outputs": [
    {
     "name": "stdout",
     "output_type": "stream",
     "text": [
      "Predicting the submission data...\n",
      "projecting prediction onto test\n"
     ]
    }
   ],
   "source": [
    "# preditions=booster.predict(test_df[predictors].values)\n",
    "\n",
    "print(\"Predicting the submission data...\")\n",
    "\n",
    "testsup_df['is_attributed'] = booster.predict(testsup_df[predictors], num_iteration=booster.best_iteration)\n",
    "\n",
    "print('projecting prediction onto test')\n",
    "\n",
    "join_cols = ['ip', 'app', 'device', 'os', 'channel', 'click_time']\n",
    "all_cols = join_cols + ['is_attributed']"
   ]
  },
  {
   "cell_type": "code",
   "execution_count": 71,
   "metadata": {},
   "outputs": [],
   "source": [
    "test_df = test_df.merge(testsup_df[all_cols], how='left', on=join_cols)\n",
    "\n",
    "test_df = test_df.drop_duplicates(subset=['click_id'])"
   ]
  },
  {
   "cell_type": "code",
   "execution_count": 72,
   "metadata": {},
   "outputs": [
    {
     "data": {
      "text/html": [
       "<div>\n",
       "<style scoped>\n",
       "    .dataframe tbody tr th:only-of-type {\n",
       "        vertical-align: middle;\n",
       "    }\n",
       "\n",
       "    .dataframe tbody tr th {\n",
       "        vertical-align: top;\n",
       "    }\n",
       "\n",
       "    .dataframe thead th {\n",
       "        text-align: right;\n",
       "    }\n",
       "</style>\n",
       "<table border=\"1\" class=\"dataframe\">\n",
       "  <thead>\n",
       "    <tr style=\"text-align: right;\">\n",
       "      <th></th>\n",
       "      <th>click_id</th>\n",
       "      <th>ip</th>\n",
       "      <th>app</th>\n",
       "      <th>device</th>\n",
       "      <th>os</th>\n",
       "      <th>channel</th>\n",
       "      <th>click_time</th>\n",
       "      <th>is_attributed</th>\n",
       "    </tr>\n",
       "  </thead>\n",
       "  <tbody>\n",
       "    <tr>\n",
       "      <th>0</th>\n",
       "      <td>0</td>\n",
       "      <td>5744</td>\n",
       "      <td>9</td>\n",
       "      <td>1</td>\n",
       "      <td>3</td>\n",
       "      <td>107</td>\n",
       "      <td>2017-11-10 04:00:00</td>\n",
       "      <td>0.075813</td>\n",
       "    </tr>\n",
       "    <tr>\n",
       "      <th>1</th>\n",
       "      <td>1</td>\n",
       "      <td>119901</td>\n",
       "      <td>9</td>\n",
       "      <td>1</td>\n",
       "      <td>3</td>\n",
       "      <td>466</td>\n",
       "      <td>2017-11-10 04:00:00</td>\n",
       "      <td>0.020265</td>\n",
       "    </tr>\n",
       "    <tr>\n",
       "      <th>2</th>\n",
       "      <td>2</td>\n",
       "      <td>72287</td>\n",
       "      <td>21</td>\n",
       "      <td>1</td>\n",
       "      <td>19</td>\n",
       "      <td>128</td>\n",
       "      <td>2017-11-10 04:00:00</td>\n",
       "      <td>0.003297</td>\n",
       "    </tr>\n",
       "    <tr>\n",
       "      <th>3</th>\n",
       "      <td>3</td>\n",
       "      <td>78477</td>\n",
       "      <td>15</td>\n",
       "      <td>1</td>\n",
       "      <td>13</td>\n",
       "      <td>111</td>\n",
       "      <td>2017-11-10 04:00:00</td>\n",
       "      <td>0.014700</td>\n",
       "    </tr>\n",
       "    <tr>\n",
       "      <th>4</th>\n",
       "      <td>4</td>\n",
       "      <td>123080</td>\n",
       "      <td>12</td>\n",
       "      <td>1</td>\n",
       "      <td>13</td>\n",
       "      <td>328</td>\n",
       "      <td>2017-11-10 04:00:00</td>\n",
       "      <td>0.007028</td>\n",
       "    </tr>\n",
       "  </tbody>\n",
       "</table>\n",
       "</div>"
      ],
      "text/plain": [
       "   click_id      ip  app  device  os  channel          click_time  \\\n",
       "0         0    5744    9       1   3      107 2017-11-10 04:00:00   \n",
       "1         1  119901    9       1   3      466 2017-11-10 04:00:00   \n",
       "2         2   72287   21       1  19      128 2017-11-10 04:00:00   \n",
       "3         3   78477   15       1  13      111 2017-11-10 04:00:00   \n",
       "4         4  123080   12       1  13      328 2017-11-10 04:00:00   \n",
       "\n",
       "   is_attributed  \n",
       "0       0.075813  \n",
       "1       0.020265  \n",
       "2       0.003297  \n",
       "3       0.014700  \n",
       "4       0.007028  "
      ]
     },
     "execution_count": 72,
     "metadata": {},
     "output_type": "execute_result"
    }
   ],
   "source": [
    "test_df.head()"
   ]
  },
  {
   "cell_type": "code",
   "execution_count": 73,
   "metadata": {},
   "outputs": [
    {
     "data": {
      "text/plain": [
       "click_id         18790469\n",
       "ip               18790469\n",
       "app              18790469\n",
       "device           18790469\n",
       "os               18790469\n",
       "channel          18790469\n",
       "click_time       18790469\n",
       "is_attributed    18790469\n",
       "dtype: int64"
      ]
     },
     "execution_count": 73,
     "metadata": {},
     "output_type": "execute_result"
    }
   ],
   "source": [
    "test_df.count()"
   ]
  },
  {
   "cell_type": "code",
   "execution_count": 74,
   "metadata": {},
   "outputs": [
    {
     "name": "stdout",
     "output_type": "stream",
     "text": [
      "Writing the submission data into a csv file...\n",
      "All done...\n"
     ]
    }
   ],
   "source": [
    "print(\"Writing the submission data into a csv file...\")\n",
    "\n",
    "test_df[['click_id', 'is_attributed']].to_csv('0503-1.csv', index=False)\n",
    "\n",
    "print(\"All done...\")"
   ]
  }
 ],
 "metadata": {
  "kernelspec": {
   "display_name": "Python 3",
   "language": "python",
   "name": "python3"
  },
  "language_info": {
   "codemirror_mode": {
    "name": "ipython",
    "version": 3
   },
   "file_extension": ".py",
   "mimetype": "text/x-python",
   "name": "python",
   "nbconvert_exporter": "python",
   "pygments_lexer": "ipython3",
   "version": "3.6.4"
  }
 },
 "nbformat": 4,
 "nbformat_minor": 2
}
