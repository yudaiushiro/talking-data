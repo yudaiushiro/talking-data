{
 "cells": [
  {
   "cell_type": "markdown",
   "metadata": {},
   "source": [
    "特徴量second, minute, os_divice_countの削除  \n",
    "スコア上がったのでこれらの特徴量はいらない"
   ]
  },
  {
   "cell_type": "code",
   "execution_count": 1,
   "metadata": {},
   "outputs": [],
   "source": [
    "import pandas as pd\n",
    "import time\n",
    "import numpy as np\n",
    "from sklearn.model_selection import train_test_split\n",
    "import lightgbm as lgb\n",
    "import gc\n",
    "from contextlib import contextmanager"
   ]
  },
  {
   "cell_type": "code",
   "execution_count": 2,
   "metadata": {},
   "outputs": [],
   "source": [
    "@contextmanager\n",
    "def timer(name):\n",
    "    t0 = time.time()\n",
    "    yield\n",
    "    print(f'[{name}] done in {time.time() - t0:.0f} s')\n",
    "    \n",
    "def df_add_counts(df, cols):\n",
    "    arr_slice = df[cols].values\n",
    "    unq, unqtags, counts = np.unique(np.ravel_multi_index(arr_slice.T, arr_slice.max(axis=0) + 1),\n",
    "                                     return_inverse=True, return_counts=True)\n",
    "    df[\"_\".join(cols)+'_count'] = counts[unqtags]\n",
    "    \n",
    "def make_count_features(df):\n",
    "    with timer(\"add count features\"):\n",
    "        df['click_time']= pd.to_datetime(df['click_time'])\n",
    "        dt= df['click_time'].dt\n",
    "        df['day'] = dt.day.astype('uint8')\n",
    "        df['hour'] = dt.hour.astype('uint8')\n",
    "        df['minute'] = dt.minute.astype('uint8')\n",
    "#         df['second'] = dt.second.astype('uint8')#secondを追加\n",
    "\n",
    "        del(dt)\n",
    "        \n",
    "        df_add_counts(df, ['ip'])\n",
    "        df_add_counts(df, ['ip','day','hour','minute'])\n",
    "#         df_add_counts(df, ['os','device'])\n",
    "        df_add_counts(df, ['os','app','channel'])\n",
    "        \n",
    "        df_add_counts(df, ['ip', 'day', 'hour'])\n",
    "        df_add_counts(df, ['ip', 'app'])\n",
    "        df_add_counts(df, ['ip', 'app', 'os'])\n",
    "        df_add_counts(df, ['ip', 'device'])\n",
    "        df_add_counts(df, ['app', 'channel'])\n",
    "\n",
    "def make_next_click_feature(df):\n",
    "    with timer(\"Adding next click times\"):\n",
    "        D= 2**26\n",
    "        df['category'] = (df['ip'].astype(str) + \"_\" + df['app'].astype(str) + \"_\" + df['device'].astype(str) \\\n",
    "                         + \"_\" + df['os'].astype(str)).apply(hash) % D\n",
    "        click_buffer= np.full(D, 3000000000, dtype=np.uint32)\n",
    "        df['epochtime']= df['click_time'].astype(np.int64) // 10 ** 9\n",
    "        next_clicks= []\n",
    "        for category, time in zip(reversed(df['category'].values), reversed(df['epochtime'].values)):\n",
    "            next_clicks.append(click_buffer[category]-time)\n",
    "            click_buffer[category]= time\n",
    "        del(click_buffer)\n",
    "        df['next_click']= list(reversed(next_clicks))\n",
    "        \n",
    "path = '~/talkingdata/input/'\n",
    "\n",
    "dtypes = {\n",
    "        'ip'            : 'uint32',\n",
    "        'app'           : 'uint16',\n",
    "        'device'        : 'uint16',\n",
    "        'os'            : 'uint16',\n",
    "        'channel'       : 'uint16',\n",
    "        'is_attributed' : 'uint8',\n",
    "        'click_id'      : 'uint32'\n",
    "        }"
   ]
  },
  {
   "cell_type": "code",
   "execution_count": 3,
   "metadata": {},
   "outputs": [
    {
     "name": "stdout",
     "output_type": "stream",
     "text": [
      "[load training data] done in 162 s\n",
      "[load test data] done in 14 s\n"
     ]
    }
   ],
   "source": [
    "with timer(\"load training data\"):\n",
    "#     lines = 184903891\n",
    "#     skiplines = np.random.choice(np.arange(1, lines), size=lines-1-20000000, replace=False)\n",
    "#     skiplines=np.sort(skiplines)\n",
    "#     train_df = pd.read_csv(path+\"train.csv\", skiprows=skiplines, nrows=20000000, usecols=['ip','app','device','os', 'channel', 'click_time', 'is_attributed'], dtype=dtypes)\n",
    "    train_df = pd.read_csv(path+\"train.csv\", skiprows=range(1,140703891), nrows=44200000, usecols=['ip','app','device','os', 'channel', 'click_time', 'is_attributed'], dtype=dtypes)\n",
    "\n",
    "\n",
    "with timer(\"load test data\"):\n",
    "    test_df = pd.read_csv(path+\"test.csv\", dtype=dtypes, usecols=['ip','app','device','os', 'channel', 'click_time', 'click_id'])"
   ]
  },
  {
   "cell_type": "code",
   "execution_count": 4,
   "metadata": {},
   "outputs": [
    {
     "name": "stdout",
     "output_type": "stream",
     "text": [
      "36085903\n",
      "126411\n"
     ]
    }
   ],
   "source": [
    "test_ip_max = test_df.ip.max()\n",
    "train_df = train_df[train_df.ip <= test_ip_max]\n",
    "print(len(train_df.index))\n",
    "print(train_df.ip.max())"
   ]
  },
  {
   "cell_type": "code",
   "execution_count": 5,
   "metadata": {},
   "outputs": [
    {
     "data": {
      "text/plain": [
       "115"
      ]
     },
     "execution_count": 5,
     "metadata": {},
     "output_type": "execute_result"
    }
   ],
   "source": [
    "num_train = train_df.shape[0]\n",
    "y = train_df.is_attributed.values\n",
    "\n",
    "sub = pd.DataFrame()\n",
    "sub['click_id'] = test_df.click_id.values\n",
    "\n",
    "common_column = ['ip','app','device','os','channel','click_time']\n",
    "concat_df = pd.concat([train_df[common_column],test_df[common_column]])\n",
    "\n",
    "del train_df, test_df\n",
    "gc.collect()"
   ]
  },
  {
   "cell_type": "code",
   "execution_count": 6,
   "metadata": {},
   "outputs": [
    {
     "name": "stdout",
     "output_type": "stream",
     "text": [
      "[add count features] done in 335 s\n",
      "[Adding next click times] done in 438 s\n"
     ]
    },
    {
     "data": {
      "text/plain": [
       "35"
      ]
     },
     "execution_count": 6,
     "metadata": {},
     "output_type": "execute_result"
    }
   ],
   "source": [
    "make_count_features(concat_df)\n",
    "make_next_click_feature(concat_df)\n",
    "\n",
    "gc.collect()"
   ]
  },
  {
   "cell_type": "code",
   "execution_count": 7,
   "metadata": {},
   "outputs": [],
   "source": [
    "train_df = concat_df.iloc[:num_train]\n",
    "test_df = concat_df.iloc[num_train:]\n",
    "del concat_df"
   ]
  },
  {
   "cell_type": "code",
   "execution_count": 8,
   "metadata": {},
   "outputs": [
    {
     "name": "stderr",
     "output_type": "stream",
     "text": [
      "/home/um003580/.pyenv/versions/anaconda3-5.1.0/lib/python3.6/site-packages/sklearn/model_selection/_split.py:2026: FutureWarning: From version 0.21, test_size will always complement train_size unless both are specified.\n",
      "  FutureWarning)\n"
     ]
    }
   ],
   "source": [
    "train_df, val_df, y_train, y_val = train_test_split(train_df, y, train_size=0.8, shuffle=False)#trainを0.8、シャッフルfalseにした\n",
    "\n",
    "evals_results = {}\n",
    "num_boost_round = 250\n",
    "early_stopping_rounds = 30"
   ]
  },
  {
   "cell_type": "code",
   "execution_count": 9,
   "metadata": {},
   "outputs": [],
   "source": [
    "lgb_params = {\n",
    "    'boosting_type': 'gbdt',\n",
    "    'objective': 'binary',\n",
    "    'subsample_for_bin': 200000,  # Number of samples for constructing bin\n",
    "    'min_split_gain': 0,  # lambda_l1, lambda_l2 and min_gain_to_split to regularization\n",
    "    'reg_alpha': 0,  # L1 regularization term on weights\n",
    "    'reg_lambda': 0,  # L2 regularization term on weights\n",
    "    'nthread': 4,\n",
    "    'verbose': 0,\n",
    "    'metric':'auc',     \n",
    " \n",
    "    'learning_rate': 0.15,\n",
    "    'num_leaves': 7,  # 2^max_depth - 1\n",
    "    'max_depth': 3,  # -1 means no limit\n",
    "    'min_child_samples': 100,  # Minimum number of data need in a child(min_data_in_leaf)\n",
    "    'max_bin': 100,  # Number of bucketed bin for feature values\n",
    "    'subsample': 0.7,  # Subsample ratio of the training instance.\n",
    "    'subsample_freq': 1,  # frequence of subsample, <=0 means no enable\n",
    "    'colsample_bytree': 0.9,  # Subsample ratio of columns when constructing each tree.\n",
    "    'min_child_weight': 0,  # Minimum sum of instance weight(hessian) needed in a child(leaf)\n",
    "    'scale_pos_weight':99\n",
    "}\n",
    "# metrics = 'auc'\n",
    "# lgb_params = {\n",
    "#     'boosting_type': 'gbdt',\n",
    "#     'objective': 'binary',\n",
    "#     'metric': metrics,\n",
    "#     'learning_rate': .1,\n",
    "#     'num_leaves': 7,\n",
    "#     'max_depth': 4,\n",
    "#     'min_child_samples': 100,\n",
    "#     'max_bin': 100,\n",
    "#     'subsample': 0.7,\n",
    "#     'subsample_freq': 1,\n",
    "#     'colsample_bytree': 0.7,\n",
    "#     'min_child_weight': 0,\n",
    "#     'min_split_gain': 0,\n",
    "#     'nthread': 4,\n",
    "#     'verbose': 1,\n",
    "#     'scale_pos_weight': 99.7\n",
    "#     #'scale_pos_weight': 400\n",
    "# }"
   ]
  },
  {
   "cell_type": "code",
   "execution_count": 10,
   "metadata": {},
   "outputs": [
    {
     "name": "stdout",
     "output_type": "stream",
     "text": [
      "['next_click', 'ip_app_count', 'os', 'channel', 'ip_app_os_count', 'app_channel_count', 'ip_count', 'ip', 'device', 'hour', 'ip_day_hour_minute_count', 'ip_day_hour_count', 'os_app_channel_count', 'day', 'app', 'ip_device_count']\n",
      "preparing validation datasets\n"
     ]
    },
    {
     "data": {
      "text/plain": [
       "25"
      ]
     },
     "execution_count": 10,
     "metadata": {},
     "output_type": "execute_result"
    }
   ],
   "source": [
    "target = \"is_attributed\"\n",
    "categorical = ['ip','app','os','channel','device']\n",
    "predictors = list(set(train_df.columns)-set([target])-set(['click_time','category','epochtime','minute']))\n",
    "print(predictors)\n",
    "\n",
    "print(\"preparing validation datasets\")\n",
    "\n",
    "xgtrain = lgb.Dataset(train_df[predictors].values,\n",
    "                      label=y_train,\n",
    "                      feature_name=predictors,\n",
    "                      categorical_feature=categorical\n",
    "                      )\n",
    "\n",
    "del train_df\n",
    "del y_train\n",
    "gc.collect()\n",
    "\n",
    "xgvalid = lgb.Dataset(val_df[predictors].values,\n",
    "                      label=y_val,\n",
    "                      feature_name=predictors,\n",
    "                      categorical_feature=categorical\n",
    "                      )\n",
    "\n",
    "del val_df\n",
    "del y_val\n",
    "gc.collect()"
   ]
  },
  {
   "cell_type": "code",
   "execution_count": 11,
   "metadata": {
    "scrolled": false
   },
   "outputs": [
    {
     "name": "stderr",
     "output_type": "stream",
     "text": [
      "/home/um003580/.pyenv/versions/anaconda3-5.1.0/lib/python3.6/site-packages/lightgbm/basic.py:1036: UserWarning: Using categorical_feature in Dataset.\n",
      "  warnings.warn('Using categorical_feature in Dataset.')\n",
      "/home/um003580/.pyenv/versions/anaconda3-5.1.0/lib/python3.6/site-packages/lightgbm/basic.py:681: UserWarning: categorical_feature in param dict is overrided.\n",
      "  warnings.warn('categorical_feature in param dict is overrided.')\n"
     ]
    },
    {
     "name": "stdout",
     "output_type": "stream",
     "text": [
      "[1]\tvalid's auc: 0.913894\n",
      "Training until validation scores don't improve for 30 rounds.\n",
      "[2]\tvalid's auc: 0.912829\n",
      "[3]\tvalid's auc: 0.912059\n",
      "[4]\tvalid's auc: 0.914058\n",
      "[5]\tvalid's auc: 0.914158\n",
      "[6]\tvalid's auc: 0.914568\n",
      "[7]\tvalid's auc: 0.916125\n",
      "[8]\tvalid's auc: 0.916275\n",
      "[9]\tvalid's auc: 0.923077\n",
      "[10]\tvalid's auc: 0.925529\n",
      "[11]\tvalid's auc: 0.926111\n",
      "[12]\tvalid's auc: 0.930752\n",
      "[13]\tvalid's auc: 0.929595\n",
      "[14]\tvalid's auc: 0.930531\n",
      "[15]\tvalid's auc: 0.928594\n",
      "[16]\tvalid's auc: 0.930121\n",
      "[17]\tvalid's auc: 0.932241\n",
      "[18]\tvalid's auc: 0.93327\n",
      "[19]\tvalid's auc: 0.934143\n",
      "[20]\tvalid's auc: 0.937136\n",
      "[21]\tvalid's auc: 0.937717\n",
      "[22]\tvalid's auc: 0.938279\n",
      "[23]\tvalid's auc: 0.938796\n",
      "[24]\tvalid's auc: 0.939369\n",
      "[25]\tvalid's auc: 0.939315\n",
      "[26]\tvalid's auc: 0.939499\n",
      "[27]\tvalid's auc: 0.942626\n",
      "[28]\tvalid's auc: 0.943621\n",
      "[29]\tvalid's auc: 0.944067\n",
      "[30]\tvalid's auc: 0.944418\n",
      "[31]\tvalid's auc: 0.945442\n",
      "[32]\tvalid's auc: 0.94653\n",
      "[33]\tvalid's auc: 0.946411\n",
      "[34]\tvalid's auc: 0.946504\n",
      "[35]\tvalid's auc: 0.947074\n",
      "[36]\tvalid's auc: 0.947538\n",
      "[37]\tvalid's auc: 0.948074\n",
      "[38]\tvalid's auc: 0.949249\n",
      "[39]\tvalid's auc: 0.949422\n",
      "[40]\tvalid's auc: 0.950529\n",
      "[41]\tvalid's auc: 0.95131\n",
      "[42]\tvalid's auc: 0.951543\n",
      "[43]\tvalid's auc: 0.951725\n",
      "[44]\tvalid's auc: 0.952533\n",
      "[45]\tvalid's auc: 0.952465\n",
      "[46]\tvalid's auc: 0.952725\n",
      "[47]\tvalid's auc: 0.953515\n",
      "[48]\tvalid's auc: 0.953142\n",
      "[49]\tvalid's auc: 0.953568\n",
      "[50]\tvalid's auc: 0.95383\n",
      "[51]\tvalid's auc: 0.953572\n",
      "[52]\tvalid's auc: 0.953778\n",
      "[53]\tvalid's auc: 0.954543\n",
      "[54]\tvalid's auc: 0.954937\n",
      "[55]\tvalid's auc: 0.954832\n",
      "[56]\tvalid's auc: 0.954941\n",
      "[57]\tvalid's auc: 0.954946\n",
      "[58]\tvalid's auc: 0.95508\n",
      "[59]\tvalid's auc: 0.955562\n",
      "[60]\tvalid's auc: 0.955273\n",
      "[61]\tvalid's auc: 0.955712\n",
      "[62]\tvalid's auc: 0.955725\n",
      "[63]\tvalid's auc: 0.956052\n",
      "[64]\tvalid's auc: 0.956377\n",
      "[65]\tvalid's auc: 0.956283\n",
      "[66]\tvalid's auc: 0.956281\n",
      "[67]\tvalid's auc: 0.956383\n",
      "[68]\tvalid's auc: 0.956569\n",
      "[69]\tvalid's auc: 0.956439\n",
      "[70]\tvalid's auc: 0.956532\n",
      "[71]\tvalid's auc: 0.956816\n",
      "[72]\tvalid's auc: 0.956855\n",
      "[73]\tvalid's auc: 0.957068\n",
      "[74]\tvalid's auc: 0.957122\n",
      "[75]\tvalid's auc: 0.957106\n",
      "[76]\tvalid's auc: 0.957158\n",
      "[77]\tvalid's auc: 0.956978\n",
      "[78]\tvalid's auc: 0.957149\n",
      "[79]\tvalid's auc: 0.957126\n",
      "[80]\tvalid's auc: 0.957028\n",
      "[81]\tvalid's auc: 0.957204\n",
      "[82]\tvalid's auc: 0.957448\n",
      "[83]\tvalid's auc: 0.957391\n",
      "[84]\tvalid's auc: 0.9576\n",
      "[85]\tvalid's auc: 0.957507\n",
      "[86]\tvalid's auc: 0.957819\n",
      "[87]\tvalid's auc: 0.95778\n",
      "[88]\tvalid's auc: 0.95776\n",
      "[89]\tvalid's auc: 0.957741\n",
      "[90]\tvalid's auc: 0.957871\n",
      "[91]\tvalid's auc: 0.957858\n",
      "[92]\tvalid's auc: 0.957842\n",
      "[93]\tvalid's auc: 0.957851\n",
      "[94]\tvalid's auc: 0.957823\n",
      "[95]\tvalid's auc: 0.957838\n",
      "[96]\tvalid's auc: 0.957876\n",
      "[97]\tvalid's auc: 0.957914\n",
      "[98]\tvalid's auc: 0.957919\n",
      "[99]\tvalid's auc: 0.957767\n",
      "[100]\tvalid's auc: 0.957885\n",
      "[101]\tvalid's auc: 0.957846\n",
      "[102]\tvalid's auc: 0.957917\n",
      "[103]\tvalid's auc: 0.957967\n",
      "[104]\tvalid's auc: 0.958038\n",
      "[105]\tvalid's auc: 0.958041\n",
      "[106]\tvalid's auc: 0.958159\n",
      "[107]\tvalid's auc: 0.958276\n",
      "[108]\tvalid's auc: 0.95831\n",
      "[109]\tvalid's auc: 0.958305\n",
      "[110]\tvalid's auc: 0.958373\n",
      "[111]\tvalid's auc: 0.958388\n",
      "[112]\tvalid's auc: 0.958374\n",
      "[113]\tvalid's auc: 0.958369\n",
      "[114]\tvalid's auc: 0.958337\n",
      "[115]\tvalid's auc: 0.958272\n",
      "[116]\tvalid's auc: 0.958533\n",
      "[117]\tvalid's auc: 0.958564\n",
      "[118]\tvalid's auc: 0.958555\n",
      "[119]\tvalid's auc: 0.95854\n",
      "[120]\tvalid's auc: 0.958512\n",
      "[121]\tvalid's auc: 0.958501\n",
      "[122]\tvalid's auc: 0.95849\n",
      "[123]\tvalid's auc: 0.958484\n",
      "[124]\tvalid's auc: 0.958505\n",
      "[125]\tvalid's auc: 0.958502\n",
      "[126]\tvalid's auc: 0.95861\n",
      "[127]\tvalid's auc: 0.958601\n",
      "[128]\tvalid's auc: 0.958644\n",
      "[129]\tvalid's auc: 0.958673\n",
      "[130]\tvalid's auc: 0.958919\n",
      "[131]\tvalid's auc: 0.958999\n",
      "[132]\tvalid's auc: 0.958964\n",
      "[133]\tvalid's auc: 0.958954\n",
      "[134]\tvalid's auc: 0.95895\n",
      "[135]\tvalid's auc: 0.958773\n",
      "[136]\tvalid's auc: 0.958823\n",
      "[137]\tvalid's auc: 0.958823\n",
      "[138]\tvalid's auc: 0.958795\n",
      "[139]\tvalid's auc: 0.958751\n",
      "[140]\tvalid's auc: 0.95876\n",
      "[141]\tvalid's auc: 0.958809\n",
      "[142]\tvalid's auc: 0.95881\n",
      "[143]\tvalid's auc: 0.958907\n",
      "[144]\tvalid's auc: 0.958936\n",
      "[145]\tvalid's auc: 0.959097\n",
      "[146]\tvalid's auc: 0.959076\n",
      "[147]\tvalid's auc: 0.958873\n",
      "[148]\tvalid's auc: 0.958884\n",
      "[149]\tvalid's auc: 0.958879\n",
      "[150]\tvalid's auc: 0.958939\n",
      "[151]\tvalid's auc: 0.958948\n",
      "[152]\tvalid's auc: 0.959068\n",
      "[153]\tvalid's auc: 0.958905\n",
      "[154]\tvalid's auc: 0.958877\n",
      "[155]\tvalid's auc: 0.959076\n",
      "[156]\tvalid's auc: 0.959138\n",
      "[157]\tvalid's auc: 0.959326\n",
      "[158]\tvalid's auc: 0.959316\n",
      "[159]\tvalid's auc: 0.959328\n",
      "[160]\tvalid's auc: 0.959322\n",
      "[161]\tvalid's auc: 0.95931\n",
      "[162]\tvalid's auc: 0.959299\n",
      "[163]\tvalid's auc: 0.959423\n",
      "[164]\tvalid's auc: 0.95944\n",
      "[165]\tvalid's auc: 0.959465\n",
      "[166]\tvalid's auc: 0.959301\n",
      "[167]\tvalid's auc: 0.959356\n",
      "[168]\tvalid's auc: 0.959386\n",
      "[169]\tvalid's auc: 0.959335\n",
      "[170]\tvalid's auc: 0.959302\n",
      "[171]\tvalid's auc: 0.95948\n",
      "[172]\tvalid's auc: 0.959441\n",
      "[173]\tvalid's auc: 0.959433\n",
      "[174]\tvalid's auc: 0.959421\n",
      "[175]\tvalid's auc: 0.959488\n",
      "[176]\tvalid's auc: 0.959456\n",
      "[177]\tvalid's auc: 0.959431\n",
      "[178]\tvalid's auc: 0.95965\n",
      "[179]\tvalid's auc: 0.959601\n",
      "[180]\tvalid's auc: 0.959603\n",
      "[181]\tvalid's auc: 0.959608\n",
      "[182]\tvalid's auc: 0.959611\n",
      "[183]\tvalid's auc: 0.959634\n",
      "[184]\tvalid's auc: 0.959636\n",
      "[185]\tvalid's auc: 0.959788\n",
      "[186]\tvalid's auc: 0.959746\n",
      "[187]\tvalid's auc: 0.959741\n",
      "[188]\tvalid's auc: 0.959747\n",
      "[189]\tvalid's auc: 0.959735\n",
      "[190]\tvalid's auc: 0.95971\n",
      "[191]\tvalid's auc: 0.959722\n",
      "[192]\tvalid's auc: 0.959861\n",
      "[193]\tvalid's auc: 0.959829\n",
      "[194]\tvalid's auc: 0.959835\n",
      "[195]\tvalid's auc: 0.959815\n",
      "[196]\tvalid's auc: 0.95983\n",
      "[197]\tvalid's auc: 0.95982\n",
      "[198]\tvalid's auc: 0.959829\n",
      "[199]\tvalid's auc: 0.959971\n",
      "[200]\tvalid's auc: 0.959866\n",
      "[201]\tvalid's auc: 0.959848\n",
      "[202]\tvalid's auc: 0.959839\n",
      "[203]\tvalid's auc: 0.959821\n",
      "[204]\tvalid's auc: 0.959826\n",
      "[205]\tvalid's auc: 0.960032\n",
      "[206]\tvalid's auc: 0.960041\n",
      "[207]\tvalid's auc: 0.960038\n",
      "[208]\tvalid's auc: 0.959934\n",
      "[209]\tvalid's auc: 0.95995\n",
      "[210]\tvalid's auc: 0.959912\n",
      "[211]\tvalid's auc: 0.959953\n",
      "[212]\tvalid's auc: 0.959973\n",
      "[213]\tvalid's auc: 0.959942\n",
      "[214]\tvalid's auc: 0.959938\n",
      "[215]\tvalid's auc: 0.960132\n",
      "[216]\tvalid's auc: 0.960154\n",
      "[217]\tvalid's auc: 0.960147\n",
      "[218]\tvalid's auc: 0.960194\n",
      "[219]\tvalid's auc: 0.960162\n",
      "[220]\tvalid's auc: 0.960184\n",
      "[221]\tvalid's auc: 0.960252\n",
      "[222]\tvalid's auc: 0.960235\n",
      "[223]\tvalid's auc: 0.96029\n",
      "[224]\tvalid's auc: 0.960282\n",
      "[225]\tvalid's auc: 0.96029\n",
      "[226]\tvalid's auc: 0.96029\n",
      "[227]\tvalid's auc: 0.960327\n",
      "[228]\tvalid's auc: 0.960323\n",
      "[229]\tvalid's auc: 0.960314\n",
      "[230]\tvalid's auc: 0.960293\n",
      "[231]\tvalid's auc: 0.960276\n",
      "[232]\tvalid's auc: 0.960344\n",
      "[233]\tvalid's auc: 0.960352\n",
      "[234]\tvalid's auc: 0.960337\n",
      "[235]\tvalid's auc: 0.960472\n",
      "[236]\tvalid's auc: 0.960451\n",
      "[237]\tvalid's auc: 0.96045\n",
      "[238]\tvalid's auc: 0.96043\n",
      "[239]\tvalid's auc: 0.960416\n",
      "[240]\tvalid's auc: 0.960407\n",
      "[241]\tvalid's auc: 0.960379\n",
      "[242]\tvalid's auc: 0.96037\n",
      "[243]\tvalid's auc: 0.960354\n",
      "[244]\tvalid's auc: 0.960349\n",
      "[245]\tvalid's auc: 0.960365\n",
      "[246]\tvalid's auc: 0.960374\n",
      "[247]\tvalid's auc: 0.960383\n",
      "[248]\tvalid's auc: 0.960511\n",
      "[249]\tvalid's auc: 0.960486\n",
      "[250]\tvalid's auc: 0.96048\n",
      "Did not meet early stopping. Best iteration is:\n",
      "[248]\tvalid's auc: 0.960511\n"
     ]
    },
    {
     "data": {
      "text/plain": [
       "41"
      ]
     },
     "execution_count": 11,
     "metadata": {},
     "output_type": "execute_result"
    }
   ],
   "source": [
    "booster = lgb.train(\n",
    "     lgb_params, \n",
    "     xgtrain,\n",
    "     valid_sets=[xgvalid],\n",
    "     valid_names=['valid'],\n",
    "     evals_result=evals_results, \n",
    "     num_boost_round=num_boost_round,\n",
    "     early_stopping_rounds=early_stopping_rounds,\n",
    "     verbose_eval=1\n",
    ")\n",
    "\n",
    "# n_estimators = model.best_iteration\n",
    "\n",
    "# print('\\nModel Info:')\n",
    "# print('n_estimators:', n_estimators)\n",
    "# print(metrics+':', evals_results['valid'][metrics][n_estimators-1])\n",
    "\n",
    "del xgvalid\n",
    "del xgtrain\n",
    "gc.collect()"
   ]
  },
  {
   "cell_type": "markdown",
   "metadata": {},
   "source": [
    "[250]\tvalid's auc: 0.96048\n",
    "Did not meet early stopping. Best iteration is:\n",
    "[248]\tvalid's auc: 0.960511"
   ]
  },
  {
   "cell_type": "code",
   "execution_count": 15,
   "metadata": {},
   "outputs": [
    {
     "data": {
      "image/png": "[encoded data removed]",
      "text/plain": [
       "<matplotlib.figure.Figure at 0x7ff9d3f22e80>"
      ]
     },
     "metadata": {},
     "output_type": "display_data"
    }
   ],
   "source": [
    "import matplotlib.pyplot as plt\n",
    "ax = lgb.plot_importance(booster, max_num_features=100)\n",
    "# plt.savefig('04291-2imp.png', dpi=600, bbox_inches='tight')\n",
    "plt.show()"
   ]
  },
  {
   "cell_type": "code",
   "execution_count": 13,
   "metadata": {},
   "outputs": [],
   "source": [
    "preditions=booster.predict(test_df[predictors].values)"
   ]
  },
  {
   "cell_type": "code",
   "execution_count": 14,
   "metadata": {},
   "outputs": [],
   "source": [
    "sub['is_attributed']  = preditions\n",
    "\n",
    "sub.to_csv('04291-2sub.csv', float_format='%.8f', index=False)"
   ]
  },
  {
   "cell_type": "code",
   "execution_count": null,
   "metadata": {},
   "outputs": [],
   "source": []
  },
  {
   "cell_type": "code",
   "execution_count": null,
   "metadata": {},
   "outputs": [],
   "source": []
  },
  {
   "cell_type": "code",
   "execution_count": null,
   "metadata": {},
   "outputs": [],
   "source": []
  },
  {
   "cell_type": "code",
   "execution_count": null,
   "metadata": {},
   "outputs": [],
   "source": []
  }
 ],
 "metadata": {
  "kernelspec": {
   "display_name": "Python 3",
   "language": "python",
   "name": "python3"
  },
  "language_info": {
   "codemirror_mode": {
    "name": "ipython",
    "version": 3
   },
   "file_extension": ".py",
   "mimetype": "text/x-python",
   "name": "python",
   "nbconvert_exporter": "python",
   "pygments_lexer": "ipython3",
   "version": "3.6.4"
  }
 },
 "nbformat": 4,
 "nbformat_minor": 2
}
