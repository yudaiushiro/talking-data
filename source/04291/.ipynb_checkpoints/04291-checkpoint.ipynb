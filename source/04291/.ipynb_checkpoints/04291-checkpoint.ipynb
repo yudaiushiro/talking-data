{
 "cells": [
  {
   "cell_type": "markdown",
   "metadata": {},
   "source": [
    "validation20%, suffle=no, second追加, ipをカテゴリカル変数に追加  \n",
    "採用：validation20%, suffle=no, ipをカテゴリカル変数に追加  \n",
    "不採用：second"
   ]
  },
  {
   "cell_type": "code",
   "execution_count": 16,
   "metadata": {},
   "outputs": [],
   "source": [
    "import pandas as pd\n",
    "import time\n",
    "import numpy as np\n",
    "from sklearn.model_selection import train_test_split\n",
    "import lightgbm as lgb\n",
    "import gc\n",
    "from contextlib import contextmanager"
   ]
  },
  {
   "cell_type": "code",
   "execution_count": 17,
   "metadata": {},
   "outputs": [],
   "source": [
    "@contextmanager\n",
    "def timer(name):\n",
    "    t0 = time.time()\n",
    "    yield\n",
    "    print(f'[{name}] done in {time.time() - t0:.0f} s')\n",
    "    \n",
    "def df_add_counts(df, cols):\n",
    "    arr_slice = df[cols].values\n",
    "    unq, unqtags, counts = np.unique(np.ravel_multi_index(arr_slice.T, arr_slice.max(axis=0) + 1),\n",
    "                                     return_inverse=True, return_counts=True)\n",
    "    df[\"_\".join(cols)+'_count'] = counts[unqtags]\n",
    "    \n",
    "def make_count_features(df):\n",
    "    with timer(\"add count features\"):\n",
    "        df['click_time']= pd.to_datetime(df['click_time'])\n",
    "        dt= df['click_time'].dt\n",
    "        df['day'] = dt.day.astype('uint8')\n",
    "        df['hour'] = dt.hour.astype('uint8')\n",
    "        df['minute'] = dt.minute.astype('uint8')\n",
    "        df['second'] = dt.second.astype('uint8')#secondを追加\n",
    "\n",
    "        del(dt)\n",
    "        \n",
    "        df_add_counts(df, ['ip'])\n",
    "        df_add_counts(df, ['ip','day','hour','minute'])\n",
    "        df_add_counts(df, ['os','device'])\n",
    "        df_add_counts(df, ['os','app','channel'])\n",
    "        \n",
    "        df_add_counts(df, ['ip', 'day', 'hour'])\n",
    "        df_add_counts(df, ['ip', 'app'])\n",
    "        df_add_counts(df, ['ip', 'app', 'os'])\n",
    "        df_add_counts(df, ['ip', 'device'])\n",
    "        df_add_counts(df, ['app', 'channel'])\n",
    "\n",
    "def make_next_click_feature(df):\n",
    "    with timer(\"Adding next click times\"):\n",
    "        D= 2**26\n",
    "        df['category'] = (df['ip'].astype(str) + \"_\" + df['app'].astype(str) + \"_\" + df['device'].astype(str) \\\n",
    "                         + \"_\" + df['os'].astype(str)).apply(hash) % D\n",
    "        click_buffer= np.full(D, 3000000000, dtype=np.uint32)\n",
    "        df['epochtime']= df['click_time'].astype(np.int64) // 10 ** 9\n",
    "        next_clicks= []\n",
    "        for category, time in zip(reversed(df['category'].values), reversed(df['epochtime'].values)):\n",
    "            next_clicks.append(click_buffer[category]-time)\n",
    "            click_buffer[category]= time\n",
    "        del(click_buffer)\n",
    "        df['next_click']= list(reversed(next_clicks))\n",
    "        \n",
    "path = '~/talkingdata/input/'\n",
    "\n",
    "dtypes = {\n",
    "        'ip'            : 'uint32',\n",
    "        'app'           : 'uint16',\n",
    "        'device'        : 'uint16',\n",
    "        'os'            : 'uint16',\n",
    "        'channel'       : 'uint16',\n",
    "        'is_attributed' : 'uint8',\n",
    "        'click_id'      : 'uint32'\n",
    "        }"
   ]
  },
  {
   "cell_type": "code",
   "execution_count": 18,
   "metadata": {},
   "outputs": [
    {
     "name": "stdout",
     "output_type": "stream",
     "text": [
      "[load training data] done in 140 s\n",
      "[load test data] done in 15 s\n"
     ]
    }
   ],
   "source": [
    "with timer(\"load training data\"):\n",
    "#     lines = 184903891\n",
    "#     skiplines = np.random.choice(np.arange(1, lines), size=lines-1-20000000, replace=False)\n",
    "#     skiplines=np.sort(skiplines)\n",
    "#     train_df = pd.read_csv(path+\"train.csv\", skiprows=skiplines, nrows=20000000, usecols=['ip','app','device','os', 'channel', 'click_time', 'is_attributed'], dtype=dtypes)\n",
    "    train_df = pd.read_csv(path+\"train.csv\", skiprows=range(1,140703891), nrows=44200000, usecols=['ip','app','device','os', 'channel', 'click_time', 'is_attributed'], dtype=dtypes)\n",
    "\n",
    "\n",
    "with timer(\"load test data\"):\n",
    "    test_df = pd.read_csv(path+\"test.csv\", dtype=dtypes, usecols=['ip','app','device','os', 'channel', 'click_time', 'click_id'])"
   ]
  },
  {
   "cell_type": "code",
   "execution_count": 19,
   "metadata": {},
   "outputs": [
    {
     "name": "stdout",
     "output_type": "stream",
     "text": [
      "36085903\n",
      "126411\n"
     ]
    }
   ],
   "source": [
    "test_ip_max = test_df.ip.max()\n",
    "train_df = train_df[train_df.ip <= test_ip_max]\n",
    "print(len(train_df.index))\n",
    "print(train_df.ip.max())"
   ]
  },
  {
   "cell_type": "code",
   "execution_count": 20,
   "metadata": {},
   "outputs": [
    {
     "data": {
      "text/plain": [
       "4951"
      ]
     },
     "execution_count": 20,
     "metadata": {},
     "output_type": "execute_result"
    }
   ],
   "source": [
    "num_train = train_df.shape[0]\n",
    "y = train_df.is_attributed.values\n",
    "\n",
    "sub = pd.DataFrame()\n",
    "sub['click_id'] = test_df.click_id.values\n",
    "\n",
    "common_column = ['ip','app','device','os','channel','click_time']\n",
    "concat_df = pd.concat([train_df[common_column],test_df[common_column]])\n",
    "\n",
    "del train_df, test_df\n",
    "gc.collect()"
   ]
  },
  {
   "cell_type": "code",
   "execution_count": 21,
   "metadata": {},
   "outputs": [
    {
     "name": "stdout",
     "output_type": "stream",
     "text": [
      "[add count features] done in 345 s\n",
      "[Adding next click times] done in 420 s\n"
     ]
    },
    {
     "data": {
      "text/plain": [
       "112"
      ]
     },
     "execution_count": 21,
     "metadata": {},
     "output_type": "execute_result"
    }
   ],
   "source": [
    "make_count_features(concat_df)\n",
    "make_next_click_feature(concat_df)\n",
    "\n",
    "gc.collect()"
   ]
  },
  {
   "cell_type": "code",
   "execution_count": 22,
   "metadata": {},
   "outputs": [],
   "source": [
    "train_df = concat_df.iloc[:num_train]\n",
    "test_df = concat_df.iloc[num_train:]\n",
    "del concat_df"
   ]
  },
  {
   "cell_type": "code",
   "execution_count": 23,
   "metadata": {},
   "outputs": [
    {
     "name": "stderr",
     "output_type": "stream",
     "text": [
      "/home/um003580/.pyenv/versions/anaconda3-5.1.0/lib/python3.6/site-packages/sklearn/model_selection/_split.py:2026: FutureWarning: From version 0.21, test_size will always complement train_size unless both are specified.\n",
      "  FutureWarning)\n"
     ]
    }
   ],
   "source": [
    "train_df, val_df, y_train, y_val = train_test_split(train_df, y, train_size=0.8, shuffle=False)#trainを0.8、シャッフルfalseにした\n",
    "\n",
    "evals_results = {}\n",
    "num_boost_round = 250\n",
    "early_stopping_rounds = 30"
   ]
  },
  {
   "cell_type": "code",
   "execution_count": 24,
   "metadata": {},
   "outputs": [],
   "source": [
    "lgb_params = {\n",
    "    'boosting_type': 'gbdt',\n",
    "    'objective': 'binary',\n",
    "    'subsample_for_bin': 200000,  # Number of samples for constructing bin\n",
    "    'min_split_gain': 0,  # lambda_l1, lambda_l2 and min_gain_to_split to regularization\n",
    "    'reg_alpha': 0,  # L1 regularization term on weights\n",
    "    'reg_lambda': 0,  # L2 regularization term on weights\n",
    "    'nthread': 4,\n",
    "    'verbose': 0,\n",
    "    'metric':'auc',     \n",
    " \n",
    "    'learning_rate': 0.15,\n",
    "    'num_leaves': 7,  # 2^max_depth - 1\n",
    "    'max_depth': 3,  # -1 means no limit\n",
    "    'min_child_samples': 100,  # Minimum number of data need in a child(min_data_in_leaf)\n",
    "    'max_bin': 100,  # Number of bucketed bin for feature values\n",
    "    'subsample': 0.7,  # Subsample ratio of the training instance.\n",
    "    'subsample_freq': 1,  # frequence of subsample, <=0 means no enable\n",
    "    'colsample_bytree': 0.9,  # Subsample ratio of columns when constructing each tree.\n",
    "    'min_child_weight': 0,  # Minimum sum of instance weight(hessian) needed in a child(leaf)\n",
    "    'scale_pos_weight':99\n",
    "}\n",
    "# metrics = 'auc'\n",
    "# lgb_params = {\n",
    "#     'boosting_type': 'gbdt',\n",
    "#     'objective': 'binary',\n",
    "#     'metric': metrics,\n",
    "#     'learning_rate': .1,\n",
    "#     'num_leaves': 7,\n",
    "#     'max_depth': 4,\n",
    "#     'min_child_samples': 100,\n",
    "#     'max_bin': 100,\n",
    "#     'subsample': 0.7,\n",
    "#     'subsample_freq': 1,\n",
    "#     'colsample_bytree': 0.7,\n",
    "#     'min_child_weight': 0,\n",
    "#     'min_split_gain': 0,\n",
    "#     'nthread': 4,\n",
    "#     'verbose': 1,\n",
    "#     'scale_pos_weight': 99.7\n",
    "#     #'scale_pos_weight': 400\n",
    "# }"
   ]
  },
  {
   "cell_type": "code",
   "execution_count": 25,
   "metadata": {},
   "outputs": [
    {
     "name": "stdout",
     "output_type": "stream",
     "text": [
      "['minute', 'os_device_count', 'ip', 'os', 'hour', 'second', 'next_click', 'ip_app_os_count', 'device', 'day', 'ip_count', 'ip_day_hour_minute_count', 'ip_day_hour_count', 'ip_app_count', 'ip_device_count', 'app_channel_count', 'app', 'os_app_channel_count', 'channel']\n",
      "preparing validation datasets\n"
     ]
    },
    {
     "data": {
      "text/plain": [
       "25"
      ]
     },
     "execution_count": 25,
     "metadata": {},
     "output_type": "execute_result"
    }
   ],
   "source": [
    "target = \"is_attributed\"\n",
    "categorical = ['ip','app','os','channel','device']\n",
    "predictors = list(set(train_df.columns)-set([target])-set(['click_time','category','epochtime']))\n",
    "print(predictors)\n",
    "\n",
    "print(\"preparing validation datasets\")\n",
    "\n",
    "xgtrain = lgb.Dataset(train_df[predictors].values,\n",
    "                      label=y_train,\n",
    "                      feature_name=predictors,\n",
    "                      categorical_feature=categorical\n",
    "                      )\n",
    "\n",
    "del train_df\n",
    "del y_train\n",
    "gc.collect()\n",
    "\n",
    "xgvalid = lgb.Dataset(val_df[predictors].values,\n",
    "                      label=y_val,\n",
    "                      feature_name=predictors,\n",
    "                      categorical_feature=categorical\n",
    "                      )\n",
    "\n",
    "del val_df\n",
    "del y_val\n",
    "gc.collect()"
   ]
  },
  {
   "cell_type": "code",
   "execution_count": 26,
   "metadata": {
    "scrolled": false
   },
   "outputs": [
    {
     "name": "stderr",
     "output_type": "stream",
     "text": [
      "/home/um003580/.pyenv/versions/anaconda3-5.1.0/lib/python3.6/site-packages/lightgbm/basic.py:1036: UserWarning: Using categorical_feature in Dataset.\n",
      "  warnings.warn('Using categorical_feature in Dataset.')\n",
      "/home/um003580/.pyenv/versions/anaconda3-5.1.0/lib/python3.6/site-packages/lightgbm/basic.py:681: UserWarning: categorical_feature in param dict is overrided.\n",
      "  warnings.warn('categorical_feature in param dict is overrided.')\n"
     ]
    },
    {
     "name": "stdout",
     "output_type": "stream",
     "text": [
      "[1]\tvalid's auc: 0.913895\n",
      "Training until validation scores don't improve for 30 rounds.\n",
      "[2]\tvalid's auc: 0.912428\n",
      "[3]\tvalid's auc: 0.912828\n",
      "[4]\tvalid's auc: 0.922009\n",
      "[5]\tvalid's auc: 0.922185\n",
      "[6]\tvalid's auc: 0.922376\n",
      "[7]\tvalid's auc: 0.923212\n",
      "[8]\tvalid's auc: 0.925138\n",
      "[9]\tvalid's auc: 0.925749\n",
      "[10]\tvalid's auc: 0.927276\n",
      "[11]\tvalid's auc: 0.927703\n",
      "[12]\tvalid's auc: 0.933007\n",
      "[13]\tvalid's auc: 0.932679\n",
      "[14]\tvalid's auc: 0.931784\n",
      "[15]\tvalid's auc: 0.934294\n",
      "[16]\tvalid's auc: 0.934429\n",
      "[17]\tvalid's auc: 0.93446\n",
      "[18]\tvalid's auc: 0.934962\n",
      "[19]\tvalid's auc: 0.935354\n",
      "[20]\tvalid's auc: 0.937251\n",
      "[21]\tvalid's auc: 0.938128\n",
      "[22]\tvalid's auc: 0.938367\n",
      "[23]\tvalid's auc: 0.938972\n",
      "[24]\tvalid's auc: 0.940172\n",
      "[25]\tvalid's auc: 0.940642\n",
      "[26]\tvalid's auc: 0.941469\n",
      "[27]\tvalid's auc: 0.943539\n",
      "[28]\tvalid's auc: 0.94408\n",
      "[29]\tvalid's auc: 0.945686\n",
      "[30]\tvalid's auc: 0.946042\n",
      "[31]\tvalid's auc: 0.94641\n",
      "[32]\tvalid's auc: 0.946913\n",
      "[33]\tvalid's auc: 0.947419\n",
      "[34]\tvalid's auc: 0.94802\n",
      "[35]\tvalid's auc: 0.949379\n",
      "[36]\tvalid's auc: 0.948799\n",
      "[37]\tvalid's auc: 0.949511\n",
      "[38]\tvalid's auc: 0.949927\n",
      "[39]\tvalid's auc: 0.950506\n",
      "[40]\tvalid's auc: 0.951272\n",
      "[41]\tvalid's auc: 0.951621\n",
      "[42]\tvalid's auc: 0.951832\n",
      "[43]\tvalid's auc: 0.952148\n",
      "[44]\tvalid's auc: 0.952399\n",
      "[45]\tvalid's auc: 0.952718\n",
      "[46]\tvalid's auc: 0.952515\n",
      "[47]\tvalid's auc: 0.952753\n",
      "[48]\tvalid's auc: 0.952899\n",
      "[49]\tvalid's auc: 0.953323\n",
      "[50]\tvalid's auc: 0.95404\n",
      "[51]\tvalid's auc: 0.953789\n",
      "[52]\tvalid's auc: 0.954052\n",
      "[53]\tvalid's auc: 0.954209\n",
      "[54]\tvalid's auc: 0.954362\n",
      "[55]\tvalid's auc: 0.954841\n",
      "[56]\tvalid's auc: 0.954638\n",
      "[57]\tvalid's auc: 0.954784\n",
      "[58]\tvalid's auc: 0.955143\n",
      "[59]\tvalid's auc: 0.955155\n",
      "[60]\tvalid's auc: 0.955505\n",
      "[61]\tvalid's auc: 0.955609\n",
      "[62]\tvalid's auc: 0.955773\n",
      "[63]\tvalid's auc: 0.956239\n",
      "[64]\tvalid's auc: 0.956015\n",
      "[65]\tvalid's auc: 0.956002\n",
      "[66]\tvalid's auc: 0.95623\n",
      "[67]\tvalid's auc: 0.956229\n",
      "[68]\tvalid's auc: 0.956667\n",
      "[69]\tvalid's auc: 0.956768\n",
      "[70]\tvalid's auc: 0.956926\n",
      "[71]\tvalid's auc: 0.956727\n",
      "[72]\tvalid's auc: 0.956798\n",
      "[73]\tvalid's auc: 0.957112\n",
      "[74]\tvalid's auc: 0.957286\n",
      "[75]\tvalid's auc: 0.957426\n",
      "[76]\tvalid's auc: 0.957521\n",
      "[77]\tvalid's auc: 0.957521\n",
      "[78]\tvalid's auc: 0.957487\n",
      "[79]\tvalid's auc: 0.957469\n",
      "[80]\tvalid's auc: 0.957692\n",
      "[81]\tvalid's auc: 0.957728\n",
      "[82]\tvalid's auc: 0.958018\n",
      "[83]\tvalid's auc: 0.958083\n",
      "[84]\tvalid's auc: 0.958122\n",
      "[85]\tvalid's auc: 0.958077\n",
      "[86]\tvalid's auc: 0.958204\n",
      "[87]\tvalid's auc: 0.957978\n",
      "[88]\tvalid's auc: 0.958081\n",
      "[89]\tvalid's auc: 0.958089\n",
      "[90]\tvalid's auc: 0.958192\n",
      "[91]\tvalid's auc: 0.958185\n",
      "[92]\tvalid's auc: 0.958296\n",
      "[93]\tvalid's auc: 0.958352\n",
      "[94]\tvalid's auc: 0.95834\n",
      "[95]\tvalid's auc: 0.958483\n",
      "[96]\tvalid's auc: 0.958518\n",
      "[97]\tvalid's auc: 0.958567\n",
      "[98]\tvalid's auc: 0.958658\n",
      "[99]\tvalid's auc: 0.958687\n",
      "[100]\tvalid's auc: 0.958675\n",
      "[101]\tvalid's auc: 0.958679\n",
      "[102]\tvalid's auc: 0.958671\n",
      "[103]\tvalid's auc: 0.958652\n",
      "[104]\tvalid's auc: 0.958662\n",
      "[105]\tvalid's auc: 0.958683\n",
      "[106]\tvalid's auc: 0.958477\n",
      "[107]\tvalid's auc: 0.958693\n",
      "[108]\tvalid's auc: 0.958648\n",
      "[109]\tvalid's auc: 0.958625\n",
      "[110]\tvalid's auc: 0.95859\n",
      "[111]\tvalid's auc: 0.958565\n",
      "[112]\tvalid's auc: 0.958709\n",
      "[113]\tvalid's auc: 0.958699\n",
      "[114]\tvalid's auc: 0.95877\n",
      "[115]\tvalid's auc: 0.958793\n",
      "[116]\tvalid's auc: 0.958785\n",
      "[117]\tvalid's auc: 0.958774\n",
      "[118]\tvalid's auc: 0.958872\n",
      "[119]\tvalid's auc: 0.958962\n",
      "[120]\tvalid's auc: 0.958951\n",
      "[121]\tvalid's auc: 0.958946\n",
      "[122]\tvalid's auc: 0.958914\n",
      "[123]\tvalid's auc: 0.958759\n",
      "[124]\tvalid's auc: 0.958741\n",
      "[125]\tvalid's auc: 0.958747\n",
      "[126]\tvalid's auc: 0.958843\n",
      "[127]\tvalid's auc: 0.958817\n",
      "[128]\tvalid's auc: 0.959016\n",
      "[129]\tvalid's auc: 0.959034\n",
      "[130]\tvalid's auc: 0.959099\n",
      "[131]\tvalid's auc: 0.95911\n",
      "[132]\tvalid's auc: 0.959129\n",
      "[133]\tvalid's auc: 0.959099\n",
      "[134]\tvalid's auc: 0.959107\n",
      "[135]\tvalid's auc: 0.959077\n",
      "[136]\tvalid's auc: 0.959049\n",
      "[137]\tvalid's auc: 0.959056\n",
      "[138]\tvalid's auc: 0.959094\n",
      "[139]\tvalid's auc: 0.959082\n",
      "[140]\tvalid's auc: 0.959078\n",
      "[141]\tvalid's auc: 0.959053\n",
      "[142]\tvalid's auc: 0.958966\n",
      "[143]\tvalid's auc: 0.958968\n",
      "[144]\tvalid's auc: 0.958975\n",
      "[145]\tvalid's auc: 0.959142\n",
      "[146]\tvalid's auc: 0.959243\n",
      "[147]\tvalid's auc: 0.959193\n",
      "[148]\tvalid's auc: 0.959189\n",
      "[149]\tvalid's auc: 0.959184\n",
      "[150]\tvalid's auc: 0.959189\n",
      "[151]\tvalid's auc: 0.959341\n",
      "[152]\tvalid's auc: 0.959419\n",
      "[153]\tvalid's auc: 0.959422\n",
      "[154]\tvalid's auc: 0.959413\n",
      "[155]\tvalid's auc: 0.959499\n",
      "[156]\tvalid's auc: 0.959559\n",
      "[157]\tvalid's auc: 0.959516\n",
      "[158]\tvalid's auc: 0.959531\n",
      "[159]\tvalid's auc: 0.959552\n",
      "[160]\tvalid's auc: 0.959547\n",
      "[161]\tvalid's auc: 0.959511\n",
      "[162]\tvalid's auc: 0.959486\n",
      "[163]\tvalid's auc: 0.959457\n",
      "[164]\tvalid's auc: 0.959615\n",
      "[165]\tvalid's auc: 0.959621\n",
      "[166]\tvalid's auc: 0.959736\n",
      "[167]\tvalid's auc: 0.959733\n",
      "[168]\tvalid's auc: 0.959849\n",
      "[169]\tvalid's auc: 0.959714\n",
      "[170]\tvalid's auc: 0.959689\n",
      "[171]\tvalid's auc: 0.95984\n",
      "[172]\tvalid's auc: 0.95977\n",
      "[173]\tvalid's auc: 0.959754\n",
      "[174]\tvalid's auc: 0.959738\n",
      "[175]\tvalid's auc: 0.959712\n",
      "[176]\tvalid's auc: 0.959718\n",
      "[177]\tvalid's auc: 0.959895\n",
      "[178]\tvalid's auc: 0.959875\n",
      "[179]\tvalid's auc: 0.959925\n",
      "[180]\tvalid's auc: 0.959921\n",
      "[181]\tvalid's auc: 0.959892\n",
      "[182]\tvalid's auc: 0.960038\n",
      "[183]\tvalid's auc: 0.960036\n",
      "[184]\tvalid's auc: 0.960048\n",
      "[185]\tvalid's auc: 0.960075\n",
      "[186]\tvalid's auc: 0.960045\n",
      "[187]\tvalid's auc: 0.960033\n",
      "[188]\tvalid's auc: 0.960029\n",
      "[189]\tvalid's auc: 0.959985\n",
      "[190]\tvalid's auc: 0.960032\n",
      "[191]\tvalid's auc: 0.960096\n",
      "[192]\tvalid's auc: 0.96022\n",
      "[193]\tvalid's auc: 0.960201\n",
      "[194]\tvalid's auc: 0.960188\n",
      "[195]\tvalid's auc: 0.960189\n",
      "[196]\tvalid's auc: 0.960248\n",
      "[197]\tvalid's auc: 0.960245\n",
      "[198]\tvalid's auc: 0.960243\n",
      "[199]\tvalid's auc: 0.960242\n",
      "[200]\tvalid's auc: 0.960219\n",
      "[201]\tvalid's auc: 0.960345\n",
      "[202]\tvalid's auc: 0.960335\n",
      "[203]\tvalid's auc: 0.960263\n",
      "[204]\tvalid's auc: 0.960265\n",
      "[205]\tvalid's auc: 0.960274\n",
      "[206]\tvalid's auc: 0.960263\n",
      "[207]\tvalid's auc: 0.960237\n",
      "[208]\tvalid's auc: 0.960122\n",
      "[209]\tvalid's auc: 0.960112\n",
      "[210]\tvalid's auc: 0.960103\n",
      "[211]\tvalid's auc: 0.960185\n",
      "[212]\tvalid's auc: 0.960204\n",
      "[213]\tvalid's auc: 0.960174\n",
      "[214]\tvalid's auc: 0.960161\n",
      "[215]\tvalid's auc: 0.960154\n",
      "[216]\tvalid's auc: 0.960151\n",
      "[217]\tvalid's auc: 0.9602\n",
      "[218]\tvalid's auc: 0.960291\n",
      "[219]\tvalid's auc: 0.960249\n",
      "[220]\tvalid's auc: 0.960243\n",
      "[221]\tvalid's auc: 0.960248\n",
      "[222]\tvalid's auc: 0.960228\n",
      "[223]\tvalid's auc: 0.960224\n",
      "[224]\tvalid's auc: 0.960208\n",
      "[225]\tvalid's auc: 0.960193\n",
      "[226]\tvalid's auc: 0.960302\n",
      "[227]\tvalid's auc: 0.960285\n",
      "[228]\tvalid's auc: 0.960254\n",
      "[229]\tvalid's auc: 0.960389\n",
      "[230]\tvalid's auc: 0.960461\n",
      "[231]\tvalid's auc: 0.960452\n",
      "[232]\tvalid's auc: 0.960442\n",
      "[233]\tvalid's auc: 0.960434\n",
      "[234]\tvalid's auc: 0.960418\n",
      "[235]\tvalid's auc: 0.960405\n",
      "[236]\tvalid's auc: 0.960408\n",
      "[237]\tvalid's auc: 0.960364\n",
      "[238]\tvalid's auc: 0.960358\n",
      "[239]\tvalid's auc: 0.960358\n",
      "[240]\tvalid's auc: 0.960321\n",
      "[241]\tvalid's auc: 0.960324\n",
      "[242]\tvalid's auc: 0.960315\n",
      "[243]\tvalid's auc: 0.960297\n",
      "[244]\tvalid's auc: 0.9603\n",
      "[245]\tvalid's auc: 0.960326\n",
      "[246]\tvalid's auc: 0.960333\n",
      "[247]\tvalid's auc: 0.960344\n",
      "[248]\tvalid's auc: 0.960339\n",
      "[249]\tvalid's auc: 0.960323\n",
      "[250]\tvalid's auc: 0.960298\n",
      "Did not meet early stopping. Best iteration is:\n",
      "[230]\tvalid's auc: 0.960461\n"
     ]
    },
    {
     "data": {
      "text/plain": [
       "41"
      ]
     },
     "execution_count": 26,
     "metadata": {},
     "output_type": "execute_result"
    }
   ],
   "source": [
    "booster = lgb.train(\n",
    "     lgb_params, \n",
    "     xgtrain,\n",
    "     valid_sets=[xgvalid],\n",
    "     valid_names=['valid'],\n",
    "     evals_result=evals_results, \n",
    "     num_boost_round=num_boost_round,\n",
    "     early_stopping_rounds=early_stopping_rounds,\n",
    "     verbose_eval=1\n",
    ")\n",
    "\n",
    "# n_estimators = model.best_iteration\n",
    "\n",
    "# print('\\nModel Info:')\n",
    "# print('n_estimators:', n_estimators)\n",
    "# print(metrics+':', evals_results['valid'][metrics][n_estimators-1])\n",
    "\n",
    "del xgvalid\n",
    "del xgtrain\n",
    "gc.collect()"
   ]
  },
  {
   "cell_type": "markdown",
   "metadata": {},
   "source": [
    "[250]\tvalid's auc: 0.960298\n",
    "Did not meet early stopping. Best iteration is:\n",
    "[230]\tvalid's auc: 0.960461"
   ]
  },
  {
   "cell_type": "code",
   "execution_count": 27,
   "metadata": {},
   "outputs": [
    {
     "data": {
      "image/png": "[encoded data removed]",
      "text/plain": [
       "<matplotlib.figure.Figure at 0x7f8825596b70>"
      ]
     },
     "metadata": {},
     "output_type": "display_data"
    }
   ],
   "source": [
    "import matplotlib.pyplot as plt\n",
    "ax = lgb.plot_importance(booster, max_num_features=100)\n",
    "plt.savefig('04291imp.png', dpi=600, bbox_inches='tight')\n",
    "plt.show()"
   ]
  },
  {
   "cell_type": "code",
   "execution_count": 28,
   "metadata": {},
   "outputs": [],
   "source": [
    "preditions=booster.predict(test_df[predictors].values)"
   ]
  },
  {
   "cell_type": "code",
   "execution_count": 29,
   "metadata": {},
   "outputs": [],
   "source": [
    "sub['is_attributed']  = preditions\n",
    "\n",
    "sub.to_csv('04291sub.csv', float_format='%.8f', index=False)"
   ]
  },
  {
   "cell_type": "code",
   "execution_count": null,
   "metadata": {},
   "outputs": [],
   "source": []
  },
  {
   "cell_type": "code",
   "execution_count": null,
   "metadata": {},
   "outputs": [],
   "source": []
  },
  {
   "cell_type": "code",
   "execution_count": null,
   "metadata": {},
   "outputs": [],
   "source": []
  },
  {
   "cell_type": "code",
   "execution_count": null,
   "metadata": {},
   "outputs": [],
   "source": []
  }
 ],
 "metadata": {
  "kernelspec": {
   "display_name": "Python 3",
   "language": "python",
   "name": "python3"
  },
  "language_info": {
   "codemirror_mode": {
    "name": "ipython",
    "version": 3
   },
   "file_extension": ".py",
   "mimetype": "text/x-python",
   "name": "python",
   "nbconvert_exporter": "python",
   "pygments_lexer": "ipython3",
   "version": "3.6.4"
  }
 },
 "nbformat": 4,
 "nbformat_minor": 2
}
