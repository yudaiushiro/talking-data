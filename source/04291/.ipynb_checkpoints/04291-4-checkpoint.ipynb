{
 "cells": [
  {
   "cell_type": "markdown",
   "metadata": {},
   "source": [
    "train data 80m  \n",
    "ip削除"
   ]
  },
  {
   "cell_type": "code",
   "execution_count": 1,
   "metadata": {},
   "outputs": [],
   "source": [
    "import pandas as pd\n",
    "import time\n",
    "import numpy as np\n",
    "from sklearn.model_selection import train_test_split\n",
    "import lightgbm as lgb\n",
    "import gc\n",
    "from contextlib import contextmanager"
   ]
  },
  {
   "cell_type": "code",
   "execution_count": 2,
   "metadata": {},
   "outputs": [],
   "source": [
    "@contextmanager\n",
    "def timer(name):\n",
    "    t0 = time.time()\n",
    "    yield\n",
    "    print(f'[{name}] done in {time.time() - t0:.0f} s')\n",
    "    \n",
    "def df_add_counts(df, cols):\n",
    "    arr_slice = df[cols].values\n",
    "    unq, unqtags, counts = np.unique(np.ravel_multi_index(arr_slice.T, arr_slice.max(axis=0) + 1),\n",
    "                                     return_inverse=True, return_counts=True)\n",
    "    df[\"_\".join(cols)+'_count'] = counts[unqtags]\n",
    "    \n",
    "def make_count_features(df):\n",
    "    with timer(\"add count features\"):\n",
    "        df['click_time']= pd.to_datetime(df['click_time'])\n",
    "        dt= df['click_time'].dt\n",
    "        df['day'] = dt.day.astype('uint8')\n",
    "        df['hour'] = dt.hour.astype('uint8')\n",
    "        df['minute'] = dt.minute.astype('uint8')\n",
    "#         df['second'] = dt.second.astype('uint8')#secondを追加\n",
    "\n",
    "        del(dt)\n",
    "        \n",
    "        df_add_counts(df, ['ip'])\n",
    "        df_add_counts(df, ['ip','day','hour','minute'])\n",
    "#         df_add_counts(df, ['os','device'])\n",
    "        df_add_counts(df, ['os','app','channel'])\n",
    "        \n",
    "        df_add_counts(df, ['ip', 'day', 'hour'])\n",
    "        df_add_counts(df, ['ip', 'app'])\n",
    "        df_add_counts(df, ['ip', 'app', 'os'])\n",
    "        df_add_counts(df, ['ip', 'device'])\n",
    "        df_add_counts(df, ['app', 'channel'])\n",
    "\n",
    "def make_next_click_feature(df):\n",
    "    with timer(\"Adding next click times\"):\n",
    "        D= 2**26\n",
    "        df['category'] = (df['ip'].astype(str) + \"_\" + df['app'].astype(str) + \"_\" + df['device'].astype(str) \\\n",
    "                         + \"_\" + df['os'].astype(str)).apply(hash) % D\n",
    "        click_buffer= np.full(D, 3000000000, dtype=np.uint32)\n",
    "        df['epochtime']= df['click_time'].astype(np.int64) // 10 ** 9\n",
    "        next_clicks= []\n",
    "        for category, time in zip(reversed(df['category'].values), reversed(df['epochtime'].values)):\n",
    "            next_clicks.append(click_buffer[category]-time)\n",
    "            click_buffer[category]= time\n",
    "        del(click_buffer)\n",
    "        df['next_click']= list(reversed(next_clicks))\n",
    "        \n",
    "path = '~/talkingdata/input/'\n",
    "\n",
    "dtypes = {\n",
    "        'ip'            : 'uint32',\n",
    "        'app'           : 'uint16',\n",
    "        'device'        : 'uint16',\n",
    "        'os'            : 'uint16',\n",
    "        'channel'       : 'uint16',\n",
    "        'is_attributed' : 'uint8',\n",
    "        'click_id'      : 'uint32'\n",
    "        }"
   ]
  },
  {
   "cell_type": "code",
   "execution_count": 3,
   "metadata": {},
   "outputs": [
    {
     "name": "stdout",
     "output_type": "stream",
     "text": [
      "[load training data] done in 210 s\n",
      "[load test data] done in 15 s\n"
     ]
    }
   ],
   "source": [
    "with timer(\"load training data\"):\n",
    "#     lines = 184903891\n",
    "#     skiplines = np.random.choice(np.arange(1, lines), size=lines-1-20000000, replace=False)\n",
    "#     skiplines=np.sort(skiplines)\n",
    "#     train_df = pd.read_csv(path+\"train.csv\", skiprows=skiplines, nrows=20000000, usecols=['ip','app','device','os', 'channel', 'click_time', 'is_attributed'], dtype=dtypes)\n",
    "    train_df = pd.read_csv(path+\"train.csv\", skiprows=range(1,104903891), nrows=80000000, usecols=['ip','app','device','os', 'channel', 'click_time', 'is_attributed'], dtype=dtypes)\n",
    "\n",
    "\n",
    "with timer(\"load test data\"):\n",
    "    test_df = pd.read_csv(path+\"test.csv\", dtype=dtypes, usecols=['ip','app','device','os', 'channel', 'click_time', 'click_id'])"
   ]
  },
  {
   "cell_type": "code",
   "execution_count": 4,
   "metadata": {},
   "outputs": [
    {
     "name": "stdout",
     "output_type": "stream",
     "text": [
      "65152679\n",
      "126411\n"
     ]
    }
   ],
   "source": [
    "test_ip_max = test_df.ip.max()\n",
    "train_df = train_df[train_df.ip <= test_ip_max]\n",
    "print(len(train_df.index))\n",
    "print(train_df.ip.max())"
   ]
  },
  {
   "cell_type": "code",
   "execution_count": 5,
   "metadata": {},
   "outputs": [
    {
     "data": {
      "text/plain": [
       "115"
      ]
     },
     "execution_count": 5,
     "metadata": {},
     "output_type": "execute_result"
    }
   ],
   "source": [
    "num_train = train_df.shape[0]\n",
    "y = train_df.is_attributed.values\n",
    "\n",
    "sub = pd.DataFrame()\n",
    "sub['click_id'] = test_df.click_id.values\n",
    "\n",
    "common_column = ['ip','app','device','os','channel','click_time']\n",
    "concat_df = pd.concat([train_df[common_column],test_df[common_column]])\n",
    "\n",
    "del train_df, test_df\n",
    "gc.collect()"
   ]
  },
  {
   "cell_type": "code",
   "execution_count": 6,
   "metadata": {},
   "outputs": [
    {
     "name": "stdout",
     "output_type": "stream",
     "text": [
      "[add count features] done in 771 s\n",
      "[Adding next click times] done in 726 s\n"
     ]
    },
    {
     "data": {
      "text/plain": [
       "35"
      ]
     },
     "execution_count": 6,
     "metadata": {},
     "output_type": "execute_result"
    }
   ],
   "source": [
    "make_count_features(concat_df)\n",
    "make_next_click_feature(concat_df)\n",
    "\n",
    "gc.collect()"
   ]
  },
  {
   "cell_type": "code",
   "execution_count": 7,
   "metadata": {},
   "outputs": [],
   "source": [
    "train_df = concat_df.iloc[:num_train]\n",
    "test_df = concat_df.iloc[num_train:]\n",
    "del concat_df"
   ]
  },
  {
   "cell_type": "code",
   "execution_count": 8,
   "metadata": {},
   "outputs": [
    {
     "name": "stderr",
     "output_type": "stream",
     "text": [
      "/home/um003580/.pyenv/versions/anaconda3-5.1.0/lib/python3.6/site-packages/sklearn/model_selection/_split.py:2026: FutureWarning: From version 0.21, test_size will always complement train_size unless both are specified.\n",
      "  FutureWarning)\n"
     ]
    }
   ],
   "source": [
    "train_df, val_df, y_train, y_val = train_test_split(train_df, y, train_size=0.8, shuffle=False)#trainを0.8、シャッフルfalseにした\n",
    "\n",
    "evals_results = {}\n",
    "num_boost_round = 250\n",
    "early_stopping_rounds = 30"
   ]
  },
  {
   "cell_type": "code",
   "execution_count": 9,
   "metadata": {},
   "outputs": [],
   "source": [
    "lgb_params = {\n",
    "    'boosting_type': 'gbdt',\n",
    "    'objective': 'binary',\n",
    "    'subsample_for_bin': 200000,  # Number of samples for constructing bin\n",
    "    'min_split_gain': 0,  # lambda_l1, lambda_l2 and min_gain_to_split to regularization\n",
    "    'reg_alpha': 0,  # L1 regularization term on weights\n",
    "    'reg_lambda': 0,  # L2 regularization term on weights\n",
    "    'nthread': 4,\n",
    "    'verbose': 0,\n",
    "    'metric':'auc',     \n",
    " \n",
    "    'learning_rate': 0.15,\n",
    "    'num_leaves': 7,  # 2^max_depth - 1\n",
    "    'max_depth': 3,  # -1 means no limit\n",
    "    'min_child_samples': 100,  # Minimum number of data need in a child(min_data_in_leaf)\n",
    "    'max_bin': 100,  # Number of bucketed bin for feature values\n",
    "    'subsample': 0.7,  # Subsample ratio of the training instance.\n",
    "    'subsample_freq': 1,  # frequence of subsample, <=0 means no enable\n",
    "    'colsample_bytree': 0.9,  # Subsample ratio of columns when constructing each tree.\n",
    "    'min_child_weight': 0,  # Minimum sum of instance weight(hessian) needed in a child(leaf)\n",
    "    'scale_pos_weight':99\n",
    "}\n",
    "# metrics = 'auc'\n",
    "# lgb_params = {\n",
    "#     'boosting_type': 'gbdt',\n",
    "#     'objective': 'binary',\n",
    "#     'metric': metrics,\n",
    "#     'learning_rate': .1,\n",
    "#     'num_leaves': 7,\n",
    "#     'max_depth': 4,\n",
    "#     'min_child_samples': 100,\n",
    "#     'max_bin': 100,\n",
    "#     'subsample': 0.7,\n",
    "#     'subsample_freq': 1,\n",
    "#     'colsample_bytree': 0.7,\n",
    "#     'min_child_weight': 0,\n",
    "#     'min_split_gain': 0,\n",
    "#     'nthread': 4,\n",
    "#     'verbose': 1,\n",
    "#     'scale_pos_weight': 99.7\n",
    "#     #'scale_pos_weight': 400\n",
    "# }"
   ]
  },
  {
   "cell_type": "code",
   "execution_count": 10,
   "metadata": {},
   "outputs": [
    {
     "name": "stdout",
     "output_type": "stream",
     "text": [
      "['device', 'ip_day_hour_count', 'ip_device_count', 'hour', 'app', 'os_app_channel_count', 'ip_day_hour_minute_count', 'ip_count', 'channel', 'os', 'next_click', 'app_channel_count', 'ip_app_os_count', 'day', 'ip_app_count']\n",
      "preparing validation datasets\n"
     ]
    },
    {
     "data": {
      "text/plain": [
       "25"
      ]
     },
     "execution_count": 10,
     "metadata": {},
     "output_type": "execute_result"
    }
   ],
   "source": [
    "target = \"is_attributed\"\n",
    "categorical = ['app','os','channel','device']\n",
    "predictors = list(set(train_df.columns)-set([target])-set(['click_time','category','epochtime','minute','ip']))\n",
    "print(predictors)\n",
    "\n",
    "print(\"preparing validation datasets\")\n",
    "\n",
    "xgtrain = lgb.Dataset(train_df[predictors].values,\n",
    "                      label=y_train,\n",
    "                      feature_name=predictors,\n",
    "                      categorical_feature=categorical\n",
    "                      )\n",
    "\n",
    "del train_df\n",
    "del y_train\n",
    "gc.collect()\n",
    "\n",
    "xgvalid = lgb.Dataset(val_df[predictors].values,\n",
    "                      label=y_val,\n",
    "                      feature_name=predictors,\n",
    "                      categorical_feature=categorical\n",
    "                      )\n",
    "\n",
    "del val_df\n",
    "del y_val\n",
    "gc.collect()"
   ]
  },
  {
   "cell_type": "code",
   "execution_count": 11,
   "metadata": {
    "scrolled": false
   },
   "outputs": [
    {
     "name": "stderr",
     "output_type": "stream",
     "text": [
      "/home/um003580/.pyenv/versions/anaconda3-5.1.0/lib/python3.6/site-packages/lightgbm/basic.py:1036: UserWarning: Using categorical_feature in Dataset.\n",
      "  warnings.warn('Using categorical_feature in Dataset.')\n",
      "/home/um003580/.pyenv/versions/anaconda3-5.1.0/lib/python3.6/site-packages/lightgbm/basic.py:681: UserWarning: categorical_feature in param dict is overrided.\n",
      "  warnings.warn('categorical_feature in param dict is overrided.')\n"
     ]
    },
    {
     "name": "stdout",
     "output_type": "stream",
     "text": [
      "[1]\tvalid's auc: 0.900216\n",
      "Training until validation scores don't improve for 30 rounds.\n",
      "[2]\tvalid's auc: 0.915205\n",
      "[3]\tvalid's auc: 0.915518\n",
      "[4]\tvalid's auc: 0.915156\n",
      "[5]\tvalid's auc: 0.9154\n",
      "[6]\tvalid's auc: 0.915453\n",
      "[7]\tvalid's auc: 0.915711\n",
      "[8]\tvalid's auc: 0.916976\n",
      "[9]\tvalid's auc: 0.924925\n",
      "[10]\tvalid's auc: 0.930282\n",
      "[11]\tvalid's auc: 0.931046\n",
      "[12]\tvalid's auc: 0.932096\n",
      "[13]\tvalid's auc: 0.933448\n",
      "[14]\tvalid's auc: 0.936888\n",
      "[15]\tvalid's auc: 0.937033\n",
      "[16]\tvalid's auc: 0.937227\n",
      "[17]\tvalid's auc: 0.937028\n",
      "[18]\tvalid's auc: 0.937313\n",
      "[19]\tvalid's auc: 0.93864\n",
      "[20]\tvalid's auc: 0.938515\n",
      "[21]\tvalid's auc: 0.938449\n",
      "[22]\tvalid's auc: 0.940966\n",
      "[23]\tvalid's auc: 0.942149\n",
      "[24]\tvalid's auc: 0.943769\n",
      "[25]\tvalid's auc: 0.944745\n",
      "[26]\tvalid's auc: 0.946625\n",
      "[27]\tvalid's auc: 0.946928\n",
      "[28]\tvalid's auc: 0.947117\n",
      "[29]\tvalid's auc: 0.94774\n",
      "[30]\tvalid's auc: 0.948208\n",
      "[31]\tvalid's auc: 0.949183\n",
      "[32]\tvalid's auc: 0.950276\n",
      "[33]\tvalid's auc: 0.950445\n",
      "[34]\tvalid's auc: 0.951089\n",
      "[35]\tvalid's auc: 0.951595\n",
      "[36]\tvalid's auc: 0.952222\n",
      "[37]\tvalid's auc: 0.952673\n",
      "[38]\tvalid's auc: 0.953445\n",
      "[39]\tvalid's auc: 0.954102\n",
      "[40]\tvalid's auc: 0.954453\n",
      "[41]\tvalid's auc: 0.95468\n",
      "[42]\tvalid's auc: 0.954902\n",
      "[43]\tvalid's auc: 0.955386\n",
      "[44]\tvalid's auc: 0.955602\n",
      "[45]\tvalid's auc: 0.955807\n",
      "[46]\tvalid's auc: 0.956059\n",
      "[47]\tvalid's auc: 0.956551\n",
      "[48]\tvalid's auc: 0.956976\n",
      "[49]\tvalid's auc: 0.957091\n",
      "[50]\tvalid's auc: 0.957455\n",
      "[51]\tvalid's auc: 0.957683\n",
      "[52]\tvalid's auc: 0.95786\n",
      "[53]\tvalid's auc: 0.958204\n",
      "[54]\tvalid's auc: 0.958466\n",
      "[55]\tvalid's auc: 0.958731\n",
      "[56]\tvalid's auc: 0.958859\n",
      "[57]\tvalid's auc: 0.959028\n",
      "[58]\tvalid's auc: 0.959575\n",
      "[59]\tvalid's auc: 0.959825\n",
      "[60]\tvalid's auc: 0.959942\n",
      "[61]\tvalid's auc: 0.96004\n",
      "[62]\tvalid's auc: 0.960021\n",
      "[63]\tvalid's auc: 0.960177\n",
      "[64]\tvalid's auc: 0.960367\n",
      "[65]\tvalid's auc: 0.960534\n",
      "[66]\tvalid's auc: 0.960531\n",
      "[67]\tvalid's auc: 0.960608\n",
      "[68]\tvalid's auc: 0.96065\n",
      "[69]\tvalid's auc: 0.960765\n",
      "[70]\tvalid's auc: 0.960758\n",
      "[71]\tvalid's auc: 0.960751\n",
      "[72]\tvalid's auc: 0.960815\n",
      "[73]\tvalid's auc: 0.960811\n",
      "[74]\tvalid's auc: 0.960999\n",
      "[75]\tvalid's auc: 0.961176\n",
      "[76]\tvalid's auc: 0.961167\n",
      "[77]\tvalid's auc: 0.961092\n",
      "[78]\tvalid's auc: 0.961192\n",
      "[79]\tvalid's auc: 0.961365\n",
      "[80]\tvalid's auc: 0.961409\n",
      "[81]\tvalid's auc: 0.961574\n",
      "[82]\tvalid's auc: 0.961664\n",
      "[83]\tvalid's auc: 0.961725\n",
      "[84]\tvalid's auc: 0.961848\n",
      "[85]\tvalid's auc: 0.962113\n",
      "[86]\tvalid's auc: 0.962208\n",
      "[87]\tvalid's auc: 0.962406\n",
      "[88]\tvalid's auc: 0.962687\n",
      "[89]\tvalid's auc: 0.962811\n",
      "[90]\tvalid's auc: 0.962708\n",
      "[91]\tvalid's auc: 0.962823\n",
      "[92]\tvalid's auc: 0.962869\n",
      "[93]\tvalid's auc: 0.962941\n",
      "[94]\tvalid's auc: 0.963026\n",
      "[95]\tvalid's auc: 0.963036\n",
      "[96]\tvalid's auc: 0.963105\n",
      "[97]\tvalid's auc: 0.963152\n",
      "[98]\tvalid's auc: 0.963164\n",
      "[99]\tvalid's auc: 0.963221\n",
      "[100]\tvalid's auc: 0.963335\n",
      "[101]\tvalid's auc: 0.9634\n",
      "[102]\tvalid's auc: 0.963537\n",
      "[103]\tvalid's auc: 0.963572\n",
      "[104]\tvalid's auc: 0.963555\n",
      "[105]\tvalid's auc: 0.963658\n",
      "[106]\tvalid's auc: 0.96389\n",
      "[107]\tvalid's auc: 0.963911\n",
      "[108]\tvalid's auc: 0.96395\n",
      "[109]\tvalid's auc: 0.963966\n",
      "[110]\tvalid's auc: 0.964051\n",
      "[111]\tvalid's auc: 0.964075\n",
      "[112]\tvalid's auc: 0.964128\n",
      "[113]\tvalid's auc: 0.964175\n",
      "[114]\tvalid's auc: 0.964233\n",
      "[115]\tvalid's auc: 0.964224\n",
      "[116]\tvalid's auc: 0.964292\n",
      "[117]\tvalid's auc: 0.964289\n",
      "[118]\tvalid's auc: 0.96436\n",
      "[119]\tvalid's auc: 0.96435\n",
      "[120]\tvalid's auc: 0.964414\n",
      "[121]\tvalid's auc: 0.96447\n",
      "[122]\tvalid's auc: 0.96446\n",
      "[123]\tvalid's auc: 0.964454\n",
      "[124]\tvalid's auc: 0.964456\n",
      "[125]\tvalid's auc: 0.964515\n",
      "[126]\tvalid's auc: 0.964444\n",
      "[127]\tvalid's auc: 0.964502\n",
      "[128]\tvalid's auc: 0.964559\n",
      "[129]\tvalid's auc: 0.964534\n",
      "[130]\tvalid's auc: 0.964541\n",
      "[131]\tvalid's auc: 0.964545\n",
      "[132]\tvalid's auc: 0.964615\n",
      "[133]\tvalid's auc: 0.964656\n",
      "[134]\tvalid's auc: 0.964692\n",
      "[135]\tvalid's auc: 0.96469\n",
      "[136]\tvalid's auc: 0.96474\n",
      "[137]\tvalid's auc: 0.964975\n",
      "[138]\tvalid's auc: 0.965052\n",
      "[139]\tvalid's auc: 0.965095\n",
      "[140]\tvalid's auc: 0.965114\n",
      "[141]\tvalid's auc: 0.965103\n",
      "[142]\tvalid's auc: 0.965118\n",
      "[143]\tvalid's auc: 0.965099\n",
      "[144]\tvalid's auc: 0.965098\n",
      "[145]\tvalid's auc: 0.965099\n",
      "[146]\tvalid's auc: 0.965119\n",
      "[147]\tvalid's auc: 0.965136\n",
      "[148]\tvalid's auc: 0.965156\n",
      "[149]\tvalid's auc: 0.965185\n",
      "[150]\tvalid's auc: 0.965395\n",
      "[151]\tvalid's auc: 0.965386\n",
      "[152]\tvalid's auc: 0.96534\n",
      "[153]\tvalid's auc: 0.965324\n",
      "[154]\tvalid's auc: 0.965341\n",
      "[155]\tvalid's auc: 0.965383\n",
      "[156]\tvalid's auc: 0.965371\n",
      "[157]\tvalid's auc: 0.965397\n",
      "[158]\tvalid's auc: 0.96543\n",
      "[159]\tvalid's auc: 0.965529\n",
      "[160]\tvalid's auc: 0.965539\n",
      "[161]\tvalid's auc: 0.965574\n",
      "[162]\tvalid's auc: 0.965557\n",
      "[163]\tvalid's auc: 0.965558\n",
      "[164]\tvalid's auc: 0.965549\n",
      "[165]\tvalid's auc: 0.965563\n",
      "[166]\tvalid's auc: 0.965531\n",
      "[167]\tvalid's auc: 0.96553\n",
      "[168]\tvalid's auc: 0.965512\n",
      "[169]\tvalid's auc: 0.96554\n",
      "[170]\tvalid's auc: 0.965573\n",
      "[171]\tvalid's auc: 0.965602\n",
      "[172]\tvalid's auc: 0.965751\n",
      "[173]\tvalid's auc: 0.965773\n",
      "[174]\tvalid's auc: 0.965815\n",
      "[175]\tvalid's auc: 0.96582\n",
      "[176]\tvalid's auc: 0.965903\n",
      "[177]\tvalid's auc: 0.96593\n",
      "[178]\tvalid's auc: 0.966024\n",
      "[179]\tvalid's auc: 0.966056\n",
      "[180]\tvalid's auc: 0.966069\n",
      "[181]\tvalid's auc: 0.966057\n",
      "[182]\tvalid's auc: 0.96604\n",
      "[183]\tvalid's auc: 0.966057\n",
      "[184]\tvalid's auc: 0.966083\n",
      "[185]\tvalid's auc: 0.966105\n",
      "[186]\tvalid's auc: 0.966081\n",
      "[187]\tvalid's auc: 0.966064\n",
      "[188]\tvalid's auc: 0.966108\n",
      "[189]\tvalid's auc: 0.966141\n",
      "[190]\tvalid's auc: 0.966154\n",
      "[191]\tvalid's auc: 0.966155\n",
      "[192]\tvalid's auc: 0.96617\n",
      "[193]\tvalid's auc: 0.966199\n",
      "[194]\tvalid's auc: 0.966196\n",
      "[195]\tvalid's auc: 0.966194\n",
      "[196]\tvalid's auc: 0.966214\n",
      "[197]\tvalid's auc: 0.966222\n",
      "[198]\tvalid's auc: 0.966267\n",
      "[199]\tvalid's auc: 0.966316\n",
      "[200]\tvalid's auc: 0.966319\n",
      "[201]\tvalid's auc: 0.966391\n",
      "[202]\tvalid's auc: 0.966427\n",
      "[203]\tvalid's auc: 0.966423\n",
      "[204]\tvalid's auc: 0.96644\n",
      "[205]\tvalid's auc: 0.966432\n",
      "[206]\tvalid's auc: 0.966494\n",
      "[207]\tvalid's auc: 0.966466\n",
      "[208]\tvalid's auc: 0.966466\n",
      "[209]\tvalid's auc: 0.96651\n",
      "[210]\tvalid's auc: 0.966506\n",
      "[211]\tvalid's auc: 0.966513\n",
      "[212]\tvalid's auc: 0.966515\n",
      "[213]\tvalid's auc: 0.966498\n",
      "[214]\tvalid's auc: 0.966499\n",
      "[215]\tvalid's auc: 0.966504\n",
      "[216]\tvalid's auc: 0.966527\n",
      "[217]\tvalid's auc: 0.966522\n",
      "[218]\tvalid's auc: 0.966534\n",
      "[219]\tvalid's auc: 0.966554\n",
      "[220]\tvalid's auc: 0.96656\n",
      "[221]\tvalid's auc: 0.966563\n",
      "[222]\tvalid's auc: 0.966562\n",
      "[223]\tvalid's auc: 0.966548\n",
      "[224]\tvalid's auc: 0.966551\n",
      "[225]\tvalid's auc: 0.96656\n",
      "[226]\tvalid's auc: 0.966596\n",
      "[227]\tvalid's auc: 0.966608\n",
      "[228]\tvalid's auc: 0.966604\n",
      "[229]\tvalid's auc: 0.966606\n",
      "[230]\tvalid's auc: 0.966595\n",
      "[231]\tvalid's auc: 0.966597\n",
      "[232]\tvalid's auc: 0.966619\n",
      "[233]\tvalid's auc: 0.966632\n",
      "[234]\tvalid's auc: 0.966634\n",
      "[235]\tvalid's auc: 0.966653\n",
      "[236]\tvalid's auc: 0.966684\n",
      "[237]\tvalid's auc: 0.966662\n",
      "[238]\tvalid's auc: 0.96666\n",
      "[239]\tvalid's auc: 0.966643\n",
      "[240]\tvalid's auc: 0.966651\n",
      "[241]\tvalid's auc: 0.966682\n",
      "[242]\tvalid's auc: 0.966699\n",
      "[243]\tvalid's auc: 0.966713\n",
      "[244]\tvalid's auc: 0.966704\n",
      "[245]\tvalid's auc: 0.966682\n",
      "[246]\tvalid's auc: 0.966679\n",
      "[247]\tvalid's auc: 0.966733\n",
      "[248]\tvalid's auc: 0.966736\n",
      "[249]\tvalid's auc: 0.966738\n",
      "[250]\tvalid's auc: 0.966742\n",
      "Did not meet early stopping. Best iteration is:\n",
      "[250]\tvalid's auc: 0.966742\n"
     ]
    },
    {
     "data": {
      "text/plain": [
       "32"
      ]
     },
     "execution_count": 11,
     "metadata": {},
     "output_type": "execute_result"
    }
   ],
   "source": [
    "booster = lgb.train(\n",
    "     lgb_params, \n",
    "     xgtrain,\n",
    "     valid_sets=[xgvalid],\n",
    "     valid_names=['valid'],\n",
    "     evals_result=evals_results, \n",
    "     num_boost_round=num_boost_round,\n",
    "     early_stopping_rounds=early_stopping_rounds,\n",
    "     verbose_eval=1\n",
    ")\n",
    "\n",
    "# n_estimators = model.best_iteration\n",
    "\n",
    "# print('\\nModel Info:')\n",
    "# print('n_estimators:', n_estimators)\n",
    "# print(metrics+':', evals_results['valid'][metrics][n_estimators-1])\n",
    "\n",
    "del xgvalid\n",
    "del xgtrain\n",
    "gc.collect()"
   ]
  },
  {
   "cell_type": "markdown",
   "metadata": {},
   "source": [
    "[250]\tvalid's auc: 0.966742\n",
    "Did not meet early stopping. Best iteration is:\n",
    "[250]\tvalid's auc: 0.966742"
   ]
  },
  {
   "cell_type": "code",
   "execution_count": 15,
   "metadata": {},
   "outputs": [
    {
     "data": {
      "image/png": "[encoded data removed]",
      "text/plain": [
       "<matplotlib.figure.Figure at 0x7fa39cc91080>"
      ]
     },
     "metadata": {},
     "output_type": "display_data"
    }
   ],
   "source": [
    "import matplotlib.pyplot as plt\n",
    "ax = lgb.plot_importance(booster, max_num_features=100)\n",
    "# plt.savefig('04291-4imp.png', dpi=600, bbox_inches='tight')\n",
    "plt.show()"
   ]
  },
  {
   "cell_type": "code",
   "execution_count": 13,
   "metadata": {},
   "outputs": [],
   "source": [
    "preditions=booster.predict(test_df[predictors].values)"
   ]
  },
  {
   "cell_type": "code",
   "execution_count": 14,
   "metadata": {},
   "outputs": [],
   "source": [
    "sub['is_attributed']  = preditions\n",
    "\n",
    "sub.to_csv('04291-4sub.csv', float_format='%.8f', index=False)"
   ]
  },
  {
   "cell_type": "code",
   "execution_count": null,
   "metadata": {},
   "outputs": [],
   "source": []
  },
  {
   "cell_type": "code",
   "execution_count": null,
   "metadata": {},
   "outputs": [],
   "source": []
  },
  {
   "cell_type": "code",
   "execution_count": null,
   "metadata": {},
   "outputs": [],
   "source": []
  },
  {
   "cell_type": "code",
   "execution_count": null,
   "metadata": {},
   "outputs": [],
   "source": []
  }
 ],
 "metadata": {
  "kernelspec": {
   "display_name": "Python 3",
   "language": "python",
   "name": "python3"
  },
  "language_info": {
   "codemirror_mode": {
    "name": "ipython",
    "version": 3
   },
   "file_extension": ".py",
   "mimetype": "text/x-python",
   "name": "python",
   "nbconvert_exporter": "python",
   "pygments_lexer": "ipython3",
   "version": "3.6.4"
  }
 },
 "nbformat": 4,
 "nbformat_minor": 2
}
