{
 "cells": [
  {
   "cell_type": "code",
   "execution_count": 1,
   "metadata": {},
   "outputs": [],
   "source": [
    "# This kernel have improvement from Pranav Pandya and Andy Harless\n",
    "# Pranav Kernel: https://www.kaggle.com/pranav84/xgboost-on-hist-mode-ip-addresses-dropped\n",
    "# Andy Kernel: https://www.kaggle.com/aharless/jo-o-s-xgboost-with-memory-usage-enhancements\n",
    "\n",
    "import gc\n",
    "import time\n",
    "import numpy as np\n",
    "import pandas as pd\n",
    "# from sklearn.cross_validation import train_test_split\n",
    "import xgboost as xgb\n",
    "from xgboost import plot_importance\n",
    "import matplotlib.pyplot as plt\n",
    "import dask.dataframe as dd\n",
    "import dask_xgboost as dxgb"
   ]
  },
  {
   "cell_type": "code",
   "execution_count": 3,
   "metadata": {},
   "outputs": [
    {
     "name": "stdout",
     "output_type": "stream",
     "text": [
      "[0.2626304626464844] Finished to load data\n"
     ]
    }
   ],
   "source": [
    "# Change this for validation with 10% from train\n",
    "is_valid = False\n",
    "\n",
    "path = '../input/'\n",
    "\n",
    "def timeFeatures(df):\n",
    "    # Make some new features with click_time column\n",
    "    df['datetime'] = dd.to_datetime(df['click_time'])\n",
    "    df['dow']      = df['datetime'].dt.dayofweek\n",
    "    df[\"doy\"]      = df[\"datetime\"].dt.dayofyear\n",
    "    #df[\"dteom\"]    = df[\"datetime\"].dt.daysinmonth - df[\"datetime\"].dt.day\n",
    "    df = df.drop(['click_time', 'datetime'], axis=1)\n",
    "    return df\n",
    "\n",
    "start_time = time.time()\n",
    "\n",
    "train_columns = ['ip', 'app', 'device', 'os', 'channel', 'click_time', 'is_attributed']\n",
    "test_columns  = ['ip', 'app', 'device', 'os', 'channel', 'click_time', 'click_id']\n",
    "dtypes = {\n",
    "        'ip'            : 'uint32',\n",
    "        'app'           : 'uint16',\n",
    "        'device'        : 'uint16',\n",
    "        'os'            : 'uint16',\n",
    "        'channel'       : 'uint16',\n",
    "        'is_attributed' : 'uint8',\n",
    "        'click_id'      : 'uint32'\n",
    "        }\n",
    "\n",
    "# Read the last lines because they are more impacting in training than the starting lines\n",
    "train = dd.read_csv(path+\"train.csv\", usecols=train_columns, dtype=dtypes)\n",
    "# test = pd.read_csv(path+\"test_supplement.csv\", usecols=test_columns, dtype=dtypes)\n",
    "\n",
    "print('[{}] Finished to load data'.format(time.time() - start_time))"
   ]
  },
  {
   "cell_type": "code",
   "execution_count": 4,
   "metadata": {},
   "outputs": [
    {
     "data": {
      "text/plain": [
       "154"
      ]
     },
     "execution_count": 4,
     "metadata": {},
     "output_type": "execute_result"
    }
   ],
   "source": [
    "sub = pd.DataFrame()\n",
    "labels = train['is_attributed']\n",
    "train = train.drop(['is_attributed'], axis=1)\n",
    "\n",
    "# Drop the IP and the columns from target\n",
    "# Drop IP and ID from test rows\n",
    "#sub['click_id'] = test['click_id'].astype('int')\n",
    "# test.drop(['click_id'], axis=1, inplace=True)\n",
    "gc.collect()\n",
    "\n",
    "# nrow_train = train.shape[0]\n",
    "# merge = pd.concat([train, test])\n",
    "\n",
    "# del train, test\n",
    "# gc.collect()\n",
    "\n",
    "# Count the number of clicks by ip\n",
    "ip_count = train.groupby(['ip'])['channel'].count().reset_index()\n",
    "ip_count.columns = ['ip', 'clicks_by_ip']\n",
    "train = dd.merge(train, ip_count, on='ip', how='left')\n",
    "train['clicks_by_ip'] = train['clicks_by_ip'].astype('uint16')\n",
    "train = train.drop('ip', axis=1)\n",
    "\n",
    "# train = merge[:nrow_train]\n",
    "# test = merge[nrow_train:]\n",
    "\n",
    "# del test, merge\n",
    "gc.collect()"
   ]
  },
  {
   "cell_type": "code",
   "execution_count": 5,
   "metadata": {},
   "outputs": [
    {
     "name": "stdout",
     "output_type": "stream",
     "text": [
      "[8.370149612426758] Start to generate time features\n"
     ]
    },
    {
     "data": {
      "text/plain": [
       "231"
      ]
     },
     "execution_count": 5,
     "metadata": {},
     "output_type": "execute_result"
    }
   ],
   "source": [
    "print('[{}] Start to generate time features'.format(time.time() - start_time))\n",
    "\n",
    "train = timeFeatures(train)\n",
    "gc.collect()"
   ]
  },
  {
   "cell_type": "code",
   "execution_count": 6,
   "metadata": {},
   "outputs": [
    {
     "name": "stdout",
     "output_type": "stream",
     "text": [
      "[16.378363370895386] Start XGBoost Training\n"
     ]
    },
    {
     "data": {
      "text/plain": [
       "59"
      ]
     },
     "execution_count": 6,
     "metadata": {},
     "output_type": "execute_result"
    }
   ],
   "source": [
    "import os\n",
    "from dask import compute, persist\n",
    "from dask.distributed import Client, progress\n",
    "\n",
    "client = Client(os.environ.get(\"DISTRIBUTED_ADDRESS\"))\n",
    "\n",
    "print('[{}] Start XGBoost Training'.format(time.time() - start_time))\n",
    "\n",
    "# Set the params(this params from Pranav kernel) for xgboost model\n",
    "params = {'eta': 0.3,\n",
    "          'tree_method': \"hist\",\n",
    "          'grow_policy': \"lossguide\",\n",
    "          'max_leaves': 1400,  \n",
    "          'max_depth': 0, \n",
    "          'subsample': 0.9, \n",
    "          'colsample_bytree': 0.7, \n",
    "          'colsample_bylevel':0.7,\n",
    "          'min_child_weight':0,\n",
    "          'alpha':4,\n",
    "          'objective': 'binary:logistic', \n",
    "          'scale_pos_weight':9,\n",
    "          'eval_metric': 'auc', \n",
    "          'nthread':8,\n",
    "          'random_state': 99, \n",
    "          'silent': True}\n",
    "          \n",
    "# if (is_valid == True):\n",
    "    # Get 10% of train dataset to use as validation\n",
    "    \n",
    "data_train, data_validation = train.random_split([0.9, 0.1],random_state=1234)\n",
    "labels_train, labels_validation = labels.random_split([0.9, 0.1],random_state=1234)\n",
    "\n",
    "# x1, x2, y1, y2 = train_test_split(train, y, test_size=0.1, random_state=99)\n",
    "# dtrain = xgb.DMatrix(x1, y1)\n",
    "# dvalid = xgb.DMatrix(x2, y2)\n",
    "# del x1, y1, x2, y2 \n",
    "\n",
    "gc.collect()"
   ]
  },
  {
   "cell_type": "code",
   "execution_count": null,
   "metadata": {},
   "outputs": [
    {
     "name": "stdout",
     "output_type": "stream",
     "text": [
      "start training\n"
     ]
    }
   ],
   "source": [
    "# watchlist = [(dtrain, 'train'), (dvalid, 'valid')]\n",
    "print('start training')\n",
    "model = dxgb.train(client, params, data_train, labels_train)\n",
    "print('stop training')\n",
    "# model = xgb.train(params, dtrain, 200, watchlist, maximize=True, early_stopping_rounds = 25, verbose_eval=5)\n",
    "# del dvalid\n",
    "# else:\n",
    "#     dtrain = xgb.DMatrix(train, y)\n",
    "#     del train, y\n",
    "#     gc.collect()\n",
    "#     watchlist = [(dtrain, 'train')]\n",
    "#     model = xgb.train(params, dtrain, 30, watchlist, maximize=True, verbose_eval=1)\n",
    "\n",
    "# del dtrain\n",
    "gc.collect()\n",
    "\n",
    "# print('[{}] Finish XGBoost Training'.format(time.time() - start_time))"
   ]
  },
  {
   "cell_type": "code",
   "execution_count": null,
   "metadata": {},
   "outputs": [],
   "source": [
    "# Plot the feature importance from xgboost\n",
    "plot_importance(model)\n",
    "plt.gcf().savefig('feature_importance_xgb.png')\n",
    "\n",
    "# Load the test for predict \n",
    "test = dd.read_csv(path+\"test.csv\", usecols=test_columns, dtype=dtypes)\n",
    "test = dd.merge(test, ip_count, on='ip', how='left', sort=False)\n",
    "del ip_count\n",
    "gc.collect()\n",
    "\n",
    "sub['click_id'] = test['click_id'].astype('int')\n",
    "\n",
    "test['clicks_by_ip'] = test['clicks_by_ip'].astype('uint16')\n",
    "test = timeFeatures(test)\n",
    "test.drop(['click_id', 'ip'], axis=1, inplace=True)\n",
    "dtest = xgb.DMatrix(test)\n",
    "del test\n",
    "gc.collect()\n",
    "\n",
    "# Save the predictions\n",
    "sub['is_attributed'] = model.predict(dtest, ntree_limit=model.best_ntree_limit)\n",
    "sub.to_csv('xgb_sub.csv', float_format='%.8f', index=False)\n",
    "\n",
    "\n",
    "predictions = dxgb.predict(client, bsg, data_test)"
   ]
  }
 ],
 "metadata": {
  "kernelspec": {
   "display_name": "Python 3",
   "language": "python",
   "name": "python3"
  },
  "language_info": {
   "codemirror_mode": {
    "name": "ipython",
    "version": 3
   },
   "file_extension": ".py",
   "mimetype": "text/x-python",
   "name": "python",
   "nbconvert_exporter": "python",
   "pygments_lexer": "ipython3",
   "version": "3.6.4"
  }
 },
 "nbformat": 4,
 "nbformat_minor": 2
}
