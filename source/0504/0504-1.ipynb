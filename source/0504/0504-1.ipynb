{
 "cells": [
  {
   "cell_type": "markdown",
   "metadata": {},
   "source": [
    "train120m-180m, train:valid 90:10, countuniq"
   ]
  },
  {
   "cell_type": "code",
   "execution_count": 1,
   "metadata": {},
   "outputs": [],
   "source": [
    "import pandas as pd\n",
    "import time\n",
    "import numpy as np\n",
    "from sklearn.model_selection import train_test_split\n",
    "import lightgbm as lgb\n",
    "import gc\n",
    "from contextlib import contextmanager\n",
    "import matplotlib.pyplot as plt"
   ]
  },
  {
   "cell_type": "code",
   "execution_count": 2,
   "metadata": {},
   "outputs": [],
   "source": [
    "@contextmanager\n",
    "def timer(name):\n",
    "    t0 = time.time()\n",
    "    yield\n",
    "    print(f'[{name}] done in {time.time() - t0:.0f} s')\n",
    "\n",
    "def df_add_counts(df, cols):\n",
    "    arr_slice = df[cols].values\n",
    "    unq, unqtags, counts = np.unique(np.ravel_multi_index(arr_slice.T, arr_slice.max(axis=0) + 1),\n",
    "                                     return_inverse=True, return_counts=True)\n",
    "    df[\"_\".join(cols)+'_count'] = counts[unqtags]\n",
    "    gc.collect()\n",
    "    \n",
    "def make_count_features(df):\n",
    "    with timer(\"add count features\"):\n",
    "        df['click_time']= pd.to_datetime(df['click_time'])\n",
    "        dt= df['click_time'].dt\n",
    "#         df['day'] = dt.day.astype('uint8')\n",
    "        df['hour'] = dt.hour.astype('uint8')\n",
    "#         df['minute'] = dt.minute.astype('uint8')\n",
    "#         df['second'] = dt.second.astype('uint8')#secondを追加\n",
    "\n",
    "        del(dt)\n",
    "        \n",
    "        df_add_counts(df, ['ip'])\n",
    "#         df_add_counts(df, ['ip','day','hour','minute'])\n",
    "        df_add_counts(df, ['os','device'])\n",
    "        df_add_counts(df, ['os','app','channel'])\n",
    "        \n",
    "        df_add_counts(df, ['ip', 'hour'])\n",
    "        df_add_counts(df, ['ip', 'app'])\n",
    "        df_add_counts(df, ['ip', 'app', 'os'])\n",
    "        df_add_counts(df, ['ip', 'device'])\n",
    "        df_add_counts(df, ['app', 'channel'])\n",
    "\n",
    "def do_countuniq( df, group_cols, counted, agg_type='uint32', show_max=False, show_agg=True ):\n",
    "    agg_name= '{}_by_{}_countuniq'.format(('_'.join(group_cols)),(counted))  \n",
    "    if show_agg:\n",
    "        print( \"\\nCounting unqiue \", counted, \" by \", group_cols ,  '... and saved in', agg_name )\n",
    "    gp = df[group_cols+[counted]].groupby(group_cols)[counted].nunique().reset_index().rename(columns={counted:agg_name})\n",
    "    df = df.merge(gp, on=group_cols, how='left')\n",
    "    del gp\n",
    "    if show_max:\n",
    "        print( agg_name + \" max value = \", df[agg_name].max() )\n",
    "    df[agg_name] = df[agg_name].astype(agg_type)\n",
    "#     predictors.append(agg_name)\n",
    "#     print('predictors',predictors)\n",
    "    gc.collect()\n",
    "    return( df )\n",
    "\n",
    "def make_countuniq_features(df):\n",
    "    with timer(\"add countuniq features\"):\n",
    "        df = do_countuniq( df, ['ip'], 'channel' ); gc.collect()\n",
    "        df = do_countuniq( df, ['ip', 'device', 'os'], 'app'); gc.collect()\n",
    "        df = do_countuniq( df, ['ip'], 'hour' ); gc.collect()\n",
    "        df = do_countuniq( df, ['ip'], 'app'); gc.collect()\n",
    "        df = do_countuniq( df, ['ip', 'app'], 'os'); gc.collect()\n",
    "        df = do_countuniq( df, ['ip'], 'device'); gc.collect()\n",
    "        df = do_countuniq( df, ['app'], 'channel'); gc.collect()\n",
    "        return(df)\n",
    "\n",
    "def make_next_click_feature(df):\n",
    "    with timer(\"Adding next click times\"):\n",
    "        D= 2**26\n",
    "        df['category'] = (df['ip'].astype(str) + \"_\" + df['app'].astype(str) + \"_\" + df['device'].astype(str) \\\n",
    "                         + \"_\" + df['os'].astype(str)).apply(hash) % D\n",
    "        click_buffer= np.full(D, 3000000000, dtype=np.uint32)\n",
    "        df['epochtime']= df['click_time'].astype(np.int64) // 10 ** 9\n",
    "        next_clicks= []\n",
    "        for category, time in zip(reversed(df['category'].values), reversed(df['epochtime'].values)):\n",
    "            next_clicks.append(click_buffer[category]-time)\n",
    "            click_buffer[category]= time\n",
    "        del(click_buffer)\n",
    "        df['next_click']= list(reversed(next_clicks))\n",
    "        gc.collect()\n",
    "        \n",
    "path = '~/talkingdata/input/'\n",
    "\n",
    "dtypes = {\n",
    "        'ip'            : 'uint32',\n",
    "        'app'           : 'uint16',\n",
    "        'device'        : 'uint16',\n",
    "        'os'            : 'uint16',\n",
    "        'channel'       : 'uint16',\n",
    "        'is_attributed' : 'uint8',\n",
    "        'click_id'      : 'uint32'\n",
    "        }\n",
    "\n",
    "columns = ['ip','app','device','os', 'channel', 'click_time', 'is_attributed']"
   ]
  },
  {
   "cell_type": "code",
   "execution_count": 3,
   "metadata": {},
   "outputs": [
    {
     "name": "stdout",
     "output_type": "stream",
     "text": [
      "[load training data] done in 122 s\n",
      "[load test data] done in 45 s\n"
     ]
    }
   ],
   "source": [
    "with timer(\"load training data\"):\n",
    "    train_df = pd.read_csv(path+\"train.csv\",skiprows=range(1,122071518), usecols=['ip','app','device','os', 'channel', 'click_time', 'is_attributed'], dtype=dtypes)\n",
    "\n",
    "with timer(\"load test data\"):\n",
    "    testsup_df = pd.read_csv(path+\"test_supplement.csv\", dtype=dtypes, usecols=['ip','app','device','os', 'channel', 'click_time', 'click_id'])"
   ]
  },
  {
   "cell_type": "code",
   "execution_count": 4,
   "metadata": {},
   "outputs": [
    {
     "data": {
      "text/plain": [
       "64"
      ]
     },
     "execution_count": 4,
     "metadata": {},
     "output_type": "execute_result"
    }
   ],
   "source": [
    "num_train = train_df.shape[0]\n",
    "\n",
    "y = train_df.is_attributed.values\n",
    "gc.collect()\n",
    "\n",
    "# sub = pd.DataFrame()\n",
    "# sub['click_id'] = test_df.click_id.values\n",
    "\n",
    "common_column = ['ip','app','device','os','channel','click_time']\n",
    "concat_df = pd.concat([train_df[common_column],testsup_df[common_column]])\n",
    "\n",
    "del train_df, testsup_df\n",
    "gc.collect()"
   ]
  },
  {
   "cell_type": "code",
   "execution_count": 5,
   "metadata": {},
   "outputs": [
    {
     "name": "stdout",
     "output_type": "stream",
     "text": [
      "[add count features] done in 462 s\n",
      "[Adding next click times] done in 829 s\n"
     ]
    }
   ],
   "source": [
    "make_count_features(concat_df)"
   ]
  },
  {
   "cell_type": "code",
   "execution_count": null,
   "metadata": {},
   "outputs": [],
   "source": [
    "make_next_click_feature(df)"
   ]
  },
  {
   "cell_type": "code",
   "execution_count": 7,
   "metadata": {},
   "outputs": [
    {
     "name": "stdout",
     "output_type": "stream",
     "text": [
      "\n",
      "Counting unqiue  channel  by  ['ip'] ... and saved in ip_by_channel_countuniq\n",
      "\n",
      "Counting unqiue  app  by  ['ip', 'device', 'os'] ... and saved in ip_device_os_by_app_countuniq\n",
      "\n",
      "Counting unqiue  hour  by  ['ip'] ... and saved in ip_by_hour_countuniq\n",
      "\n",
      "Counting unqiue  app  by  ['ip'] ... and saved in ip_by_app_countuniq\n",
      "\n",
      "Counting unqiue  os  by  ['ip', 'app'] ... and saved in ip_app_by_os_countuniq\n",
      "\n",
      "Counting unqiue  device  by  ['ip'] ... and saved in ip_by_device_countuniq\n",
      "\n",
      "Counting unqiue  channel  by  ['app'] ... and saved in app_by_channel_countuniq\n",
      "[add countuniq features] done in 1045 s\n"
     ]
    },
    {
     "data": {
      "text/plain": [
       "47"
      ]
     },
     "execution_count": 7,
     "metadata": {},
     "output_type": "execute_result"
    }
   ],
   "source": [
    "concat_df = make_countuniq_features(concat_df)\n",
    "\n",
    "gc.collect()"
   ]
  },
  {
   "cell_type": "code",
   "execution_count": 8,
   "metadata": {},
   "outputs": [
    {
     "data": {
      "text/html": [
       "<div>\n",
       "<style scoped>\n",
       "    .dataframe tbody tr th:only-of-type {\n",
       "        vertical-align: middle;\n",
       "    }\n",
       "\n",
       "    .dataframe tbody tr th {\n",
       "        vertical-align: top;\n",
       "    }\n",
       "\n",
       "    .dataframe thead th {\n",
       "        text-align: right;\n",
       "    }\n",
       "</style>\n",
       "<table border=\"1\" class=\"dataframe\">\n",
       "  <thead>\n",
       "    <tr style=\"text-align: right;\">\n",
       "      <th></th>\n",
       "      <th>ip</th>\n",
       "      <th>app</th>\n",
       "      <th>device</th>\n",
       "      <th>os</th>\n",
       "      <th>channel</th>\n",
       "      <th>click_time</th>\n",
       "      <th>hour</th>\n",
       "      <th>ip_count</th>\n",
       "      <th>os_device_count</th>\n",
       "      <th>os_app_channel_count</th>\n",
       "      <th>...</th>\n",
       "      <th>category</th>\n",
       "      <th>epochtime</th>\n",
       "      <th>next_click</th>\n",
       "      <th>ip_by_channel_countuniq</th>\n",
       "      <th>ip_device_os_by_app_countuniq</th>\n",
       "      <th>ip_by_hour_countuniq</th>\n",
       "      <th>ip_by_app_countuniq</th>\n",
       "      <th>ip_app_by_os_countuniq</th>\n",
       "      <th>ip_by_device_countuniq</th>\n",
       "      <th>app_by_channel_countuniq</th>\n",
       "    </tr>\n",
       "  </thead>\n",
       "  <tbody>\n",
       "    <tr>\n",
       "      <th>0</th>\n",
       "      <td>62766</td>\n",
       "      <td>7</td>\n",
       "      <td>3543</td>\n",
       "      <td>748</td>\n",
       "      <td>101</td>\n",
       "      <td>2017-11-08 16:00:00</td>\n",
       "      <td>16</td>\n",
       "      <td>3103</td>\n",
       "      <td>1</td>\n",
       "      <td>1</td>\n",
       "      <td>...</td>\n",
       "      <td>17297157</td>\n",
       "      <td>1510156800</td>\n",
       "      <td>1489843200</td>\n",
       "      <td>98</td>\n",
       "      <td>1</td>\n",
       "      <td>24</td>\n",
       "      <td>43</td>\n",
       "      <td>10</td>\n",
       "      <td>7</td>\n",
       "      <td>3</td>\n",
       "    </tr>\n",
       "    <tr>\n",
       "      <th>1</th>\n",
       "      <td>108229</td>\n",
       "      <td>15</td>\n",
       "      <td>1</td>\n",
       "      <td>19</td>\n",
       "      <td>245</td>\n",
       "      <td>2017-11-08 16:00:00</td>\n",
       "      <td>16</td>\n",
       "      <td>7399</td>\n",
       "      <td>27561927</td>\n",
       "      <td>289727</td>\n",
       "      <td>...</td>\n",
       "      <td>64159849</td>\n",
       "      <td>1510156800</td>\n",
       "      <td>200</td>\n",
       "      <td>102</td>\n",
       "      <td>32</td>\n",
       "      <td>24</td>\n",
       "      <td>46</td>\n",
       "      <td>44</td>\n",
       "      <td>12</td>\n",
       "      <td>27</td>\n",
       "    </tr>\n",
       "    <tr>\n",
       "      <th>2</th>\n",
       "      <td>73487</td>\n",
       "      <td>12</td>\n",
       "      <td>2</td>\n",
       "      <td>22</td>\n",
       "      <td>326</td>\n",
       "      <td>2017-11-08 16:00:00</td>\n",
       "      <td>16</td>\n",
       "      <td>486915</td>\n",
       "      <td>158918</td>\n",
       "      <td>14319</td>\n",
       "      <td>...</td>\n",
       "      <td>36302508</td>\n",
       "      <td>1510156800</td>\n",
       "      <td>181</td>\n",
       "      <td>141</td>\n",
       "      <td>28</td>\n",
       "      <td>24</td>\n",
       "      <td>173</td>\n",
       "      <td>125</td>\n",
       "      <td>148</td>\n",
       "      <td>32</td>\n",
       "    </tr>\n",
       "    <tr>\n",
       "      <th>3</th>\n",
       "      <td>238206</td>\n",
       "      <td>14</td>\n",
       "      <td>1</td>\n",
       "      <td>19</td>\n",
       "      <td>379</td>\n",
       "      <td>2017-11-08 16:00:00</td>\n",
       "      <td>16</td>\n",
       "      <td>1</td>\n",
       "      <td>27561927</td>\n",
       "      <td>319932</td>\n",
       "      <td>...</td>\n",
       "      <td>24064575</td>\n",
       "      <td>1510156800</td>\n",
       "      <td>47520</td>\n",
       "      <td>1</td>\n",
       "      <td>1</td>\n",
       "      <td>1</td>\n",
       "      <td>1</td>\n",
       "      <td>1</td>\n",
       "      <td>1</td>\n",
       "      <td>38</td>\n",
       "    </tr>\n",
       "    <tr>\n",
       "      <th>4</th>\n",
       "      <td>27482</td>\n",
       "      <td>26</td>\n",
       "      <td>1</td>\n",
       "      <td>32</td>\n",
       "      <td>121</td>\n",
       "      <td>2017-11-08 16:00:00</td>\n",
       "      <td>16</td>\n",
       "      <td>3958</td>\n",
       "      <td>1006744</td>\n",
       "      <td>9873</td>\n",
       "      <td>...</td>\n",
       "      <td>34692003</td>\n",
       "      <td>1510156800</td>\n",
       "      <td>927</td>\n",
       "      <td>94</td>\n",
       "      <td>17</td>\n",
       "      <td>24</td>\n",
       "      <td>47</td>\n",
       "      <td>17</td>\n",
       "      <td>12</td>\n",
       "      <td>5</td>\n",
       "    </tr>\n",
       "  </tbody>\n",
       "</table>\n",
       "<p>5 rows × 25 columns</p>\n",
       "</div>"
      ],
      "text/plain": [
       "       ip  app  device   os  channel          click_time  hour  ip_count  \\\n",
       "0   62766    7    3543  748      101 2017-11-08 16:00:00    16      3103   \n",
       "1  108229   15       1   19      245 2017-11-08 16:00:00    16      7399   \n",
       "2   73487   12       2   22      326 2017-11-08 16:00:00    16    486915   \n",
       "3  238206   14       1   19      379 2017-11-08 16:00:00    16         1   \n",
       "4   27482   26       1   32      121 2017-11-08 16:00:00    16      3958   \n",
       "\n",
       "   os_device_count  os_app_channel_count            ...             category  \\\n",
       "0                1                     1            ...             17297157   \n",
       "1         27561927                289727            ...             64159849   \n",
       "2           158918                 14319            ...             36302508   \n",
       "3         27561927                319932            ...             24064575   \n",
       "4          1006744                  9873            ...             34692003   \n",
       "\n",
       "    epochtime  next_click  ip_by_channel_countuniq  \\\n",
       "0  1510156800  1489843200                       98   \n",
       "1  1510156800         200                      102   \n",
       "2  1510156800         181                      141   \n",
       "3  1510156800       47520                        1   \n",
       "4  1510156800         927                       94   \n",
       "\n",
       "   ip_device_os_by_app_countuniq  ip_by_hour_countuniq  ip_by_app_countuniq  \\\n",
       "0                              1                    24                   43   \n",
       "1                             32                    24                   46   \n",
       "2                             28                    24                  173   \n",
       "3                              1                     1                    1   \n",
       "4                             17                    24                   47   \n",
       "\n",
       "   ip_app_by_os_countuniq  ip_by_device_countuniq  app_by_channel_countuniq  \n",
       "0                      10                       7                         3  \n",
       "1                      44                      12                        27  \n",
       "2                     125                     148                        32  \n",
       "3                       1                       1                        38  \n",
       "4                      17                      12                         5  \n",
       "\n",
       "[5 rows x 25 columns]"
      ]
     },
     "execution_count": 8,
     "metadata": {},
     "output_type": "execute_result"
    }
   ],
   "source": [
    "concat_df.head()"
   ]
  },
  {
   "cell_type": "code",
   "execution_count": 9,
   "metadata": {},
   "outputs": [
    {
     "data": {
      "text/plain": [
       "89"
      ]
     },
     "execution_count": 9,
     "metadata": {},
     "output_type": "execute_result"
    }
   ],
   "source": [
    "train_df = concat_df.iloc[:num_train]\n",
    "testsup_df = concat_df.iloc[num_train:]\n",
    "\n",
    "del concat_df\n",
    "gc.collect()"
   ]
  },
  {
   "cell_type": "code",
   "execution_count": 11,
   "metadata": {},
   "outputs": [
    {
     "ename": "OverflowError",
     "evalue": "cannot serialize a string larger than 4GiB",
     "output_type": "error",
     "traceback": [
      "\u001b[0;31m---------------------------------------------------------------------------\u001b[0m",
      "\u001b[0;31mOverflowError\u001b[0m                             Traceback (most recent call last)",
      "\u001b[0;32m<ipython-input-11-05348d22b18a>\u001b[0m in \u001b[0;36m<module>\u001b[0;34m()\u001b[0m\n\u001b[1;32m      1\u001b[0m \u001b[0;32mimport\u001b[0m \u001b[0mpickle\u001b[0m\u001b[0;34m\u001b[0m\u001b[0m\n\u001b[1;32m      2\u001b[0m \u001b[0;32mwith\u001b[0m \u001b[0mopen\u001b[0m\u001b[0;34m(\u001b[0m\u001b[0;34m'train_after.csv.pkl'\u001b[0m\u001b[0;34m,\u001b[0m\u001b[0;34m'wb'\u001b[0m\u001b[0;34m)\u001b[0m \u001b[0;32mas\u001b[0m \u001b[0mf\u001b[0m\u001b[0;34m:\u001b[0m\u001b[0;34m\u001b[0m\u001b[0m\n\u001b[0;32m----> 3\u001b[0;31m   \u001b[0mpickle\u001b[0m\u001b[0;34m.\u001b[0m\u001b[0mdump\u001b[0m\u001b[0;34m(\u001b[0m\u001b[0mtrain_df\u001b[0m\u001b[0;34m,\u001b[0m \u001b[0mf\u001b[0m\u001b[0;34m,\u001b[0m \u001b[0mprotocol\u001b[0m\u001b[0;34m=\u001b[0m\u001b[0;36m2\u001b[0m\u001b[0;34m)\u001b[0m\u001b[0;34m\u001b[0m\u001b[0m\n\u001b[0m\u001b[1;32m      4\u001b[0m \u001b[0;34m\u001b[0m\u001b[0m\n\u001b[1;32m      5\u001b[0m \u001b[0;32mwith\u001b[0m \u001b[0mopen\u001b[0m\u001b[0;34m(\u001b[0m\u001b[0;34m'testsup_after.csv.pkl'\u001b[0m\u001b[0;34m,\u001b[0m\u001b[0;34m'wb'\u001b[0m\u001b[0;34m)\u001b[0m \u001b[0;32mas\u001b[0m \u001b[0mf\u001b[0m\u001b[0;34m:\u001b[0m\u001b[0;34m\u001b[0m\u001b[0m\n",
      "\u001b[0;31mOverflowError\u001b[0m: cannot serialize a string larger than 4GiB"
     ]
    }
   ],
   "source": [
    "# import pickle\n",
    "# with open('train_after.csv.pkl','wb') as f:\n",
    "#   pickle.dump(train_df, f, protocol=2)\n",
    "\n",
    "# with open('testsup_after.csv.pkl','wb') as f:\n",
    "#   pickle.dump(testsup_df, f, protocol=2)\n",
    "\n",
    "# with open('test_after.csv.pkl','wb') as f:\n",
    "#   pickle.dump(test_df, f, protocol=2)"
   ]
  },
  {
   "cell_type": "code",
   "execution_count": 12,
   "metadata": {},
   "outputs": [
    {
     "name": "stderr",
     "output_type": "stream",
     "text": [
      "/home/um003580/.pyenv/versions/anaconda3-5.1.0/lib/python3.6/site-packages/sklearn/model_selection/_split.py:2026: FutureWarning: From version 0.21, test_size will always complement train_size unless both are specified.\n",
      "  FutureWarning)\n"
     ]
    }
   ],
   "source": [
    "x_train, x_val, y_train, y_val = train_test_split(train_df, y, train_size=0.9, shuffle=False)\n",
    "\n",
    "del train_df, y"
   ]
  },
  {
   "cell_type": "code",
   "execution_count": 13,
   "metadata": {},
   "outputs": [],
   "source": [
    "evals_results = {}\n",
    "num_boost_round = 250\n",
    "early_stopping_rounds = 30\n",
    "\n",
    "lgb_params = {\n",
    "    'boosting_type': 'gbdt',\n",
    "    'objective': 'binary',\n",
    "    'subsample_for_bin': 200000,  # Number of samples for constructing bin\n",
    "    'min_split_gain': 0,  # lambda_l1, lambda_l2 and min_gain_to_split to regularization\n",
    "    'reg_alpha': 0,  # L1 regularization term on weights\n",
    "    'reg_lambda': 0,  # L2 regularization term on weights\n",
    "    'nthread': 12,\n",
    "    'verbose': 0,\n",
    "    'metric':'auc',     \n",
    " \n",
    "    'learning_rate': 0.15,\n",
    "    'num_leaves': 7,  # 2^max_depth - 1\n",
    "    'max_depth': 3,  # -1 means no limit\n",
    "    'min_child_samples': 100,  # Minimum number of data need in a child(min_data_in_leaf)\n",
    "    'max_bin': 100,  # Number of bucketed bin for feature values\n",
    "    'subsample': 0.7,  # Subsample ratio of the training instance.\n",
    "    'subsample_freq': 1,  # frequence of subsample, <=0 means no enable\n",
    "    'colsample_bytree': 0.9,  # Subsample ratio of columns when constructing each tree.\n",
    "    'min_child_weight': 0,  # Minimum sum of instance weight(hessian) needed in a child(leaf)\n",
    "    'scale_pos_weight':99\n",
    "}\n",
    "# metrics = 'auc'\n",
    "# lgb_params = {\n",
    "#     'boosting_type': 'gbdt',\n",
    "#     'objective': 'binary',\n",
    "#     'metric': metrics,\n",
    "#     'learning_rate': .1,\n",
    "#     'num_leaves': 7,\n",
    "#     'max_depth': 4,\n",
    "#     'min_child_samples': 100,\n",
    "#     'max_bin': 100,\n",
    "#     'subsample': 0.7,\n",
    "#     'subsample_freq': 1,\n",
    "#     'colsample_bytree': 0.7,\n",
    "#     'min_child_weight': 0,\n",
    "#     'min_split_gain': 0,\n",
    "#     'nthread': 4,\n",
    "#     'verbose': 1,\n",
    "#     'scale_pos_weight': 99.7\n",
    "#     #'scale_pos_weight': 400\n",
    "# }"
   ]
  },
  {
   "cell_type": "code",
   "execution_count": 16,
   "metadata": {},
   "outputs": [
    {
     "name": "stdout",
     "output_type": "stream",
     "text": [
      "['ip_by_device_countuniq', 'ip_by_hour_countuniq', 'os_app_channel_count', 'channel', 'ip_by_channel_countuniq', 'ip_app_by_os_countuniq', 'hour', 'ip_hour_count', 'ip_count', 'app_channel_count', 'device', 'os_device_count', 'ip_app_count', 'ip_app_os_count', 'app', 'os', 'ip_device_os_by_app_countuniq', 'next_click', 'ip_device_count', 'app_by_channel_countuniq', 'ip_by_app_countuniq']\n",
      "preparing validation datasets\n"
     ]
    },
    {
     "data": {
      "text/plain": [
       "24"
      ]
     },
     "execution_count": 16,
     "metadata": {},
     "output_type": "execute_result"
    }
   ],
   "source": [
    "target = \"is_attributed\"\n",
    "categorical = ['app','os','channel','device','hour']\n",
    "predictors = list(set(x_train.columns)-set([target])-set(['click_time','category','epochtime','ip']))\n",
    "print(predictors)\n",
    "\n",
    "print(\"preparing validation datasets\")\n",
    "\n",
    "xgtrain = lgb.Dataset(x_train[predictors].values,\n",
    "                      label=y_train,\n",
    "                      feature_name=predictors,\n",
    "                      categorical_feature=categorical\n",
    "                      )\n",
    "\n",
    "del x_train\n",
    "del y_train\n",
    "gc.collect()\n",
    "\n",
    "xgvalid = lgb.Dataset(x_val[predictors].values,\n",
    "                      label=y_val,\n",
    "                      feature_name=predictors,\n",
    "                      categorical_feature=categorical\n",
    "                      )\n",
    "\n",
    "del x_val\n",
    "del y_val\n",
    "gc.collect()"
   ]
  },
  {
   "cell_type": "code",
   "execution_count": 17,
   "metadata": {
    "scrolled": false
   },
   "outputs": [
    {
     "name": "stderr",
     "output_type": "stream",
     "text": [
      "/home/um003580/.pyenv/versions/anaconda3-5.1.0/lib/python3.6/site-packages/lightgbm/basic.py:1036: UserWarning: Using categorical_feature in Dataset.\n",
      "  warnings.warn('Using categorical_feature in Dataset.')\n",
      "/home/um003580/.pyenv/versions/anaconda3-5.1.0/lib/python3.6/site-packages/lightgbm/basic.py:681: UserWarning: categorical_feature in param dict is overrided.\n",
      "  warnings.warn('categorical_feature in param dict is overrided.')\n"
     ]
    },
    {
     "name": "stdout",
     "output_type": "stream",
     "text": [
      "[1]\tvalid's auc: 0.946064\n",
      "Training until validation scores don't improve for 30 rounds.\n",
      "[2]\tvalid's auc: 0.966295\n",
      "[3]\tvalid's auc: 0.967151\n",
      "[4]\tvalid's auc: 0.967719\n",
      "[5]\tvalid's auc: 0.969444\n",
      "[6]\tvalid's auc: 0.969776\n",
      "[7]\tvalid's auc: 0.970232\n",
      "[8]\tvalid's auc: 0.970482\n",
      "[9]\tvalid's auc: 0.970741\n",
      "[10]\tvalid's auc: 0.970831\n",
      "[11]\tvalid's auc: 0.971199\n",
      "[12]\tvalid's auc: 0.971256\n",
      "[13]\tvalid's auc: 0.972113\n",
      "[14]\tvalid's auc: 0.97218\n",
      "[15]\tvalid's auc: 0.972616\n",
      "[16]\tvalid's auc: 0.97269\n",
      "[17]\tvalid's auc: 0.973174\n",
      "[18]\tvalid's auc: 0.973284\n",
      "[19]\tvalid's auc: 0.973751\n",
      "[20]\tvalid's auc: 0.974998\n",
      "[21]\tvalid's auc: 0.976039\n",
      "[22]\tvalid's auc: 0.97636\n",
      "[23]\tvalid's auc: 0.976717\n",
      "[24]\tvalid's auc: 0.976881\n",
      "[25]\tvalid's auc: 0.9775\n",
      "[26]\tvalid's auc: 0.977263\n",
      "[27]\tvalid's auc: 0.977712\n",
      "[28]\tvalid's auc: 0.978057\n",
      "[29]\tvalid's auc: 0.978154\n",
      "[30]\tvalid's auc: 0.978476\n",
      "[31]\tvalid's auc: 0.978675\n",
      "[32]\tvalid's auc: 0.979078\n",
      "[33]\tvalid's auc: 0.97946\n",
      "[34]\tvalid's auc: 0.979684\n",
      "[35]\tvalid's auc: 0.979924\n",
      "[36]\tvalid's auc: 0.980006\n",
      "[37]\tvalid's auc: 0.980025\n",
      "[38]\tvalid's auc: 0.980416\n",
      "[39]\tvalid's auc: 0.980747\n",
      "[40]\tvalid's auc: 0.981201\n",
      "[41]\tvalid's auc: 0.981343\n",
      "[42]\tvalid's auc: 0.98151\n",
      "[43]\tvalid's auc: 0.981812\n",
      "[44]\tvalid's auc: 0.981991\n",
      "[45]\tvalid's auc: 0.982305\n",
      "[46]\tvalid's auc: 0.982406\n",
      "[47]\tvalid's auc: 0.982654\n",
      "[48]\tvalid's auc: 0.982781\n",
      "[49]\tvalid's auc: 0.982994\n",
      "[50]\tvalid's auc: 0.983116\n",
      "[51]\tvalid's auc: 0.983229\n",
      "[52]\tvalid's auc: 0.983403\n",
      "[53]\tvalid's auc: 0.983525\n",
      "[54]\tvalid's auc: 0.983597\n",
      "[55]\tvalid's auc: 0.983728\n",
      "[56]\tvalid's auc: 0.983814\n",
      "[57]\tvalid's auc: 0.984049\n",
      "[58]\tvalid's auc: 0.984103\n",
      "[59]\tvalid's auc: 0.984151\n",
      "[60]\tvalid's auc: 0.984154\n",
      "[61]\tvalid's auc: 0.984208\n",
      "[62]\tvalid's auc: 0.984325\n",
      "[63]\tvalid's auc: 0.984394\n",
      "[64]\tvalid's auc: 0.984489\n",
      "[65]\tvalid's auc: 0.984529\n",
      "[66]\tvalid's auc: 0.98453\n",
      "[67]\tvalid's auc: 0.984635\n",
      "[68]\tvalid's auc: 0.984832\n",
      "[69]\tvalid's auc: 0.984834\n",
      "[70]\tvalid's auc: 0.984949\n",
      "[71]\tvalid's auc: 0.984946\n",
      "[72]\tvalid's auc: 0.984965\n",
      "[73]\tvalid's auc: 0.985033\n",
      "[74]\tvalid's auc: 0.985125\n",
      "[75]\tvalid's auc: 0.985207\n",
      "[76]\tvalid's auc: 0.985236\n",
      "[77]\tvalid's auc: 0.985225\n",
      "[78]\tvalid's auc: 0.985175\n",
      "[79]\tvalid's auc: 0.985248\n",
      "[80]\tvalid's auc: 0.985309\n",
      "[81]\tvalid's auc: 0.985273\n",
      "[82]\tvalid's auc: 0.9853\n",
      "[83]\tvalid's auc: 0.985329\n",
      "[84]\tvalid's auc: 0.985413\n",
      "[85]\tvalid's auc: 0.985489\n",
      "[86]\tvalid's auc: 0.985502\n",
      "[87]\tvalid's auc: 0.985482\n",
      "[88]\tvalid's auc: 0.985575\n",
      "[89]\tvalid's auc: 0.985619\n",
      "[90]\tvalid's auc: 0.985666\n",
      "[91]\tvalid's auc: 0.985694\n",
      "[92]\tvalid's auc: 0.985699\n",
      "[93]\tvalid's auc: 0.985676\n",
      "[94]\tvalid's auc: 0.985685\n",
      "[95]\tvalid's auc: 0.98575\n",
      "[96]\tvalid's auc: 0.985773\n",
      "[97]\tvalid's auc: 0.985769\n",
      "[98]\tvalid's auc: 0.985801\n",
      "[99]\tvalid's auc: 0.985782\n",
      "[100]\tvalid's auc: 0.98585\n",
      "[101]\tvalid's auc: 0.985865\n",
      "[102]\tvalid's auc: 0.985856\n",
      "[103]\tvalid's auc: 0.985932\n",
      "[104]\tvalid's auc: 0.985941\n",
      "[105]\tvalid's auc: 0.985975\n",
      "[106]\tvalid's auc: 0.985997\n",
      "[107]\tvalid's auc: 0.986039\n",
      "[108]\tvalid's auc: 0.986058\n",
      "[109]\tvalid's auc: 0.986064\n",
      "[110]\tvalid's auc: 0.986065\n",
      "[111]\tvalid's auc: 0.986068\n",
      "[112]\tvalid's auc: 0.986091\n",
      "[113]\tvalid's auc: 0.986086\n",
      "[114]\tvalid's auc: 0.986094\n",
      "[115]\tvalid's auc: 0.986092\n",
      "[116]\tvalid's auc: 0.986129\n",
      "[117]\tvalid's auc: 0.986147\n",
      "[118]\tvalid's auc: 0.986101\n",
      "[119]\tvalid's auc: 0.98613\n",
      "[120]\tvalid's auc: 0.986215\n",
      "[121]\tvalid's auc: 0.986274\n",
      "[122]\tvalid's auc: 0.986281\n",
      "[123]\tvalid's auc: 0.986314\n",
      "[124]\tvalid's auc: 0.98633\n",
      "[125]\tvalid's auc: 0.986323\n",
      "[126]\tvalid's auc: 0.986328\n",
      "[127]\tvalid's auc: 0.986333\n",
      "[128]\tvalid's auc: 0.986339\n",
      "[129]\tvalid's auc: 0.98638\n",
      "[130]\tvalid's auc: 0.986388\n",
      "[131]\tvalid's auc: 0.986376\n",
      "[132]\tvalid's auc: 0.98636\n",
      "[133]\tvalid's auc: 0.986404\n",
      "[134]\tvalid's auc: 0.986436\n",
      "[135]\tvalid's auc: 0.986458\n",
      "[136]\tvalid's auc: 0.986461\n",
      "[137]\tvalid's auc: 0.986489\n",
      "[138]\tvalid's auc: 0.986488\n",
      "[139]\tvalid's auc: 0.986503\n",
      "[140]\tvalid's auc: 0.986529\n",
      "[141]\tvalid's auc: 0.986533\n",
      "[142]\tvalid's auc: 0.986574\n",
      "[143]\tvalid's auc: 0.986643\n",
      "[144]\tvalid's auc: 0.986656\n",
      "[145]\tvalid's auc: 0.986665\n",
      "[146]\tvalid's auc: 0.986664\n",
      "[147]\tvalid's auc: 0.986683\n",
      "[148]\tvalid's auc: 0.986679\n",
      "[149]\tvalid's auc: 0.986689\n",
      "[150]\tvalid's auc: 0.986727\n",
      "[151]\tvalid's auc: 0.986752\n",
      "[152]\tvalid's auc: 0.986768\n",
      "[153]\tvalid's auc: 0.98678\n",
      "[154]\tvalid's auc: 0.986778\n",
      "[155]\tvalid's auc: 0.986826\n",
      "[156]\tvalid's auc: 0.986836\n",
      "[157]\tvalid's auc: 0.986871\n",
      "[158]\tvalid's auc: 0.986862\n",
      "[159]\tvalid's auc: 0.986872\n",
      "[160]\tvalid's auc: 0.986817\n",
      "[161]\tvalid's auc: 0.986834\n",
      "[162]\tvalid's auc: 0.986843\n",
      "[163]\tvalid's auc: 0.986847\n",
      "[164]\tvalid's auc: 0.986863\n",
      "[165]\tvalid's auc: 0.986882\n",
      "[166]\tvalid's auc: 0.98688\n",
      "[167]\tvalid's auc: 0.986929\n",
      "[168]\tvalid's auc: 0.98692\n",
      "[169]\tvalid's auc: 0.986902\n",
      "[170]\tvalid's auc: 0.986886\n",
      "[171]\tvalid's auc: 0.986973\n",
      "[172]\tvalid's auc: 0.986991\n",
      "[173]\tvalid's auc: 0.98699\n",
      "[174]\tvalid's auc: 0.986963\n",
      "[175]\tvalid's auc: 0.986963\n",
      "[176]\tvalid's auc: 0.986969\n",
      "[177]\tvalid's auc: 0.986981\n",
      "[178]\tvalid's auc: 0.987009\n",
      "[179]\tvalid's auc: 0.987053\n",
      "[180]\tvalid's auc: 0.987065\n",
      "[181]\tvalid's auc: 0.987093\n",
      "[182]\tvalid's auc: 0.987091\n",
      "[183]\tvalid's auc: 0.987078\n",
      "[184]\tvalid's auc: 0.98709\n",
      "[185]\tvalid's auc: 0.987121\n",
      "[186]\tvalid's auc: 0.987119\n",
      "[187]\tvalid's auc: 0.987143\n",
      "[188]\tvalid's auc: 0.987147\n",
      "[189]\tvalid's auc: 0.987152\n",
      "[190]\tvalid's auc: 0.987157\n",
      "[191]\tvalid's auc: 0.98717\n",
      "[192]\tvalid's auc: 0.987175\n",
      "[193]\tvalid's auc: 0.987182\n",
      "[194]\tvalid's auc: 0.987184\n",
      "[195]\tvalid's auc: 0.987191\n",
      "[196]\tvalid's auc: 0.987194\n",
      "[197]\tvalid's auc: 0.987199\n",
      "[198]\tvalid's auc: 0.987205\n",
      "[199]\tvalid's auc: 0.987209\n",
      "[200]\tvalid's auc: 0.987223\n",
      "[201]\tvalid's auc: 0.987223\n",
      "[202]\tvalid's auc: 0.987216\n",
      "[203]\tvalid's auc: 0.987223\n",
      "[204]\tvalid's auc: 0.987268\n",
      "[205]\tvalid's auc: 0.987274\n",
      "[206]\tvalid's auc: 0.987283\n",
      "[207]\tvalid's auc: 0.987306\n",
      "[208]\tvalid's auc: 0.987301\n",
      "[209]\tvalid's auc: 0.987304\n",
      "[210]\tvalid's auc: 0.98731\n",
      "[211]\tvalid's auc: 0.987308\n",
      "[212]\tvalid's auc: 0.987329\n",
      "[213]\tvalid's auc: 0.987339\n",
      "[214]\tvalid's auc: 0.987347\n",
      "[215]\tvalid's auc: 0.987332\n",
      "[216]\tvalid's auc: 0.987333\n",
      "[217]\tvalid's auc: 0.98732\n",
      "[218]\tvalid's auc: 0.987323\n",
      "[219]\tvalid's auc: 0.987339\n",
      "[220]\tvalid's auc: 0.987394\n",
      "[221]\tvalid's auc: 0.987414\n",
      "[222]\tvalid's auc: 0.987419\n",
      "[223]\tvalid's auc: 0.987424\n",
      "[224]\tvalid's auc: 0.987424\n",
      "[225]\tvalid's auc: 0.987429\n",
      "[226]\tvalid's auc: 0.98743\n",
      "[227]\tvalid's auc: 0.987435\n",
      "[228]\tvalid's auc: 0.98743\n",
      "[229]\tvalid's auc: 0.987425\n",
      "[230]\tvalid's auc: 0.987424\n",
      "[231]\tvalid's auc: 0.987439\n",
      "[232]\tvalid's auc: 0.98744\n",
      "[233]\tvalid's auc: 0.987457\n",
      "[234]\tvalid's auc: 0.987464\n",
      "[235]\tvalid's auc: 0.987467\n",
      "[236]\tvalid's auc: 0.987468\n",
      "[237]\tvalid's auc: 0.98747\n",
      "[238]\tvalid's auc: 0.987452\n",
      "[239]\tvalid's auc: 0.987455\n",
      "[240]\tvalid's auc: 0.987455\n",
      "[241]\tvalid's auc: 0.987469\n",
      "[242]\tvalid's auc: 0.987476\n",
      "[243]\tvalid's auc: 0.987479\n",
      "[244]\tvalid's auc: 0.987505\n",
      "[245]\tvalid's auc: 0.987508\n",
      "[246]\tvalid's auc: 0.987508\n",
      "[247]\tvalid's auc: 0.98752\n",
      "[248]\tvalid's auc: 0.987515\n",
      "[249]\tvalid's auc: 0.98751\n",
      "[250]\tvalid's auc: 0.987504\n",
      "Did not meet early stopping. Best iteration is:\n",
      "[247]\tvalid's auc: 0.98752\n"
     ]
    },
    {
     "data": {
      "text/plain": [
       "32"
      ]
     },
     "execution_count": 17,
     "metadata": {},
     "output_type": "execute_result"
    }
   ],
   "source": [
    "# gc.collect()\n",
    "booster = lgb.train(\n",
    "     lgb_params, \n",
    "     xgtrain,\n",
    "     valid_sets=[xgvalid],\n",
    "     valid_names=['valid'],\n",
    "     evals_result=evals_results, \n",
    "     num_boost_round=num_boost_round,\n",
    "     early_stopping_rounds=early_stopping_rounds,\n",
    "     verbose_eval=1\n",
    ")\n",
    "\n",
    "del xgvalid\n",
    "del xgtrain\n",
    "gc.collect()"
   ]
  },
  {
   "cell_type": "code",
   "execution_count": 18,
   "metadata": {},
   "outputs": [
    {
     "name": "stdout",
     "output_type": "stream",
     "text": [
      "\n",
      "Model Info:\n",
      "n_estimators: 247\n",
      "auc: 0.9875199092127325\n"
     ]
    }
   ],
   "source": [
    "n_estimators = booster.best_iteration\n",
    "metrics = 'auc'\n",
    "\n",
    "print('\\nModel Info:')\n",
    "print('n_estimators:', n_estimators)\n",
    "print(metrics+':', evals_results['valid'][metrics][n_estimators-1])"
   ]
  },
  {
   "cell_type": "code",
   "execution_count": 19,
   "metadata": {},
   "outputs": [
    {
     "data": {
      "image/png": "[encoded data removed]",
      "text/plain": [
       "<matplotlib.figure.Figure at 0x7fb77b140550>"
      ]
     },
     "metadata": {},
     "output_type": "display_data"
    }
   ],
   "source": [
    "ax = lgb.plot_importance(booster, max_num_features=100)\n",
    "plt.show()"
   ]
  },
  {
   "cell_type": "code",
   "execution_count": 20,
   "metadata": {},
   "outputs": [
    {
     "data": {
      "text/plain": [
       "<matplotlib.figure.Figure at 0x7fb5f9c47860>"
      ]
     },
     "metadata": {},
     "output_type": "display_data"
    }
   ],
   "source": [
    "plt.savefig('0504-1imp.png', dpi=600, bbox_inches='tight')"
   ]
  },
  {
   "cell_type": "code",
   "execution_count": 21,
   "metadata": {},
   "outputs": [
    {
     "data": {
      "text/plain": [
       "150"
      ]
     },
     "execution_count": 21,
     "metadata": {},
     "output_type": "execute_result"
    }
   ],
   "source": [
    "gc.collect()"
   ]
  },
  {
   "cell_type": "code",
   "execution_count": 22,
   "metadata": {},
   "outputs": [
    {
     "name": "stdout",
     "output_type": "stream",
     "text": [
      "[load test data] done in 15 s\n"
     ]
    }
   ],
   "source": [
    "with timer(\"load test data\"):\n",
    "    test_df = pd.read_csv(path+\"test.csv\", dtype=dtypes, usecols=['ip','app','device','os', 'channel', 'click_time', 'click_id'])"
   ]
  },
  {
   "cell_type": "code",
   "execution_count": 23,
   "metadata": {},
   "outputs": [],
   "source": [
    "test_df['click_time']= pd.to_datetime(test_df['click_time'])\n",
    "testsup_df['click_time']= pd.to_datetime(testsup_df['click_time'])"
   ]
  },
  {
   "cell_type": "code",
   "execution_count": 24,
   "metadata": {},
   "outputs": [
    {
     "name": "stdout",
     "output_type": "stream",
     "text": [
      "Predicting the submission data...\n",
      "projecting prediction onto test\n"
     ]
    }
   ],
   "source": [
    "# preditions=booster.predict(test_df[predictors].values)\n",
    "\n",
    "print(\"Predicting the submission data...\")\n",
    "\n",
    "testsup_df['is_attributed'] = booster.predict(testsup_df[predictors], num_iteration=booster.best_iteration)\n",
    "\n",
    "print('projecting prediction onto test')\n",
    "\n",
    "join_cols = ['ip', 'app', 'device', 'os', 'channel', 'click_time']\n",
    "all_cols = join_cols + ['is_attributed']"
   ]
  },
  {
   "cell_type": "code",
   "execution_count": 25,
   "metadata": {},
   "outputs": [],
   "source": [
    "test_df = test_df.merge(testsup_df[all_cols], how='left', on=join_cols)\n",
    "\n",
    "test_df = test_df.drop_duplicates(subset=['click_id'])"
   ]
  },
  {
   "cell_type": "code",
   "execution_count": 26,
   "metadata": {},
   "outputs": [
    {
     "data": {
      "text/html": [
       "<div>\n",
       "<style scoped>\n",
       "    .dataframe tbody tr th:only-of-type {\n",
       "        vertical-align: middle;\n",
       "    }\n",
       "\n",
       "    .dataframe tbody tr th {\n",
       "        vertical-align: top;\n",
       "    }\n",
       "\n",
       "    .dataframe thead th {\n",
       "        text-align: right;\n",
       "    }\n",
       "</style>\n",
       "<table border=\"1\" class=\"dataframe\">\n",
       "  <thead>\n",
       "    <tr style=\"text-align: right;\">\n",
       "      <th></th>\n",
       "      <th>click_id</th>\n",
       "      <th>ip</th>\n",
       "      <th>app</th>\n",
       "      <th>device</th>\n",
       "      <th>os</th>\n",
       "      <th>channel</th>\n",
       "      <th>click_time</th>\n",
       "      <th>is_attributed</th>\n",
       "    </tr>\n",
       "  </thead>\n",
       "  <tbody>\n",
       "    <tr>\n",
       "      <th>0</th>\n",
       "      <td>0</td>\n",
       "      <td>5744</td>\n",
       "      <td>9</td>\n",
       "      <td>1</td>\n",
       "      <td>3</td>\n",
       "      <td>107</td>\n",
       "      <td>2017-11-10 04:00:00</td>\n",
       "      <td>0.063350</td>\n",
       "    </tr>\n",
       "    <tr>\n",
       "      <th>1</th>\n",
       "      <td>1</td>\n",
       "      <td>119901</td>\n",
       "      <td>9</td>\n",
       "      <td>1</td>\n",
       "      <td>3</td>\n",
       "      <td>466</td>\n",
       "      <td>2017-11-10 04:00:00</td>\n",
       "      <td>0.010723</td>\n",
       "    </tr>\n",
       "    <tr>\n",
       "      <th>2</th>\n",
       "      <td>2</td>\n",
       "      <td>72287</td>\n",
       "      <td>21</td>\n",
       "      <td>1</td>\n",
       "      <td>19</td>\n",
       "      <td>128</td>\n",
       "      <td>2017-11-10 04:00:00</td>\n",
       "      <td>0.001795</td>\n",
       "    </tr>\n",
       "    <tr>\n",
       "      <th>3</th>\n",
       "      <td>3</td>\n",
       "      <td>78477</td>\n",
       "      <td>15</td>\n",
       "      <td>1</td>\n",
       "      <td>13</td>\n",
       "      <td>111</td>\n",
       "      <td>2017-11-10 04:00:00</td>\n",
       "      <td>0.026893</td>\n",
       "    </tr>\n",
       "    <tr>\n",
       "      <th>4</th>\n",
       "      <td>4</td>\n",
       "      <td>123080</td>\n",
       "      <td>12</td>\n",
       "      <td>1</td>\n",
       "      <td>13</td>\n",
       "      <td>328</td>\n",
       "      <td>2017-11-10 04:00:00</td>\n",
       "      <td>0.004572</td>\n",
       "    </tr>\n",
       "  </tbody>\n",
       "</table>\n",
       "</div>"
      ],
      "text/plain": [
       "   click_id      ip  app  device  os  channel          click_time  \\\n",
       "0         0    5744    9       1   3      107 2017-11-10 04:00:00   \n",
       "1         1  119901    9       1   3      466 2017-11-10 04:00:00   \n",
       "2         2   72287   21       1  19      128 2017-11-10 04:00:00   \n",
       "3         3   78477   15       1  13      111 2017-11-10 04:00:00   \n",
       "4         4  123080   12       1  13      328 2017-11-10 04:00:00   \n",
       "\n",
       "   is_attributed  \n",
       "0       0.063350  \n",
       "1       0.010723  \n",
       "2       0.001795  \n",
       "3       0.026893  \n",
       "4       0.004572  "
      ]
     },
     "execution_count": 26,
     "metadata": {},
     "output_type": "execute_result"
    }
   ],
   "source": [
    "test_df.head()"
   ]
  },
  {
   "cell_type": "code",
   "execution_count": 27,
   "metadata": {},
   "outputs": [
    {
     "data": {
      "text/plain": [
       "click_id         18790469\n",
       "ip               18790469\n",
       "app              18790469\n",
       "device           18790469\n",
       "os               18790469\n",
       "channel          18790469\n",
       "click_time       18790469\n",
       "is_attributed    18790469\n",
       "dtype: int64"
      ]
     },
     "execution_count": 27,
     "metadata": {},
     "output_type": "execute_result"
    }
   ],
   "source": [
    "test_df.count()"
   ]
  },
  {
   "cell_type": "code",
   "execution_count": 28,
   "metadata": {},
   "outputs": [
    {
     "name": "stdout",
     "output_type": "stream",
     "text": [
      "Writing the submission data into a csv file...\n",
      "All done...\n"
     ]
    }
   ],
   "source": [
    "print(\"Writing the submission data into a csv file...\")\n",
    "\n",
    "test_df[['click_id', 'is_attributed']].to_csv('0504-1.csv', index=False)\n",
    "\n",
    "print(\"All done...\")"
   ]
  },
  {
   "cell_type": "code",
   "execution_count": 2,
   "metadata": {},
   "outputs": [
    {
     "ename": "NameError",
     "evalue": "name 'testsup_df' is not defined",
     "output_type": "error",
     "traceback": [
      "\u001b[0;31m---------------------------------------------------------------------------\u001b[0m",
      "\u001b[0;31mNameError\u001b[0m                                 Traceback (most recent call last)",
      "\u001b[0;32m<ipython-input-2-6afae594bb05>\u001b[0m in \u001b[0;36m<module>\u001b[0;34m()\u001b[0m\n\u001b[0;32m----> 1\u001b[0;31m \u001b[0mtestsup_df\u001b[0m\u001b[0;34m.\u001b[0m\u001b[0mhead\u001b[0m\u001b[0;34m(\u001b[0m\u001b[0;34m)\u001b[0m\u001b[0;34m\u001b[0m\u001b[0m\n\u001b[0m",
      "\u001b[0;31mNameError\u001b[0m: name 'testsup_df' is not defined"
     ]
    }
   ],
   "source": [
    "testsup_df.head()"
   ]
  },
  {
   "cell_type": "code",
   "execution_count": null,
   "metadata": {},
   "outputs": [],
   "source": []
  }
 ],
 "metadata": {
  "kernelspec": {
   "display_name": "Python 3",
   "language": "python",
   "name": "python3"
  },
  "language_info": {
   "codemirror_mode": {
    "name": "ipython",
    "version": 3
   },
   "file_extension": ".py",
   "mimetype": "text/x-python",
   "name": "python",
   "nbconvert_exporter": "python",
   "pygments_lexer": "ipython3",
   "version": "3.6.4"
  }
 },
 "nbformat": 4,
 "nbformat_minor": 2
}
