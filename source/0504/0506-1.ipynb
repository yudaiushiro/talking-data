{
 "cells": [
  {
   "cell_type": "markdown",
   "metadata": {},
   "source": [
    "train120m-180m, train:valid 90:10(shuffle)  \n",
    "num_boost_round = 10000, early_stopping_rounds = 50  \n",
    "\n",
    "特徴量追加  \n",
    "（ip\tchannel\thour count）\n",
    "\n",
    "next_Click\n",
    "{'groupby': ['ip']},\n",
    "{'groupby': ['ip', 'app']},\n",
    "{'groupby': ['ip', 'channel']},\n",
    "{'groupby': ['ip', 'os']},"
   ]
  },
  {
   "cell_type": "code",
   "execution_count": 1,
   "metadata": {},
   "outputs": [],
   "source": [
    "import pandas as pd\n",
    "import time\n",
    "import numpy as np\n",
    "from sklearn.model_selection import train_test_split\n",
    "import lightgbm as lgb\n",
    "import gc\n",
    "from contextlib import contextmanager\n",
    "import matplotlib.pyplot as plt"
   ]
  },
  {
   "cell_type": "code",
   "execution_count": 2,
   "metadata": {},
   "outputs": [],
   "source": [
    "@contextmanager\n",
    "def timer(name):\n",
    "    t0 = time.time()\n",
    "    yield\n",
    "    print(f'[{name}] done in {time.time() - t0:.0f} s')\n",
    "    \n",
    "def do_next_Click(df,agg_suffix='nextClick', agg_type='float32'):\n",
    "    with timer(\"Adding next click times\"):\n",
    "    \n",
    "        print(f\">> \\nExtracting {agg_suffix} time calculation features...\\n\")\n",
    "\n",
    "        GROUP_BY_NEXT_CLICKS = [\n",
    "\n",
    "        # V1\n",
    "        {'groupby': ['ip']},\n",
    "        {'groupby': ['ip', 'app']},\n",
    "        {'groupby': ['ip', 'channel']},\n",
    "        {'groupby': ['ip', 'os']},\n",
    "\n",
    "        # V3\n",
    "#         {'groupby': ['ip', 'app', 'device', 'os', 'channel']},\n",
    "#         {'groupby': ['ip', 'os', 'device']},\n",
    "#         {'groupby': ['ip', 'os', 'device', 'app']},\n",
    "    #     {'groupby': ['device']},\n",
    "    #     {'groupby': ['device', 'channel']},     \n",
    "#         {'groupby': ['app', 'device', 'channel']},\n",
    "#         {'groupby': ['device', 'hour']}\n",
    "        ]\n",
    "\n",
    "        # Calculate the time to next click for each group\n",
    "        for spec in GROUP_BY_NEXT_CLICKS:\n",
    "\n",
    "           # Name of new feature\n",
    "            new_feature = '{}_{}'.format('_'.join(spec['groupby']),agg_suffix)    \n",
    "\n",
    "            # Unique list of features to select\n",
    "            all_features = spec['groupby'] + ['click_time']\n",
    "\n",
    "            # Run calculation\n",
    "            print(f\">> Grouping by {spec['groupby']}, and saving time to {agg_suffix} in: {new_feature}\")\n",
    "            df[new_feature] = (df[all_features].groupby(spec[\n",
    "                'groupby']).click_time.shift(-1) - df.click_time).dt.seconds.astype(agg_type)\n",
    "\n",
    "#             predictors.append(new_feature)\n",
    "            gc.collect()\n",
    "        return (df)\n",
    "\n",
    "def df_add_counts(df, cols):\n",
    "    arr_slice = df[cols].values\n",
    "    unq, unqtags, counts = np.unique(np.ravel_multi_index(arr_slice.T, arr_slice.max(axis=0) + 1),\n",
    "                                     return_inverse=True, return_counts=True)\n",
    "    df[\"_\".join(cols)+'_count'] = counts[unqtags]\n",
    "    gc.collect()\n",
    "    \n",
    "def make_count_features(df):\n",
    "    with timer(\"add count features\"):\n",
    "#         df['click_time']= pd.to_datetime(df['click_time'])\n",
    "#         dt= df['click_time'].dt\n",
    "#         df['day'] = dt.day.astype('uint8')\n",
    "#         df['hour'] = dt.hour.astype('uint8')\n",
    "#         df['minute'] = dt.minute.astype('uint8')\n",
    "#         df['second'] = dt.second.astype('uint8')#secondを追加\n",
    "\n",
    "#         del(dt)\n",
    "    \n",
    "        df_add_counts(df, ['ip','channel','hour'])\n",
    "#         df_add_counts(df, ['ip','day'])\n",
    "#         df_add_counts(df, ['ip','day','hour','channel'])\n",
    "\n",
    "        \n",
    "#         df_add_counts(df, ['ip'])\n",
    "# #         df_add_counts(df, ['ip','day','hour','minute'])\n",
    "#         df_add_counts(df, ['os','device'])\n",
    "#         df_add_counts(df, ['os','app','channel'])\n",
    "        \n",
    "#         df_add_counts(df, ['ip', 'hour'])\n",
    "#         df_add_counts(df, ['ip', 'app'])\n",
    "#         df_add_counts(df, ['ip', 'app', 'os'])\n",
    "#         df_add_counts(df, ['ip', 'device'])\n",
    "#         df_add_counts(df, ['app', 'channel'])\n",
    "\n",
    "def do_countuniq( df, group_cols, counted, agg_type='uint32', show_max=False, show_agg=True ):\n",
    "    agg_name= '{}_by_{}_countuniq'.format(('_'.join(group_cols)),(counted))  \n",
    "    if show_agg:\n",
    "        print( \"\\nCounting unqiue \", counted, \" by \", group_cols ,  '... and saved in', agg_name )\n",
    "    gp = df[group_cols+[counted]].groupby(group_cols)[counted].nunique().reset_index().rename(columns={counted:agg_name})\n",
    "    df = df.merge(gp, on=group_cols, how='left')\n",
    "    del gp\n",
    "    if show_max:\n",
    "        print( agg_name + \" max value = \", df[agg_name].max() )\n",
    "    df[agg_name] = df[agg_name].astype(agg_type)\n",
    "#     predictors.append(agg_name)\n",
    "#     print('predictors',predictors)\n",
    "    gc.collect()\n",
    "    return( df )\n",
    "\n",
    "def make_countuniq_features(df):\n",
    "    with timer(\"add countuniq features\"):\n",
    "        df = do_countuniq( df, ['ip'], 'channel' ); gc.collect()\n",
    "        df = do_countuniq( df, ['ip', 'device', 'os'], 'app'); gc.collect()\n",
    "        df = do_countuniq( df, ['ip'], 'hour' ); gc.collect()\n",
    "        df = do_countuniq( df, ['ip'], 'app'); gc.collect()\n",
    "        df = do_countuniq( df, ['ip', 'app'], 'os'); gc.collect()\n",
    "        df = do_countuniq( df, ['ip'], 'device'); gc.collect()\n",
    "        df = do_countuniq( df, ['app'], 'channel'); gc.collect()\n",
    "        return(df)\n",
    "\n",
    "# def make_next_click_feature(df):\n",
    "#     with timer(\"Adding next click times\"):\n",
    "#         D= 2**26\n",
    "#         df['category'] = (df['ip'].astype(str) + \"_\" + df['app'].astype(str) + \"_\" + df['device'].astype(str) \\\n",
    "#                          + \"_\" + df['os'].astype(str)).apply(hash) % D\n",
    "#         click_buffer= np.full(D, 3000000000, dtype=np.uint32)\n",
    "#         df['epochtime']= df['click_time'].astype(np.int64) // 10 ** 9\n",
    "#         next_clicks= []\n",
    "#         for category, time in zip(reversed(df['category'].values), reversed(df['epochtime'].values)):\n",
    "#             next_clicks.append(click_buffer[category]-time)\n",
    "#             click_buffer[category]= time\n",
    "#         del(click_buffer)\n",
    "#         df['next_click']= list(reversed(next_clicks))\n",
    "#         gc.collect()\n",
    "        \n",
    "path = '~/talkingdata/input/'\n",
    "\n",
    "dtypes = {\n",
    "        'ip'            : 'uint32',\n",
    "        'app'           : 'uint16',\n",
    "        'device'        : 'uint16',\n",
    "        'os'            : 'uint16',\n",
    "        'channel'       : 'uint16',\n",
    "        'is_attributed' : 'uint8',\n",
    "        'click_id'      : 'uint32'\n",
    "        }\n",
    "\n",
    "columns = ['ip','app','device','os', 'channel', 'click_time', 'is_attributed']"
   ]
  },
  {
   "cell_type": "code",
   "execution_count": 3,
   "metadata": {},
   "outputs": [
    {
     "name": "stdout",
     "output_type": "stream",
     "text": [
      "[load training data] done in 120 s\n",
      "[load test data] done in 43 s\n"
     ]
    }
   ],
   "source": [
    "with timer(\"load training data\"):\n",
    "    train_df = pd.read_csv(path+\"train.csv\",skiprows=range(1,122071518), usecols=['ip','app','device','os', 'channel', 'click_time', 'is_attributed'], dtype=dtypes)\n",
    "\n",
    "with timer(\"load test data\"):\n",
    "    testsup_df = pd.read_csv(path+\"test_supplement.csv\", dtype=dtypes, usecols=['ip','app','device','os', 'channel', 'click_time', 'click_id'])"
   ]
  },
  {
   "cell_type": "code",
   "execution_count": 4,
   "metadata": {},
   "outputs": [
    {
     "data": {
      "text/plain": [
       "64"
      ]
     },
     "execution_count": 4,
     "metadata": {},
     "output_type": "execute_result"
    }
   ],
   "source": [
    "num_train = train_df.shape[0]\n",
    "\n",
    "y = train_df.is_attributed.values\n",
    "gc.collect()\n",
    "\n",
    "# sub = pd.DataFrame()\n",
    "# sub['click_id'] = test_df.click_id.values\n",
    "\n",
    "common_column = ['ip','app','device','os','channel','click_time']\n",
    "concat_df = pd.concat([train_df[common_column],testsup_df[common_column]])\n",
    "\n",
    "del train_df, testsup_df\n",
    "gc.collect()"
   ]
  },
  {
   "cell_type": "code",
   "execution_count": 5,
   "metadata": {},
   "outputs": [],
   "source": [
    "# from multiprocessing import Pool\n",
    "# import multiprocessing as multi\n",
    "\n",
    "# p = Pool(multi.cpu_count())\n",
    "# p.map(make_count_features, concat_df)\n",
    "# p.close()"
   ]
  },
  {
   "cell_type": "code",
   "execution_count": 6,
   "metadata": {},
   "outputs": [
    {
     "name": "stdout",
     "output_type": "stream",
     "text": [
      "[add count features] done in 456 s\n"
     ]
    }
   ],
   "source": [
    "make_count_features(concat_df)"
   ]
  },
  {
   "cell_type": "code",
   "execution_count": 7,
   "metadata": {},
   "outputs": [
    {
     "name": "stdout",
     "output_type": "stream",
     "text": [
      "\n",
      "Counting unqiue  channel  by  ['ip'] ... and saved in ip_by_channel_countuniq\n",
      "\n",
      "Counting unqiue  app  by  ['ip', 'device', 'os'] ... and saved in ip_device_os_by_app_countuniq\n",
      "\n",
      "Counting unqiue  hour  by  ['ip'] ... and saved in ip_by_hour_countuniq\n",
      "\n",
      "Counting unqiue  app  by  ['ip'] ... and saved in ip_by_app_countuniq\n",
      "\n",
      "Counting unqiue  os  by  ['ip', 'app'] ... and saved in ip_app_by_os_countuniq\n",
      "\n",
      "Counting unqiue  device  by  ['ip'] ... and saved in ip_by_device_countuniq\n",
      "\n",
      "Counting unqiue  channel  by  ['app'] ... and saved in app_by_channel_countuniq\n",
      "[add countuniq features] done in 1032 s\n"
     ]
    },
    {
     "data": {
      "text/plain": [
       "41"
      ]
     },
     "execution_count": 7,
     "metadata": {},
     "output_type": "execute_result"
    }
   ],
   "source": [
    "concat_df = make_countuniq_features(concat_df)\n",
    "\n",
    "gc.collect()"
   ]
  },
  {
   "cell_type": "code",
   "execution_count": 15,
   "metadata": {},
   "outputs": [
    {
     "name": "stdout",
     "output_type": "stream",
     "text": [
      ">> \n",
      "Extracting nextClick time calculation features...\n",
      "\n",
      ">> Grouping by ['ip', 'os', 'device', 'app'], and saving time to nextClick in: ip_os_device_app_nextClick\n",
      ">> Grouping by ['app', 'device', 'channel'], and saving time to nextClick in: app_device_channel_nextClick\n",
      "[Adding next click times] done in 1464 s\n"
     ]
    },
    {
     "data": {
      "text/plain": [
       "0"
      ]
     },
     "execution_count": 15,
     "metadata": {},
     "output_type": "execute_result"
    }
   ],
   "source": [
    "concat_df = do_next_Click(concat_df)\n",
    "gc.collect()"
   ]
  },
  {
   "cell_type": "code",
   "execution_count": 16,
   "metadata": {},
   "outputs": [
    {
     "data": {
      "text/html": [
       "<div>\n",
       "<style scoped>\n",
       "    .dataframe tbody tr th:only-of-type {\n",
       "        vertical-align: middle;\n",
       "    }\n",
       "\n",
       "    .dataframe tbody tr th {\n",
       "        vertical-align: top;\n",
       "    }\n",
       "\n",
       "    .dataframe thead th {\n",
       "        text-align: right;\n",
       "    }\n",
       "</style>\n",
       "<table border=\"1\" class=\"dataframe\">\n",
       "  <thead>\n",
       "    <tr style=\"text-align: right;\">\n",
       "      <th></th>\n",
       "      <th>ip</th>\n",
       "      <th>app</th>\n",
       "      <th>device</th>\n",
       "      <th>os</th>\n",
       "      <th>channel</th>\n",
       "      <th>click_time</th>\n",
       "      <th>hour</th>\n",
       "      <th>ip_count</th>\n",
       "      <th>os_device_count</th>\n",
       "      <th>os_app_channel_count</th>\n",
       "      <th>...</th>\n",
       "      <th>ip_device_os_by_app_countuniq</th>\n",
       "      <th>ip_by_hour_countuniq</th>\n",
       "      <th>ip_by_app_countuniq</th>\n",
       "      <th>ip_app_by_os_countuniq</th>\n",
       "      <th>ip_by_device_countuniq</th>\n",
       "      <th>app_by_channel_countuniq</th>\n",
       "      <th>ip_app_device_os_channel_nextClick</th>\n",
       "      <th>ip_os_device_nextClick</th>\n",
       "      <th>ip_os_device_app_nextClick</th>\n",
       "      <th>app_device_channel_nextClick</th>\n",
       "    </tr>\n",
       "  </thead>\n",
       "  <tbody>\n",
       "    <tr>\n",
       "      <th>0</th>\n",
       "      <td>62766</td>\n",
       "      <td>7</td>\n",
       "      <td>3543</td>\n",
       "      <td>748</td>\n",
       "      <td>101</td>\n",
       "      <td>2017-11-08 16:00:00</td>\n",
       "      <td>16</td>\n",
       "      <td>3103</td>\n",
       "      <td>1</td>\n",
       "      <td>1</td>\n",
       "      <td>...</td>\n",
       "      <td>1</td>\n",
       "      <td>24</td>\n",
       "      <td>43</td>\n",
       "      <td>10</td>\n",
       "      <td>7</td>\n",
       "      <td>3</td>\n",
       "      <td>NaN</td>\n",
       "      <td>NaN</td>\n",
       "      <td>NaN</td>\n",
       "      <td>NaN</td>\n",
       "    </tr>\n",
       "    <tr>\n",
       "      <th>1</th>\n",
       "      <td>108229</td>\n",
       "      <td>15</td>\n",
       "      <td>1</td>\n",
       "      <td>19</td>\n",
       "      <td>245</td>\n",
       "      <td>2017-11-08 16:00:00</td>\n",
       "      <td>16</td>\n",
       "      <td>7399</td>\n",
       "      <td>27561927</td>\n",
       "      <td>289727</td>\n",
       "      <td>...</td>\n",
       "      <td>32</td>\n",
       "      <td>24</td>\n",
       "      <td>46</td>\n",
       "      <td>44</td>\n",
       "      <td>12</td>\n",
       "      <td>27</td>\n",
       "      <td>371.0</td>\n",
       "      <td>58.0</td>\n",
       "      <td>200.0</td>\n",
       "      <td>1.0</td>\n",
       "    </tr>\n",
       "    <tr>\n",
       "      <th>2</th>\n",
       "      <td>73487</td>\n",
       "      <td>12</td>\n",
       "      <td>2</td>\n",
       "      <td>22</td>\n",
       "      <td>326</td>\n",
       "      <td>2017-11-08 16:00:00</td>\n",
       "      <td>16</td>\n",
       "      <td>486915</td>\n",
       "      <td>158918</td>\n",
       "      <td>14319</td>\n",
       "      <td>...</td>\n",
       "      <td>28</td>\n",
       "      <td>24</td>\n",
       "      <td>173</td>\n",
       "      <td>125</td>\n",
       "      <td>148</td>\n",
       "      <td>32</td>\n",
       "      <td>181.0</td>\n",
       "      <td>15.0</td>\n",
       "      <td>181.0</td>\n",
       "      <td>1.0</td>\n",
       "    </tr>\n",
       "    <tr>\n",
       "      <th>3</th>\n",
       "      <td>238206</td>\n",
       "      <td>14</td>\n",
       "      <td>1</td>\n",
       "      <td>19</td>\n",
       "      <td>379</td>\n",
       "      <td>2017-11-08 16:00:00</td>\n",
       "      <td>16</td>\n",
       "      <td>1</td>\n",
       "      <td>27561927</td>\n",
       "      <td>319932</td>\n",
       "      <td>...</td>\n",
       "      <td>1</td>\n",
       "      <td>1</td>\n",
       "      <td>1</td>\n",
       "      <td>1</td>\n",
       "      <td>1</td>\n",
       "      <td>38</td>\n",
       "      <td>NaN</td>\n",
       "      <td>NaN</td>\n",
       "      <td>NaN</td>\n",
       "      <td>1.0</td>\n",
       "    </tr>\n",
       "    <tr>\n",
       "      <th>4</th>\n",
       "      <td>27482</td>\n",
       "      <td>26</td>\n",
       "      <td>1</td>\n",
       "      <td>32</td>\n",
       "      <td>121</td>\n",
       "      <td>2017-11-08 16:00:00</td>\n",
       "      <td>16</td>\n",
       "      <td>3958</td>\n",
       "      <td>1006744</td>\n",
       "      <td>9873</td>\n",
       "      <td>...</td>\n",
       "      <td>17</td>\n",
       "      <td>24</td>\n",
       "      <td>47</td>\n",
       "      <td>17</td>\n",
       "      <td>12</td>\n",
       "      <td>5</td>\n",
       "      <td>32379.0</td>\n",
       "      <td>16.0</td>\n",
       "      <td>927.0</td>\n",
       "      <td>1.0</td>\n",
       "    </tr>\n",
       "  </tbody>\n",
       "</table>\n",
       "<p>5 rows × 26 columns</p>\n",
       "</div>"
      ],
      "text/plain": [
       "       ip  app  device   os  channel          click_time  hour  ip_count  \\\n",
       "0   62766    7    3543  748      101 2017-11-08 16:00:00    16      3103   \n",
       "1  108229   15       1   19      245 2017-11-08 16:00:00    16      7399   \n",
       "2   73487   12       2   22      326 2017-11-08 16:00:00    16    486915   \n",
       "3  238206   14       1   19      379 2017-11-08 16:00:00    16         1   \n",
       "4   27482   26       1   32      121 2017-11-08 16:00:00    16      3958   \n",
       "\n",
       "   os_device_count  os_app_channel_count              ...               \\\n",
       "0                1                     1              ...                \n",
       "1         27561927                289727              ...                \n",
       "2           158918                 14319              ...                \n",
       "3         27561927                319932              ...                \n",
       "4          1006744                  9873              ...                \n",
       "\n",
       "   ip_device_os_by_app_countuniq  ip_by_hour_countuniq  ip_by_app_countuniq  \\\n",
       "0                              1                    24                   43   \n",
       "1                             32                    24                   46   \n",
       "2                             28                    24                  173   \n",
       "3                              1                     1                    1   \n",
       "4                             17                    24                   47   \n",
       "\n",
       "   ip_app_by_os_countuniq  ip_by_device_countuniq  app_by_channel_countuniq  \\\n",
       "0                      10                       7                         3   \n",
       "1                      44                      12                        27   \n",
       "2                     125                     148                        32   \n",
       "3                       1                       1                        38   \n",
       "4                      17                      12                         5   \n",
       "\n",
       "   ip_app_device_os_channel_nextClick  ip_os_device_nextClick  \\\n",
       "0                                 NaN                     NaN   \n",
       "1                               371.0                    58.0   \n",
       "2                               181.0                    15.0   \n",
       "3                                 NaN                     NaN   \n",
       "4                             32379.0                    16.0   \n",
       "\n",
       "   ip_os_device_app_nextClick  app_device_channel_nextClick  \n",
       "0                         NaN                           NaN  \n",
       "1                       200.0                           1.0  \n",
       "2                       181.0                           1.0  \n",
       "3                         NaN                           1.0  \n",
       "4                       927.0                           1.0  \n",
       "\n",
       "[5 rows x 26 columns]"
      ]
     },
     "execution_count": 16,
     "metadata": {},
     "output_type": "execute_result"
    }
   ],
   "source": [
    "concat_df.head()"
   ]
  },
  {
   "cell_type": "code",
   "execution_count": 17,
   "metadata": {},
   "outputs": [
    {
     "data": {
      "text/plain": [
       "60"
      ]
     },
     "execution_count": 17,
     "metadata": {},
     "output_type": "execute_result"
    }
   ],
   "source": [
    "train_df = concat_df.iloc[:num_train]\n",
    "testsup_df = concat_df.iloc[num_train:]\n",
    "\n",
    "del concat_df\n",
    "gc.collect()"
   ]
  },
  {
   "cell_type": "code",
   "execution_count": 1,
   "metadata": {},
   "outputs": [
    {
     "name": "stdout",
     "output_type": "stream",
     "text": [
      "|            Variable Name|    Memory|\n",
      " ------------------------------------ \n",
      "|                       In|        96|\n",
      "|                      Out|       240|\n",
      "|                     exit|        56|\n",
      "|              get_ipython|        64|\n",
      "|                     quit|        56|\n",
      "|                      sys|        80|\n"
     ]
    },
    {
     "ename": "NameError",
     "evalue": "name 'gc' is not defined",
     "output_type": "error",
     "traceback": [
      "\u001b[0;31m---------------------------------------------------------------------------\u001b[0m",
      "\u001b[0;31mNameError\u001b[0m                                 Traceback (most recent call last)",
      "\u001b[0;32m<ipython-input-1-fee1e330b955>\u001b[0m in \u001b[0;36m<module>\u001b[0;34m()\u001b[0m\n\u001b[1;32m      6\u001b[0m     \u001b[0;32mif\u001b[0m \u001b[0;32mnot\u001b[0m \u001b[0mvar_name\u001b[0m\u001b[0;34m.\u001b[0m\u001b[0mstartswith\u001b[0m\u001b[0;34m(\u001b[0m\u001b[0;34m\"_\"\u001b[0m\u001b[0;34m)\u001b[0m\u001b[0;34m:\u001b[0m\u001b[0;34m\u001b[0m\u001b[0m\n\u001b[1;32m      7\u001b[0m         \u001b[0mprint\u001b[0m\u001b[0;34m(\u001b[0m\u001b[0;34m\"{}{: >25}{}{: >10}{}\"\u001b[0m\u001b[0;34m.\u001b[0m\u001b[0mformat\u001b[0m\u001b[0;34m(\u001b[0m\u001b[0;34m'|'\u001b[0m\u001b[0;34m,\u001b[0m\u001b[0mvar_name\u001b[0m\u001b[0;34m,\u001b[0m\u001b[0;34m'|'\u001b[0m\u001b[0;34m,\u001b[0m\u001b[0msys\u001b[0m\u001b[0;34m.\u001b[0m\u001b[0mgetsizeof\u001b[0m\u001b[0;34m(\u001b[0m\u001b[0meval\u001b[0m\u001b[0;34m(\u001b[0m\u001b[0mvar_name\u001b[0m\u001b[0;34m)\u001b[0m\u001b[0;34m)\u001b[0m\u001b[0;34m,\u001b[0m\u001b[0;34m'|'\u001b[0m\u001b[0;34m)\u001b[0m\u001b[0;34m)\u001b[0m\u001b[0;34m\u001b[0m\u001b[0m\n\u001b[0;32m----> 8\u001b[0;31m \u001b[0mgc\u001b[0m\u001b[0;34m.\u001b[0m\u001b[0mcollect\u001b[0m\u001b[0;34m(\u001b[0m\u001b[0;34m)\u001b[0m\u001b[0;34m\u001b[0m\u001b[0m\n\u001b[0m",
      "\u001b[0;31mNameError\u001b[0m: name 'gc' is not defined"
     ]
    }
   ],
   "source": [
    "import sys\n",
    "\n",
    "print(\"{}{: >25}{}{: >10}{}\".format('|','Variable Name','|','Memory','|'))\n",
    "print(\" ------------------------------------ \")\n",
    "for var_name in dir():\n",
    "    if not var_name.startswith(\"_\"):\n",
    "        print(\"{}{: >25}{}{: >10}{}\".format('|',var_name,'|',sys.getsizeof(eval(var_name)),'|'))\n",
    "gc.collect()"
   ]
  },
  {
   "cell_type": "code",
   "execution_count": 3,
   "metadata": {},
   "outputs": [],
   "source": [
    "# ここから特徴量の追加\n",
    "import pickle\n",
    "# train_df = pd.DataFrame()\n",
    "with open('train_after.csv.pkl','rb') as f:\n",
    "  train_df = pickle.load(f)\n",
    "\n",
    "with open('testsup_after.csv.pkl','rb') as f:\n",
    "  testsup_df = pickle.load(f)\n",
    "\n",
    "with open('y.csv.pkl','rb') as f:\n",
    "  y = pickle.load(f)"
   ]
  },
  {
   "cell_type": "code",
   "execution_count": 4,
   "metadata": {},
   "outputs": [
    {
     "data": {
      "text/plain": [
       "204"
      ]
     },
     "execution_count": 4,
     "metadata": {},
     "output_type": "execute_result"
    }
   ],
   "source": [
    "# common_column = ['ip','app','device','os','channel','click_time']\n",
    "concat_df = pd.concat([train_df,testsup_df])\n",
    "\n",
    "del train_df, testsup_df\n",
    "gc.collect()"
   ]
  },
  {
   "cell_type": "code",
   "execution_count": 5,
   "metadata": {},
   "outputs": [],
   "source": [
    "def do_cumcount( df, group_cols, counted, agg_name, agg_type='uint16', show_max=False, show_agg=True ):\n",
    "    if show_agg:\n",
    "        print( \"Cumulative count by \", group_cols , '...' )\n",
    "    gp = df[group_cols+[counted]].groupby(group_cols)[counted].cumcount()\n",
    "    df[agg_name]=gp.values\n",
    "    del gp\n",
    "    if show_max:\n",
    "        print( agg_name + \" max value = \", df[agg_name].max() )\n",
    "    df[agg_name] = df[agg_name].astype(agg_type)\n",
    "    gc.collect()\n",
    "    return( df )"
   ]
  },
  {
   "cell_type": "code",
   "execution_count": 6,
   "metadata": {},
   "outputs": [
    {
     "name": "stdout",
     "output_type": "stream",
     "text": [
      "[add count features] done in 89 s\n"
     ]
    }
   ],
   "source": [
    "make_count_features(concat_df)"
   ]
  },
  {
   "cell_type": "code",
   "execution_count": 7,
   "metadata": {},
   "outputs": [
    {
     "name": "stdout",
     "output_type": "stream",
     "text": [
      "Cumulative count by  ['ip', 'device', 'os'] ...\n",
      "cumcount_ip_dev_os max value =  179655\n",
      "Cumulative count by  ['ip'] ...\n",
      "cumcount_ip_dev_os max value =  928931\n",
      "Cumulative count by  ['ip'] ...\n",
      "cumcount_ip_dev_os max value =  928931\n"
     ]
    },
    {
     "data": {
      "text/plain": [
       "0"
      ]
     },
     "execution_count": 7,
     "metadata": {},
     "output_type": "execute_result"
    }
   ],
   "source": [
    "concat_df = do_cumcount(concat_df, ['ip', 'device', 'os'], 'app', 'cumcount_ip_dev_os', show_max=True )\n",
    "concat_df = do_cumcount(concat_df, ['ip'], 'app', 'cumcount_ip_dev_os', show_max=True )\n",
    "concat_df = do_cumcount(concat_df, ['ip'], 'os', 'cumcount_ip_dev_os', show_max=True )\n",
    "gc.collect()"
   ]
  },
  {
   "cell_type": "code",
   "execution_count": 8,
   "metadata": {},
   "outputs": [
    {
     "name": "stdout",
     "output_type": "stream",
     "text": [
      ">> \n",
      "Extracting nextClick time calculation features...\n",
      "\n",
      ">> Grouping by ['ip'], and saving time to nextClick in: ip_nextClick\n",
      ">> Grouping by ['ip', 'app'], and saving time to nextClick in: ip_app_nextClick\n",
      ">> Grouping by ['ip', 'channel'], and saving time to nextClick in: ip_channel_nextClick\n",
      ">> Grouping by ['ip', 'os'], and saving time to nextClick in: ip_os_nextClick\n",
      "[Adding next click times] done in 3219 s\n"
     ]
    },
    {
     "data": {
      "text/plain": [
       "0"
      ]
     },
     "execution_count": 8,
     "metadata": {},
     "output_type": "execute_result"
    }
   ],
   "source": [
    "concat_df = do_next_Click(concat_df)\n",
    "gc.collect()"
   ]
  },
  {
   "cell_type": "code",
   "execution_count": 9,
   "metadata": {},
   "outputs": [
    {
     "name": "stdout",
     "output_type": "stream",
     "text": [
      "62832373\n"
     ]
    }
   ],
   "source": [
    "num_train = y.shape[0]\n",
    "print(num_train)"
   ]
  },
  {
   "cell_type": "code",
   "execution_count": 10,
   "metadata": {},
   "outputs": [
    {
     "data": {
      "text/plain": [
       "33"
      ]
     },
     "execution_count": 10,
     "metadata": {},
     "output_type": "execute_result"
    }
   ],
   "source": [
    "train_df = concat_df.iloc[:num_train]\n",
    "testsup_df = concat_df.iloc[num_train:]\n",
    "\n",
    "del concat_df\n",
    "gc.collect()"
   ]
  },
  {
   "cell_type": "code",
   "execution_count": 11,
   "metadata": {},
   "outputs": [],
   "source": [
    "# データ保存\n",
    "with open('train_after.csv.pkl','wb') as f:\n",
    "  pickle.dump(train_df,f,protocol=4)\n",
    "\n",
    "with open('testsup_after.csv.pkl','wb') as f:\n",
    "  pickle.dump(testsup_df,f,protocol=4)"
   ]
  },
  {
   "cell_type": "code",
   "execution_count": null,
   "metadata": {},
   "outputs": [],
   "source": [
    "#データ読みこみ\n",
    "with open('train_after.csv.pkl','rb') as f:\n",
    "  train_df = pickle.load(f)\n",
    "\n",
    "with open('testsup_after.csv.pkl','rb') as f:\n",
    "  testsup_df = pickle.load(f)\n",
    "\n",
    "with open('y.csv.pkl','rb') as f:\n",
    "  y = pickle.load(f)"
   ]
  },
  {
   "cell_type": "code",
   "execution_count": 9,
   "metadata": {},
   "outputs": [],
   "source": [
    "# with timer(\"load training data\"):\n",
    "#     train = pd.read_csv(path+\"train.csv\",skiprows=range(1,122071518), usecols=['ip','app','device','os', 'channel', 'click_time', 'is_attributed'], dtype=dtypes)\n",
    "# y = train.is_attributed.values\n",
    "# del train"
   ]
  },
  {
   "cell_type": "code",
   "execution_count": 10,
   "metadata": {},
   "outputs": [],
   "source": [
    "# with open('y.csv.pkl','wb') as f:\n",
    "#   pickle.dump(y, f, protocol=4)"
   ]
  },
  {
   "cell_type": "code",
   "execution_count": 4,
   "metadata": {},
   "outputs": [
    {
     "name": "stderr",
     "output_type": "stream",
     "text": [
      "/home/um003580/.pyenv/versions/anaconda3-5.1.0/lib/python3.6/site-packages/sklearn/model_selection/_split.py:2026: FutureWarning: From version 0.21, test_size will always complement train_size unless both are specified.\n",
      "  FutureWarning)\n"
     ]
    },
    {
     "data": {
      "text/plain": [
       "219"
      ]
     },
     "execution_count": 4,
     "metadata": {},
     "output_type": "execute_result"
    }
   ],
   "source": [
    "x_train, x_val, y_train, y_val = train_test_split(train_df, y, train_size=0.9, random_state=0)\n",
    "\n",
    "del train_df, y\n",
    "gc.collect()"
   ]
  },
  {
   "cell_type": "code",
   "execution_count": 5,
   "metadata": {},
   "outputs": [],
   "source": [
    "evals_results = {}\n",
    "# num_boost_round = 250\n",
    "# early_stopping_rounds = 30\n",
    "num_boost_round = 10000\n",
    "early_stopping_rounds = 50\n",
    "\n",
    "# lgb_params = {\n",
    "#     'boosting_type': 'gbdt',\n",
    "#     'objective': 'binary',\n",
    "#     'subsample_for_bin': 200000,  # Number of samples for constructing bin\n",
    "#     'min_split_gain': 0,  # lambda_l1, lambda_l2 and min_gain_to_split to regularization\n",
    "#     'reg_alpha': 0,  # L1 regularization term on weights\n",
    "#     'reg_lambda': 0,  # L2 regularization term on weights\n",
    "#     'nthread': 8,\n",
    "#     'verbose': 0,\n",
    "#     'metric':'auc',     \n",
    " \n",
    "#     'learning_rate': 0.15,\n",
    "#     'num_leaves': 7,  # 2^max_depth - 1\n",
    "#     'max_depth': 3,  # -1 means no limit\n",
    "#     'min_child_samples': 100,  # Minimum number of data need in a child(min_data_in_leaf)\n",
    "#     'max_bin': 100,  # Number of bucketed bin for feature values\n",
    "#     'subsample': 0.7,  # Subsample ratio of the training instance.\n",
    "#     'subsample_freq': 1,  # frequence of subsample, <=0 means no enable\n",
    "#     'colsample_bytree': 0.9,  # Subsample ratio of columns when constructing each tree.\n",
    "#     'min_child_weight': 0,  # Minimum sum of instance weight(hessian) needed in a child(leaf)\n",
    "#     'scale_pos_weight':99\n",
    "# }\n",
    "\n",
    "# matsuda Hyperparameters\n",
    "min_data_in_leaf = 100\n",
    "# min_data_in_leaf = 50\n",
    "max_bin = 127\n",
    "bagging_fraction = 0.7\n",
    "bagging_freq = 1 \n",
    "feature_fraction = 0.9\n",
    "bin_construct_sample_cnt = 100000\n",
    "min_hessian = 0 \n",
    "scale_pos_weight = 200\n",
    "max_depth = -1\n",
    "\n",
    "lgb_params = {\n",
    "   'boosting_type': 'gbdt',\n",
    "   'objective': 'binary',\n",
    "   'min_split_gain': 0,  # lambda_l1, lambda_l2 and min_gain_to_split to regularization\n",
    "   'nthread': 8,\n",
    "   'verbose': 0,\n",
    "   'metric': 'auc',\n",
    "   'learning_rate': 0.05,\n",
    "#    'learning_rate': 0.1,\n",
    "   'max_depth': max_depth,  # -1 means no limit\n",
    "   'num_leaves': 31,  # 2^max_depth - 1\n",
    "   'min_child_samples': min_data_in_leaf,  # Minimum number of data need in a child(min_data_in_leaf)\n",
    "   'max_bin': max_bin,  # Number of bucketed bin for feature values\n",
    "   'bin_construct_sample_cnt': bin_construct_sample_cnt,\n",
    "   # 'subsample_for_bin': 20000,  # Number of samples for constructing bin\n",
    "   'bagging_fraction': bagging_fraction,  # subsample\n",
    "   'bagging_freq': bagging_freq,  # subsample_freq\n",
    "   'feature_fraction': feature_fraction,  # colsample_bytree\n",
    "   'min_sum_hessian_in_leaf': min_hessian,  # min_child_weight\n",
    "   'scale_pos_weight': scale_pos_weight\n",
    "}\n",
    "\n",
    "\n",
    "# metrics = 'auc'\n",
    "# lgb_params = {\n",
    "#     'boosting_type': 'gbdt',\n",
    "#     'objective': 'binary',\n",
    "#     'metric': metrics,\n",
    "#     'learning_rate': .1,\n",
    "#     'num_leaves': 7,\n",
    "#     'max_depth': 4,\n",
    "#     'min_child_samples': 100,\n",
    "#     'max_bin': 100,\n",
    "#     'subsample': 0.7,\n",
    "#     'subsample_freq': 1,\n",
    "#     'colsample_bytree': 0.7,\n",
    "#     'min_child_weight': 0,\n",
    "#     'min_split_gain': 0,\n",
    "#     'nthread': 4,\n",
    "#     'verbose': 1,\n",
    "#     'scale_pos_weight': 99.7\n",
    "#     #'scale_pos_weight': 400\n",
    "# }"
   ]
  },
  {
   "cell_type": "code",
   "execution_count": 6,
   "metadata": {},
   "outputs": [
    {
     "name": "stdout",
     "output_type": "stream",
     "text": [
      "['ip_by_hour_countuniq', 'ip_os_device_nextClick', 'ip_device_os_by_app_countuniq', 'os_app_channel_count', 'cumcount_ip_dev_os', 'os_device_count', 'ip_app_os_count', 'channel', 'ip_os_device_app_nextClick', 'ip_channel_nextClick', 'ip_app_device_os_channel_nextClick', 'ip_app_nextClick', 'hour', 'ip_by_device_countuniq', 'os', 'ip_app_by_os_countuniq', 'ip_by_channel_countuniq', 'device', 'app', 'ip_hour_count', 'ip_os_nextClick', 'ip_channel_hour_count', 'ip_count', 'ip_app_count', 'ip_nextClick', 'ip_device_count', 'app_channel_count', 'ip_by_app_countuniq']\n",
      "preparing validation datasets\n"
     ]
    },
    {
     "data": {
      "text/plain": [
       "31"
      ]
     },
     "execution_count": 6,
     "metadata": {},
     "output_type": "execute_result"
    }
   ],
   "source": [
    "target = \"is_attributed\"\n",
    "categorical = ['app','os','channel','device','hour']\n",
    "predictors = list(set(x_train.columns)-set([target])-set(['click_time','ip','app_by_channel_countuniq','app_device_channel_nextClick']))\n",
    "print(predictors)\n",
    "\n",
    "print(\"preparing validation datasets\")\n",
    "\n",
    "xgtrain = lgb.Dataset(x_train[predictors].values,\n",
    "                      label=y_train,\n",
    "                      feature_name=predictors,\n",
    "                      categorical_feature=categorical\n",
    "                      )\n",
    "\n",
    "del x_train\n",
    "del y_train\n",
    "gc.collect()\n",
    "\n",
    "xgvalid = lgb.Dataset(x_val[predictors].values,\n",
    "                      label=y_val,\n",
    "                      feature_name=predictors,\n",
    "                      categorical_feature=categorical\n",
    "                      )\n",
    "\n",
    "del x_val\n",
    "del y_val\n",
    "gc.collect()"
   ]
  },
  {
   "cell_type": "code",
   "execution_count": 7,
   "metadata": {
    "scrolled": true
   },
   "outputs": [
    {
     "name": "stderr",
     "output_type": "stream",
     "text": [
      "/home/um003580/.pyenv/versions/anaconda3-5.1.0/lib/python3.6/site-packages/lightgbm/basic.py:1036: UserWarning: Using categorical_feature in Dataset.\n",
      "  warnings.warn('Using categorical_feature in Dataset.')\n",
      "/home/um003580/.pyenv/versions/anaconda3-5.1.0/lib/python3.6/site-packages/lightgbm/basic.py:681: UserWarning: categorical_feature in param dict is overrided.\n",
      "  warnings.warn('categorical_feature in param dict is overrided.')\n"
     ]
    },
    {
     "name": "stdout",
     "output_type": "stream",
     "text": [
      "[1]\tvalid's auc: 0.970016\n",
      "Training until validation scores don't improve for 50 rounds.\n",
      "[2]\tvalid's auc: 0.972153\n",
      "[3]\tvalid's auc: 0.972342\n",
      "[4]\tvalid's auc: 0.973191\n",
      "[5]\tvalid's auc: 0.973974\n",
      "[6]\tvalid's auc: 0.974179\n",
      "[7]\tvalid's auc: 0.974719\n",
      "[8]\tvalid's auc: 0.974593\n",
      "[9]\tvalid's auc: 0.974823\n",
      "[10]\tvalid's auc: 0.974856\n",
      "[11]\tvalid's auc: 0.975035\n",
      "[12]\tvalid's auc: 0.975098\n",
      "[13]\tvalid's auc: 0.975188\n",
      "[14]\tvalid's auc: 0.975316\n",
      "[15]\tvalid's auc: 0.975354\n",
      "[16]\tvalid's auc: 0.975555\n",
      "[17]\tvalid's auc: 0.975676\n",
      "[18]\tvalid's auc: 0.975763\n",
      "[19]\tvalid's auc: 0.975806\n",
      "[20]\tvalid's auc: 0.975957\n",
      "[21]\tvalid's auc: 0.976013\n",
      "[22]\tvalid's auc: 0.976024\n",
      "[23]\tvalid's auc: 0.976129\n",
      "[24]\tvalid's auc: 0.976184\n",
      "[25]\tvalid's auc: 0.976298\n",
      "[26]\tvalid's auc: 0.976376\n",
      "[27]\tvalid's auc: 0.976476\n",
      "[28]\tvalid's auc: 0.976644\n",
      "[29]\tvalid's auc: 0.976739\n",
      "[30]\tvalid's auc: 0.97703\n",
      "[31]\tvalid's auc: 0.977243\n",
      "[32]\tvalid's auc: 0.977366\n",
      "[33]\tvalid's auc: 0.977481\n",
      "[34]\tvalid's auc: 0.977651\n",
      "[35]\tvalid's auc: 0.977747\n",
      "[36]\tvalid's auc: 0.977821\n",
      "[37]\tvalid's auc: 0.977892\n",
      "[38]\tvalid's auc: 0.977975\n",
      "[39]\tvalid's auc: 0.978031\n",
      "[40]\tvalid's auc: 0.978143\n",
      "[41]\tvalid's auc: 0.978236\n",
      "[42]\tvalid's auc: 0.978334\n",
      "[43]\tvalid's auc: 0.978492\n",
      "[44]\tvalid's auc: 0.978578\n",
      "[45]\tvalid's auc: 0.978641\n",
      "[46]\tvalid's auc: 0.978714\n",
      "[47]\tvalid's auc: 0.978788\n",
      "[48]\tvalid's auc: 0.978842\n",
      "[49]\tvalid's auc: 0.978922\n",
      "[50]\tvalid's auc: 0.979018\n",
      "[51]\tvalid's auc: 0.979113\n",
      "[52]\tvalid's auc: 0.979197\n",
      "[53]\tvalid's auc: 0.979277\n",
      "[54]\tvalid's auc: 0.979345\n",
      "[55]\tvalid's auc: 0.979452\n",
      "[56]\tvalid's auc: 0.97962\n",
      "[57]\tvalid's auc: 0.979732\n",
      "[58]\tvalid's auc: 0.979777\n",
      "[59]\tvalid's auc: 0.979882\n",
      "[60]\tvalid's auc: 0.979989\n",
      "[61]\tvalid's auc: 0.980076\n",
      "[62]\tvalid's auc: 0.980179\n",
      "[63]\tvalid's auc: 0.980277\n",
      "[64]\tvalid's auc: 0.980367\n",
      "[65]\tvalid's auc: 0.98041\n",
      "[66]\tvalid's auc: 0.980471\n",
      "[67]\tvalid's auc: 0.980538\n",
      "[68]\tvalid's auc: 0.980608\n",
      "[69]\tvalid's auc: 0.980687\n",
      "[70]\tvalid's auc: 0.980755\n",
      "[71]\tvalid's auc: 0.980826\n",
      "[72]\tvalid's auc: 0.980873\n",
      "[73]\tvalid's auc: 0.980958\n",
      "[74]\tvalid's auc: 0.98102\n",
      "[75]\tvalid's auc: 0.98107\n",
      "[76]\tvalid's auc: 0.981125\n",
      "[77]\tvalid's auc: 0.981185\n",
      "[78]\tvalid's auc: 0.981244\n",
      "[79]\tvalid's auc: 0.981311\n",
      "[80]\tvalid's auc: 0.981372\n",
      "[81]\tvalid's auc: 0.981439\n",
      "[82]\tvalid's auc: 0.981484\n",
      "[83]\tvalid's auc: 0.981546\n",
      "[84]\tvalid's auc: 0.981612\n",
      "[85]\tvalid's auc: 0.981664\n",
      "[86]\tvalid's auc: 0.981694\n",
      "[87]\tvalid's auc: 0.981764\n",
      "[88]\tvalid's auc: 0.981823\n",
      "[89]\tvalid's auc: 0.981847\n",
      "[90]\tvalid's auc: 0.981907\n",
      "[91]\tvalid's auc: 0.981951\n",
      "[92]\tvalid's auc: 0.981973\n",
      "[93]\tvalid's auc: 0.982029\n",
      "[94]\tvalid's auc: 0.982074\n",
      "[95]\tvalid's auc: 0.982121\n",
      "[96]\tvalid's auc: 0.982171\n",
      "[97]\tvalid's auc: 0.98221\n",
      "[98]\tvalid's auc: 0.98224\n",
      "[99]\tvalid's auc: 0.982268\n",
      "[100]\tvalid's auc: 0.982298\n",
      "[101]\tvalid's auc: 0.982329\n",
      "[102]\tvalid's auc: 0.98236\n",
      "[103]\tvalid's auc: 0.982384\n",
      "[104]\tvalid's auc: 0.982404\n",
      "[105]\tvalid's auc: 0.982425\n",
      "[106]\tvalid's auc: 0.982462\n",
      "[107]\tvalid's auc: 0.982503\n",
      "[108]\tvalid's auc: 0.982519\n",
      "[109]\tvalid's auc: 0.98255\n",
      "[110]\tvalid's auc: 0.982581\n",
      "[111]\tvalid's auc: 0.982605\n",
      "[112]\tvalid's auc: 0.98264\n",
      "[113]\tvalid's auc: 0.982661\n",
      "[114]\tvalid's auc: 0.982681\n",
      "[115]\tvalid's auc: 0.982702\n",
      "[116]\tvalid's auc: 0.982719\n",
      "[117]\tvalid's auc: 0.982764\n",
      "[118]\tvalid's auc: 0.982788\n",
      "[119]\tvalid's auc: 0.982809\n",
      "[120]\tvalid's auc: 0.982833\n",
      "[121]\tvalid's auc: 0.982846\n",
      "[122]\tvalid's auc: 0.982868\n",
      "[123]\tvalid's auc: 0.982888\n",
      "[124]\tvalid's auc: 0.982901\n",
      "[125]\tvalid's auc: 0.98291\n",
      "[126]\tvalid's auc: 0.982913\n",
      "[127]\tvalid's auc: 0.982936\n",
      "[128]\tvalid's auc: 0.982953\n",
      "[129]\tvalid's auc: 0.982975\n",
      "[130]\tvalid's auc: 0.982995\n",
      "[131]\tvalid's auc: 0.98302\n",
      "[132]\tvalid's auc: 0.983038\n",
      "[133]\tvalid's auc: 0.983054\n",
      "[134]\tvalid's auc: 0.983062\n",
      "[135]\tvalid's auc: 0.983072\n",
      "[136]\tvalid's auc: 0.983087\n",
      "[137]\tvalid's auc: 0.983098\n",
      "[138]\tvalid's auc: 0.983108\n",
      "[139]\tvalid's auc: 0.983126\n",
      "[140]\tvalid's auc: 0.983139\n",
      "[141]\tvalid's auc: 0.98315\n",
      "[142]\tvalid's auc: 0.983155\n",
      "[143]\tvalid's auc: 0.983163\n",
      "[144]\tvalid's auc: 0.983172\n",
      "[145]\tvalid's auc: 0.983198\n",
      "[146]\tvalid's auc: 0.983211\n",
      "[147]\tvalid's auc: 0.983235\n",
      "[148]\tvalid's auc: 0.983253\n",
      "[149]\tvalid's auc: 0.983266\n",
      "[150]\tvalid's auc: 0.98327\n",
      "[151]\tvalid's auc: 0.983294\n",
      "[152]\tvalid's auc: 0.983304\n",
      "[153]\tvalid's auc: 0.983319\n",
      "[154]\tvalid's auc: 0.983332\n",
      "[155]\tvalid's auc: 0.983343\n",
      "[156]\tvalid's auc: 0.983357\n",
      "[157]\tvalid's auc: 0.983367\n",
      "[158]\tvalid's auc: 0.983379\n",
      "[159]\tvalid's auc: 0.983384\n",
      "[160]\tvalid's auc: 0.983391\n",
      "[161]\tvalid's auc: 0.9834\n",
      "[162]\tvalid's auc: 0.9834\n",
      "[163]\tvalid's auc: 0.983407\n",
      "[164]\tvalid's auc: 0.983405\n",
      "[165]\tvalid's auc: 0.983414\n",
      "[166]\tvalid's auc: 0.983419\n",
      "[167]\tvalid's auc: 0.983422\n",
      "[168]\tvalid's auc: 0.983438\n",
      "[169]\tvalid's auc: 0.983439\n",
      "[170]\tvalid's auc: 0.983444\n",
      "[171]\tvalid's auc: 0.983451\n",
      "[172]\tvalid's auc: 0.983459\n",
      "[173]\tvalid's auc: 0.983473\n",
      "[174]\tvalid's auc: 0.983486\n",
      "[175]\tvalid's auc: 0.9835\n",
      "[176]\tvalid's auc: 0.983507\n",
      "[177]\tvalid's auc: 0.983511\n",
      "[178]\tvalid's auc: 0.983516\n",
      "[179]\tvalid's auc: 0.983521\n",
      "[180]\tvalid's auc: 0.983531\n",
      "[181]\tvalid's auc: 0.983538\n",
      "[182]\tvalid's auc: 0.983543\n",
      "[183]\tvalid's auc: 0.983554\n",
      "[184]\tvalid's auc: 0.983558\n",
      "[185]\tvalid's auc: 0.98356\n",
      "[186]\tvalid's auc: 0.983558\n",
      "[187]\tvalid's auc: 0.983563\n",
      "[188]\tvalid's auc: 0.983572\n",
      "[189]\tvalid's auc: 0.983581\n",
      "[190]\tvalid's auc: 0.983585\n",
      "[191]\tvalid's auc: 0.983591\n",
      "[192]\tvalid's auc: 0.983598\n",
      "[193]\tvalid's auc: 0.983603\n",
      "[194]\tvalid's auc: 0.983605\n",
      "[195]\tvalid's auc: 0.983608\n",
      "[196]\tvalid's auc: 0.983605\n",
      "[197]\tvalid's auc: 0.983603\n",
      "[198]\tvalid's auc: 0.983605\n",
      "[199]\tvalid's auc: 0.983604\n",
      "[200]\tvalid's auc: 0.983606\n",
      "[201]\tvalid's auc: 0.983614\n",
      "[202]\tvalid's auc: 0.983619\n",
      "[203]\tvalid's auc: 0.983621\n",
      "[204]\tvalid's auc: 0.983624\n",
      "[205]\tvalid's auc: 0.983634\n",
      "[206]\tvalid's auc: 0.983636\n",
      "[207]\tvalid's auc: 0.983643\n",
      "[208]\tvalid's auc: 0.98365\n",
      "[209]\tvalid's auc: 0.983654\n",
      "[210]\tvalid's auc: 0.98366\n",
      "[211]\tvalid's auc: 0.983668\n",
      "[212]\tvalid's auc: 0.983674\n",
      "[213]\tvalid's auc: 0.983682\n",
      "[214]\tvalid's auc: 0.983683\n",
      "[215]\tvalid's auc: 0.983681\n",
      "[216]\tvalid's auc: 0.983684\n",
      "[217]\tvalid's auc: 0.983692\n",
      "[218]\tvalid's auc: 0.983695\n",
      "[219]\tvalid's auc: 0.983693\n",
      "[220]\tvalid's auc: 0.983695\n",
      "[221]\tvalid's auc: 0.983699\n",
      "[222]\tvalid's auc: 0.983698\n",
      "[223]\tvalid's auc: 0.9837\n",
      "[224]\tvalid's auc: 0.983704\n",
      "[225]\tvalid's auc: 0.983705\n",
      "[226]\tvalid's auc: 0.983705\n",
      "[227]\tvalid's auc: 0.983702\n",
      "[228]\tvalid's auc: 0.983702\n",
      "[229]\tvalid's auc: 0.983708\n",
      "[230]\tvalid's auc: 0.983711\n",
      "[231]\tvalid's auc: 0.983721\n",
      "[232]\tvalid's auc: 0.983718\n",
      "[233]\tvalid's auc: 0.983721\n",
      "[234]\tvalid's auc: 0.983725\n",
      "[235]\tvalid's auc: 0.983723\n",
      "[236]\tvalid's auc: 0.983725\n",
      "[237]\tvalid's auc: 0.983723\n",
      "[238]\tvalid's auc: 0.983727\n",
      "[239]\tvalid's auc: 0.983727\n",
      "[240]\tvalid's auc: 0.983727\n",
      "[241]\tvalid's auc: 0.983727\n",
      "[242]\tvalid's auc: 0.983729\n",
      "[243]\tvalid's auc: 0.983738\n",
      "[244]\tvalid's auc: 0.983738\n",
      "[245]\tvalid's auc: 0.983741\n",
      "[246]\tvalid's auc: 0.983742\n",
      "[247]\tvalid's auc: 0.983744\n",
      "[248]\tvalid's auc: 0.983746\n",
      "[249]\tvalid's auc: 0.983752\n",
      "[250]\tvalid's auc: 0.983755\n",
      "[251]\tvalid's auc: 0.983762\n",
      "[252]\tvalid's auc: 0.98376\n",
      "[253]\tvalid's auc: 0.983765\n",
      "[254]\tvalid's auc: 0.983767\n",
      "[255]\tvalid's auc: 0.983771\n",
      "[256]\tvalid's auc: 0.983776\n",
      "[257]\tvalid's auc: 0.983775\n",
      "[258]\tvalid's auc: 0.983783\n",
      "[259]\tvalid's auc: 0.983784\n",
      "[260]\tvalid's auc: 0.983794\n",
      "[261]\tvalid's auc: 0.983798\n",
      "[262]\tvalid's auc: 0.983797\n",
      "[263]\tvalid's auc: 0.983794\n",
      "[264]\tvalid's auc: 0.983795\n",
      "[265]\tvalid's auc: 0.983799\n",
      "[266]\tvalid's auc: 0.983798\n",
      "[267]\tvalid's auc: 0.983799\n",
      "[268]\tvalid's auc: 0.9838\n",
      "[269]\tvalid's auc: 0.983803\n",
      "[270]\tvalid's auc: 0.983805\n",
      "[271]\tvalid's auc: 0.983809\n",
      "[272]\tvalid's auc: 0.983809\n",
      "[273]\tvalid's auc: 0.983817\n",
      "[274]\tvalid's auc: 0.983816\n",
      "[275]\tvalid's auc: 0.983814\n",
      "[276]\tvalid's auc: 0.983818\n",
      "[277]\tvalid's auc: 0.983817\n",
      "[278]\tvalid's auc: 0.983816\n",
      "[279]\tvalid's auc: 0.983817\n",
      "[280]\tvalid's auc: 0.983822\n",
      "[281]\tvalid's auc: 0.983825\n",
      "[282]\tvalid's auc: 0.983822\n",
      "[283]\tvalid's auc: 0.983826\n",
      "[284]\tvalid's auc: 0.983826\n",
      "[285]\tvalid's auc: 0.983822\n",
      "[286]\tvalid's auc: 0.983821\n",
      "[287]\tvalid's auc: 0.983823\n",
      "[288]\tvalid's auc: 0.983825\n",
      "[289]\tvalid's auc: 0.983833\n",
      "[290]\tvalid's auc: 0.983831\n",
      "[291]\tvalid's auc: 0.983832\n",
      "[292]\tvalid's auc: 0.983832\n",
      "[293]\tvalid's auc: 0.983829\n",
      "[294]\tvalid's auc: 0.983835\n",
      "[295]\tvalid's auc: 0.983834\n",
      "[296]\tvalid's auc: 0.983843\n"
     ]
    },
    {
     "name": "stdout",
     "output_type": "stream",
     "text": [
      "[297]\tvalid's auc: 0.983843\n",
      "[298]\tvalid's auc: 0.983844\n",
      "[299]\tvalid's auc: 0.983849\n",
      "[300]\tvalid's auc: 0.98385\n",
      "[301]\tvalid's auc: 0.983854\n",
      "[302]\tvalid's auc: 0.98386\n",
      "[303]\tvalid's auc: 0.98386\n",
      "[304]\tvalid's auc: 0.983861\n",
      "[305]\tvalid's auc: 0.983861\n",
      "[306]\tvalid's auc: 0.983862\n",
      "[307]\tvalid's auc: 0.983864\n",
      "[308]\tvalid's auc: 0.983867\n",
      "[309]\tvalid's auc: 0.983871\n",
      "[310]\tvalid's auc: 0.983873\n",
      "[311]\tvalid's auc: 0.983878\n",
      "[312]\tvalid's auc: 0.983879\n",
      "[313]\tvalid's auc: 0.983885\n",
      "[314]\tvalid's auc: 0.983884\n",
      "[315]\tvalid's auc: 0.983887\n",
      "[316]\tvalid's auc: 0.983886\n",
      "[317]\tvalid's auc: 0.98389\n",
      "[318]\tvalid's auc: 0.983889\n",
      "[319]\tvalid's auc: 0.983887\n",
      "[320]\tvalid's auc: 0.983891\n",
      "[321]\tvalid's auc: 0.98389\n",
      "[322]\tvalid's auc: 0.983891\n",
      "[323]\tvalid's auc: 0.98389\n",
      "[324]\tvalid's auc: 0.983888\n",
      "[325]\tvalid's auc: 0.983888\n",
      "[326]\tvalid's auc: 0.983885\n",
      "[327]\tvalid's auc: 0.983885\n",
      "[328]\tvalid's auc: 0.983884\n",
      "[329]\tvalid's auc: 0.983884\n",
      "[330]\tvalid's auc: 0.983884\n",
      "[331]\tvalid's auc: 0.983884\n",
      "[332]\tvalid's auc: 0.983886\n",
      "[333]\tvalid's auc: 0.983888\n",
      "[334]\tvalid's auc: 0.983888\n",
      "[335]\tvalid's auc: 0.983887\n",
      "[336]\tvalid's auc: 0.98389\n",
      "[337]\tvalid's auc: 0.983886\n",
      "[338]\tvalid's auc: 0.983885\n",
      "[339]\tvalid's auc: 0.983892\n",
      "[340]\tvalid's auc: 0.983892\n",
      "[341]\tvalid's auc: 0.983893\n",
      "[342]\tvalid's auc: 0.983894\n",
      "[343]\tvalid's auc: 0.983905\n",
      "[344]\tvalid's auc: 0.983905\n",
      "[345]\tvalid's auc: 0.983904\n",
      "[346]\tvalid's auc: 0.983906\n",
      "[347]\tvalid's auc: 0.983907\n",
      "[348]\tvalid's auc: 0.983905\n",
      "[349]\tvalid's auc: 0.983906\n",
      "[350]\tvalid's auc: 0.983907\n",
      "[351]\tvalid's auc: 0.983907\n",
      "[352]\tvalid's auc: 0.983908\n",
      "[353]\tvalid's auc: 0.983906\n",
      "[354]\tvalid's auc: 0.983912\n",
      "[355]\tvalid's auc: 0.983908\n",
      "[356]\tvalid's auc: 0.983908\n",
      "[357]\tvalid's auc: 0.983912\n",
      "[358]\tvalid's auc: 0.983914\n",
      "[359]\tvalid's auc: 0.983915\n",
      "[360]\tvalid's auc: 0.983916\n",
      "[361]\tvalid's auc: 0.98392\n",
      "[362]\tvalid's auc: 0.983923\n",
      "[363]\tvalid's auc: 0.983926\n",
      "[364]\tvalid's auc: 0.983928\n",
      "[365]\tvalid's auc: 0.983932\n",
      "[366]\tvalid's auc: 0.983929\n",
      "[367]\tvalid's auc: 0.983933\n",
      "[368]\tvalid's auc: 0.983933\n",
      "[369]\tvalid's auc: 0.983935\n",
      "[370]\tvalid's auc: 0.98393\n",
      "[371]\tvalid's auc: 0.983929\n",
      "[372]\tvalid's auc: 0.983928\n",
      "[373]\tvalid's auc: 0.983927\n",
      "[374]\tvalid's auc: 0.983926\n",
      "[375]\tvalid's auc: 0.983924\n",
      "[376]\tvalid's auc: 0.983928\n",
      "[377]\tvalid's auc: 0.98393\n",
      "[378]\tvalid's auc: 0.983927\n",
      "[379]\tvalid's auc: 0.983927\n",
      "[380]\tvalid's auc: 0.983927\n",
      "[381]\tvalid's auc: 0.983926\n",
      "[382]\tvalid's auc: 0.983928\n",
      "[383]\tvalid's auc: 0.983928\n",
      "[384]\tvalid's auc: 0.983935\n",
      "[385]\tvalid's auc: 0.983931\n",
      "[386]\tvalid's auc: 0.983935\n",
      "[387]\tvalid's auc: 0.983932\n",
      "[388]\tvalid's auc: 0.983936\n",
      "[389]\tvalid's auc: 0.983937\n",
      "[390]\tvalid's auc: 0.983943\n",
      "[391]\tvalid's auc: 0.983939\n",
      "[392]\tvalid's auc: 0.983945\n",
      "[393]\tvalid's auc: 0.983943\n",
      "[394]\tvalid's auc: 0.983946\n",
      "[395]\tvalid's auc: 0.983949\n",
      "[396]\tvalid's auc: 0.983947\n",
      "[397]\tvalid's auc: 0.983945\n",
      "[398]\tvalid's auc: 0.983948\n",
      "[399]\tvalid's auc: 0.983949\n",
      "[400]\tvalid's auc: 0.983951\n",
      "[401]\tvalid's auc: 0.983948\n",
      "[402]\tvalid's auc: 0.98395\n",
      "[403]\tvalid's auc: 0.983953\n",
      "[404]\tvalid's auc: 0.983954\n",
      "[405]\tvalid's auc: 0.983954\n",
      "[406]\tvalid's auc: 0.983961\n",
      "[407]\tvalid's auc: 0.983959\n",
      "[408]\tvalid's auc: 0.983961\n",
      "[409]\tvalid's auc: 0.98396\n",
      "[410]\tvalid's auc: 0.983961\n",
      "[411]\tvalid's auc: 0.983959\n",
      "[412]\tvalid's auc: 0.983962\n",
      "[413]\tvalid's auc: 0.983964\n",
      "[414]\tvalid's auc: 0.983964\n",
      "[415]\tvalid's auc: 0.98396\n",
      "[416]\tvalid's auc: 0.983965\n",
      "[417]\tvalid's auc: 0.983963\n",
      "[418]\tvalid's auc: 0.983962\n",
      "[419]\tvalid's auc: 0.983965\n",
      "[420]\tvalid's auc: 0.983969\n",
      "[421]\tvalid's auc: 0.983972\n",
      "[422]\tvalid's auc: 0.983973\n",
      "[423]\tvalid's auc: 0.983985\n",
      "[424]\tvalid's auc: 0.983983\n",
      "[425]\tvalid's auc: 0.983983\n",
      "[426]\tvalid's auc: 0.983985\n",
      "[427]\tvalid's auc: 0.98399\n",
      "[428]\tvalid's auc: 0.983988\n",
      "[429]\tvalid's auc: 0.983989\n",
      "[430]\tvalid's auc: 0.983988\n",
      "[431]\tvalid's auc: 0.983993\n",
      "[432]\tvalid's auc: 0.983993\n",
      "[433]\tvalid's auc: 0.983994\n",
      "[434]\tvalid's auc: 0.983994\n",
      "[435]\tvalid's auc: 0.983995\n",
      "[436]\tvalid's auc: 0.983996\n",
      "[437]\tvalid's auc: 0.983997\n",
      "[438]\tvalid's auc: 0.983993\n",
      "[439]\tvalid's auc: 0.983994\n",
      "[440]\tvalid's auc: 0.983999\n",
      "[441]\tvalid's auc: 0.984003\n",
      "[442]\tvalid's auc: 0.984\n",
      "[443]\tvalid's auc: 0.984004\n",
      "[444]\tvalid's auc: 0.983999\n",
      "[445]\tvalid's auc: 0.984003\n",
      "[446]\tvalid's auc: 0.984\n",
      "[447]\tvalid's auc: 0.983998\n",
      "[448]\tvalid's auc: 0.983996\n",
      "[449]\tvalid's auc: 0.983993\n",
      "[450]\tvalid's auc: 0.983994\n",
      "[451]\tvalid's auc: 0.983993\n",
      "[452]\tvalid's auc: 0.983991\n",
      "[453]\tvalid's auc: 0.983989\n",
      "[454]\tvalid's auc: 0.983989\n",
      "[455]\tvalid's auc: 0.983985\n",
      "[456]\tvalid's auc: 0.983986\n",
      "[457]\tvalid's auc: 0.983987\n",
      "[458]\tvalid's auc: 0.983988\n",
      "[459]\tvalid's auc: 0.983987\n",
      "[460]\tvalid's auc: 0.983987\n",
      "[461]\tvalid's auc: 0.983986\n",
      "[462]\tvalid's auc: 0.983986\n",
      "[463]\tvalid's auc: 0.983986\n",
      "[464]\tvalid's auc: 0.983984\n",
      "[465]\tvalid's auc: 0.983989\n",
      "[466]\tvalid's auc: 0.983991\n",
      "[467]\tvalid's auc: 0.983997\n",
      "[468]\tvalid's auc: 0.983994\n",
      "[469]\tvalid's auc: 0.983995\n",
      "[470]\tvalid's auc: 0.983994\n",
      "[471]\tvalid's auc: 0.983993\n",
      "[472]\tvalid's auc: 0.983989\n",
      "[473]\tvalid's auc: 0.983988\n",
      "[474]\tvalid's auc: 0.983988\n",
      "[475]\tvalid's auc: 0.983992\n",
      "[476]\tvalid's auc: 0.983991\n",
      "[477]\tvalid's auc: 0.983993\n",
      "[478]\tvalid's auc: 0.983991\n",
      "[479]\tvalid's auc: 0.983993\n",
      "[480]\tvalid's auc: 0.983993\n",
      "[481]\tvalid's auc: 0.983992\n",
      "[482]\tvalid's auc: 0.983991\n",
      "[483]\tvalid's auc: 0.983992\n",
      "[484]\tvalid's auc: 0.983992\n",
      "[485]\tvalid's auc: 0.983994\n",
      "[486]\tvalid's auc: 0.983994\n",
      "[487]\tvalid's auc: 0.983994\n",
      "[488]\tvalid's auc: 0.983993\n",
      "[489]\tvalid's auc: 0.983992\n",
      "[490]\tvalid's auc: 0.983991\n",
      "[491]\tvalid's auc: 0.983994\n",
      "[492]\tvalid's auc: 0.983994\n",
      "[493]\tvalid's auc: 0.983997\n",
      "Early stopping, best iteration is:\n",
      "[443]\tvalid's auc: 0.984004\n"
     ]
    },
    {
     "data": {
      "text/plain": [
       "41"
      ]
     },
     "execution_count": 7,
     "metadata": {},
     "output_type": "execute_result"
    }
   ],
   "source": [
    "# gc.collect()\n",
    "# del booster\n",
    "booster = lgb.train(\n",
    "     lgb_params, \n",
    "     xgtrain,\n",
    "     valid_sets=[xgvalid],\n",
    "     valid_names=['valid'],\n",
    "     evals_result=evals_results, \n",
    "     num_boost_round=num_boost_round,\n",
    "     early_stopping_rounds=early_stopping_rounds,\n",
    "     verbose_eval=1\n",
    ")\n",
    "\n",
    "del xgvalid\n",
    "del xgtrain\n",
    "gc.collect()"
   ]
  },
  {
   "cell_type": "code",
   "execution_count": 8,
   "metadata": {},
   "outputs": [
    {
     "name": "stdout",
     "output_type": "stream",
     "text": [
      "\n",
      "Model Info:\n",
      "n_estimators: 443\n",
      "auc: 0.9840040228878404\n"
     ]
    }
   ],
   "source": [
    "n_estimators = booster.best_iteration\n",
    "metrics = 'auc'\n",
    "\n",
    "print('\\nModel Info:')\n",
    "print('n_estimators:', n_estimators)\n",
    "print(metrics+':', evals_results['valid'][metrics][n_estimators-1])"
   ]
  },
  {
   "cell_type": "code",
   "execution_count": 1,
   "metadata": {},
   "outputs": [
    {
     "ename": "NameError",
     "evalue": "name 'lgb' is not defined",
     "output_type": "error",
     "traceback": [
      "\u001b[0;31m---------------------------------------------------------------------------\u001b[0m",
      "\u001b[0;31mNameError\u001b[0m                                 Traceback (most recent call last)",
      "\u001b[0;32m<ipython-input-1-1920592348c9>\u001b[0m in \u001b[0;36m<module>\u001b[0;34m()\u001b[0m\n\u001b[0;32m----> 1\u001b[0;31m \u001b[0max\u001b[0m \u001b[0;34m=\u001b[0m \u001b[0mlgb\u001b[0m\u001b[0;34m.\u001b[0m\u001b[0mplot_importance\u001b[0m\u001b[0;34m(\u001b[0m\u001b[0mbooster\u001b[0m\u001b[0;34m,\u001b[0m \u001b[0mmax_num_features\u001b[0m\u001b[0;34m=\u001b[0m\u001b[0;36m100\u001b[0m\u001b[0;34m)\u001b[0m\u001b[0;34m\u001b[0m\u001b[0m\n\u001b[0m\u001b[1;32m      2\u001b[0m \u001b[0mplt\u001b[0m\u001b[0;34m.\u001b[0m\u001b[0mshow\u001b[0m\u001b[0;34m(\u001b[0m\u001b[0;34m)\u001b[0m\u001b[0;34m\u001b[0m\u001b[0m\n",
      "\u001b[0;31mNameError\u001b[0m: name 'lgb' is not defined"
     ]
    }
   ],
   "source": [
    "ax = lgb.plot_importance(booster, max_num_features=100)\n",
    "plt.show()"
   ]
  },
  {
   "cell_type": "code",
   "execution_count": 10,
   "metadata": {},
   "outputs": [
    {
     "data": {
      "text/plain": [
       "<matplotlib.figure.Figure at 0x7f038f4a4c18>"
      ]
     },
     "metadata": {},
     "output_type": "display_data"
    }
   ],
   "source": [
    "plt.savefig('0506-1imp.png', dpi=600, bbox_inches='tight')"
   ]
  },
  {
   "cell_type": "code",
   "execution_count": 11,
   "metadata": {},
   "outputs": [
    {
     "data": {
      "text/plain": [
       "156"
      ]
     },
     "execution_count": 11,
     "metadata": {},
     "output_type": "execute_result"
    }
   ],
   "source": [
    "gc.collect()"
   ]
  },
  {
   "cell_type": "code",
   "execution_count": 12,
   "metadata": {},
   "outputs": [
    {
     "name": "stdout",
     "output_type": "stream",
     "text": [
      "[load test data] done in 15 s\n"
     ]
    }
   ],
   "source": [
    "with timer(\"load test data\"):\n",
    "    test_df = pd.read_csv(path+\"test.csv\", dtype=dtypes, usecols=['ip','app','device','os', 'channel', 'click_time', 'click_id'])"
   ]
  },
  {
   "cell_type": "code",
   "execution_count": 13,
   "metadata": {},
   "outputs": [],
   "source": [
    "test_df['click_time']= pd.to_datetime(test_df['click_time'])\n",
    "testsup_df['click_time']= pd.to_datetime(testsup_df['click_time'])"
   ]
  },
  {
   "cell_type": "code",
   "execution_count": 14,
   "metadata": {},
   "outputs": [
    {
     "name": "stdout",
     "output_type": "stream",
     "text": [
      "Predicting the submission data...\n",
      "projecting prediction onto test\n"
     ]
    }
   ],
   "source": [
    "# preditions=booster.predict(test_df[predictors].values)\n",
    "\n",
    "print(\"Predicting the submission data...\")\n",
    "\n",
    "testsup_df['is_attributed'] = booster.predict(testsup_df[predictors], num_iteration=booster.best_iteration)\n",
    "\n",
    "print('projecting prediction onto test')\n",
    "\n",
    "join_cols = ['ip', 'app', 'device', 'os', 'channel', 'click_time']\n",
    "all_cols = join_cols + ['is_attributed']"
   ]
  },
  {
   "cell_type": "code",
   "execution_count": 15,
   "metadata": {},
   "outputs": [],
   "source": [
    "test_df = test_df.merge(testsup_df[all_cols], how='left', on=join_cols)\n",
    "\n",
    "test_df = test_df.drop_duplicates(subset=['click_id'])"
   ]
  },
  {
   "cell_type": "code",
   "execution_count": 16,
   "metadata": {},
   "outputs": [
    {
     "data": {
      "text/html": [
       "<div>\n",
       "<style scoped>\n",
       "    .dataframe tbody tr th:only-of-type {\n",
       "        vertical-align: middle;\n",
       "    }\n",
       "\n",
       "    .dataframe tbody tr th {\n",
       "        vertical-align: top;\n",
       "    }\n",
       "\n",
       "    .dataframe thead th {\n",
       "        text-align: right;\n",
       "    }\n",
       "</style>\n",
       "<table border=\"1\" class=\"dataframe\">\n",
       "  <thead>\n",
       "    <tr style=\"text-align: right;\">\n",
       "      <th></th>\n",
       "      <th>click_id</th>\n",
       "      <th>ip</th>\n",
       "      <th>app</th>\n",
       "      <th>device</th>\n",
       "      <th>os</th>\n",
       "      <th>channel</th>\n",
       "      <th>click_time</th>\n",
       "      <th>is_attributed</th>\n",
       "    </tr>\n",
       "  </thead>\n",
       "  <tbody>\n",
       "    <tr>\n",
       "      <th>0</th>\n",
       "      <td>0</td>\n",
       "      <td>5744</td>\n",
       "      <td>9</td>\n",
       "      <td>1</td>\n",
       "      <td>3</td>\n",
       "      <td>107</td>\n",
       "      <td>2017-11-10 04:00:00</td>\n",
       "      <td>0.127495</td>\n",
       "    </tr>\n",
       "    <tr>\n",
       "      <th>1</th>\n",
       "      <td>1</td>\n",
       "      <td>119901</td>\n",
       "      <td>9</td>\n",
       "      <td>1</td>\n",
       "      <td>3</td>\n",
       "      <td>466</td>\n",
       "      <td>2017-11-10 04:00:00</td>\n",
       "      <td>0.018767</td>\n",
       "    </tr>\n",
       "    <tr>\n",
       "      <th>2</th>\n",
       "      <td>2</td>\n",
       "      <td>72287</td>\n",
       "      <td>21</td>\n",
       "      <td>1</td>\n",
       "      <td>19</td>\n",
       "      <td>128</td>\n",
       "      <td>2017-11-10 04:00:00</td>\n",
       "      <td>0.001925</td>\n",
       "    </tr>\n",
       "    <tr>\n",
       "      <th>3</th>\n",
       "      <td>3</td>\n",
       "      <td>78477</td>\n",
       "      <td>15</td>\n",
       "      <td>1</td>\n",
       "      <td>13</td>\n",
       "      <td>111</td>\n",
       "      <td>2017-11-10 04:00:00</td>\n",
       "      <td>0.042107</td>\n",
       "    </tr>\n",
       "    <tr>\n",
       "      <th>4</th>\n",
       "      <td>4</td>\n",
       "      <td>123080</td>\n",
       "      <td>12</td>\n",
       "      <td>1</td>\n",
       "      <td>13</td>\n",
       "      <td>328</td>\n",
       "      <td>2017-11-10 04:00:00</td>\n",
       "      <td>0.008356</td>\n",
       "    </tr>\n",
       "  </tbody>\n",
       "</table>\n",
       "</div>"
      ],
      "text/plain": [
       "   click_id      ip  app  device  os  channel          click_time  \\\n",
       "0         0    5744    9       1   3      107 2017-11-10 04:00:00   \n",
       "1         1  119901    9       1   3      466 2017-11-10 04:00:00   \n",
       "2         2   72287   21       1  19      128 2017-11-10 04:00:00   \n",
       "3         3   78477   15       1  13      111 2017-11-10 04:00:00   \n",
       "4         4  123080   12       1  13      328 2017-11-10 04:00:00   \n",
       "\n",
       "   is_attributed  \n",
       "0       0.127495  \n",
       "1       0.018767  \n",
       "2       0.001925  \n",
       "3       0.042107  \n",
       "4       0.008356  "
      ]
     },
     "execution_count": 16,
     "metadata": {},
     "output_type": "execute_result"
    }
   ],
   "source": [
    "test_df.head()"
   ]
  },
  {
   "cell_type": "code",
   "execution_count": 17,
   "metadata": {},
   "outputs": [
    {
     "data": {
      "text/plain": [
       "click_id         18790469\n",
       "ip               18790469\n",
       "app              18790469\n",
       "device           18790469\n",
       "os               18790469\n",
       "channel          18790469\n",
       "click_time       18790469\n",
       "is_attributed    18790469\n",
       "dtype: int64"
      ]
     },
     "execution_count": 17,
     "metadata": {},
     "output_type": "execute_result"
    }
   ],
   "source": [
    "test_df.count()"
   ]
  },
  {
   "cell_type": "code",
   "execution_count": 18,
   "metadata": {},
   "outputs": [
    {
     "name": "stdout",
     "output_type": "stream",
     "text": [
      "Writing the submission data into a csv file...\n",
      "All done...\n"
     ]
    }
   ],
   "source": [
    "print(\"Writing the submission data into a csv file...\")\n",
    "\n",
    "test_df[['click_id', 'is_attributed']].to_csv('0506-1.csv', index=False)\n",
    "\n",
    "print(\"All done...\")"
   ]
  },
  {
   "cell_type": "code",
   "execution_count": null,
   "metadata": {},
   "outputs": [],
   "source": []
  }
 ],
 "metadata": {
  "kernelspec": {
   "display_name": "Python 3",
   "language": "python",
   "name": "python3"
  },
  "language_info": {
   "codemirror_mode": {
    "name": "ipython",
    "version": 3
   },
   "file_extension": ".py",
   "mimetype": "text/x-python",
   "name": "python",
   "nbconvert_exporter": "python",
   "pygments_lexer": "ipython3",
   "version": "3.6.4"
  }
 },
 "nbformat": 4,
 "nbformat_minor": 2
}
