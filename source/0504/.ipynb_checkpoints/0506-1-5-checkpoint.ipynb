{
 "cells": [
  {
   "cell_type": "markdown",
   "metadata": {},
   "source": [
    "train120m-180m, train:valid 90:10(shuffle)  \n",
    "num_boost_round = 10000, early_stopping_rounds = 50  \n",
    "特徴量削除  \n",
    "'ip_nextClick'  \n",
    "'ip_channel_nextClick'  \n",
    "validation"
   ]
  },
  {
   "cell_type": "code",
   "execution_count": 1,
   "metadata": {},
   "outputs": [],
   "source": [
    "import pandas as pd\n",
    "import time\n",
    "import numpy as np\n",
    "from sklearn.model_selection import train_test_split\n",
    "import lightgbm as lgb\n",
    "import gc\n",
    "from contextlib import contextmanager\n",
    "import matplotlib.pyplot as plt\n",
    "import pickle"
   ]
  },
  {
   "cell_type": "code",
   "execution_count": 2,
   "metadata": {},
   "outputs": [],
   "source": [
    "@contextmanager\n",
    "def timer(name):\n",
    "    t0 = time.time()\n",
    "    yield\n",
    "    print(f'[{name}] done in {time.time() - t0:.0f} s')\n",
    "    \n",
    "def do_next_Click(df,agg_suffix='nextClick', agg_type='float32'):\n",
    "    with timer(\"Adding next click times\"):\n",
    "    \n",
    "        print(f\">> \\nExtracting {agg_suffix} time calculation features...\\n\")\n",
    "\n",
    "        GROUP_BY_NEXT_CLICKS = [\n",
    "\n",
    "        # V1\n",
    "        {'groupby': ['ip']},\n",
    "        {'groupby': ['ip', 'app']},\n",
    "        {'groupby': ['ip', 'channel']},\n",
    "        {'groupby': ['ip', 'os']},\n",
    "\n",
    "        # V3\n",
    "#         {'groupby': ['ip', 'app', 'device', 'os', 'channel']},\n",
    "#         {'groupby': ['ip', 'os', 'device']},\n",
    "#         {'groupby': ['ip', 'os', 'device', 'app']},\n",
    "    #     {'groupby': ['device']},\n",
    "    #     {'groupby': ['device', 'channel']},     \n",
    "#         {'groupby': ['app', 'device', 'channel']},\n",
    "#         {'groupby': ['device', 'hour']}\n",
    "        ]\n",
    "\n",
    "        # Calculate the time to next click for each group\n",
    "        for spec in GROUP_BY_NEXT_CLICKS:\n",
    "\n",
    "           # Name of new feature\n",
    "            new_feature = '{}_{}'.format('_'.join(spec['groupby']),agg_suffix)    \n",
    "\n",
    "            # Unique list of features to select\n",
    "            all_features = spec['groupby'] + ['click_time']\n",
    "\n",
    "            # Run calculation\n",
    "            print(f\">> Grouping by {spec['groupby']}, and saving time to {agg_suffix} in: {new_feature}\")\n",
    "            df[new_feature] = (df[all_features].groupby(spec[\n",
    "                'groupby']).click_time.shift(-1) - df.click_time).dt.seconds.astype(agg_type)\n",
    "\n",
    "#             predictors.append(new_feature)\n",
    "            gc.collect()\n",
    "        return (df)\n",
    "\n",
    "def df_add_counts(df, cols):\n",
    "    arr_slice = df[cols].values\n",
    "    unq, unqtags, counts = np.unique(np.ravel_multi_index(arr_slice.T, arr_slice.max(axis=0) + 1),\n",
    "                                     return_inverse=True, return_counts=True)\n",
    "    df[\"_\".join(cols)+'_count'] = counts[unqtags]\n",
    "    gc.collect()\n",
    "    \n",
    "def make_count_features(df):\n",
    "    with timer(\"add count features\"):\n",
    "#         df['click_time']= pd.to_datetime(df['click_time'])\n",
    "#         dt= df['click_time'].dt\n",
    "#         df['day'] = dt.day.astype('uint8')\n",
    "#         df['hour'] = dt.hour.astype('uint8')\n",
    "#         df['minute'] = dt.minute.astype('uint8')\n",
    "#         df['second'] = dt.second.astype('uint8')#secondを追加\n",
    "\n",
    "#         del(dt)\n",
    "    \n",
    "        df_add_counts(df, ['ip','channel','hour'])\n",
    "#         df_add_counts(df, ['ip','day'])\n",
    "#         df_add_counts(df, ['ip','day','hour','channel'])\n",
    "\n",
    "        \n",
    "#         df_add_counts(df, ['ip'])\n",
    "# #         df_add_counts(df, ['ip','day','hour','minute'])\n",
    "#         df_add_counts(df, ['os','device'])\n",
    "#         df_add_counts(df, ['os','app','channel'])\n",
    "        \n",
    "#         df_add_counts(df, ['ip', 'hour'])\n",
    "#         df_add_counts(df, ['ip', 'app'])\n",
    "#         df_add_counts(df, ['ip', 'app', 'os'])\n",
    "#         df_add_counts(df, ['ip', 'device'])\n",
    "#         df_add_counts(df, ['app', 'channel'])\n",
    "\n",
    "def do_countuniq( df, group_cols, counted, agg_type='uint32', show_max=False, show_agg=True ):\n",
    "    agg_name= '{}_by_{}_countuniq'.format(('_'.join(group_cols)),(counted))  \n",
    "    if show_agg:\n",
    "        print( \"\\nCounting unqiue \", counted, \" by \", group_cols ,  '... and saved in', agg_name )\n",
    "    gp = df[group_cols+[counted]].groupby(group_cols)[counted].nunique().reset_index().rename(columns={counted:agg_name})\n",
    "    df = df.merge(gp, on=group_cols, how='left')\n",
    "    del gp\n",
    "    if show_max:\n",
    "        print( agg_name + \" max value = \", df[agg_name].max() )\n",
    "    df[agg_name] = df[agg_name].astype(agg_type)\n",
    "#     predictors.append(agg_name)\n",
    "#     print('predictors',predictors)\n",
    "    gc.collect()\n",
    "    return( df )\n",
    "\n",
    "def make_countuniq_features(df):\n",
    "    with timer(\"add countuniq features\"):\n",
    "        df = do_countuniq( df, ['ip'], 'channel' ); gc.collect()\n",
    "        df = do_countuniq( df, ['ip', 'device', 'os'], 'app'); gc.collect()\n",
    "        df = do_countuniq( df, ['ip'], 'hour' ); gc.collect()\n",
    "        df = do_countuniq( df, ['ip'], 'app'); gc.collect()\n",
    "        df = do_countuniq( df, ['ip', 'app'], 'os'); gc.collect()\n",
    "        df = do_countuniq( df, ['ip'], 'device'); gc.collect()\n",
    "        df = do_countuniq( df, ['app'], 'channel'); gc.collect()\n",
    "        return(df)\n",
    "\n",
    "# def make_next_click_feature(df):\n",
    "#     with timer(\"Adding next click times\"):\n",
    "#         D= 2**26\n",
    "#         df['category'] = (df['ip'].astype(str) + \"_\" + df['app'].astype(str) + \"_\" + df['device'].astype(str) \\\n",
    "#                          + \"_\" + df['os'].astype(str)).apply(hash) % D\n",
    "#         click_buffer= np.full(D, 3000000000, dtype=np.uint32)\n",
    "#         df['epochtime']= df['click_time'].astype(np.int64) // 10 ** 9\n",
    "#         next_clicks= []\n",
    "#         for category, time in zip(reversed(df['category'].values), reversed(df['epochtime'].values)):\n",
    "#             next_clicks.append(click_buffer[category]-time)\n",
    "#             click_buffer[category]= time\n",
    "#         del(click_buffer)\n",
    "#         df['next_click']= list(reversed(next_clicks))\n",
    "#         gc.collect()\n",
    "        \n",
    "path = '~/talkingdata/input/'\n",
    "\n",
    "dtypes = {\n",
    "        'ip'            : 'uint32',\n",
    "        'app'           : 'uint16',\n",
    "        'device'        : 'uint16',\n",
    "        'os'            : 'uint16',\n",
    "        'channel'       : 'uint16',\n",
    "        'is_attributed' : 'uint8',\n",
    "        'click_id'      : 'uint32'\n",
    "        }\n",
    "\n",
    "columns = ['ip','app','device','os', 'channel', 'click_time', 'is_attributed']"
   ]
  },
  {
   "cell_type": "code",
   "execution_count": 3,
   "metadata": {},
   "outputs": [
    {
     "name": "stdout",
     "output_type": "stream",
     "text": [
      "[load training data] done in 120 s\n",
      "[load test data] done in 43 s\n"
     ]
    }
   ],
   "source": [
    "with timer(\"load training data\"):\n",
    "    train_df = pd.read_csv(path+\"train.csv\",skiprows=range(1,122071518), usecols=['ip','app','device','os', 'channel', 'click_time', 'is_attributed'], dtype=dtypes)\n",
    "\n",
    "with timer(\"load test data\"):\n",
    "    testsup_df = pd.read_csv(path+\"test_supplement.csv\", dtype=dtypes, usecols=['ip','app','device','os', 'channel', 'click_time', 'click_id'])"
   ]
  },
  {
   "cell_type": "code",
   "execution_count": 4,
   "metadata": {},
   "outputs": [
    {
     "data": {
      "text/plain": [
       "64"
      ]
     },
     "execution_count": 4,
     "metadata": {},
     "output_type": "execute_result"
    }
   ],
   "source": [
    "num_train = train_df.shape[0]\n",
    "\n",
    "y = train_df.is_attributed.values\n",
    "gc.collect()\n",
    "\n",
    "# sub = pd.DataFrame()\n",
    "# sub['click_id'] = test_df.click_id.values\n",
    "\n",
    "common_column = ['ip','app','device','os','channel','click_time']\n",
    "concat_df = pd.concat([train_df[common_column],testsup_df[common_column]])\n",
    "\n",
    "del train_df, testsup_df\n",
    "gc.collect()"
   ]
  },
  {
   "cell_type": "code",
   "execution_count": 5,
   "metadata": {},
   "outputs": [],
   "source": [
    "# from multiprocessing import Pool\n",
    "# import multiprocessing as multi\n",
    "\n",
    "# p = Pool(multi.cpu_count())\n",
    "# p.map(make_count_features, concat_df)\n",
    "# p.close()"
   ]
  },
  {
   "cell_type": "code",
   "execution_count": 6,
   "metadata": {},
   "outputs": [
    {
     "name": "stdout",
     "output_type": "stream",
     "text": [
      "[add count features] done in 456 s\n"
     ]
    }
   ],
   "source": [
    "make_count_features(concat_df)"
   ]
  },
  {
   "cell_type": "code",
   "execution_count": 7,
   "metadata": {},
   "outputs": [
    {
     "name": "stdout",
     "output_type": "stream",
     "text": [
      "\n",
      "Counting unqiue  channel  by  ['ip'] ... and saved in ip_by_channel_countuniq\n",
      "\n",
      "Counting unqiue  app  by  ['ip', 'device', 'os'] ... and saved in ip_device_os_by_app_countuniq\n",
      "\n",
      "Counting unqiue  hour  by  ['ip'] ... and saved in ip_by_hour_countuniq\n",
      "\n",
      "Counting unqiue  app  by  ['ip'] ... and saved in ip_by_app_countuniq\n",
      "\n",
      "Counting unqiue  os  by  ['ip', 'app'] ... and saved in ip_app_by_os_countuniq\n",
      "\n",
      "Counting unqiue  device  by  ['ip'] ... and saved in ip_by_device_countuniq\n",
      "\n",
      "Counting unqiue  channel  by  ['app'] ... and saved in app_by_channel_countuniq\n",
      "[add countuniq features] done in 1032 s\n"
     ]
    },
    {
     "data": {
      "text/plain": [
       "41"
      ]
     },
     "execution_count": 7,
     "metadata": {},
     "output_type": "execute_result"
    }
   ],
   "source": [
    "concat_df = make_countuniq_features(concat_df)\n",
    "\n",
    "gc.collect()"
   ]
  },
  {
   "cell_type": "code",
   "execution_count": 15,
   "metadata": {},
   "outputs": [
    {
     "name": "stdout",
     "output_type": "stream",
     "text": [
      ">> \n",
      "Extracting nextClick time calculation features...\n",
      "\n",
      ">> Grouping by ['ip', 'os', 'device', 'app'], and saving time to nextClick in: ip_os_device_app_nextClick\n",
      ">> Grouping by ['app', 'device', 'channel'], and saving time to nextClick in: app_device_channel_nextClick\n",
      "[Adding next click times] done in 1464 s\n"
     ]
    },
    {
     "data": {
      "text/plain": [
       "0"
      ]
     },
     "execution_count": 15,
     "metadata": {},
     "output_type": "execute_result"
    }
   ],
   "source": [
    "concat_df = do_next_Click(concat_df)\n",
    "gc.collect()"
   ]
  },
  {
   "cell_type": "code",
   "execution_count": 20,
   "metadata": {},
   "outputs": [
    {
     "data": {
      "text/plain": [
       "259"
      ]
     },
     "execution_count": 20,
     "metadata": {},
     "output_type": "execute_result"
    }
   ],
   "source": [
    "train_df = concat_df.iloc[:num_train]\n",
    "testsup_df = concat_df.iloc[num_train:]\n",
    "\n",
    "del concat_df\n",
    "gc.collect()"
   ]
  },
  {
   "cell_type": "code",
   "execution_count": 38,
   "metadata": {},
   "outputs": [
    {
     "name": "stdout",
     "output_type": "stream",
     "text": [
      "|            Variable Name|    Memory|\n",
      " ------------------------------------ \n",
      "|                       In|       432|\n",
      "|                      Out|       648|\n",
      "|                       ax|        56|\n",
      "|         bagging_fraction|        24|\n",
      "|             bagging_freq|        28|\n",
      "| bin_construct_sample_cnt|        28|\n",
      "|                  booster|        56|\n",
      "|              categorical|       104|\n",
      "|                  columns|       120|\n",
      "|           contextmanager|       136|\n",
      "|            df_add_counts|       136|\n",
      "|             do_countuniq|       136|\n",
      "|              do_cumcount|       136|\n",
      "|            do_next_Click|       136|\n",
      "|                   dtypes|       368|\n",
      "|    early_stopping_rounds|        28|\n",
      "|            evals_results|       240|\n",
      "|                     exit|        56|\n",
      "|                        f|       176|\n",
      "|         feature_fraction|        24|\n",
      "|                       gc|        80|\n",
      "|              get_ipython|        64|\n",
      "|                      lgb|        80|\n",
      "|               lgb_params|       648|\n",
      "|      make_count_features|       136|\n",
      "|  make_countuniq_features|       136|\n",
      "|                  max_bin|        28|\n",
      "|                max_depth|        28|\n",
      "|                  metrics|        52|\n",
      "|         min_data_in_leaf|        28|\n",
      "|              min_hessian|        24|\n",
      "|             n_estimators|        28|\n",
      "|                       np|        80|\n",
      "|          num_boost_round|        28|\n",
      "|                num_train|        28|\n",
      "|                     path|        69|\n",
      "|                       pd|        80|\n",
      "|                   pickle|        80|\n",
      "|                      plt|        80|\n",
      "|               predictors|       368|\n",
      "|                     quit|        56|\n",
      "|         scale_pos_weight|        28|\n",
      "|                      sys|        80|\n",
      "|                   target|        62|\n",
      "|                  test_df| 450971360|\n",
      "|               testsup_df|9493688349|\n",
      "|                     time|        80|\n",
      "|                    timer|       136|\n",
      "|         train_test_split|       136|\n",
      "|                 var_name|        57|\n"
     ]
    },
    {
     "data": {
      "text/plain": [
       "213"
      ]
     },
     "execution_count": 38,
     "metadata": {},
     "output_type": "execute_result"
    }
   ],
   "source": [
    "import sys\n",
    "\n",
    "print(\"{}{: >25}{}{: >10}{}\".format('|','Variable Name','|','Memory','|'))\n",
    "print(\" ------------------------------------ \")\n",
    "for var_name in dir():\n",
    "    if not var_name.startswith(\"_\"):\n",
    "        print(\"{}{: >25}{}{: >10}{}\".format('|',var_name,'|',sys.getsizeof(eval(var_name)),'|'))\n",
    "gc.collect()"
   ]
  },
  {
   "cell_type": "code",
   "execution_count": 3,
   "metadata": {},
   "outputs": [],
   "source": [
    "# ここから特徴量の追加\n",
    "import pickle\n",
    "# train_df = pd.DataFrame()\n",
    "with open('train_after.csv.pkl','rb') as f:\n",
    "  train_df = pickle.load(f)\n",
    "\n",
    "with open('testsup_after.csv.pkl','rb') as f:\n",
    "  testsup_df = pickle.load(f)\n",
    "\n",
    "with open('y.csv.pkl','rb') as f:\n",
    "  y = pickle.load(f)"
   ]
  },
  {
   "cell_type": "code",
   "execution_count": 4,
   "metadata": {},
   "outputs": [
    {
     "name": "stdout",
     "output_type": "stream",
     "text": [
      "62832373\n"
     ]
    }
   ],
   "source": [
    "num_train = train_df.shape[0]\n",
    "print(num_train)"
   ]
  },
  {
   "cell_type": "code",
   "execution_count": 5,
   "metadata": {},
   "outputs": [
    {
     "data": {
      "text/plain": [
       "7"
      ]
     },
     "execution_count": 5,
     "metadata": {},
     "output_type": "execute_result"
    }
   ],
   "source": [
    "# common_column = ['ip','app','device','os','channel','click_time']\n",
    "concat_df = pd.concat([train_df,testsup_df])\n",
    "\n",
    "del train_df, testsup_df\n",
    "gc.collect()"
   ]
  },
  {
   "cell_type": "code",
   "execution_count": 7,
   "metadata": {},
   "outputs": [],
   "source": [
    "def do_cumcount( df, group_cols, counted, agg_name, agg_type='uint16', show_max=False, show_agg=True ):\n",
    "    if show_agg:\n",
    "        print( \"Cumulative count by \", group_cols , '...' )\n",
    "    gp = df[group_cols+[counted]].groupby(group_cols)[counted].cumcount()\n",
    "    df[agg_name]=gp.values\n",
    "    del gp\n",
    "    if show_max:\n",
    "        print( agg_name + \" max value = \", df[agg_name].max() )\n",
    "    df[agg_name] = df[agg_name].astype(agg_type)\n",
    "    gc.collect()\n",
    "    return( df )"
   ]
  },
  {
   "cell_type": "code",
   "execution_count": 6,
   "metadata": {},
   "outputs": [
    {
     "name": "stdout",
     "output_type": "stream",
     "text": [
      "[add count features] done in 89 s\n"
     ]
    }
   ],
   "source": [
    "make_count_features(concat_df)"
   ]
  },
  {
   "cell_type": "code",
   "execution_count": 8,
   "metadata": {},
   "outputs": [
    {
     "name": "stdout",
     "output_type": "stream",
     "text": [
      "Cumulative count by  ['ip', 'device', 'os'] ...\n",
      "cumcount_ip_dev_os_by_app max value =  179655\n",
      "Cumulative count by  ['ip'] ...\n",
      "cumcount_ip_by_app max value =  928931\n",
      "Cumulative count by  ['ip'] ...\n",
      "cumcount_ip_by_os max value =  928931\n"
     ]
    },
    {
     "data": {
      "text/plain": [
       "0"
      ]
     },
     "execution_count": 8,
     "metadata": {},
     "output_type": "execute_result"
    }
   ],
   "source": [
    "concat_df = do_cumcount(concat_df, ['ip', 'device', 'os'], 'app', 'cumcount_ip_dev_os_by_app', show_max=True )\n",
    "# concat_df = do_cumcount(concat_df, ['ip'], 'app', 'cumcount_ip_by_app', show_max=True )\n",
    "concat_df = do_cumcount(concat_df, ['ip'], 'os', 'cumcount_ip_by_os', show_max=True )\n",
    "gc.collect()"
   ]
  },
  {
   "cell_type": "code",
   "execution_count": 8,
   "metadata": {},
   "outputs": [
    {
     "name": "stdout",
     "output_type": "stream",
     "text": [
      ">> \n",
      "Extracting nextClick time calculation features...\n",
      "\n",
      ">> Grouping by ['ip'], and saving time to nextClick in: ip_nextClick\n",
      ">> Grouping by ['ip', 'app'], and saving time to nextClick in: ip_app_nextClick\n",
      ">> Grouping by ['ip', 'channel'], and saving time to nextClick in: ip_channel_nextClick\n",
      ">> Grouping by ['ip', 'os'], and saving time to nextClick in: ip_os_nextClick\n",
      "[Adding next click times] done in 3219 s\n"
     ]
    },
    {
     "data": {
      "text/plain": [
       "0"
      ]
     },
     "execution_count": 8,
     "metadata": {},
     "output_type": "execute_result"
    }
   ],
   "source": [
    "concat_df = do_next_Click(concat_df)\n",
    "gc.collect()"
   ]
  },
  {
   "cell_type": "code",
   "execution_count": 18,
   "metadata": {},
   "outputs": [],
   "source": [
    "del concat_df['cumcount_ip_by_app']"
   ]
  },
  {
   "cell_type": "code",
   "execution_count": 10,
   "metadata": {},
   "outputs": [
    {
     "data": {
      "text/plain": [
       "33"
      ]
     },
     "execution_count": 10,
     "metadata": {},
     "output_type": "execute_result"
    }
   ],
   "source": [
    "train_df = concat_df.iloc[:num_train]\n",
    "testsup_df = concat_df.iloc[num_train:]\n",
    "\n",
    "del concat_df\n",
    "gc.collect()"
   ]
  },
  {
   "cell_type": "code",
   "execution_count": 23,
   "metadata": {},
   "outputs": [],
   "source": [
    "# データ保存\n",
    "with open('train_after.csv.pkl','wb') as f:\n",
    "  pickle.dump(train_df,f,protocol=4)\n",
    "\n",
    "with open('testsup_after.csv.pkl','wb') as f:\n",
    "  pickle.dump(testsup_df,f,protocol=4)"
   ]
  },
  {
   "cell_type": "code",
   "execution_count": 25,
   "metadata": {},
   "outputs": [
    {
     "data": {
      "text/plain": [
       "array([0, 0, 0, ..., 0, 0, 0], dtype=uint8)"
      ]
     },
     "execution_count": 25,
     "metadata": {},
     "output_type": "execute_result"
    }
   ],
   "source": [
    "y"
   ]
  },
  {
   "cell_type": "code",
   "execution_count": 3,
   "metadata": {},
   "outputs": [],
   "source": [
    "#データ読みこみ\n",
    "with open('train_after.csv.pkl','rb') as f:\n",
    "  train_df = pickle.load(f)\n",
    "\n",
    "with open('testsup_after.csv.pkl','rb') as f:\n",
    "  testsup_df = pickle.load(f)\n",
    "\n",
    "with open('y.csv.pkl','rb') as f:\n",
    "  y = pickle.load(f)"
   ]
  },
  {
   "cell_type": "code",
   "execution_count": 9,
   "metadata": {},
   "outputs": [],
   "source": [
    "# with timer(\"load training data\"):\n",
    "#     train = pd.read_csv(path+\"train.csv\",skiprows=range(1,122071518), usecols=['ip','app','device','os', 'channel', 'click_time', 'is_attributed'], dtype=dtypes)\n",
    "# y = train.is_attributed.values\n",
    "# del train"
   ]
  },
  {
   "cell_type": "code",
   "execution_count": 10,
   "metadata": {},
   "outputs": [],
   "source": [
    "# with open('y.csv.pkl','wb') as f:\n",
    "#   pickle.dump(y, f, protocol=4)"
   ]
  },
  {
   "cell_type": "code",
   "execution_count": 4,
   "metadata": {},
   "outputs": [
    {
     "name": "stderr",
     "output_type": "stream",
     "text": [
      "/home/um003580/.pyenv/versions/anaconda3-5.1.0/lib/python3.6/site-packages/sklearn/model_selection/_split.py:2026: FutureWarning: From version 0.21, test_size will always complement train_size unless both are specified.\n",
      "  FutureWarning)\n"
     ]
    },
    {
     "data": {
      "text/plain": [
       "215"
      ]
     },
     "execution_count": 4,
     "metadata": {},
     "output_type": "execute_result"
    }
   ],
   "source": [
    "x_train, x_val, y_train, y_val = train_test_split(train_df, y, train_size=0.9, random_state=0)\n",
    "\n",
    "del train_df, y\n",
    "gc.collect()"
   ]
  },
  {
   "cell_type": "code",
   "execution_count": 5,
   "metadata": {},
   "outputs": [],
   "source": [
    "evals_results = {}\n",
    "# num_boost_round = 250\n",
    "# early_stopping_rounds = 30\n",
    "num_boost_round = 10000\n",
    "early_stopping_rounds = 50\n",
    "\n",
    "# lgb_params = {\n",
    "#     'boosting_type': 'gbdt',\n",
    "#     'objective': 'binary',\n",
    "#     'subsample_for_bin': 200000,  # Number of samples for constructing bin\n",
    "#     'min_split_gain': 0,  # lambda_l1, lambda_l2 and min_gain_to_split to regularization\n",
    "#     'reg_alpha': 0,  # L1 regularization term on weights\n",
    "#     'reg_lambda': 0,  # L2 regularization term on weights\n",
    "#     'nthread': 8,\n",
    "#     'verbose': 0,\n",
    "#     'metric':'auc',     \n",
    " \n",
    "#     'learning_rate': 0.15,\n",
    "#     'num_leaves': 7,  # 2^max_depth - 1\n",
    "#     'max_depth': 3,  # -1 means no limit\n",
    "#     'min_child_samples': 100,  # Minimum number of data need in a child(min_data_in_leaf)\n",
    "#     'max_bin': 100,  # Number of bucketed bin for feature values\n",
    "#     'subsample': 0.7,  # Subsample ratio of the training instance.\n",
    "#     'subsample_freq': 1,  # frequence of subsample, <=0 means no enable\n",
    "#     'colsample_bytree': 0.9,  # Subsample ratio of columns when constructing each tree.\n",
    "#     'min_child_weight': 0,  # Minimum sum of instance weight(hessian) needed in a child(leaf)\n",
    "#     'scale_pos_weight':99\n",
    "# }\n",
    "\n",
    "# matsuda Hyperparameters\n",
    "min_data_in_leaf = 100\n",
    "# min_data_in_leaf = 50\n",
    "max_bin = 127\n",
    "bagging_fraction = 0.7\n",
    "bagging_freq = 1 \n",
    "feature_fraction = 0.9\n",
    "bin_construct_sample_cnt = 100000\n",
    "min_hessian = 0 \n",
    "scale_pos_weight = 200\n",
    "max_depth = -1\n",
    "\n",
    "lgb_params = {\n",
    "   'boosting_type': 'gbdt',\n",
    "   'objective': 'binary',\n",
    "   'min_split_gain': 0,  # lambda_l1, lambda_l2 and min_gain_to_split to regularization\n",
    "   'nthread': 8,\n",
    "   'verbose': 0,\n",
    "   'metric': 'auc',\n",
    "   'learning_rate': 0.05,\n",
    "#    'learning_rate': 0.1,\n",
    "   'max_depth': max_depth,  # -1 means no limit\n",
    "   'num_leaves': 31,  # 2^max_depth - 1\n",
    "   'min_child_samples': min_data_in_leaf,  # Minimum number of data need in a child(min_data_in_leaf)\n",
    "   'max_bin': max_bin,  # Number of bucketed bin for feature values\n",
    "   'bin_construct_sample_cnt': bin_construct_sample_cnt,\n",
    "   # 'subsample_for_bin': 20000,  # Number of samples for constructing bin\n",
    "   'bagging_fraction': bagging_fraction,  # subsample\n",
    "   'bagging_freq': bagging_freq,  # subsample_freq\n",
    "   'feature_fraction': feature_fraction,  # colsample_bytree\n",
    "   'min_sum_hessian_in_leaf': min_hessian,  # min_child_weight\n",
    "   'scale_pos_weight': scale_pos_weight\n",
    "}\n",
    "\n",
    "\n",
    "# metrics = 'auc'\n",
    "# lgb_params = {\n",
    "#     'boosting_type': 'gbdt',\n",
    "#     'objective': 'binary',\n",
    "#     'metric': metrics,\n",
    "#     'learning_rate': .1,\n",
    "#     'num_leaves': 7,\n",
    "#     'max_depth': 4,\n",
    "#     'min_child_samples': 100,\n",
    "#     'max_bin': 100,\n",
    "#     'subsample': 0.7,\n",
    "#     'subsample_freq': 1,\n",
    "#     'colsample_bytree': 0.7,\n",
    "#     'min_child_weight': 0,\n",
    "#     'min_split_gain': 0,\n",
    "#     'nthread': 4,\n",
    "#     'verbose': 1,\n",
    "#     'scale_pos_weight': 99.7\n",
    "#     #'scale_pos_weight': 400\n",
    "# }"
   ]
  },
  {
   "cell_type": "code",
   "execution_count": 7,
   "metadata": {},
   "outputs": [
    {
     "name": "stdout",
     "output_type": "stream",
     "text": [
      "['os', 'ip_device_count', 'ip_app_os_count', 'os_app_channel_count', 'cumcount_ip_dev_os_by_app', 'app', 'ip_count', 'ip_app_by_os_countuniq', 'app_by_channel_countuniq', 'ip_by_hour_countuniq', 'ip_by_app_countuniq', 'ip_device_os_by_app_countuniq', 'ip_app_device_os_channel_nextClick', 'hour', 'app_channel_count', 'ip_os_device_nextClick', 'ip_os_nextClick', 'ip_app_nextClick', 'device', 'os_device_count', 'cumcount_ip_by_os', 'ip_hour_count', 'ip_by_channel_countuniq', 'ip_os_device_app_nextClick', 'channel', 'ip_by_device_countuniq', 'ip_app_count']\n",
      "preparing validation datasets\n"
     ]
    },
    {
     "data": {
      "text/plain": [
       "31"
      ]
     },
     "execution_count": 7,
     "metadata": {},
     "output_type": "execute_result"
    }
   ],
   "source": [
    "target = \"is_attributed\"\n",
    "categorical = ['app','os','channel','hour','device']\n",
    "predictors = list(set(x_train.columns)-set([target])-set(['click_time','ip','ip_channel_hour_count','app_device_channel_nextClick','ip_channel_nextClick','ip_nextClick']))\n",
    "print(predictors)\n",
    "\n",
    "print(\"preparing validation datasets\")\n",
    "\n",
    "xgtrain = lgb.Dataset(x_train[predictors].values,\n",
    "                      label=y_train,\n",
    "                      feature_name=predictors,\n",
    "                      categorical_feature=categorical\n",
    "                      )\n",
    "\n",
    "del x_train\n",
    "del y_train\n",
    "gc.collect()\n",
    "\n",
    "xgvalid = lgb.Dataset(x_val[predictors].values,\n",
    "                      label=y_val,\n",
    "                      feature_name=predictors,\n",
    "                      categorical_feature=categorical\n",
    "                      )\n",
    "\n",
    "del x_val\n",
    "del y_val\n",
    "gc.collect()"
   ]
  },
  {
   "cell_type": "code",
   "execution_count": 8,
   "metadata": {
    "scrolled": true
   },
   "outputs": [
    {
     "name": "stderr",
     "output_type": "stream",
     "text": [
      "/home/um003580/.pyenv/versions/anaconda3-5.1.0/lib/python3.6/site-packages/lightgbm/basic.py:1036: UserWarning: Using categorical_feature in Dataset.\n",
      "  warnings.warn('Using categorical_feature in Dataset.')\n",
      "/home/um003580/.pyenv/versions/anaconda3-5.1.0/lib/python3.6/site-packages/lightgbm/basic.py:681: UserWarning: categorical_feature in param dict is overrided.\n",
      "  warnings.warn('categorical_feature in param dict is overrided.')\n"
     ]
    },
    {
     "name": "stdout",
     "output_type": "stream",
     "text": [
      "[1]\tvalid's auc: 0.969414\n",
      "Training until validation scores don't improve for 50 rounds.\n",
      "[2]\tvalid's auc: 0.971933\n",
      "[3]\tvalid's auc: 0.97242\n",
      "[4]\tvalid's auc: 0.972439\n",
      "[5]\tvalid's auc: 0.973194\n",
      "[6]\tvalid's auc: 0.97397\n",
      "[7]\tvalid's auc: 0.973989\n",
      "[8]\tvalid's auc: 0.974074\n",
      "[9]\tvalid's auc: 0.974473\n",
      "[10]\tvalid's auc: 0.974948\n",
      "[11]\tvalid's auc: 0.975053\n",
      "[12]\tvalid's auc: 0.975073\n",
      "[13]\tvalid's auc: 0.975185\n",
      "[14]\tvalid's auc: 0.975234\n",
      "[15]\tvalid's auc: 0.975421\n",
      "[16]\tvalid's auc: 0.975522\n",
      "[17]\tvalid's auc: 0.97553\n",
      "[18]\tvalid's auc: 0.97554\n",
      "[19]\tvalid's auc: 0.975662\n",
      "[20]\tvalid's auc: 0.975875\n",
      "[21]\tvalid's auc: 0.97598\n",
      "[22]\tvalid's auc: 0.976034\n",
      "[23]\tvalid's auc: 0.976296\n",
      "[24]\tvalid's auc: 0.976476\n",
      "[25]\tvalid's auc: 0.976563\n",
      "[26]\tvalid's auc: 0.976709\n",
      "[27]\tvalid's auc: 0.976822\n",
      "[28]\tvalid's auc: 0.97685\n",
      "[29]\tvalid's auc: 0.977082\n",
      "[30]\tvalid's auc: 0.977237\n",
      "[31]\tvalid's auc: 0.977436\n",
      "[32]\tvalid's auc: 0.977601\n",
      "[33]\tvalid's auc: 0.977711\n",
      "[34]\tvalid's auc: 0.97777\n",
      "[35]\tvalid's auc: 0.977892\n",
      "[36]\tvalid's auc: 0.977985\n",
      "[37]\tvalid's auc: 0.978072\n",
      "[38]\tvalid's auc: 0.978172\n",
      "[39]\tvalid's auc: 0.978369\n",
      "[40]\tvalid's auc: 0.978477\n",
      "[41]\tvalid's auc: 0.978662\n",
      "[42]\tvalid's auc: 0.978783\n",
      "[43]\tvalid's auc: 0.978862\n",
      "[44]\tvalid's auc: 0.978929\n",
      "[45]\tvalid's auc: 0.978991\n",
      "[46]\tvalid's auc: 0.979154\n",
      "[47]\tvalid's auc: 0.979232\n",
      "[48]\tvalid's auc: 0.979284\n",
      "[49]\tvalid's auc: 0.979324\n",
      "[50]\tvalid's auc: 0.979393\n",
      "[51]\tvalid's auc: 0.979481\n",
      "[52]\tvalid's auc: 0.979565\n",
      "[53]\tvalid's auc: 0.979654\n",
      "[54]\tvalid's auc: 0.979703\n",
      "[55]\tvalid's auc: 0.979772\n",
      "[56]\tvalid's auc: 0.979898\n",
      "[57]\tvalid's auc: 0.98\n",
      "[58]\tvalid's auc: 0.98003\n",
      "[59]\tvalid's auc: 0.980126\n",
      "[60]\tvalid's auc: 0.980211\n",
      "[61]\tvalid's auc: 0.980282\n",
      "[62]\tvalid's auc: 0.980391\n",
      "[63]\tvalid's auc: 0.980486\n",
      "[64]\tvalid's auc: 0.980517\n",
      "[65]\tvalid's auc: 0.980542\n",
      "[66]\tvalid's auc: 0.980571\n",
      "[67]\tvalid's auc: 0.980644\n",
      "[68]\tvalid's auc: 0.980722\n",
      "[69]\tvalid's auc: 0.980785\n",
      "[70]\tvalid's auc: 0.980839\n",
      "[71]\tvalid's auc: 0.980907\n",
      "[72]\tvalid's auc: 0.980957\n",
      "[73]\tvalid's auc: 0.980987\n",
      "[74]\tvalid's auc: 0.981025\n",
      "[75]\tvalid's auc: 0.981106\n",
      "[76]\tvalid's auc: 0.981164\n",
      "[77]\tvalid's auc: 0.981222\n",
      "[78]\tvalid's auc: 0.981294\n",
      "[79]\tvalid's auc: 0.981336\n",
      "[80]\tvalid's auc: 0.981403\n",
      "[81]\tvalid's auc: 0.981446\n",
      "[82]\tvalid's auc: 0.981499\n",
      "[83]\tvalid's auc: 0.981576\n",
      "[84]\tvalid's auc: 0.981615\n",
      "[85]\tvalid's auc: 0.981655\n",
      "[86]\tvalid's auc: 0.981685\n",
      "[87]\tvalid's auc: 0.981754\n",
      "[88]\tvalid's auc: 0.981821\n",
      "[89]\tvalid's auc: 0.981846\n",
      "[90]\tvalid's auc: 0.981911\n",
      "[91]\tvalid's auc: 0.981962\n",
      "[92]\tvalid's auc: 0.982023\n",
      "[93]\tvalid's auc: 0.982065\n",
      "[94]\tvalid's auc: 0.982115\n",
      "[95]\tvalid's auc: 0.982149\n",
      "[96]\tvalid's auc: 0.982189\n",
      "[97]\tvalid's auc: 0.982228\n",
      "[98]\tvalid's auc: 0.982257\n",
      "[99]\tvalid's auc: 0.982281\n",
      "[100]\tvalid's auc: 0.982318\n",
      "[101]\tvalid's auc: 0.982342\n",
      "[102]\tvalid's auc: 0.982369\n",
      "[103]\tvalid's auc: 0.982396\n",
      "[104]\tvalid's auc: 0.982423\n",
      "[105]\tvalid's auc: 0.982465\n",
      "[106]\tvalid's auc: 0.982516\n",
      "[107]\tvalid's auc: 0.98254\n",
      "[108]\tvalid's auc: 0.982548\n",
      "[109]\tvalid's auc: 0.982579\n",
      "[110]\tvalid's auc: 0.982592\n",
      "[111]\tvalid's auc: 0.982608\n",
      "[112]\tvalid's auc: 0.982638\n",
      "[113]\tvalid's auc: 0.98266\n",
      "[114]\tvalid's auc: 0.982672\n",
      "[115]\tvalid's auc: 0.982705\n",
      "[116]\tvalid's auc: 0.982729\n",
      "[117]\tvalid's auc: 0.982766\n",
      "[118]\tvalid's auc: 0.982783\n",
      "[119]\tvalid's auc: 0.982788\n",
      "[120]\tvalid's auc: 0.982808\n",
      "[121]\tvalid's auc: 0.982823\n",
      "[122]\tvalid's auc: 0.982844\n",
      "[123]\tvalid's auc: 0.982856\n",
      "[124]\tvalid's auc: 0.982859\n",
      "[125]\tvalid's auc: 0.982887\n",
      "[126]\tvalid's auc: 0.98291\n",
      "[127]\tvalid's auc: 0.982927\n",
      "[128]\tvalid's auc: 0.982948\n",
      "[129]\tvalid's auc: 0.982958\n",
      "[130]\tvalid's auc: 0.982971\n",
      "[131]\tvalid's auc: 0.982976\n",
      "[132]\tvalid's auc: 0.983003\n",
      "[133]\tvalid's auc: 0.983009\n",
      "[134]\tvalid's auc: 0.983035\n",
      "[135]\tvalid's auc: 0.983045\n",
      "[136]\tvalid's auc: 0.983054\n",
      "[137]\tvalid's auc: 0.983079\n",
      "[138]\tvalid's auc: 0.983104\n",
      "[139]\tvalid's auc: 0.983123\n",
      "[140]\tvalid's auc: 0.983137\n",
      "[141]\tvalid's auc: 0.983161\n",
      "[142]\tvalid's auc: 0.983176\n",
      "[143]\tvalid's auc: 0.983191\n",
      "[144]\tvalid's auc: 0.983198\n",
      "[145]\tvalid's auc: 0.983211\n",
      "[146]\tvalid's auc: 0.983217\n",
      "[147]\tvalid's auc: 0.983229\n",
      "[148]\tvalid's auc: 0.983239\n",
      "[149]\tvalid's auc: 0.983264\n",
      "[150]\tvalid's auc: 0.983273\n",
      "[151]\tvalid's auc: 0.983281\n",
      "[152]\tvalid's auc: 0.983291\n",
      "[153]\tvalid's auc: 0.9833\n",
      "[154]\tvalid's auc: 0.983309\n",
      "[155]\tvalid's auc: 0.983317\n",
      "[156]\tvalid's auc: 0.98333\n",
      "[157]\tvalid's auc: 0.983334\n",
      "[158]\tvalid's auc: 0.98335\n",
      "[159]\tvalid's auc: 0.98335\n",
      "[160]\tvalid's auc: 0.983356\n",
      "[161]\tvalid's auc: 0.983367\n",
      "[162]\tvalid's auc: 0.983377\n",
      "[163]\tvalid's auc: 0.983383\n",
      "[164]\tvalid's auc: 0.98339\n",
      "[165]\tvalid's auc: 0.983401\n",
      "[166]\tvalid's auc: 0.983408\n",
      "[167]\tvalid's auc: 0.983404\n",
      "[168]\tvalid's auc: 0.983413\n",
      "[169]\tvalid's auc: 0.983413\n",
      "[170]\tvalid's auc: 0.983412\n",
      "[171]\tvalid's auc: 0.983436\n",
      "[172]\tvalid's auc: 0.983437\n",
      "[173]\tvalid's auc: 0.983453\n",
      "[174]\tvalid's auc: 0.983465\n",
      "[175]\tvalid's auc: 0.983473\n",
      "[176]\tvalid's auc: 0.983476\n",
      "[177]\tvalid's auc: 0.983477\n",
      "[178]\tvalid's auc: 0.983478\n",
      "[179]\tvalid's auc: 0.983477\n",
      "[180]\tvalid's auc: 0.983489\n",
      "[181]\tvalid's auc: 0.983494\n",
      "[182]\tvalid's auc: 0.983496\n",
      "[183]\tvalid's auc: 0.983502\n",
      "[184]\tvalid's auc: 0.983505\n",
      "[185]\tvalid's auc: 0.98351\n",
      "[186]\tvalid's auc: 0.983514\n",
      "[187]\tvalid's auc: 0.983518\n",
      "[188]\tvalid's auc: 0.983533\n",
      "[189]\tvalid's auc: 0.983539\n",
      "[190]\tvalid's auc: 0.98355\n",
      "[191]\tvalid's auc: 0.983551\n",
      "[192]\tvalid's auc: 0.983562\n",
      "[193]\tvalid's auc: 0.983566\n",
      "[194]\tvalid's auc: 0.983565\n",
      "[195]\tvalid's auc: 0.983579\n",
      "[196]\tvalid's auc: 0.983578\n",
      "[197]\tvalid's auc: 0.983583\n",
      "[198]\tvalid's auc: 0.983587\n",
      "[199]\tvalid's auc: 0.983604\n",
      "[200]\tvalid's auc: 0.983606\n",
      "[201]\tvalid's auc: 0.983614\n",
      "[202]\tvalid's auc: 0.983613\n",
      "[203]\tvalid's auc: 0.983616\n",
      "[204]\tvalid's auc: 0.983623\n",
      "[205]\tvalid's auc: 0.983633\n",
      "[206]\tvalid's auc: 0.983637\n",
      "[207]\tvalid's auc: 0.983642\n",
      "[208]\tvalid's auc: 0.983642\n",
      "[209]\tvalid's auc: 0.983648\n",
      "[210]\tvalid's auc: 0.983648\n",
      "[211]\tvalid's auc: 0.983643\n",
      "[212]\tvalid's auc: 0.983649\n",
      "[213]\tvalid's auc: 0.983657\n",
      "[214]\tvalid's auc: 0.983661\n",
      "[215]\tvalid's auc: 0.983665\n",
      "[216]\tvalid's auc: 0.983669\n",
      "[217]\tvalid's auc: 0.983673\n",
      "[218]\tvalid's auc: 0.983676\n",
      "[219]\tvalid's auc: 0.983677\n",
      "[220]\tvalid's auc: 0.983678\n",
      "[221]\tvalid's auc: 0.983677\n",
      "[222]\tvalid's auc: 0.983679\n",
      "[223]\tvalid's auc: 0.983686\n",
      "[224]\tvalid's auc: 0.983688\n",
      "[225]\tvalid's auc: 0.98369\n",
      "[226]\tvalid's auc: 0.983696\n",
      "[227]\tvalid's auc: 0.983694\n",
      "[228]\tvalid's auc: 0.983692\n",
      "[229]\tvalid's auc: 0.983693\n",
      "[230]\tvalid's auc: 0.983694\n",
      "[231]\tvalid's auc: 0.983697\n",
      "[232]\tvalid's auc: 0.983694\n",
      "[233]\tvalid's auc: 0.983695\n",
      "[234]\tvalid's auc: 0.9837\n",
      "[235]\tvalid's auc: 0.983695\n",
      "[236]\tvalid's auc: 0.983689\n",
      "[237]\tvalid's auc: 0.983695\n",
      "[238]\tvalid's auc: 0.983696\n",
      "[239]\tvalid's auc: 0.983696\n",
      "[240]\tvalid's auc: 0.983696\n",
      "[241]\tvalid's auc: 0.983705\n",
      "[242]\tvalid's auc: 0.983701\n",
      "[243]\tvalid's auc: 0.983708\n",
      "[244]\tvalid's auc: 0.983706\n",
      "[245]\tvalid's auc: 0.98371\n",
      "[246]\tvalid's auc: 0.983705\n",
      "[247]\tvalid's auc: 0.98371\n",
      "[248]\tvalid's auc: 0.983713\n",
      "[249]\tvalid's auc: 0.983718\n",
      "[250]\tvalid's auc: 0.98372\n",
      "[251]\tvalid's auc: 0.983716\n",
      "[252]\tvalid's auc: 0.983715\n",
      "[253]\tvalid's auc: 0.983712\n",
      "[254]\tvalid's auc: 0.983713\n",
      "[255]\tvalid's auc: 0.983715\n",
      "[256]\tvalid's auc: 0.983722\n",
      "[257]\tvalid's auc: 0.983724\n",
      "[258]\tvalid's auc: 0.983734\n",
      "[259]\tvalid's auc: 0.983735\n",
      "[260]\tvalid's auc: 0.983736\n",
      "[261]\tvalid's auc: 0.98374\n",
      "[262]\tvalid's auc: 0.983745\n",
      "[263]\tvalid's auc: 0.98375\n",
      "[264]\tvalid's auc: 0.983752\n",
      "[265]\tvalid's auc: 0.983752\n",
      "[266]\tvalid's auc: 0.983752\n",
      "[267]\tvalid's auc: 0.983752\n",
      "[268]\tvalid's auc: 0.983754\n",
      "[269]\tvalid's auc: 0.983754\n",
      "[270]\tvalid's auc: 0.983752\n",
      "[271]\tvalid's auc: 0.983755\n",
      "[272]\tvalid's auc: 0.983758\n",
      "[273]\tvalid's auc: 0.983755\n",
      "[274]\tvalid's auc: 0.983753\n",
      "[275]\tvalid's auc: 0.983752\n",
      "[276]\tvalid's auc: 0.983758\n",
      "[277]\tvalid's auc: 0.983762\n",
      "[278]\tvalid's auc: 0.983766\n",
      "[279]\tvalid's auc: 0.983763\n",
      "[280]\tvalid's auc: 0.983769\n",
      "[281]\tvalid's auc: 0.983771\n",
      "[282]\tvalid's auc: 0.983776\n",
      "[283]\tvalid's auc: 0.983775\n",
      "[284]\tvalid's auc: 0.983775\n",
      "[285]\tvalid's auc: 0.983773\n",
      "[286]\tvalid's auc: 0.983773\n",
      "[287]\tvalid's auc: 0.983778\n",
      "[288]\tvalid's auc: 0.983776\n",
      "[289]\tvalid's auc: 0.983779\n",
      "[290]\tvalid's auc: 0.983777\n",
      "[291]\tvalid's auc: 0.983787\n",
      "[292]\tvalid's auc: 0.983793\n",
      "[293]\tvalid's auc: 0.983791\n",
      "[294]\tvalid's auc: 0.983793\n",
      "[295]\tvalid's auc: 0.983796\n",
      "[296]\tvalid's auc: 0.983799\n"
     ]
    },
    {
     "name": "stdout",
     "output_type": "stream",
     "text": [
      "[297]\tvalid's auc: 0.983796\n",
      "[298]\tvalid's auc: 0.983791\n",
      "[299]\tvalid's auc: 0.983792\n",
      "[300]\tvalid's auc: 0.983792\n",
      "[301]\tvalid's auc: 0.983794\n",
      "[302]\tvalid's auc: 0.983792\n",
      "[303]\tvalid's auc: 0.983788\n",
      "[304]\tvalid's auc: 0.983788\n",
      "[305]\tvalid's auc: 0.983792\n",
      "[306]\tvalid's auc: 0.983791\n",
      "[307]\tvalid's auc: 0.983791\n",
      "[308]\tvalid's auc: 0.983798\n",
      "[309]\tvalid's auc: 0.9838\n",
      "[310]\tvalid's auc: 0.983805\n",
      "[311]\tvalid's auc: 0.983805\n",
      "[312]\tvalid's auc: 0.983805\n",
      "[313]\tvalid's auc: 0.983807\n",
      "[314]\tvalid's auc: 0.983804\n",
      "[315]\tvalid's auc: 0.983807\n",
      "[316]\tvalid's auc: 0.983811\n",
      "[317]\tvalid's auc: 0.983813\n",
      "[318]\tvalid's auc: 0.983812\n",
      "[319]\tvalid's auc: 0.983815\n",
      "[320]\tvalid's auc: 0.983821\n",
      "[321]\tvalid's auc: 0.983823\n",
      "[322]\tvalid's auc: 0.98383\n",
      "[323]\tvalid's auc: 0.983827\n",
      "[324]\tvalid's auc: 0.983828\n",
      "[325]\tvalid's auc: 0.983831\n",
      "[326]\tvalid's auc: 0.983829\n",
      "[327]\tvalid's auc: 0.983833\n",
      "[328]\tvalid's auc: 0.983832\n",
      "[329]\tvalid's auc: 0.983831\n",
      "[330]\tvalid's auc: 0.983831\n",
      "[331]\tvalid's auc: 0.983831\n",
      "[332]\tvalid's auc: 0.983834\n",
      "[333]\tvalid's auc: 0.983834\n",
      "[334]\tvalid's auc: 0.983835\n",
      "[335]\tvalid's auc: 0.983841\n",
      "[336]\tvalid's auc: 0.983839\n",
      "[337]\tvalid's auc: 0.983844\n",
      "[338]\tvalid's auc: 0.983845\n",
      "[339]\tvalid's auc: 0.98385\n",
      "[340]\tvalid's auc: 0.98385\n",
      "[341]\tvalid's auc: 0.983852\n",
      "[342]\tvalid's auc: 0.983854\n",
      "[343]\tvalid's auc: 0.983863\n",
      "[344]\tvalid's auc: 0.983866\n",
      "[345]\tvalid's auc: 0.983863\n",
      "[346]\tvalid's auc: 0.983864\n",
      "[347]\tvalid's auc: 0.983866\n",
      "[348]\tvalid's auc: 0.98386\n",
      "[349]\tvalid's auc: 0.983862\n",
      "[350]\tvalid's auc: 0.983862\n",
      "[351]\tvalid's auc: 0.983862\n",
      "[352]\tvalid's auc: 0.983876\n",
      "[353]\tvalid's auc: 0.983876\n",
      "[354]\tvalid's auc: 0.983881\n",
      "[355]\tvalid's auc: 0.98388\n",
      "[356]\tvalid's auc: 0.98388\n",
      "[357]\tvalid's auc: 0.983887\n",
      "[358]\tvalid's auc: 0.98389\n",
      "[359]\tvalid's auc: 0.983891\n",
      "[360]\tvalid's auc: 0.983892\n",
      "[361]\tvalid's auc: 0.98389\n",
      "[362]\tvalid's auc: 0.983885\n",
      "[363]\tvalid's auc: 0.983889\n",
      "[364]\tvalid's auc: 0.98389\n",
      "[365]\tvalid's auc: 0.98389\n",
      "[366]\tvalid's auc: 0.98389\n",
      "[367]\tvalid's auc: 0.983893\n",
      "[368]\tvalid's auc: 0.983893\n",
      "[369]\tvalid's auc: 0.983893\n",
      "[370]\tvalid's auc: 0.983893\n",
      "[371]\tvalid's auc: 0.983892\n",
      "[372]\tvalid's auc: 0.983891\n",
      "[373]\tvalid's auc: 0.983894\n",
      "[374]\tvalid's auc: 0.983893\n",
      "[375]\tvalid's auc: 0.983896\n",
      "[376]\tvalid's auc: 0.983897\n",
      "[377]\tvalid's auc: 0.983899\n",
      "[378]\tvalid's auc: 0.983902\n",
      "[379]\tvalid's auc: 0.983903\n",
      "[380]\tvalid's auc: 0.983903\n",
      "[381]\tvalid's auc: 0.983899\n",
      "[382]\tvalid's auc: 0.9839\n",
      "[383]\tvalid's auc: 0.983899\n",
      "[384]\tvalid's auc: 0.9839\n",
      "[385]\tvalid's auc: 0.983903\n",
      "[386]\tvalid's auc: 0.983906\n",
      "[387]\tvalid's auc: 0.983905\n",
      "[388]\tvalid's auc: 0.983905\n",
      "[389]\tvalid's auc: 0.983908\n",
      "[390]\tvalid's auc: 0.983908\n",
      "[391]\tvalid's auc: 0.983907\n",
      "[392]\tvalid's auc: 0.983904\n",
      "[393]\tvalid's auc: 0.983904\n",
      "[394]\tvalid's auc: 0.983904\n",
      "[395]\tvalid's auc: 0.983905\n",
      "[396]\tvalid's auc: 0.983902\n",
      "[397]\tvalid's auc: 0.983901\n",
      "[398]\tvalid's auc: 0.983899\n",
      "[399]\tvalid's auc: 0.983899\n",
      "[400]\tvalid's auc: 0.9839\n",
      "[401]\tvalid's auc: 0.983899\n",
      "[402]\tvalid's auc: 0.983896\n",
      "[403]\tvalid's auc: 0.983895\n",
      "[404]\tvalid's auc: 0.983896\n",
      "[405]\tvalid's auc: 0.983897\n",
      "[406]\tvalid's auc: 0.983896\n",
      "[407]\tvalid's auc: 0.983896\n",
      "[408]\tvalid's auc: 0.983897\n",
      "[409]\tvalid's auc: 0.983897\n",
      "[410]\tvalid's auc: 0.9839\n",
      "[411]\tvalid's auc: 0.983905\n",
      "[412]\tvalid's auc: 0.98391\n",
      "[413]\tvalid's auc: 0.983909\n",
      "[414]\tvalid's auc: 0.983907\n",
      "[415]\tvalid's auc: 0.983906\n",
      "[416]\tvalid's auc: 0.983906\n",
      "[417]\tvalid's auc: 0.983904\n",
      "[418]\tvalid's auc: 0.983907\n",
      "[419]\tvalid's auc: 0.983907\n",
      "[420]\tvalid's auc: 0.983905\n",
      "[421]\tvalid's auc: 0.983908\n",
      "[422]\tvalid's auc: 0.983907\n",
      "[423]\tvalid's auc: 0.983909\n",
      "[424]\tvalid's auc: 0.983907\n",
      "[425]\tvalid's auc: 0.983905\n",
      "[426]\tvalid's auc: 0.983903\n",
      "[427]\tvalid's auc: 0.983901\n",
      "[428]\tvalid's auc: 0.983902\n",
      "[429]\tvalid's auc: 0.983902\n",
      "[430]\tvalid's auc: 0.983902\n",
      "[431]\tvalid's auc: 0.983904\n",
      "[432]\tvalid's auc: 0.983902\n",
      "[433]\tvalid's auc: 0.983902\n",
      "[434]\tvalid's auc: 0.9839\n",
      "[435]\tvalid's auc: 0.9839\n",
      "[436]\tvalid's auc: 0.983905\n",
      "[437]\tvalid's auc: 0.983904\n",
      "[438]\tvalid's auc: 0.983904\n",
      "[439]\tvalid's auc: 0.983905\n",
      "[440]\tvalid's auc: 0.983906\n",
      "[441]\tvalid's auc: 0.983906\n",
      "[442]\tvalid's auc: 0.983905\n",
      "[443]\tvalid's auc: 0.983902\n",
      "[444]\tvalid's auc: 0.983903\n",
      "[445]\tvalid's auc: 0.983902\n",
      "[446]\tvalid's auc: 0.9839\n",
      "[447]\tvalid's auc: 0.983898\n",
      "[448]\tvalid's auc: 0.983897\n",
      "[449]\tvalid's auc: 0.983897\n",
      "[450]\tvalid's auc: 0.983899\n",
      "[451]\tvalid's auc: 0.9839\n",
      "[452]\tvalid's auc: 0.983901\n",
      "[453]\tvalid's auc: 0.983905\n",
      "[454]\tvalid's auc: 0.983903\n",
      "[455]\tvalid's auc: 0.983904\n",
      "[456]\tvalid's auc: 0.983903\n",
      "[457]\tvalid's auc: 0.983903\n",
      "[458]\tvalid's auc: 0.983902\n",
      "[459]\tvalid's auc: 0.983903\n",
      "[460]\tvalid's auc: 0.983904\n",
      "[461]\tvalid's auc: 0.983901\n",
      "[462]\tvalid's auc: 0.983902\n",
      "Early stopping, best iteration is:\n",
      "[412]\tvalid's auc: 0.98391\n"
     ]
    },
    {
     "data": {
      "text/plain": [
       "41"
      ]
     },
     "execution_count": 8,
     "metadata": {},
     "output_type": "execute_result"
    }
   ],
   "source": [
    "# gc.collect()\n",
    "# del booster\n",
    "booster = lgb.train(\n",
    "     lgb_params, \n",
    "     xgtrain,\n",
    "     valid_sets=[xgvalid],\n",
    "     valid_names=['valid'],\n",
    "     evals_result=evals_results, \n",
    "     num_boost_round=num_boost_round,\n",
    "     early_stopping_rounds=early_stopping_rounds,\n",
    "     verbose_eval=1\n",
    ")\n",
    "\n",
    "del xgvalid\n",
    "del xgtrain\n",
    "gc.collect()"
   ]
  },
  {
   "cell_type": "code",
   "execution_count": 9,
   "metadata": {},
   "outputs": [
    {
     "name": "stdout",
     "output_type": "stream",
     "text": [
      "\n",
      "Model Info:\n",
      "n_estimators: 412\n",
      "auc: 0.9839100974512421\n"
     ]
    }
   ],
   "source": [
    "n_estimators = booster.best_iteration\n",
    "metrics = 'auc'\n",
    "\n",
    "print('\\nModel Info:')\n",
    "print('n_estimators:', n_estimators)\n",
    "print(metrics+':', evals_results['valid'][metrics][n_estimators-1])"
   ]
  },
  {
   "cell_type": "code",
   "execution_count": 10,
   "metadata": {},
   "outputs": [
    {
     "data": {
      "image/png": "[encoded data removed]",
      "text/plain": [
       "<matplotlib.figure.Figure at 0x7f498ae06860>"
      ]
     },
     "metadata": {},
     "output_type": "display_data"
    }
   ],
   "source": [
    "ax = lgb.plot_importance(booster, max_num_features=100)\n",
    "plt.show()"
   ]
  },
  {
   "cell_type": "code",
   "execution_count": 11,
   "metadata": {},
   "outputs": [
    {
     "data": {
      "image/png": "[encoded data removed]",
      "text/plain": [
       "<matplotlib.figure.Figure at 0x7f4988418e80>"
      ]
     },
     "metadata": {},
     "output_type": "display_data"
    }
   ],
   "source": [
    "ax = lgb.plot_importance(booster, importance_type='gain')\n",
    "plt.show()"
   ]
  },
  {
   "cell_type": "code",
   "execution_count": 13,
   "metadata": {},
   "outputs": [
    {
     "data": {
      "text/plain": [
       "<matplotlib.figure.Figure at 0x7f3481618320>"
      ]
     },
     "metadata": {},
     "output_type": "display_data"
    }
   ],
   "source": [
    "plt.savefig('0506-1-4imp.png', dpi=600, bbox_inches='tight')"
   ]
  },
  {
   "cell_type": "code",
   "execution_count": 14,
   "metadata": {},
   "outputs": [
    {
     "data": {
      "text/plain": [
       "6632"
      ]
     },
     "execution_count": 14,
     "metadata": {},
     "output_type": "execute_result"
    }
   ],
   "source": [
    "gc.collect()"
   ]
  },
  {
   "cell_type": "code",
   "execution_count": 15,
   "metadata": {},
   "outputs": [
    {
     "name": "stdout",
     "output_type": "stream",
     "text": [
      "[load test data] done in 12 s\n"
     ]
    }
   ],
   "source": [
    "with timer(\"load test data\"):\n",
    "    test_df = pd.read_csv(path+\"test.csv\", dtype=dtypes, usecols=['ip','app','device','os', 'channel', 'click_time', 'click_id'])"
   ]
  },
  {
   "cell_type": "code",
   "execution_count": 16,
   "metadata": {},
   "outputs": [],
   "source": [
    "test_df['click_time']= pd.to_datetime(test_df['click_time'])\n",
    "testsup_df['click_time']= pd.to_datetime(testsup_df['click_time'])"
   ]
  },
  {
   "cell_type": "code",
   "execution_count": 17,
   "metadata": {},
   "outputs": [
    {
     "name": "stdout",
     "output_type": "stream",
     "text": [
      "Predicting the submission data...\n",
      "projecting prediction onto test\n"
     ]
    }
   ],
   "source": [
    "# preditions=booster.predict(test_df[predictors].values)\n",
    "\n",
    "gc.collect()\n",
    "\n",
    "print(\"Predicting the submission data...\")\n",
    "\n",
    "testsup_df['is_attributed'] = booster.predict(testsup_df[predictors], num_iteration=booster.best_iteration)\n",
    "\n",
    "print('projecting prediction onto test')\n",
    "\n",
    "join_cols = ['ip', 'app', 'device', 'os', 'channel', 'click_time']\n",
    "all_cols = join_cols + ['is_attributed']"
   ]
  },
  {
   "cell_type": "code",
   "execution_count": 18,
   "metadata": {},
   "outputs": [],
   "source": [
    "test_df = test_df.merge(testsup_df[all_cols], how='left', on=join_cols)\n",
    "\n",
    "test_df = test_df.drop_duplicates(subset=['click_id'])"
   ]
  },
  {
   "cell_type": "code",
   "execution_count": 19,
   "metadata": {},
   "outputs": [
    {
     "data": {
      "text/html": [
       "<div>\n",
       "<style scoped>\n",
       "    .dataframe tbody tr th:only-of-type {\n",
       "        vertical-align: middle;\n",
       "    }\n",
       "\n",
       "    .dataframe tbody tr th {\n",
       "        vertical-align: top;\n",
       "    }\n",
       "\n",
       "    .dataframe thead th {\n",
       "        text-align: right;\n",
       "    }\n",
       "</style>\n",
       "<table border=\"1\" class=\"dataframe\">\n",
       "  <thead>\n",
       "    <tr style=\"text-align: right;\">\n",
       "      <th></th>\n",
       "      <th>click_id</th>\n",
       "      <th>ip</th>\n",
       "      <th>app</th>\n",
       "      <th>device</th>\n",
       "      <th>os</th>\n",
       "      <th>channel</th>\n",
       "      <th>click_time</th>\n",
       "      <th>is_attributed</th>\n",
       "    </tr>\n",
       "  </thead>\n",
       "  <tbody>\n",
       "    <tr>\n",
       "      <th>0</th>\n",
       "      <td>0</td>\n",
       "      <td>5744</td>\n",
       "      <td>9</td>\n",
       "      <td>1</td>\n",
       "      <td>3</td>\n",
       "      <td>107</td>\n",
       "      <td>2017-11-10 04:00:00</td>\n",
       "      <td>0.102627</td>\n",
       "    </tr>\n",
       "    <tr>\n",
       "      <th>1</th>\n",
       "      <td>1</td>\n",
       "      <td>119901</td>\n",
       "      <td>9</td>\n",
       "      <td>1</td>\n",
       "      <td>3</td>\n",
       "      <td>466</td>\n",
       "      <td>2017-11-10 04:00:00</td>\n",
       "      <td>0.013421</td>\n",
       "    </tr>\n",
       "    <tr>\n",
       "      <th>2</th>\n",
       "      <td>2</td>\n",
       "      <td>72287</td>\n",
       "      <td>21</td>\n",
       "      <td>1</td>\n",
       "      <td>19</td>\n",
       "      <td>128</td>\n",
       "      <td>2017-11-10 04:00:00</td>\n",
       "      <td>0.002486</td>\n",
       "    </tr>\n",
       "    <tr>\n",
       "      <th>3</th>\n",
       "      <td>3</td>\n",
       "      <td>78477</td>\n",
       "      <td>15</td>\n",
       "      <td>1</td>\n",
       "      <td>13</td>\n",
       "      <td>111</td>\n",
       "      <td>2017-11-10 04:00:00</td>\n",
       "      <td>0.073572</td>\n",
       "    </tr>\n",
       "    <tr>\n",
       "      <th>4</th>\n",
       "      <td>4</td>\n",
       "      <td>123080</td>\n",
       "      <td>12</td>\n",
       "      <td>1</td>\n",
       "      <td>13</td>\n",
       "      <td>328</td>\n",
       "      <td>2017-11-10 04:00:00</td>\n",
       "      <td>0.009293</td>\n",
       "    </tr>\n",
       "  </tbody>\n",
       "</table>\n",
       "</div>"
      ],
      "text/plain": [
       "   click_id      ip  app  device  os  channel          click_time  \\\n",
       "0         0    5744    9       1   3      107 2017-11-10 04:00:00   \n",
       "1         1  119901    9       1   3      466 2017-11-10 04:00:00   \n",
       "2         2   72287   21       1  19      128 2017-11-10 04:00:00   \n",
       "3         3   78477   15       1  13      111 2017-11-10 04:00:00   \n",
       "4         4  123080   12       1  13      328 2017-11-10 04:00:00   \n",
       "\n",
       "   is_attributed  \n",
       "0       0.102627  \n",
       "1       0.013421  \n",
       "2       0.002486  \n",
       "3       0.073572  \n",
       "4       0.009293  "
      ]
     },
     "execution_count": 19,
     "metadata": {},
     "output_type": "execute_result"
    }
   ],
   "source": [
    "test_df.head()"
   ]
  },
  {
   "cell_type": "code",
   "execution_count": 20,
   "metadata": {},
   "outputs": [
    {
     "data": {
      "text/plain": [
       "click_id         18790469\n",
       "ip               18790469\n",
       "app              18790469\n",
       "device           18790469\n",
       "os               18790469\n",
       "channel          18790469\n",
       "click_time       18790469\n",
       "is_attributed    18790469\n",
       "dtype: int64"
      ]
     },
     "execution_count": 20,
     "metadata": {},
     "output_type": "execute_result"
    }
   ],
   "source": [
    "test_df.count()"
   ]
  },
  {
   "cell_type": "code",
   "execution_count": 21,
   "metadata": {},
   "outputs": [
    {
     "name": "stdout",
     "output_type": "stream",
     "text": [
      "Writing the submission data into a csv file...\n",
      "All done...\n"
     ]
    }
   ],
   "source": [
    "print(\"Writing the submission data into a csv file...\")\n",
    "\n",
    "test_df[['click_id', 'is_attributed']].to_csv('0506-1-4.csv', index=False)\n",
    "\n",
    "print(\"All done...\")"
   ]
  },
  {
   "cell_type": "code",
   "execution_count": null,
   "metadata": {},
   "outputs": [],
   "source": []
  }
 ],
 "metadata": {
  "kernelspec": {
   "display_name": "Python 3",
   "language": "python",
   "name": "python3"
  },
  "language_info": {
   "codemirror_mode": {
    "name": "ipython",
    "version": 3
   },
   "file_extension": ".py",
   "mimetype": "text/x-python",
   "name": "python",
   "nbconvert_exporter": "python",
   "pygments_lexer": "ipython3",
   "version": "3.6.4"
  }
 },
 "nbformat": 4,
 "nbformat_minor": 2
}
