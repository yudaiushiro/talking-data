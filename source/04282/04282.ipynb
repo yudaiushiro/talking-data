{
 "cells": [
  {
   "cell_type": "code",
   "execution_count": 1,
   "metadata": {},
   "outputs": [],
   "source": [
    "import pandas as pd\n",
    "import time\n",
    "import numpy as np\n",
    "from sklearn.model_selection import train_test_split\n",
    "import lightgbm as lgb\n",
    "import gc\n",
    "from contextlib import contextmanager"
   ]
  },
  {
   "cell_type": "code",
   "execution_count": 2,
   "metadata": {},
   "outputs": [],
   "source": [
    "@contextmanager\n",
    "def timer(name):\n",
    "    t0 = time.time()\n",
    "    yield\n",
    "    print(f'[{name}] done in {time.time() - t0:.0f} s')\n",
    "    \n",
    "def df_add_counts(df, cols):\n",
    "    arr_slice = df[cols].values\n",
    "    unq, unqtags, counts = np.unique(np.ravel_multi_index(arr_slice.T, arr_slice.max(axis=0) + 1),\n",
    "                                     return_inverse=True, return_counts=True)\n",
    "    df[\"_\".join(cols)+'_count'] = counts[unqtags]\n",
    "    \n",
    "def make_count_features(df):\n",
    "    with timer(\"add count features\"):\n",
    "        df['click_time']= pd.to_datetime(df['click_time'])\n",
    "        dt= df['click_time'].dt\n",
    "        df['day'] = dt.day.astype('uint8')\n",
    "        df['hour'] = dt.hour.astype('uint8')\n",
    "        df['minute'] = dt.minute.astype('uint8')\n",
    "        del(dt)\n",
    "        \n",
    "        df_add_counts(df, ['ip'])\n",
    "        df_add_counts(df, ['ip','day','hour','minute'])\n",
    "        df_add_counts(df, ['os','device'])\n",
    "        df_add_counts(df, ['os','app','channel'])\n",
    "        \n",
    "        df_add_counts(df, ['ip', 'day', 'hour'])\n",
    "        df_add_counts(df, ['ip', 'app'])\n",
    "        df_add_counts(df, ['ip', 'app', 'os'])\n",
    "        df_add_counts(df, ['ip', 'device'])\n",
    "        df_add_counts(df, ['app', 'channel'])\n",
    "\n",
    "def make_next_click_feature(df):\n",
    "    with timer(\"Adding next click times\"):\n",
    "        D= 2**26\n",
    "        df['category'] = (df['ip'].astype(str) + \"_\" + df['app'].astype(str) + \"_\" + df['device'].astype(str) \\\n",
    "                         + \"_\" + df['os'].astype(str)).apply(hash) % D\n",
    "        click_buffer= np.full(D, 3000000000, dtype=np.uint32)\n",
    "        df['epochtime']= df['click_time'].astype(np.int64) // 10 ** 9\n",
    "        next_clicks= []\n",
    "        for category, time in zip(reversed(df['category'].values), reversed(df['epochtime'].values)):\n",
    "            next_clicks.append(click_buffer[category]-time)\n",
    "            click_buffer[category]= time\n",
    "        del(click_buffer)\n",
    "        df['next_click']= list(reversed(next_clicks))\n",
    "        \n",
    "path = '~/talkingdata/input/'\n",
    "\n",
    "dtypes = {\n",
    "        'ip'            : 'uint32',\n",
    "        'app'           : 'uint16',\n",
    "        'device'        : 'uint16',\n",
    "        'os'            : 'uint16',\n",
    "        'channel'       : 'uint16',\n",
    "        'is_attributed' : 'uint8',\n",
    "        'click_id'      : 'uint32'\n",
    "        }"
   ]
  },
  {
   "cell_type": "code",
   "execution_count": 5,
   "metadata": {},
   "outputs": [
    {
     "name": "stdout",
     "output_type": "stream",
     "text": [
      "[load training data] done in 244 s\n",
      "[load test data] done in 19 s\n"
     ]
    }
   ],
   "source": [
    "with timer(\"load training data\"):\n",
    "#     lines = 184903891\n",
    "#     skiplines = np.random.choice(np.arange(1, lines), size=lines-1-20000000, replace=False)\n",
    "#     skiplines=np.sort(skiplines)\n",
    "#     train_df = pd.read_csv(path+\"train.csv\", skiprows=skiplines, nrows=20000000, usecols=['ip','app','device','os', 'channel', 'click_time', 'is_attributed'], dtype=dtypes)\n",
    "    train_df = pd.read_csv(path+\"train.csv\", skiprows=range(1,160703891), nrows=24200000, usecols=['ip','app','device','os', 'channel', 'click_time', 'is_attributed'], dtype=dtypes)\n",
    "\n",
    "\n",
    "with timer(\"load test data\"):\n",
    "    test_df = pd.read_csv(path+\"test.csv\", dtype=dtypes, usecols=['ip','app','device','os', 'channel', 'click_time', 'click_id'])"
   ]
  },
  {
   "cell_type": "code",
   "execution_count": 6,
   "metadata": {},
   "outputs": [
    {
     "name": "stdout",
     "output_type": "stream",
     "text": [
      "19971757\n",
      "126411\n"
     ]
    }
   ],
   "source": [
    "test_ip_max = test_df.ip.max()\n",
    "train_df = train_df[train_df.ip <= test_ip_max]\n",
    "print(len(train_df.index))\n",
    "print(train_df.ip.max())"
   ]
  },
  {
   "cell_type": "code",
   "execution_count": 7,
   "metadata": {},
   "outputs": [
    {
     "data": {
      "text/plain": [
       "129"
      ]
     },
     "execution_count": 7,
     "metadata": {},
     "output_type": "execute_result"
    }
   ],
   "source": [
    "num_train = train_df.shape[0]\n",
    "y = train_df.is_attributed.values\n",
    "\n",
    "sub = pd.DataFrame()\n",
    "sub['click_id'] = test_df.click_id.values\n",
    "\n",
    "common_column = ['ip','app','device','os','channel','click_time']\n",
    "concat_df = pd.concat([train_df[common_column],test_df[common_column]])\n",
    "\n",
    "del train_df, test_df\n",
    "gc.collect()"
   ]
  },
  {
   "cell_type": "code",
   "execution_count": 8,
   "metadata": {},
   "outputs": [
    {
     "name": "stdout",
     "output_type": "stream",
     "text": [
      "[add count features] done in 411 s\n",
      "[Adding next click times] done in 343 s\n"
     ]
    },
    {
     "data": {
      "text/plain": [
       "35"
      ]
     },
     "execution_count": 8,
     "metadata": {},
     "output_type": "execute_result"
    }
   ],
   "source": [
    "make_count_features(concat_df)\n",
    "make_next_click_feature(concat_df)\n",
    "\n",
    "gc.collect()"
   ]
  },
  {
   "cell_type": "code",
   "execution_count": 9,
   "metadata": {},
   "outputs": [],
   "source": [
    "train_df = concat_df.iloc[:num_train]\n",
    "test_df = concat_df.iloc[num_train:]\n",
    "del concat_df"
   ]
  },
  {
   "cell_type": "code",
   "execution_count": 10,
   "metadata": {},
   "outputs": [
    {
     "name": "stderr",
     "output_type": "stream",
     "text": [
      "/home/um003580/.pyenv/versions/anaconda3-5.1.0/lib/python3.6/site-packages/sklearn/model_selection/_split.py:2026: FutureWarning: From version 0.21, test_size will always complement train_size unless both are specified.\n",
      "  FutureWarning)\n"
     ]
    }
   ],
   "source": [
    "train_df, val_df, y_train, y_val = train_test_split(train_df, y, train_size=0.9, random_state=0)\n",
    "\n",
    "evals_results = {}\n",
    "num_boost_round = 250\n",
    "early_stopping_rounds = 30"
   ]
  },
  {
   "cell_type": "code",
   "execution_count": 11,
   "metadata": {},
   "outputs": [],
   "source": [
    "lgb_params = {\n",
    "    'boosting_type': 'gbdt',\n",
    "    'objective': 'binary',\n",
    "    'subsample_for_bin': 200000,  # Number of samples for constructing bin\n",
    "    'min_split_gain': 0,  # lambda_l1, lambda_l2 and min_gain_to_split to regularization\n",
    "    'reg_alpha': 0,  # L1 regularization term on weights\n",
    "    'reg_lambda': 0,  # L2 regularization term on weights\n",
    "    'nthread': 4,\n",
    "    'verbose': 0,\n",
    "    'metric':'auc',     \n",
    " \n",
    "    'learning_rate': 0.15,\n",
    "    'num_leaves': 7,  # 2^max_depth - 1\n",
    "    'max_depth': 3,  # -1 means no limit\n",
    "    'min_child_samples': 100,  # Minimum number of data need in a child(min_data_in_leaf)\n",
    "    'max_bin': 100,  # Number of bucketed bin for feature values\n",
    "    'subsample': 0.7,  # Subsample ratio of the training instance.\n",
    "    'subsample_freq': 1,  # frequence of subsample, <=0 means no enable\n",
    "    'colsample_bytree': 0.9,  # Subsample ratio of columns when constructing each tree.\n",
    "    'min_child_weight': 0,  # Minimum sum of instance weight(hessian) needed in a child(leaf)\n",
    "    'scale_pos_weight':99\n",
    "}\n",
    "# metrics = 'auc'\n",
    "# lgb_params = {\n",
    "#     'boosting_type': 'gbdt',\n",
    "#     'objective': 'binary',\n",
    "#     'metric': metrics,\n",
    "#     'learning_rate': .1,\n",
    "#     'num_leaves': 7,\n",
    "#     'max_depth': 4,\n",
    "#     'min_child_samples': 100,\n",
    "#     'max_bin': 100,\n",
    "#     'subsample': 0.7,\n",
    "#     'subsample_freq': 1,\n",
    "#     'colsample_bytree': 0.7,\n",
    "#     'min_child_weight': 0,\n",
    "#     'min_split_gain': 0,\n",
    "#     'nthread': 4,\n",
    "#     'verbose': 1,\n",
    "#     'scale_pos_weight': 99.7\n",
    "#     #'scale_pos_weight': 400\n",
    "# }"
   ]
  },
  {
   "cell_type": "code",
   "execution_count": 12,
   "metadata": {},
   "outputs": [
    {
     "name": "stdout",
     "output_type": "stream",
     "text": [
      "preparing validation datasets\n"
     ]
    },
    {
     "data": {
      "text/plain": [
       "25"
      ]
     },
     "execution_count": 12,
     "metadata": {},
     "output_type": "execute_result"
    }
   ],
   "source": [
    "target = \"is_attributed\"\n",
    "# categorical = ['ip','app','os','channel','device']\n",
    "categorical = ['app','os','channel','device']\n",
    "predictors = list(set(train_df.columns)-set([target])-set(['click_time','category','epochtime']))\n",
    "# predictors = list(set(train_df.columns)-set([target])-set(['click_time']))\n",
    "\n",
    "print(\"preparing validation datasets\")\n",
    "\n",
    "xgtrain = lgb.Dataset(train_df[predictors].values,\n",
    "                      label=y_train,\n",
    "                      feature_name=predictors,\n",
    "                      categorical_feature=categorical\n",
    "                      )\n",
    "\n",
    "del train_df\n",
    "del y_train\n",
    "gc.collect()\n",
    "\n",
    "xgvalid = lgb.Dataset(val_df[predictors].values,\n",
    "                      label=y_val,\n",
    "                      feature_name=predictors,\n",
    "                      categorical_feature=categorical\n",
    "                      )\n",
    "\n",
    "del val_df\n",
    "del y_val\n",
    "gc.collect()"
   ]
  },
  {
   "cell_type": "code",
   "execution_count": 13,
   "metadata": {
    "scrolled": false
   },
   "outputs": [
    {
     "name": "stderr",
     "output_type": "stream",
     "text": [
      "/home/um003580/.pyenv/versions/anaconda3-5.1.0/lib/python3.6/site-packages/lightgbm/basic.py:1036: UserWarning: Using categorical_feature in Dataset.\n",
      "  warnings.warn('Using categorical_feature in Dataset.')\n",
      "/home/um003580/.pyenv/versions/anaconda3-5.1.0/lib/python3.6/site-packages/lightgbm/basic.py:681: UserWarning: categorical_feature in param dict is overrided.\n",
      "  warnings.warn('categorical_feature in param dict is overrided.')\n"
     ]
    },
    {
     "name": "stdout",
     "output_type": "stream",
     "text": [
      "[1]\tvalid's auc: 0.908992\n",
      "Training until validation scores don't improve for 30 rounds.\n",
      "[2]\tvalid's auc: 0.910185\n",
      "[3]\tvalid's auc: 0.910835\n",
      "[4]\tvalid's auc: 0.919153\n",
      "[5]\tvalid's auc: 0.921258\n",
      "[6]\tvalid's auc: 0.922788\n",
      "[7]\tvalid's auc: 0.925464\n",
      "[8]\tvalid's auc: 0.925393\n",
      "[9]\tvalid's auc: 0.925583\n",
      "[10]\tvalid's auc: 0.932039\n",
      "[11]\tvalid's auc: 0.932155\n",
      "[12]\tvalid's auc: 0.934583\n",
      "[13]\tvalid's auc: 0.93889\n",
      "[14]\tvalid's auc: 0.938505\n",
      "[15]\tvalid's auc: 0.940332\n",
      "[16]\tvalid's auc: 0.942262\n",
      "[17]\tvalid's auc: 0.942377\n",
      "[18]\tvalid's auc: 0.942056\n",
      "[19]\tvalid's auc: 0.944761\n",
      "[20]\tvalid's auc: 0.946464\n",
      "[21]\tvalid's auc: 0.947101\n",
      "[22]\tvalid's auc: 0.947367\n",
      "[23]\tvalid's auc: 0.947081\n",
      "[24]\tvalid's auc: 0.947384\n",
      "[25]\tvalid's auc: 0.947829\n",
      "[26]\tvalid's auc: 0.948424\n",
      "[27]\tvalid's auc: 0.949565\n",
      "[28]\tvalid's auc: 0.950109\n",
      "[29]\tvalid's auc: 0.952264\n",
      "[30]\tvalid's auc: 0.95253\n",
      "[31]\tvalid's auc: 0.953152\n",
      "[32]\tvalid's auc: 0.953674\n",
      "[33]\tvalid's auc: 0.954551\n",
      "[34]\tvalid's auc: 0.954882\n",
      "[35]\tvalid's auc: 0.955741\n",
      "[36]\tvalid's auc: 0.956179\n",
      "[37]\tvalid's auc: 0.956389\n",
      "[38]\tvalid's auc: 0.956764\n",
      "[39]\tvalid's auc: 0.957708\n",
      "[40]\tvalid's auc: 0.957998\n",
      "[41]\tvalid's auc: 0.958141\n",
      "[42]\tvalid's auc: 0.958157\n",
      "[43]\tvalid's auc: 0.958689\n",
      "[44]\tvalid's auc: 0.958894\n",
      "[45]\tvalid's auc: 0.958904\n",
      "[46]\tvalid's auc: 0.95951\n",
      "[47]\tvalid's auc: 0.960093\n",
      "[48]\tvalid's auc: 0.960219\n",
      "[49]\tvalid's auc: 0.960253\n",
      "[50]\tvalid's auc: 0.96039\n",
      "[51]\tvalid's auc: 0.960682\n",
      "[52]\tvalid's auc: 0.960963\n",
      "[53]\tvalid's auc: 0.961035\n",
      "[54]\tvalid's auc: 0.961198\n",
      "[55]\tvalid's auc: 0.961564\n",
      "[56]\tvalid's auc: 0.9618\n",
      "[57]\tvalid's auc: 0.961851\n",
      "[58]\tvalid's auc: 0.962168\n",
      "[59]\tvalid's auc: 0.962333\n",
      "[60]\tvalid's auc: 0.962555\n",
      "[61]\tvalid's auc: 0.962666\n",
      "[62]\tvalid's auc: 0.96274\n",
      "[63]\tvalid's auc: 0.96294\n",
      "[64]\tvalid's auc: 0.962988\n",
      "[65]\tvalid's auc: 0.963147\n",
      "[66]\tvalid's auc: 0.963173\n",
      "[67]\tvalid's auc: 0.96333\n",
      "[68]\tvalid's auc: 0.963402\n",
      "[69]\tvalid's auc: 0.963546\n",
      "[70]\tvalid's auc: 0.963658\n",
      "[71]\tvalid's auc: 0.963688\n",
      "[72]\tvalid's auc: 0.963715\n",
      "[73]\tvalid's auc: 0.963719\n",
      "[74]\tvalid's auc: 0.96387\n",
      "[75]\tvalid's auc: 0.963928\n",
      "[76]\tvalid's auc: 0.964045\n",
      "[77]\tvalid's auc: 0.964084\n",
      "[78]\tvalid's auc: 0.964087\n",
      "[79]\tvalid's auc: 0.96413\n",
      "[80]\tvalid's auc: 0.964281\n",
      "[81]\tvalid's auc: 0.964319\n",
      "[82]\tvalid's auc: 0.964299\n",
      "[83]\tvalid's auc: 0.964372\n",
      "[84]\tvalid's auc: 0.96443\n",
      "[85]\tvalid's auc: 0.964526\n",
      "[86]\tvalid's auc: 0.964582\n",
      "[87]\tvalid's auc: 0.964643\n",
      "[88]\tvalid's auc: 0.964666\n",
      "[89]\tvalid's auc: 0.964759\n",
      "[90]\tvalid's auc: 0.964761\n",
      "[91]\tvalid's auc: 0.964865\n",
      "[92]\tvalid's auc: 0.964902\n",
      "[93]\tvalid's auc: 0.964901\n",
      "[94]\tvalid's auc: 0.964959\n",
      "[95]\tvalid's auc: 0.964982\n",
      "[96]\tvalid's auc: 0.965112\n",
      "[97]\tvalid's auc: 0.965124\n",
      "[98]\tvalid's auc: 0.96515\n",
      "[99]\tvalid's auc: 0.965243\n",
      "[100]\tvalid's auc: 0.96521\n",
      "[101]\tvalid's auc: 0.965228\n",
      "[102]\tvalid's auc: 0.965218\n",
      "[103]\tvalid's auc: 0.965198\n",
      "[104]\tvalid's auc: 0.965287\n",
      "[105]\tvalid's auc: 0.965276\n",
      "[106]\tvalid's auc: 0.965294\n",
      "[107]\tvalid's auc: 0.965305\n",
      "[108]\tvalid's auc: 0.9653\n",
      "[109]\tvalid's auc: 0.965296\n",
      "[110]\tvalid's auc: 0.965277\n",
      "[111]\tvalid's auc: 0.965347\n",
      "[112]\tvalid's auc: 0.965441\n",
      "[113]\tvalid's auc: 0.965409\n",
      "[114]\tvalid's auc: 0.965449\n",
      "[115]\tvalid's auc: 0.965511\n",
      "[116]\tvalid's auc: 0.965511\n",
      "[117]\tvalid's auc: 0.965589\n",
      "[118]\tvalid's auc: 0.965542\n",
      "[119]\tvalid's auc: 0.965562\n",
      "[120]\tvalid's auc: 0.965606\n",
      "[121]\tvalid's auc: 0.965715\n",
      "[122]\tvalid's auc: 0.965755\n",
      "[123]\tvalid's auc: 0.965757\n",
      "[124]\tvalid's auc: 0.965748\n",
      "[125]\tvalid's auc: 0.965738\n",
      "[126]\tvalid's auc: 0.965738\n",
      "[127]\tvalid's auc: 0.965675\n",
      "[128]\tvalid's auc: 0.965729\n",
      "[129]\tvalid's auc: 0.965705\n",
      "[130]\tvalid's auc: 0.965766\n",
      "[131]\tvalid's auc: 0.965779\n",
      "[132]\tvalid's auc: 0.965776\n",
      "[133]\tvalid's auc: 0.965747\n",
      "[134]\tvalid's auc: 0.96578\n",
      "[135]\tvalid's auc: 0.965821\n",
      "[136]\tvalid's auc: 0.965834\n",
      "[137]\tvalid's auc: 0.965849\n",
      "[138]\tvalid's auc: 0.96586\n",
      "[139]\tvalid's auc: 0.965819\n",
      "[140]\tvalid's auc: 0.965837\n",
      "[141]\tvalid's auc: 0.965838\n",
      "[142]\tvalid's auc: 0.96587\n",
      "[143]\tvalid's auc: 0.965841\n",
      "[144]\tvalid's auc: 0.965866\n",
      "[145]\tvalid's auc: 0.965875\n",
      "[146]\tvalid's auc: 0.965896\n",
      "[147]\tvalid's auc: 0.965913\n",
      "[148]\tvalid's auc: 0.96595\n",
      "[149]\tvalid's auc: 0.965929\n",
      "[150]\tvalid's auc: 0.965939\n",
      "[151]\tvalid's auc: 0.965973\n",
      "[152]\tvalid's auc: 0.965956\n",
      "[153]\tvalid's auc: 0.965977\n",
      "[154]\tvalid's auc: 0.965991\n",
      "[155]\tvalid's auc: 0.966001\n",
      "[156]\tvalid's auc: 0.965978\n",
      "[157]\tvalid's auc: 0.966018\n",
      "[158]\tvalid's auc: 0.966\n",
      "[159]\tvalid's auc: 0.966008\n",
      "[160]\tvalid's auc: 0.965957\n",
      "[161]\tvalid's auc: 0.965957\n",
      "[162]\tvalid's auc: 0.965948\n",
      "[163]\tvalid's auc: 0.965964\n",
      "[164]\tvalid's auc: 0.966008\n",
      "[165]\tvalid's auc: 0.96604\n",
      "[166]\tvalid's auc: 0.966023\n",
      "[167]\tvalid's auc: 0.966025\n",
      "[168]\tvalid's auc: 0.965979\n",
      "[169]\tvalid's auc: 0.966017\n",
      "[170]\tvalid's auc: 0.966035\n",
      "[171]\tvalid's auc: 0.966039\n",
      "[172]\tvalid's auc: 0.96603\n",
      "[173]\tvalid's auc: 0.966034\n",
      "[174]\tvalid's auc: 0.966037\n",
      "[175]\tvalid's auc: 0.966045\n",
      "[176]\tvalid's auc: 0.966044\n",
      "[177]\tvalid's auc: 0.966026\n",
      "[178]\tvalid's auc: 0.966068\n",
      "[179]\tvalid's auc: 0.966059\n",
      "[180]\tvalid's auc: 0.966005\n",
      "[181]\tvalid's auc: 0.966001\n",
      "[182]\tvalid's auc: 0.965967\n",
      "[183]\tvalid's auc: 0.965954\n",
      "[184]\tvalid's auc: 0.96591\n",
      "[185]\tvalid's auc: 0.965961\n",
      "[186]\tvalid's auc: 0.965908\n",
      "[187]\tvalid's auc: 0.965903\n",
      "[188]\tvalid's auc: 0.965892\n",
      "[189]\tvalid's auc: 0.965901\n",
      "[190]\tvalid's auc: 0.965851\n",
      "[191]\tvalid's auc: 0.965828\n",
      "[192]\tvalid's auc: 0.965831\n",
      "[193]\tvalid's auc: 0.965815\n",
      "[194]\tvalid's auc: 0.965827\n",
      "[195]\tvalid's auc: 0.965796\n",
      "[196]\tvalid's auc: 0.96582\n",
      "[197]\tvalid's auc: 0.965801\n",
      "[198]\tvalid's auc: 0.965831\n",
      "[199]\tvalid's auc: 0.965844\n",
      "[200]\tvalid's auc: 0.965846\n",
      "[201]\tvalid's auc: 0.965872\n",
      "[202]\tvalid's auc: 0.965955\n",
      "[203]\tvalid's auc: 0.965972\n",
      "[204]\tvalid's auc: 0.965951\n",
      "[205]\tvalid's auc: 0.965946\n",
      "[206]\tvalid's auc: 0.965909\n",
      "[207]\tvalid's auc: 0.96587\n",
      "[208]\tvalid's auc: 0.965822\n",
      "Early stopping, best iteration is:\n",
      "[178]\tvalid's auc: 0.966068\n"
     ]
    },
    {
     "data": {
      "text/plain": [
       "32"
      ]
     },
     "execution_count": 13,
     "metadata": {},
     "output_type": "execute_result"
    }
   ],
   "source": [
    "booster = lgb.train(\n",
    "     lgb_params, \n",
    "     xgtrain,\n",
    "     valid_sets=[xgvalid],\n",
    "     valid_names=['valid'],\n",
    "     evals_result=evals_results, \n",
    "     num_boost_round=num_boost_round,\n",
    "     early_stopping_rounds=early_stopping_rounds,\n",
    "     verbose_eval=1\n",
    ")\n",
    "\n",
    "# n_estimators = model.best_iteration\n",
    "\n",
    "# print('\\nModel Info:')\n",
    "# print('n_estimators:', n_estimators)\n",
    "# print(metrics+':', evals_results['valid'][metrics][n_estimators-1])\n",
    "\n",
    "del xgvalid\n",
    "del xgtrain\n",
    "gc.collect()"
   ]
  },
  {
   "cell_type": "markdown",
   "metadata": {},
   "source": [
    "[208]\tvalid's auc: 0.965822\n",
    "Early stopping, best iteration is:\n",
    "[178]\tvalid's auc: 0.966068"
   ]
  },
  {
   "cell_type": "code",
   "execution_count": 16,
   "metadata": {},
   "outputs": [
    {
     "data": {
      "image/png": "[encoded data removed]",
      "text/plain": [
       "<matplotlib.figure.Figure at 0x7fa52a451390>"
      ]
     },
     "metadata": {},
     "output_type": "display_data"
    }
   ],
   "source": [
    "import matplotlib.pyplot as plt\n",
    "ax = lgb.plot_importance(booster, max_num_features=100)\n",
    "plt.savefig('04282imp.png', dpi=600, bbox_inches='tight')\n",
    "plt.show()"
   ]
  },
  {
   "cell_type": "code",
   "execution_count": 17,
   "metadata": {},
   "outputs": [],
   "source": [
    "preditions=booster.predict(test_df[predictors].values)"
   ]
  },
  {
   "cell_type": "code",
   "execution_count": 18,
   "metadata": {},
   "outputs": [],
   "source": [
    "sub['is_attributed']  = preditions\n",
    "\n",
    "sub.to_csv('04282sub.csv', float_format='%.8f', index=False)"
   ]
  },
  {
   "cell_type": "code",
   "execution_count": null,
   "metadata": {},
   "outputs": [],
   "source": []
  }
 ],
 "metadata": {
  "kernelspec": {
   "display_name": "Python 3",
   "language": "python",
   "name": "python3"
  },
  "language_info": {
   "codemirror_mode": {
    "name": "ipython",
    "version": 3
   },
   "file_extension": ".py",
   "mimetype": "text/x-python",
   "name": "python",
   "nbconvert_exporter": "python",
   "pygments_lexer": "ipython3",
   "version": "3.6.4"
  }
 },
 "nbformat": 4,
 "nbformat_minor": 2
}
