{
 "cells": [
  {
   "cell_type": "markdown",
   "metadata": {},
   "source": [
    "train data: 122071518, validation data: test dataと同じ時間帯  \n",
    "test supplement削除"
   ]
  },
  {
   "cell_type": "code",
   "execution_count": 1,
   "metadata": {},
   "outputs": [],
   "source": [
    "import pandas as pd\n",
    "import time\n",
    "import numpy as np\n",
    "from sklearn.model_selection import train_test_split\n",
    "import lightgbm as lgb\n",
    "import gc\n",
    "from contextlib import contextmanager"
   ]
  },
  {
   "cell_type": "code",
   "execution_count": 2,
   "metadata": {},
   "outputs": [],
   "source": [
    "@contextmanager\n",
    "def timer(name):\n",
    "    t0 = time.time()\n",
    "    yield\n",
    "    print(f'[{name}] done in {time.time() - t0:.0f} s')\n",
    "    \n",
    "def df_add_counts(df, cols):\n",
    "    arr_slice = df[cols].values\n",
    "    unq, unqtags, counts = np.unique(np.ravel_multi_index(arr_slice.T, arr_slice.max(axis=0) + 1),\n",
    "                                     return_inverse=True, return_counts=True)\n",
    "    df[\"_\".join(cols)+'_count'] = counts[unqtags]\n",
    "    \n",
    "def make_count_features(df):\n",
    "    with timer(\"add count features\"):\n",
    "        df['click_time']= pd.to_datetime(df['click_time'])\n",
    "        dt= df['click_time'].dt\n",
    "        df['day'] = dt.day.astype('uint8')\n",
    "        df['hour'] = dt.hour.astype('uint8')\n",
    "#         df['minute'] = dt.minute.astype('uint8')\n",
    "#         df['second'] = dt.second.astype('uint8')#secondを追加\n",
    "\n",
    "        del(dt)\n",
    "        \n",
    "        df_add_counts(df, ['ip'])\n",
    "#         df_add_counts(df, ['ip','day','hour','minute'])\n",
    "        df_add_counts(df, ['os','device'])\n",
    "        df_add_counts(df, ['os','app','channel'])\n",
    "        \n",
    "        df_add_counts(df, ['ip', 'day', 'hour'])\n",
    "        df_add_counts(df, ['ip', 'app'])\n",
    "        df_add_counts(df, ['ip', 'app', 'os'])\n",
    "        df_add_counts(df, ['ip', 'device'])\n",
    "        df_add_counts(df, ['app', 'channel'])\n",
    "\n",
    "def make_next_click_feature(df):\n",
    "    with timer(\"Adding next click times\"):\n",
    "        D= 2**26\n",
    "        df['category'] = (df['ip'].astype(str) + \"_\" + df['app'].astype(str) + \"_\" + df['device'].astype(str) \\\n",
    "                         + \"_\" + df['os'].astype(str)).apply(hash) % D\n",
    "        click_buffer= np.full(D, 3000000000, dtype=np.uint32)\n",
    "        df['epochtime']= df['click_time'].astype(np.int64) // 10 ** 9\n",
    "        next_clicks= []\n",
    "        for category, time in zip(reversed(df['category'].values), reversed(df['epochtime'].values)):\n",
    "            next_clicks.append(click_buffer[category]-time)\n",
    "            click_buffer[category]= time\n",
    "        del(click_buffer)\n",
    "        df['next_click']= list(reversed(next_clicks))\n",
    "        \n",
    "path = '~/talkingdata/input/'\n",
    "\n",
    "dtypes = {\n",
    "        'ip'            : 'uint32',\n",
    "        'app'           : 'uint16',\n",
    "        'device'        : 'uint16',\n",
    "        'os'            : 'uint16',\n",
    "        'channel'       : 'uint16',\n",
    "        'is_attributed' : 'uint8',\n",
    "        'click_id'      : 'uint32'\n",
    "        }\n",
    "\n",
    "columns = ['ip','app','device','os', 'channel', 'click_time', 'is_attributed']"
   ]
  },
  {
   "cell_type": "code",
   "execution_count": 3,
   "metadata": {},
   "outputs": [
    {
     "name": "stdout",
     "output_type": "stream",
     "text": [
      "[load training data] done in 105 s\n",
      "[load test data] done in 16 s\n"
     ]
    }
   ],
   "source": [
    "with timer(\"load training data\"):\n",
    "    train_df = pd.read_csv(path+\"train.csv\",nrows=122071518, usecols=['ip','app','device','os', 'channel', 'click_time', 'is_attributed'], dtype=dtypes)\n",
    "\n",
    "with timer(\"load test data\"):\n",
    "    test_df = pd.read_csv(path+\"test.csv\", dtype=dtypes, usecols=['ip','app','device','os', 'channel', 'click_time', 'click_id'])"
   ]
  },
  {
   "cell_type": "code",
   "execution_count": 4,
   "metadata": {},
   "outputs": [
    {
     "name": "stdout",
     "output_type": "stream",
     "text": [
      "Extracting first chunk of validation data...\n",
      "Extracting second chunk of validation data...\n",
      "Extracting third chunk of validation data...\n"
     ]
    },
    {
     "data": {
      "text/plain": [
       "0"
      ]
     },
     "execution_count": 4,
     "metadata": {},
     "output_type": "execute_result"
    }
   ],
   "source": [
    "# Validation data\n",
    "print( \"Extracting first chunk of validation data...\")\n",
    "valid1 = pd.read_csv( path+\"/train.csv\", \n",
    "                      skiprows=range(1,144708153), \n",
    "                      nrows=7705357, \n",
    "                      usecols=columns, \n",
    "                      dtype=dtypes)\n",
    "print( \"Extracting second chunk of validation data...\")\n",
    "valid2 = pd.read_csv( path+\"/train.csv\", \n",
    "                      skiprows=range(1,161974466), \n",
    "                      nrows=6291379, \n",
    "                      usecols=columns, \n",
    "                      dtype=dtypes)\n",
    "valid2 = pd.concat([valid1, valid2])\n",
    "del valid1\n",
    "gc.collect()\n",
    "print( \"Extracting third chunk of validation data...\")\n",
    "valid3 = pd.read_csv( path+\"/train.csv\", \n",
    "                      skiprows=range(1,174976527), \n",
    "                      nrows=6901686, \n",
    "                      usecols=columns, \n",
    "                      dtype=dtypes)\n",
    "valid3 = pd.concat([valid2,valid3])\n",
    "del valid2\n",
    "gc.collect()\n",
    "valid_df = valid3\n",
    "del valid3\n",
    "gc.collect()"
   ]
  },
  {
   "cell_type": "code",
   "execution_count": 5,
   "metadata": {},
   "outputs": [],
   "source": [
    "import pickle\n",
    "\n",
    "with open('validation.csv.pkl','wb') as f:\n",
    "  pickle.dump(valid_df, f, protocol=2)"
   ]
  },
  {
   "cell_type": "code",
   "execution_count": 6,
   "metadata": {},
   "outputs": [
    {
     "data": {
      "text/plain": [
       "135"
      ]
     },
     "execution_count": 6,
     "metadata": {},
     "output_type": "execute_result"
    }
   ],
   "source": [
    "num_train = train_df.shape[0]\n",
    "num_valid = valid_df.shape[0]\n",
    "\n",
    "y_train = train_df.is_attributed.values\n",
    "y_val = valid_df.is_attributed.values\n",
    "\n",
    "with open('y_train.csv.pkl','wb') as f:\n",
    "  pickle.dump(y_train, f, protocol=2)\n",
    "\n",
    "with open('y_val.csv.pkl','wb') as f:\n",
    "  pickle.dump(y_val, f, protocol=2)\n",
    "\n",
    "gc.collect()\n",
    "\n",
    "sub = pd.DataFrame()\n",
    "sub['click_id'] = test_df.click_id.values\n",
    "\n",
    "common_column = ['ip','app','device','os','channel','click_time']\n",
    "concat_df = pd.concat([train_df[common_column],valid_df[common_column],test_df[common_column]])\n",
    "\n",
    "del train_df, valid_df, test_df\n",
    "gc.collect()"
   ]
  },
  {
   "cell_type": "code",
   "execution_count": 7,
   "metadata": {},
   "outputs": [
    {
     "name": "stdout",
     "output_type": "stream",
     "text": [
      "[add count features] done in 881 s\n",
      "[Adding next click times] done in 1335 s\n"
     ]
    },
    {
     "data": {
      "text/plain": [
       "28"
      ]
     },
     "execution_count": 7,
     "metadata": {},
     "output_type": "execute_result"
    }
   ],
   "source": [
    "make_count_features(concat_df)\n",
    "make_next_click_feature(concat_df)\n",
    "\n",
    "gc.collect()"
   ]
  },
  {
   "cell_type": "code",
   "execution_count": 9,
   "metadata": {},
   "outputs": [
    {
     "ename": "NameError",
     "evalue": "name 'concat_df' is not defined",
     "output_type": "error",
     "traceback": [
      "\u001b[0;31m---------------------------------------------------------------------------\u001b[0m",
      "\u001b[0;31mNameError\u001b[0m                                 Traceback (most recent call last)",
      "\u001b[0;32m<ipython-input-9-ace45d43d0cb>\u001b[0m in \u001b[0;36m<module>\u001b[0;34m()\u001b[0m\n\u001b[0;32m----> 1\u001b[0;31m \u001b[0mtrain_df\u001b[0m \u001b[0;34m=\u001b[0m \u001b[0mconcat_df\u001b[0m\u001b[0;34m.\u001b[0m\u001b[0miloc\u001b[0m\u001b[0;34m[\u001b[0m\u001b[0;34m:\u001b[0m\u001b[0mnum_train\u001b[0m\u001b[0;34m]\u001b[0m\u001b[0;34m\u001b[0m\u001b[0m\n\u001b[0m\u001b[1;32m      2\u001b[0m \u001b[0mvalid_test_df\u001b[0m \u001b[0;34m=\u001b[0m \u001b[0mconcat_df\u001b[0m\u001b[0;34m.\u001b[0m\u001b[0miloc\u001b[0m\u001b[0;34m[\u001b[0m\u001b[0mnum_train\u001b[0m\u001b[0;34m:\u001b[0m\u001b[0;34m]\u001b[0m\u001b[0;34m\u001b[0m\u001b[0m\n\u001b[1;32m      3\u001b[0m \u001b[0;34m\u001b[0m\u001b[0m\n\u001b[1;32m      4\u001b[0m \u001b[0;32mdel\u001b[0m \u001b[0mconcat_df\u001b[0m\u001b[0;34m\u001b[0m\u001b[0m\n\u001b[1;32m      5\u001b[0m \u001b[0mgc\u001b[0m\u001b[0;34m.\u001b[0m\u001b[0mcollect\u001b[0m\u001b[0;34m(\u001b[0m\u001b[0;34m)\u001b[0m\u001b[0;34m\u001b[0m\u001b[0m\n",
      "\u001b[0;31mNameError\u001b[0m: name 'concat_df' is not defined"
     ]
    }
   ],
   "source": [
    "train_df = concat_df.iloc[:num_train]\n",
    "valid_test_df = concat_df.iloc[num_train:]\n",
    "\n",
    "del concat_df\n",
    "gc.collect()\n",
    "\n",
    "val_df = valid_test_df.iloc[:num_valid]\n",
    "test_df = valid_test_df.iloc[num_valid:]\n",
    "\n",
    "del valid_test_df\n",
    "gc.collect()\n",
    "\n",
    "# with open('train_after.csv.pkl','wb') as f:\n",
    "#   pickle.dump(train_df, f, protocol=2)\n",
    "\n",
    "# with open('valid_after.csv.pkl','wb') as f:\n",
    "#   pickle.dump(val_df, f, protocol=2)\n",
    "\n",
    "# with open('test_after.csv.pkl','wb') as f:\n",
    "#   pickle.dump(test_df, f, protocol=2)"
   ]
  },
  {
   "cell_type": "code",
   "execution_count": 10,
   "metadata": {},
   "outputs": [
    {
     "data": {
      "text/plain": [
       "252"
      ]
     },
     "execution_count": 10,
     "metadata": {},
     "output_type": "execute_result"
    }
   ],
   "source": [
    "gc.collect()"
   ]
  },
  {
   "cell_type": "code",
   "execution_count": 11,
   "metadata": {},
   "outputs": [],
   "source": [
    "# train_df, val_df, y_train, y_val = train_test_split(train_df, y, train_size=0.8, shuffle=False)#trainを0.8、シャッフルfalseにした\n",
    "\n",
    "evals_results = {}\n",
    "num_boost_round = 250\n",
    "early_stopping_rounds = 30"
   ]
  },
  {
   "cell_type": "code",
   "execution_count": 12,
   "metadata": {},
   "outputs": [],
   "source": [
    "lgb_params = {\n",
    "    'boosting_type': 'gbdt',\n",
    "    'objective': 'binary',\n",
    "    'subsample_for_bin': 200000,  # Number of samples for constructing bin\n",
    "    'min_split_gain': 0,  # lambda_l1, lambda_l2 and min_gain_to_split to regularization\n",
    "    'reg_alpha': 0,  # L1 regularization term on weights\n",
    "    'reg_lambda': 0,  # L2 regularization term on weights\n",
    "    'nthread': 12,\n",
    "    'verbose': 0,\n",
    "    'metric':'auc',     \n",
    " \n",
    "    'learning_rate': 0.15,\n",
    "    'num_leaves': 7,  # 2^max_depth - 1\n",
    "    'max_depth': 3,  # -1 means no limit\n",
    "    'min_child_samples': 100,  # Minimum number of data need in a child(min_data_in_leaf)\n",
    "    'max_bin': 100,  # Number of bucketed bin for feature values\n",
    "    'subsample': 0.7,  # Subsample ratio of the training instance.\n",
    "    'subsample_freq': 1,  # frequence of subsample, <=0 means no enable\n",
    "    'colsample_bytree': 0.9,  # Subsample ratio of columns when constructing each tree.\n",
    "    'min_child_weight': 0,  # Minimum sum of instance weight(hessian) needed in a child(leaf)\n",
    "    'scale_pos_weight':99\n",
    "}\n",
    "# metrics = 'auc'\n",
    "# lgb_params = {\n",
    "#     'boosting_type': 'gbdt',\n",
    "#     'objective': 'binary',\n",
    "#     'metric': metrics,\n",
    "#     'learning_rate': .1,\n",
    "#     'num_leaves': 7,\n",
    "#     'max_depth': 4,\n",
    "#     'min_child_samples': 100,\n",
    "#     'max_bin': 100,\n",
    "#     'subsample': 0.7,\n",
    "#     'subsample_freq': 1,\n",
    "#     'colsample_bytree': 0.7,\n",
    "#     'min_child_weight': 0,\n",
    "#     'min_split_gain': 0,\n",
    "#     'nthread': 4,\n",
    "#     'verbose': 1,\n",
    "#     'scale_pos_weight': 99.7\n",
    "#     #'scale_pos_weight': 400\n",
    "# }"
   ]
  },
  {
   "cell_type": "code",
   "execution_count": 13,
   "metadata": {},
   "outputs": [
    {
     "name": "stdout",
     "output_type": "stream",
     "text": [
      "['ip_app_os_count', 'os_app_channel_count', 'os_device_count', 'app_channel_count', 'ip_device_count', 'device', 'next_click', 'ip_count', 'os', 'hour', 'ip_day_hour_count', 'app', 'channel', 'ip_app_count']\n",
      "preparing validation datasets\n"
     ]
    },
    {
     "data": {
      "text/plain": [
       "23"
      ]
     },
     "execution_count": 13,
     "metadata": {},
     "output_type": "execute_result"
    }
   ],
   "source": [
    "target = \"is_attributed\"\n",
    "categorical = ['app','os','channel','device','hour']\n",
    "predictors = list(set(train_df.columns)-set([target])-set(['click_time','category','epochtime','day','ip']))\n",
    "print(predictors)\n",
    "\n",
    "print(\"preparing validation datasets\")\n",
    "\n",
    "xgtrain = lgb.Dataset(train_df[predictors].values,\n",
    "                      label=y_train,\n",
    "                      feature_name=predictors,\n",
    "                      categorical_feature=categorical\n",
    "                      )\n",
    "\n",
    "del train_df\n",
    "del y_train\n",
    "gc.collect()\n",
    "\n",
    "xgvalid = lgb.Dataset(val_df[predictors].values,\n",
    "                      label=y_val,\n",
    "                      feature_name=predictors,\n",
    "                      categorical_feature=categorical\n",
    "                      )\n",
    "\n",
    "del val_df\n",
    "del y_val\n",
    "gc.collect()"
   ]
  },
  {
   "cell_type": "code",
   "execution_count": 14,
   "metadata": {
    "scrolled": false
   },
   "outputs": [
    {
     "name": "stderr",
     "output_type": "stream",
     "text": [
      "/home/um003580/.pyenv/versions/anaconda3-5.1.0/lib/python3.6/site-packages/lightgbm/basic.py:1036: UserWarning: Using categorical_feature in Dataset.\n",
      "  warnings.warn('Using categorical_feature in Dataset.')\n",
      "/home/um003580/.pyenv/versions/anaconda3-5.1.0/lib/python3.6/site-packages/lightgbm/basic.py:681: UserWarning: categorical_feature in param dict is overrided.\n",
      "  warnings.warn('categorical_feature in param dict is overrided.')\n"
     ]
    },
    {
     "name": "stdout",
     "output_type": "stream",
     "text": [
      "[1]\tvalid's auc: 0.917973\n",
      "Training until validation scores don't improve for 30 rounds.\n",
      "[2]\tvalid's auc: 0.950555\n",
      "[3]\tvalid's auc: 0.951297\n",
      "[4]\tvalid's auc: 0.951581\n",
      "[5]\tvalid's auc: 0.951883\n",
      "[6]\tvalid's auc: 0.959265\n",
      "[7]\tvalid's auc: 0.959193\n",
      "[8]\tvalid's auc: 0.957971\n",
      "[9]\tvalid's auc: 0.959095\n",
      "[10]\tvalid's auc: 0.959696\n",
      "[11]\tvalid's auc: 0.960345\n",
      "[12]\tvalid's auc: 0.96358\n",
      "[13]\tvalid's auc: 0.964921\n",
      "[14]\tvalid's auc: 0.965021\n",
      "[15]\tvalid's auc: 0.965778\n",
      "[16]\tvalid's auc: 0.966675\n",
      "[17]\tvalid's auc: 0.967733\n",
      "[18]\tvalid's auc: 0.968267\n",
      "[19]\tvalid's auc: 0.96849\n",
      "[20]\tvalid's auc: 0.968549\n",
      "[21]\tvalid's auc: 0.968824\n",
      "[22]\tvalid's auc: 0.969206\n",
      "[23]\tvalid's auc: 0.969456\n",
      "[24]\tvalid's auc: 0.969675\n",
      "[25]\tvalid's auc: 0.970144\n",
      "[26]\tvalid's auc: 0.970753\n",
      "[27]\tvalid's auc: 0.970802\n",
      "[28]\tvalid's auc: 0.971279\n",
      "[29]\tvalid's auc: 0.971791\n",
      "[30]\tvalid's auc: 0.972516\n",
      "[31]\tvalid's auc: 0.972692\n",
      "[32]\tvalid's auc: 0.972893\n",
      "[33]\tvalid's auc: 0.973358\n",
      "[34]\tvalid's auc: 0.973683\n",
      "[35]\tvalid's auc: 0.974068\n",
      "[36]\tvalid's auc: 0.974334\n",
      "[37]\tvalid's auc: 0.974633\n",
      "[38]\tvalid's auc: 0.974803\n",
      "[39]\tvalid's auc: 0.974914\n",
      "[40]\tvalid's auc: 0.975209\n",
      "[41]\tvalid's auc: 0.975374\n",
      "[42]\tvalid's auc: 0.975592\n",
      "[43]\tvalid's auc: 0.975717\n",
      "[44]\tvalid's auc: 0.976021\n",
      "[45]\tvalid's auc: 0.976185\n",
      "[46]\tvalid's auc: 0.976328\n",
      "[47]\tvalid's auc: 0.976359\n",
      "[48]\tvalid's auc: 0.976542\n",
      "[49]\tvalid's auc: 0.976558\n",
      "[50]\tvalid's auc: 0.976615\n",
      "[51]\tvalid's auc: 0.976686\n",
      "[52]\tvalid's auc: 0.976754\n",
      "[53]\tvalid's auc: 0.976889\n",
      "[54]\tvalid's auc: 0.977026\n",
      "[55]\tvalid's auc: 0.9771\n",
      "[56]\tvalid's auc: 0.977156\n",
      "[57]\tvalid's auc: 0.977227\n",
      "[58]\tvalid's auc: 0.977345\n",
      "[59]\tvalid's auc: 0.977418\n",
      "[60]\tvalid's auc: 0.977444\n",
      "[61]\tvalid's auc: 0.977582\n",
      "[62]\tvalid's auc: 0.977713\n",
      "[63]\tvalid's auc: 0.977803\n",
      "[64]\tvalid's auc: 0.977861\n",
      "[65]\tvalid's auc: 0.977888\n",
      "[66]\tvalid's auc: 0.977943\n",
      "[67]\tvalid's auc: 0.977978\n",
      "[68]\tvalid's auc: 0.978009\n",
      "[69]\tvalid's auc: 0.978068\n",
      "[70]\tvalid's auc: 0.978103\n",
      "[71]\tvalid's auc: 0.978126\n",
      "[72]\tvalid's auc: 0.978176\n",
      "[73]\tvalid's auc: 0.978243\n",
      "[74]\tvalid's auc: 0.978305\n",
      "[75]\tvalid's auc: 0.978338\n",
      "[76]\tvalid's auc: 0.978384\n",
      "[77]\tvalid's auc: 0.978453\n",
      "[78]\tvalid's auc: 0.978465\n",
      "[79]\tvalid's auc: 0.978494\n",
      "[80]\tvalid's auc: 0.978531\n",
      "[81]\tvalid's auc: 0.978563\n",
      "[82]\tvalid's auc: 0.978617\n",
      "[83]\tvalid's auc: 0.978628\n",
      "[84]\tvalid's auc: 0.978669\n",
      "[85]\tvalid's auc: 0.978701\n",
      "[86]\tvalid's auc: 0.97877\n",
      "[87]\tvalid's auc: 0.978843\n",
      "[88]\tvalid's auc: 0.978854\n",
      "[89]\tvalid's auc: 0.978889\n",
      "[90]\tvalid's auc: 0.978909\n",
      "[91]\tvalid's auc: 0.97892\n",
      "[92]\tvalid's auc: 0.978942\n",
      "[93]\tvalid's auc: 0.979003\n",
      "[94]\tvalid's auc: 0.979031\n",
      "[95]\tvalid's auc: 0.979048\n",
      "[96]\tvalid's auc: 0.979063\n",
      "[97]\tvalid's auc: 0.979084\n",
      "[98]\tvalid's auc: 0.979105\n",
      "[99]\tvalid's auc: 0.979166\n",
      "[100]\tvalid's auc: 0.979178\n",
      "[101]\tvalid's auc: 0.979207\n",
      "[102]\tvalid's auc: 0.979236\n",
      "[103]\tvalid's auc: 0.979258\n",
      "[104]\tvalid's auc: 0.979269\n",
      "[105]\tvalid's auc: 0.979282\n",
      "[106]\tvalid's auc: 0.979298\n",
      "[107]\tvalid's auc: 0.979338\n",
      "[108]\tvalid's auc: 0.97934\n",
      "[109]\tvalid's auc: 0.979355\n",
      "[110]\tvalid's auc: 0.979367\n",
      "[111]\tvalid's auc: 0.979393\n",
      "[112]\tvalid's auc: 0.979415\n",
      "[113]\tvalid's auc: 0.979437\n",
      "[114]\tvalid's auc: 0.979468\n",
      "[115]\tvalid's auc: 0.979498\n",
      "[116]\tvalid's auc: 0.979495\n",
      "[117]\tvalid's auc: 0.9795\n",
      "[118]\tvalid's auc: 0.9795\n",
      "[119]\tvalid's auc: 0.979513\n",
      "[120]\tvalid's auc: 0.979524\n",
      "[121]\tvalid's auc: 0.979536\n",
      "[122]\tvalid's auc: 0.979558\n",
      "[123]\tvalid's auc: 0.979571\n",
      "[124]\tvalid's auc: 0.979582\n",
      "[125]\tvalid's auc: 0.979594\n",
      "[126]\tvalid's auc: 0.979601\n",
      "[127]\tvalid's auc: 0.979624\n",
      "[128]\tvalid's auc: 0.979637\n",
      "[129]\tvalid's auc: 0.979637\n",
      "[130]\tvalid's auc: 0.979645\n",
      "[131]\tvalid's auc: 0.97967\n",
      "[132]\tvalid's auc: 0.979685\n",
      "[133]\tvalid's auc: 0.979709\n",
      "[134]\tvalid's auc: 0.979739\n",
      "[135]\tvalid's auc: 0.979751\n",
      "[136]\tvalid's auc: 0.979774\n",
      "[137]\tvalid's auc: 0.979787\n",
      "[138]\tvalid's auc: 0.979797\n",
      "[139]\tvalid's auc: 0.979805\n",
      "[140]\tvalid's auc: 0.97983\n",
      "[141]\tvalid's auc: 0.979848\n",
      "[142]\tvalid's auc: 0.97988\n",
      "[143]\tvalid's auc: 0.979886\n",
      "[144]\tvalid's auc: 0.979902\n",
      "[145]\tvalid's auc: 0.979912\n",
      "[146]\tvalid's auc: 0.979923\n",
      "[147]\tvalid's auc: 0.979929\n",
      "[148]\tvalid's auc: 0.979942\n",
      "[149]\tvalid's auc: 0.97995\n",
      "[150]\tvalid's auc: 0.97996\n",
      "[151]\tvalid's auc: 0.979971\n",
      "[152]\tvalid's auc: 0.979988\n",
      "[153]\tvalid's auc: 0.979995\n",
      "[154]\tvalid's auc: 0.980013\n",
      "[155]\tvalid's auc: 0.980025\n",
      "[156]\tvalid's auc: 0.980024\n",
      "[157]\tvalid's auc: 0.980043\n",
      "[158]\tvalid's auc: 0.980049\n",
      "[159]\tvalid's auc: 0.980062\n",
      "[160]\tvalid's auc: 0.980062\n",
      "[161]\tvalid's auc: 0.980067\n",
      "[162]\tvalid's auc: 0.980068\n",
      "[163]\tvalid's auc: 0.98008\n",
      "[164]\tvalid's auc: 0.980081\n",
      "[165]\tvalid's auc: 0.980087\n",
      "[166]\tvalid's auc: 0.980093\n",
      "[167]\tvalid's auc: 0.980083\n",
      "[168]\tvalid's auc: 0.98009\n",
      "[169]\tvalid's auc: 0.980111\n",
      "[170]\tvalid's auc: 0.980122\n",
      "[171]\tvalid's auc: 0.98012\n",
      "[172]\tvalid's auc: 0.980123\n",
      "[173]\tvalid's auc: 0.980141\n",
      "[174]\tvalid's auc: 0.980142\n",
      "[175]\tvalid's auc: 0.980146\n",
      "[176]\tvalid's auc: 0.980153\n",
      "[177]\tvalid's auc: 0.980157\n",
      "[178]\tvalid's auc: 0.980158\n",
      "[179]\tvalid's auc: 0.980173\n",
      "[180]\tvalid's auc: 0.98018\n",
      "[181]\tvalid's auc: 0.98018\n",
      "[182]\tvalid's auc: 0.980195\n",
      "[183]\tvalid's auc: 0.980202\n",
      "[184]\tvalid's auc: 0.98021\n",
      "[185]\tvalid's auc: 0.980217\n",
      "[186]\tvalid's auc: 0.980227\n",
      "[187]\tvalid's auc: 0.980232\n",
      "[188]\tvalid's auc: 0.980236\n",
      "[189]\tvalid's auc: 0.980237\n",
      "[190]\tvalid's auc: 0.980238\n",
      "[191]\tvalid's auc: 0.980246\n",
      "[192]\tvalid's auc: 0.980254\n",
      "[193]\tvalid's auc: 0.980261\n",
      "[194]\tvalid's auc: 0.980262\n",
      "[195]\tvalid's auc: 0.980262\n",
      "[196]\tvalid's auc: 0.980263\n",
      "[197]\tvalid's auc: 0.980264\n",
      "[198]\tvalid's auc: 0.980272\n",
      "[199]\tvalid's auc: 0.980278\n",
      "[200]\tvalid's auc: 0.980283\n",
      "[201]\tvalid's auc: 0.980282\n",
      "[202]\tvalid's auc: 0.980284\n",
      "[203]\tvalid's auc: 0.980294\n",
      "[204]\tvalid's auc: 0.980301\n",
      "[205]\tvalid's auc: 0.980301\n",
      "[206]\tvalid's auc: 0.980303\n",
      "[207]\tvalid's auc: 0.980309\n",
      "[208]\tvalid's auc: 0.980313\n",
      "[209]\tvalid's auc: 0.980317\n",
      "[210]\tvalid's auc: 0.980327\n",
      "[211]\tvalid's auc: 0.980324\n",
      "[212]\tvalid's auc: 0.980335\n",
      "[213]\tvalid's auc: 0.980336\n",
      "[214]\tvalid's auc: 0.980344\n",
      "[215]\tvalid's auc: 0.980347\n",
      "[216]\tvalid's auc: 0.980341\n",
      "[217]\tvalid's auc: 0.980346\n",
      "[218]\tvalid's auc: 0.980352\n",
      "[219]\tvalid's auc: 0.980361\n",
      "[220]\tvalid's auc: 0.980365\n",
      "[221]\tvalid's auc: 0.980368\n",
      "[222]\tvalid's auc: 0.98037\n",
      "[223]\tvalid's auc: 0.980368\n",
      "[224]\tvalid's auc: 0.980369\n",
      "[225]\tvalid's auc: 0.98038\n",
      "[226]\tvalid's auc: 0.980382\n",
      "[227]\tvalid's auc: 0.98038\n",
      "[228]\tvalid's auc: 0.980381\n",
      "[229]\tvalid's auc: 0.980389\n",
      "[230]\tvalid's auc: 0.980393\n",
      "[231]\tvalid's auc: 0.980396\n",
      "[232]\tvalid's auc: 0.980399\n",
      "[233]\tvalid's auc: 0.980403\n",
      "[234]\tvalid's auc: 0.980406\n",
      "[235]\tvalid's auc: 0.98041\n",
      "[236]\tvalid's auc: 0.980407\n",
      "[237]\tvalid's auc: 0.980414\n",
      "[238]\tvalid's auc: 0.980418\n",
      "[239]\tvalid's auc: 0.980417\n",
      "[240]\tvalid's auc: 0.980421\n",
      "[241]\tvalid's auc: 0.980423\n",
      "[242]\tvalid's auc: 0.98043\n",
      "[243]\tvalid's auc: 0.980439\n",
      "[244]\tvalid's auc: 0.980443\n",
      "[245]\tvalid's auc: 0.98045\n",
      "[246]\tvalid's auc: 0.980451\n",
      "[247]\tvalid's auc: 0.980459\n",
      "[248]\tvalid's auc: 0.980459\n",
      "[249]\tvalid's auc: 0.980459\n",
      "[250]\tvalid's auc: 0.980463\n",
      "Did not meet early stopping. Best iteration is:\n",
      "[250]\tvalid's auc: 0.980463\n"
     ]
    },
    {
     "data": {
      "text/plain": [
       "32"
      ]
     },
     "execution_count": 14,
     "metadata": {},
     "output_type": "execute_result"
    }
   ],
   "source": [
    "gc.collect()\n",
    "booster = lgb.train(\n",
    "     lgb_params, \n",
    "     xgtrain,\n",
    "     valid_sets=[xgvalid],\n",
    "     valid_names=['valid'],\n",
    "     evals_result=evals_results, \n",
    "     num_boost_round=num_boost_round,\n",
    "     early_stopping_rounds=early_stopping_rounds,\n",
    "     verbose_eval=1\n",
    ")\n",
    "\n",
    "# n_estimators = model.best_iteration\n",
    "\n",
    "# print('\\nModel Info:')\n",
    "# print('n_estimators:', n_estimators)\n",
    "# print(metrics+':', evals_results['valid'][metrics][n_estimators-1])\n",
    "\n",
    "del xgvalid\n",
    "del xgtrain\n",
    "gc.collect()"
   ]
  },
  {
   "cell_type": "markdown",
   "metadata": {},
   "source": [
    "[250]\tvalid's auc: 0.966742\n",
    "Did not meet early stopping. Best iteration is:\n",
    "[250]\tvalid's auc: 0.966742"
   ]
  },
  {
   "cell_type": "code",
   "execution_count": 16,
   "metadata": {},
   "outputs": [
    {
     "data": {
      "image/png": "[encoded data removed]",
      "text/plain": [
       "<matplotlib.figure.Figure at 0x7fba1158b0f0>"
      ]
     },
     "metadata": {},
     "output_type": "display_data"
    }
   ],
   "source": [
    "import matplotlib.pyplot as plt\n",
    "ax = lgb.plot_importance(booster, max_num_features=100)\n",
    "# plt.savefig('0501-1-1imp.png', dpi=600, bbox_inches='tight')\n",
    "plt.show()"
   ]
  },
  {
   "cell_type": "code",
   "execution_count": 17,
   "metadata": {},
   "outputs": [],
   "source": [
    "preditions=booster.predict(test_df[predictors].values)"
   ]
  },
  {
   "cell_type": "code",
   "execution_count": 18,
   "metadata": {},
   "outputs": [],
   "source": [
    "sub['is_attributed']  = preditions\n",
    "\n",
    "sub.to_csv('0501-1-1sub.csv', float_format='%.8f', index=False)"
   ]
  },
  {
   "cell_type": "code",
   "execution_count": null,
   "metadata": {},
   "outputs": [],
   "source": [
    "\n"
   ]
  },
  {
   "cell_type": "code",
   "execution_count": null,
   "metadata": {},
   "outputs": [],
   "source": []
  },
  {
   "cell_type": "code",
   "execution_count": null,
   "metadata": {},
   "outputs": [],
   "source": []
  },
  {
   "cell_type": "code",
   "execution_count": null,
   "metadata": {},
   "outputs": [],
   "source": []
  }
 ],
 "metadata": {
  "kernelspec": {
   "display_name": "Python 3",
   "language": "python",
   "name": "python3"
  },
  "language_info": {
   "codemirror_mode": {
    "name": "ipython",
    "version": 3
   },
   "file_extension": ".py",
   "mimetype": "text/x-python",
   "name": "python",
   "nbconvert_exporter": "python",
   "pygments_lexer": "ipython3",
   "version": "3.6.4"
  }
 },
 "nbformat": 4,
 "nbformat_minor": 2
}
