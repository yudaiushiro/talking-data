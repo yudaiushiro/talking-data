{
 "cells": [
  {
   "cell_type": "markdown",
   "metadata": {},
   "source": [
    "testsupを特徴量の抽出に使用"
   ]
  },
  {
   "cell_type": "code",
   "execution_count": 7,
   "metadata": {},
   "outputs": [],
   "source": [
    "import pandas as pd\n",
    "import time\n",
    "import numpy as np\n",
    "from sklearn.model_selection import train_test_split\n",
    "import lightgbm as lgb\n",
    "import gc\n",
    "from contextlib import contextmanager\n",
    "import pickle"
   ]
  },
  {
   "cell_type": "code",
   "execution_count": 2,
   "metadata": {},
   "outputs": [],
   "source": [
    "@contextmanager\n",
    "def timer(name):\n",
    "    t0 = time.time()\n",
    "    yield\n",
    "    print(f'[{name}] done in {time.time() - t0:.0f} s')\n",
    "    \n",
    "def df_add_counts(df, cols):\n",
    "    arr_slice = df[cols].values\n",
    "    unq, unqtags, counts = np.unique(np.ravel_multi_index(arr_slice.T, arr_slice.max(axis=0) + 1),\n",
    "                                     return_inverse=True, return_counts=True)\n",
    "    df[\"_\".join(cols)+'_count'] = counts[unqtags]\n",
    "    \n",
    "def make_count_features(df):\n",
    "    with timer(\"add count features\"):\n",
    "        df['click_time']= pd.to_datetime(df['click_time'])\n",
    "        dt= df['click_time'].dt\n",
    "        df['day'] = dt.day.astype('uint8')\n",
    "        df['hour'] = dt.hour.astype('uint8')\n",
    "        df['minute'] = dt.minute.astype('uint8')\n",
    "#         df['second'] = dt.second.astype('uint8')#secondを追加\n",
    "\n",
    "        del(dt)\n",
    "        \n",
    "        df_add_counts(df, ['ip'])\n",
    "        df_add_counts(df, ['ip','day','hour','minute'])\n",
    "#         df_add_counts(df, ['os','device'])\n",
    "        df_add_counts(df, ['os','app','channel'])\n",
    "        \n",
    "        df_add_counts(df, ['ip', 'day', 'hour'])\n",
    "        df_add_counts(df, ['ip', 'app'])\n",
    "        df_add_counts(df, ['ip', 'app', 'os'])\n",
    "        df_add_counts(df, ['ip', 'device'])\n",
    "        df_add_counts(df, ['app', 'channel'])\n",
    "\n",
    "def make_next_click_feature(df):\n",
    "    with timer(\"Adding next click times\"):\n",
    "        D= 2**26\n",
    "        df['category'] = (df['ip'].astype(str) + \"_\" + df['app'].astype(str) + \"_\" + df['device'].astype(str) \\\n",
    "                         + \"_\" + df['os'].astype(str)).apply(hash) % D\n",
    "        click_buffer= np.full(D, 3000000000, dtype=np.uint32)\n",
    "        df['epochtime']= df['click_time'].astype(np.int64) // 10 ** 9\n",
    "        next_clicks= []\n",
    "        for category, time in zip(reversed(df['category'].values), reversed(df['epochtime'].values)):\n",
    "            next_clicks.append(click_buffer[category]-time)\n",
    "            click_buffer[category]= time\n",
    "        del(click_buffer)\n",
    "        df['next_click']= list(reversed(next_clicks))\n",
    "        \n",
    "path = '~/talkingdata/input/'\n",
    "\n",
    "dtypes = {\n",
    "        'ip'            : 'uint32',\n",
    "        'app'           : 'uint16',\n",
    "        'device'        : 'uint16',\n",
    "        'os'            : 'uint16',\n",
    "        'channel'       : 'uint16',\n",
    "        'is_attributed' : 'uint8',\n",
    "        'click_id'      : 'uint32'\n",
    "        }"
   ]
  },
  {
   "cell_type": "code",
   "execution_count": 5,
   "metadata": {},
   "outputs": [
    {
     "name": "stdout",
     "output_type": "stream",
     "text": [
      "[load training data] done in 127 s\n"
     ]
    }
   ],
   "source": [
    "with timer(\"load training data\"):\n",
    "    train_df = pd.read_csv(path+\"train.csv\", skiprows=range(1,104903891), nrows=80000000, usecols=['ip','app','device','os', 'channel', 'click_time', 'is_attributed'], dtype=dtypes)"
   ]
  },
  {
   "cell_type": "code",
   "execution_count": 8,
   "metadata": {},
   "outputs": [
    {
     "name": "stdout",
     "output_type": "stream",
     "text": [
      "   click_id      ip  app  device  os  channel           click_time\n",
      "0         0    5744    9       1   3      107  2017-11-10 04:00:00\n",
      "1         1  119901    9       1   3      466  2017-11-10 04:00:00\n",
      "2         2   72287   21       1  19      128  2017-11-10 04:00:00\n",
      "3         3   78477   15       1  13      111  2017-11-10 04:00:00\n",
      "4         4  123080   12       1  13      328  2017-11-10 04:00:00\n",
      "   click_id      ip  app  device  os  channel           click_time  \\\n",
      "0         0   43570    3       1  18      379  2017-11-09 14:23:39   \n",
      "1         1   80528    3       1  13      379  2017-11-09 14:23:51   \n",
      "2         2   32323    3       1  13      379  2017-11-09 14:25:57   \n",
      "3         3   42887    3       1  17      379  2017-11-09 14:26:03   \n",
      "4         4  119289   58       1  30      120  2017-11-09 14:26:41   \n",
      "\n",
      "   click_id.test  \n",
      "0            NaN  \n",
      "1            NaN  \n",
      "2            NaN  \n",
      "3            NaN  \n",
      "4            NaN  \n"
     ]
    }
   ],
   "source": [
    "with open('test.csv.pkl', 'rb') as f:\n",
    "  test_df = pickle.load(f)\n",
    "  print(test_df.head())\n",
    "    \n",
    "with open('testsup_without_test.csv.pkl', 'rb') as f:\n",
    "  testsup_df = pickle.load(f)\n",
    "  print(testsup_df.head())"
   ]
  },
  {
   "cell_type": "code",
   "execution_count": 11,
   "metadata": {},
   "outputs": [
    {
     "data": {
      "text/html": [
       "<div>\n",
       "<style scoped>\n",
       "    .dataframe tbody tr th:only-of-type {\n",
       "        vertical-align: middle;\n",
       "    }\n",
       "\n",
       "    .dataframe tbody tr th {\n",
       "        vertical-align: top;\n",
       "    }\n",
       "\n",
       "    .dataframe thead th {\n",
       "        text-align: right;\n",
       "    }\n",
       "</style>\n",
       "<table border=\"1\" class=\"dataframe\">\n",
       "  <thead>\n",
       "    <tr style=\"text-align: right;\">\n",
       "      <th></th>\n",
       "      <th>click_id</th>\n",
       "      <th>ip</th>\n",
       "      <th>app</th>\n",
       "      <th>device</th>\n",
       "      <th>os</th>\n",
       "      <th>channel</th>\n",
       "      <th>click_time</th>\n",
       "    </tr>\n",
       "  </thead>\n",
       "  <tbody>\n",
       "    <tr>\n",
       "      <th>0</th>\n",
       "      <td>0</td>\n",
       "      <td>5744</td>\n",
       "      <td>9</td>\n",
       "      <td>1</td>\n",
       "      <td>3</td>\n",
       "      <td>107</td>\n",
       "      <td>2017-11-10 04:00:00</td>\n",
       "    </tr>\n",
       "    <tr>\n",
       "      <th>1</th>\n",
       "      <td>1</td>\n",
       "      <td>119901</td>\n",
       "      <td>9</td>\n",
       "      <td>1</td>\n",
       "      <td>3</td>\n",
       "      <td>466</td>\n",
       "      <td>2017-11-10 04:00:00</td>\n",
       "    </tr>\n",
       "    <tr>\n",
       "      <th>2</th>\n",
       "      <td>2</td>\n",
       "      <td>72287</td>\n",
       "      <td>21</td>\n",
       "      <td>1</td>\n",
       "      <td>19</td>\n",
       "      <td>128</td>\n",
       "      <td>2017-11-10 04:00:00</td>\n",
       "    </tr>\n",
       "    <tr>\n",
       "      <th>3</th>\n",
       "      <td>3</td>\n",
       "      <td>78477</td>\n",
       "      <td>15</td>\n",
       "      <td>1</td>\n",
       "      <td>13</td>\n",
       "      <td>111</td>\n",
       "      <td>2017-11-10 04:00:00</td>\n",
       "    </tr>\n",
       "    <tr>\n",
       "      <th>4</th>\n",
       "      <td>4</td>\n",
       "      <td>123080</td>\n",
       "      <td>12</td>\n",
       "      <td>1</td>\n",
       "      <td>13</td>\n",
       "      <td>328</td>\n",
       "      <td>2017-11-10 04:00:00</td>\n",
       "    </tr>\n",
       "  </tbody>\n",
       "</table>\n",
       "</div>"
      ],
      "text/plain": [
       "   click_id      ip  app  device  os  channel           click_time\n",
       "0         0    5744    9       1   3      107  2017-11-10 04:00:00\n",
       "1         1  119901    9       1   3      466  2017-11-10 04:00:00\n",
       "2         2   72287   21       1  19      128  2017-11-10 04:00:00\n",
       "3         3   78477   15       1  13      111  2017-11-10 04:00:00\n",
       "4         4  123080   12       1  13      328  2017-11-10 04:00:00"
      ]
     },
     "execution_count": 11,
     "metadata": {},
     "output_type": "execute_result"
    }
   ],
   "source": [
    "test_df.head()"
   ]
  },
  {
   "cell_type": "code",
   "execution_count": 10,
   "metadata": {},
   "outputs": [
    {
     "data": {
      "text/html": [
       "<div>\n",
       "<style scoped>\n",
       "    .dataframe tbody tr th:only-of-type {\n",
       "        vertical-align: middle;\n",
       "    }\n",
       "\n",
       "    .dataframe tbody tr th {\n",
       "        vertical-align: top;\n",
       "    }\n",
       "\n",
       "    .dataframe thead th {\n",
       "        text-align: right;\n",
       "    }\n",
       "</style>\n",
       "<table border=\"1\" class=\"dataframe\">\n",
       "  <thead>\n",
       "    <tr style=\"text-align: right;\">\n",
       "      <th></th>\n",
       "      <th>click_id</th>\n",
       "      <th>ip</th>\n",
       "      <th>app</th>\n",
       "      <th>device</th>\n",
       "      <th>os</th>\n",
       "      <th>channel</th>\n",
       "      <th>click_time</th>\n",
       "    </tr>\n",
       "  </thead>\n",
       "  <tbody>\n",
       "    <tr>\n",
       "      <th>0</th>\n",
       "      <td>0</td>\n",
       "      <td>43570</td>\n",
       "      <td>3</td>\n",
       "      <td>1</td>\n",
       "      <td>18</td>\n",
       "      <td>379</td>\n",
       "      <td>2017-11-09 14:23:39</td>\n",
       "    </tr>\n",
       "    <tr>\n",
       "      <th>1</th>\n",
       "      <td>1</td>\n",
       "      <td>80528</td>\n",
       "      <td>3</td>\n",
       "      <td>1</td>\n",
       "      <td>13</td>\n",
       "      <td>379</td>\n",
       "      <td>2017-11-09 14:23:51</td>\n",
       "    </tr>\n",
       "    <tr>\n",
       "      <th>2</th>\n",
       "      <td>2</td>\n",
       "      <td>32323</td>\n",
       "      <td>3</td>\n",
       "      <td>1</td>\n",
       "      <td>13</td>\n",
       "      <td>379</td>\n",
       "      <td>2017-11-09 14:25:57</td>\n",
       "    </tr>\n",
       "    <tr>\n",
       "      <th>3</th>\n",
       "      <td>3</td>\n",
       "      <td>42887</td>\n",
       "      <td>3</td>\n",
       "      <td>1</td>\n",
       "      <td>17</td>\n",
       "      <td>379</td>\n",
       "      <td>2017-11-09 14:26:03</td>\n",
       "    </tr>\n",
       "    <tr>\n",
       "      <th>4</th>\n",
       "      <td>4</td>\n",
       "      <td>119289</td>\n",
       "      <td>58</td>\n",
       "      <td>1</td>\n",
       "      <td>30</td>\n",
       "      <td>120</td>\n",
       "      <td>2017-11-09 14:26:41</td>\n",
       "    </tr>\n",
       "  </tbody>\n",
       "</table>\n",
       "</div>"
      ],
      "text/plain": [
       "   click_id      ip  app  device  os  channel           click_time\n",
       "0         0   43570    3       1  18      379  2017-11-09 14:23:39\n",
       "1         1   80528    3       1  13      379  2017-11-09 14:23:51\n",
       "2         2   32323    3       1  13      379  2017-11-09 14:25:57\n",
       "3         3   42887    3       1  17      379  2017-11-09 14:26:03\n",
       "4         4  119289   58       1  30      120  2017-11-09 14:26:41"
      ]
     },
     "execution_count": 10,
     "metadata": {},
     "output_type": "execute_result"
    }
   ],
   "source": [
    "testsup_df = testsup_df.drop(\"click_id.test\", axis=1)\n",
    "testsup_df.head()"
   ]
  },
  {
   "cell_type": "code",
   "execution_count": 4,
   "metadata": {},
   "outputs": [
    {
     "name": "stdout",
     "output_type": "stream",
     "text": [
      "36085903\n",
      "126411\n"
     ]
    }
   ],
   "source": [
    "# testsup_ip_max = testsup_df.ip.max()\n",
    "# train_df = train_df[train_df.ip <= testsup_ip_max]\n",
    "# print(len(train_df.index))\n",
    "# print(train_df.ip.max())"
   ]
  },
  {
   "cell_type": "code",
   "execution_count": 12,
   "metadata": {},
   "outputs": [
    {
     "data": {
      "text/plain": [
       "1492"
      ]
     },
     "execution_count": 12,
     "metadata": {},
     "output_type": "execute_result"
    }
   ],
   "source": [
    "num_train = train_df.shape[0]\n",
    "y = train_df.is_attributed.values\n",
    "\n",
    "sub = pd.DataFrame()\n",
    "sub['click_id'] = test_df.click_id.values\n",
    "\n",
    "common_column = ['ip','app','device','os','channel','click_time']\n",
    "concat_df = pd.concat([train_df[common_column],test_df[common_column],testsup_df[common_column]])\n",
    "\n",
    "del train_df, testsup_df, test_df\n",
    "gc.collect()"
   ]
  },
  {
   "cell_type": "code",
   "execution_count": 13,
   "metadata": {},
   "outputs": [
    {
     "name": "stdout",
     "output_type": "stream",
     "text": [
      "[add count features] done in 623 s\n",
      "[Adding next click times] done in 977 s\n"
     ]
    },
    {
     "data": {
      "text/plain": [
       "28"
      ]
     },
     "execution_count": 13,
     "metadata": {},
     "output_type": "execute_result"
    }
   ],
   "source": [
    "make_count_features(concat_df)\n",
    "make_next_click_feature(concat_df)\n",
    "\n",
    "gc.collect()"
   ]
  },
  {
   "cell_type": "code",
   "execution_count": 14,
   "metadata": {},
   "outputs": [
    {
     "name": "stdout",
     "output_type": "stream",
     "text": [
      "   click_id      ip  app  device  os  channel           click_time\n",
      "0         0    5744    9       1   3      107  2017-11-10 04:00:00\n",
      "1         1  119901    9       1   3      466  2017-11-10 04:00:00\n",
      "2         2   72287   21       1  19      128  2017-11-10 04:00:00\n",
      "3         3   78477   15       1  13      111  2017-11-10 04:00:00\n",
      "4         4  123080   12       1  13      328  2017-11-10 04:00:00\n",
      "18790469\n"
     ]
    }
   ],
   "source": [
    "with open('test.csv.pkl', 'rb') as f:\n",
    "  test_df = pickle.load(f)\n",
    "  print(test_df.head())\n",
    "\n",
    "num_test = test_df.shape[0]\n",
    "print(num_test)\n",
    "del test_df"
   ]
  },
  {
   "cell_type": "code",
   "execution_count": 15,
   "metadata": {},
   "outputs": [
    {
     "name": "stdout",
     "output_type": "stream",
     "text": [
      "       ip  app  device  os  channel          click_time  day  hour  minute  \\\n",
      "0    5744    9       1   3      107 2017-11-10 04:00:00   10     4       0   \n",
      "1  119901    9       1   3      466 2017-11-10 04:00:00   10     4       0   \n",
      "2   72287   21       1  19      128 2017-11-10 04:00:00   10     4       0   \n",
      "3   78477   15       1  13      111 2017-11-10 04:00:00   10     4       0   \n",
      "4  123080   12       1  13      328 2017-11-10 04:00:00   10     4       0   \n",
      "\n",
      "   ip_count  ip_day_hour_minute_count  os_app_channel_count  \\\n",
      "0       827                         2                 34114   \n",
      "1     15131                        15                 45300   \n",
      "2     10457                         5                454989   \n",
      "3      7985                         9                 92942   \n",
      "4      1063                         4                302318   \n",
      "\n",
      "   ip_day_hour_count  ip_app_count  ip_app_os_count  ip_device_count  \\\n",
      "0                 34           191                7              781   \n",
      "1                406          1927               27            15021   \n",
      "2                231           719              100            10317   \n",
      "3                242           344               73             7937   \n",
      "4                 60           137               35             1055   \n",
      "\n",
      "   app_channel_count  category   epochtime  next_click  \n",
      "0            1529227  29801192  1510286400       -4568  \n",
      "1            2788129  35759889  1510286400         399  \n",
      "2            1749284  32531958  1510286400          88  \n",
      "3             434293   8576158  1510286400         425  \n",
      "4            1326151   9099515  1510286400        1208  \n"
     ]
    },
    {
     "data": {
      "text/plain": [
       "266"
      ]
     },
     "execution_count": 15,
     "metadata": {},
     "output_type": "execute_result"
    }
   ],
   "source": [
    "train_df = concat_df.iloc[:num_train]\n",
    "test_sup_df = concat_df.iloc[num_train:]\n",
    "test_df = test_sup_df.iloc[:num_test]\n",
    "# testsup_df = test_sup_df.iloc[:num_test]\n",
    "\n",
    "del concat_df, test_sup_df\n",
    "\n",
    "print(test_df.head())\n",
    "# print(testsup_df.head())\n",
    "\n",
    "gc.collect()"
   ]
  },
  {
   "cell_type": "code",
   "execution_count": 16,
   "metadata": {},
   "outputs": [
    {
     "name": "stderr",
     "output_type": "stream",
     "text": [
      "/home/um003580/.pyenv/versions/anaconda3-5.1.0/lib/python3.6/site-packages/sklearn/model_selection/_split.py:2026: FutureWarning: From version 0.21, test_size will always complement train_size unless both are specified.\n",
      "  FutureWarning)\n"
     ]
    }
   ],
   "source": [
    "train_df, val_df, y_train, y_val = train_test_split(train_df, y, train_size=0.8, shuffle=False)#trainを0.8、シャッフルfalseにした\n",
    "\n",
    "evals_results = {}\n",
    "num_boost_round = 250\n",
    "early_stopping_rounds = 30"
   ]
  },
  {
   "cell_type": "code",
   "execution_count": 17,
   "metadata": {},
   "outputs": [],
   "source": [
    "lgb_params = {\n",
    "    'boosting_type': 'gbdt',\n",
    "    'objective': 'binary',\n",
    "    'subsample_for_bin': 200000,  # Number of samples for constructing bin\n",
    "    'min_split_gain': 0,  # lambda_l1, lambda_l2 and min_gain_to_split to regularization\n",
    "    'reg_alpha': 0,  # L1 regularization term on weights\n",
    "    'reg_lambda': 0,  # L2 regularization term on weights\n",
    "    'nthread': 4,\n",
    "    'verbose': 0,\n",
    "    'metric':'auc',     \n",
    " \n",
    "    'learning_rate': 0.15,\n",
    "    'num_leaves': 7,  # 2^max_depth - 1\n",
    "    'max_depth': 3,  # -1 means no limit\n",
    "    'min_child_samples': 100,  # Minimum number of data need in a child(min_data_in_leaf)\n",
    "    'max_bin': 100,  # Number of bucketed bin for feature values\n",
    "    'subsample': 0.7,  # Subsample ratio of the training instance.\n",
    "    'subsample_freq': 1,  # frequence of subsample, <=0 means no enable\n",
    "    'colsample_bytree': 0.9,  # Subsample ratio of columns when constructing each tree.\n",
    "    'min_child_weight': 0,  # Minimum sum of instance weight(hessian) needed in a child(leaf)\n",
    "    'scale_pos_weight':99\n",
    "}\n",
    "# metrics = 'auc'\n",
    "# lgb_params = {\n",
    "#     'boosting_type': 'gbdt',\n",
    "#     'objective': 'binary',\n",
    "#     'metric': metrics,\n",
    "#     'learning_rate': .1,\n",
    "#     'num_leaves': 7,\n",
    "#     'max_depth': 4,\n",
    "#     'min_child_samples': 100,\n",
    "#     'max_bin': 100,\n",
    "#     'subsample': 0.7,\n",
    "#     'subsample_freq': 1,\n",
    "#     'colsample_bytree': 0.7,\n",
    "#     'min_child_weight': 0,\n",
    "#     'min_split_gain': 0,\n",
    "#     'nthread': 4,\n",
    "#     'verbose': 1,\n",
    "#     'scale_pos_weight': 99.7\n",
    "#     #'scale_pos_weight': 400\n",
    "# }"
   ]
  },
  {
   "cell_type": "code",
   "execution_count": 18,
   "metadata": {},
   "outputs": [
    {
     "name": "stdout",
     "output_type": "stream",
     "text": [
      "['ip_day_hour_count', 'day', 'ip_count', 'ip_day_hour_minute_count', 'ip_device_count', 'hour', 'app', 'ip_app_count', 'os_app_channel_count', 'app_channel_count', 'ip_app_os_count', 'os', 'channel', 'device', 'next_click']\n",
      "preparing validation datasets\n"
     ]
    },
    {
     "data": {
      "text/plain": [
       "25"
      ]
     },
     "execution_count": 18,
     "metadata": {},
     "output_type": "execute_result"
    }
   ],
   "source": [
    "target = \"is_attributed\"\n",
    "categorical = ['app','os','channel','device']\n",
    "predictors = list(set(train_df.columns)-set([target])-set(['click_time','category','epochtime','minute','ip']))\n",
    "print(predictors)\n",
    "\n",
    "print(\"preparing validation datasets\")\n",
    "\n",
    "xgtrain = lgb.Dataset(train_df[predictors].values,\n",
    "                      label=y_train,\n",
    "                      feature_name=predictors,\n",
    "                      categorical_feature=categorical\n",
    "                      )\n",
    "\n",
    "del train_df\n",
    "del y_train\n",
    "gc.collect()\n",
    "\n",
    "xgvalid = lgb.Dataset(val_df[predictors].values,\n",
    "                      label=y_val,\n",
    "                      feature_name=predictors,\n",
    "                      categorical_feature=categorical\n",
    "                      )\n",
    "\n",
    "del val_df\n",
    "del y_val\n",
    "gc.collect()"
   ]
  },
  {
   "cell_type": "code",
   "execution_count": 19,
   "metadata": {
    "scrolled": false
   },
   "outputs": [
    {
     "name": "stderr",
     "output_type": "stream",
     "text": [
      "/home/um003580/.pyenv/versions/anaconda3-5.1.0/lib/python3.6/site-packages/lightgbm/basic.py:1036: UserWarning: Using categorical_feature in Dataset.\n",
      "  warnings.warn('Using categorical_feature in Dataset.')\n",
      "/home/um003580/.pyenv/versions/anaconda3-5.1.0/lib/python3.6/site-packages/lightgbm/basic.py:681: UserWarning: categorical_feature in param dict is overrided.\n",
      "  warnings.warn('categorical_feature in param dict is overrided.')\n"
     ]
    },
    {
     "name": "stdout",
     "output_type": "stream",
     "text": [
      "[1]\tvalid's auc: 0.952476\n",
      "Training until validation scores don't improve for 30 rounds.\n",
      "[2]\tvalid's auc: 0.953777\n",
      "[3]\tvalid's auc: 0.959285\n",
      "[4]\tvalid's auc: 0.959953\n",
      "[5]\tvalid's auc: 0.959933\n",
      "[6]\tvalid's auc: 0.960514\n",
      "[7]\tvalid's auc: 0.964626\n",
      "[8]\tvalid's auc: 0.964729\n",
      "[9]\tvalid's auc: 0.965033\n",
      "[10]\tvalid's auc: 0.965238\n",
      "[11]\tvalid's auc: 0.966925\n",
      "[12]\tvalid's auc: 0.967071\n",
      "[13]\tvalid's auc: 0.968001\n",
      "[14]\tvalid's auc: 0.968264\n",
      "[15]\tvalid's auc: 0.968496\n",
      "[16]\tvalid's auc: 0.968651\n",
      "[17]\tvalid's auc: 0.969338\n",
      "[18]\tvalid's auc: 0.969479\n",
      "[19]\tvalid's auc: 0.969592\n",
      "[20]\tvalid's auc: 0.971074\n",
      "[21]\tvalid's auc: 0.971623\n",
      "[22]\tvalid's auc: 0.972162\n",
      "[23]\tvalid's auc: 0.972578\n",
      "[24]\tvalid's auc: 0.973116\n",
      "[25]\tvalid's auc: 0.974011\n",
      "[26]\tvalid's auc: 0.9743\n",
      "[27]\tvalid's auc: 0.974833\n",
      "[28]\tvalid's auc: 0.975235\n",
      "[29]\tvalid's auc: 0.975613\n",
      "[30]\tvalid's auc: 0.975897\n",
      "[31]\tvalid's auc: 0.976593\n",
      "[32]\tvalid's auc: 0.976778\n",
      "[33]\tvalid's auc: 0.977083\n",
      "[34]\tvalid's auc: 0.977576\n",
      "[35]\tvalid's auc: 0.978153\n",
      "[36]\tvalid's auc: 0.978397\n",
      "[37]\tvalid's auc: 0.978704\n",
      "[38]\tvalid's auc: 0.979003\n",
      "[39]\tvalid's auc: 0.979288\n",
      "[40]\tvalid's auc: 0.979501\n",
      "[41]\tvalid's auc: 0.979612\n",
      "[42]\tvalid's auc: 0.979764\n",
      "[43]\tvalid's auc: 0.979925\n",
      "[44]\tvalid's auc: 0.980213\n",
      "[45]\tvalid's auc: 0.980434\n",
      "[46]\tvalid's auc: 0.980591\n",
      "[47]\tvalid's auc: 0.980721\n",
      "[48]\tvalid's auc: 0.980761\n",
      "[49]\tvalid's auc: 0.980765\n",
      "[50]\tvalid's auc: 0.980927\n",
      "[51]\tvalid's auc: 0.981168\n",
      "[52]\tvalid's auc: 0.981255\n",
      "[53]\tvalid's auc: 0.981315\n",
      "[54]\tvalid's auc: 0.981456\n",
      "[55]\tvalid's auc: 0.981508\n",
      "[56]\tvalid's auc: 0.981623\n",
      "[57]\tvalid's auc: 0.98176\n",
      "[58]\tvalid's auc: 0.98177\n",
      "[59]\tvalid's auc: 0.981878\n",
      "[60]\tvalid's auc: 0.981916\n",
      "[61]\tvalid's auc: 0.982005\n",
      "[62]\tvalid's auc: 0.982067\n",
      "[63]\tvalid's auc: 0.982105\n",
      "[64]\tvalid's auc: 0.98209\n",
      "[65]\tvalid's auc: 0.982178\n",
      "[66]\tvalid's auc: 0.982239\n",
      "[67]\tvalid's auc: 0.982273\n",
      "[68]\tvalid's auc: 0.982303\n",
      "[69]\tvalid's auc: 0.982361\n",
      "[70]\tvalid's auc: 0.982414\n",
      "[71]\tvalid's auc: 0.982604\n",
      "[72]\tvalid's auc: 0.982659\n",
      "[73]\tvalid's auc: 0.982666\n",
      "[74]\tvalid's auc: 0.982714\n",
      "[75]\tvalid's auc: 0.982777\n",
      "[76]\tvalid's auc: 0.982813\n",
      "[77]\tvalid's auc: 0.982888\n",
      "[78]\tvalid's auc: 0.982914\n",
      "[79]\tvalid's auc: 0.982955\n",
      "[80]\tvalid's auc: 0.983022\n",
      "[81]\tvalid's auc: 0.983042\n",
      "[82]\tvalid's auc: 0.98307\n",
      "[83]\tvalid's auc: 0.9831\n",
      "[84]\tvalid's auc: 0.983146\n",
      "[85]\tvalid's auc: 0.983191\n",
      "[86]\tvalid's auc: 0.983268\n",
      "[87]\tvalid's auc: 0.983275\n",
      "[88]\tvalid's auc: 0.983264\n",
      "[89]\tvalid's auc: 0.983273\n",
      "[90]\tvalid's auc: 0.98331\n",
      "[91]\tvalid's auc: 0.983316\n",
      "[92]\tvalid's auc: 0.983374\n",
      "[93]\tvalid's auc: 0.983397\n",
      "[94]\tvalid's auc: 0.98347\n",
      "[95]\tvalid's auc: 0.983601\n",
      "[96]\tvalid's auc: 0.983663\n",
      "[97]\tvalid's auc: 0.98371\n",
      "[98]\tvalid's auc: 0.983744\n",
      "[99]\tvalid's auc: 0.983771\n",
      "[100]\tvalid's auc: 0.983795\n",
      "[101]\tvalid's auc: 0.983809\n",
      "[102]\tvalid's auc: 0.983952\n",
      "[103]\tvalid's auc: 0.983931\n",
      "[104]\tvalid's auc: 0.983982\n",
      "[105]\tvalid's auc: 0.983998\n",
      "[106]\tvalid's auc: 0.983989\n",
      "[107]\tvalid's auc: 0.984012\n",
      "[108]\tvalid's auc: 0.984043\n",
      "[109]\tvalid's auc: 0.984086\n",
      "[110]\tvalid's auc: 0.984103\n",
      "[111]\tvalid's auc: 0.984114\n",
      "[112]\tvalid's auc: 0.984148\n",
      "[113]\tvalid's auc: 0.984161\n",
      "[114]\tvalid's auc: 0.98417\n",
      "[115]\tvalid's auc: 0.984176\n",
      "[116]\tvalid's auc: 0.984196\n",
      "[117]\tvalid's auc: 0.984213\n",
      "[118]\tvalid's auc: 0.98424\n",
      "[119]\tvalid's auc: 0.984245\n",
      "[120]\tvalid's auc: 0.984242\n",
      "[121]\tvalid's auc: 0.984284\n",
      "[122]\tvalid's auc: 0.984302\n",
      "[123]\tvalid's auc: 0.984332\n",
      "[124]\tvalid's auc: 0.984343\n",
      "[125]\tvalid's auc: 0.984436\n",
      "[126]\tvalid's auc: 0.98443\n",
      "[127]\tvalid's auc: 0.984452\n",
      "[128]\tvalid's auc: 0.984477\n",
      "[129]\tvalid's auc: 0.984488\n",
      "[130]\tvalid's auc: 0.984513\n",
      "[131]\tvalid's auc: 0.984512\n",
      "[132]\tvalid's auc: 0.98451\n",
      "[133]\tvalid's auc: 0.984524\n",
      "[134]\tvalid's auc: 0.984528\n",
      "[135]\tvalid's auc: 0.984536\n",
      "[136]\tvalid's auc: 0.984552\n",
      "[137]\tvalid's auc: 0.984551\n",
      "[138]\tvalid's auc: 0.984565\n",
      "[139]\tvalid's auc: 0.984573\n",
      "[140]\tvalid's auc: 0.984581\n",
      "[141]\tvalid's auc: 0.984585\n",
      "[142]\tvalid's auc: 0.984593\n",
      "[143]\tvalid's auc: 0.984615\n",
      "[144]\tvalid's auc: 0.984601\n",
      "[145]\tvalid's auc: 0.984603\n",
      "[146]\tvalid's auc: 0.984592\n",
      "[147]\tvalid's auc: 0.984618\n",
      "[148]\tvalid's auc: 0.984638\n",
      "[149]\tvalid's auc: 0.984626\n",
      "[150]\tvalid's auc: 0.984634\n",
      "[151]\tvalid's auc: 0.984639\n",
      "[152]\tvalid's auc: 0.984648\n",
      "[153]\tvalid's auc: 0.984663\n",
      "[154]\tvalid's auc: 0.984712\n",
      "[155]\tvalid's auc: 0.984724\n",
      "[156]\tvalid's auc: 0.984734\n",
      "[157]\tvalid's auc: 0.984732\n",
      "[158]\tvalid's auc: 0.984735\n",
      "[159]\tvalid's auc: 0.98476\n",
      "[160]\tvalid's auc: 0.984769\n",
      "[161]\tvalid's auc: 0.984779\n",
      "[162]\tvalid's auc: 0.984779\n",
      "[163]\tvalid's auc: 0.984793\n",
      "[164]\tvalid's auc: 0.984797\n",
      "[165]\tvalid's auc: 0.984807\n",
      "[166]\tvalid's auc: 0.984813\n",
      "[167]\tvalid's auc: 0.984823\n",
      "[168]\tvalid's auc: 0.984842\n",
      "[169]\tvalid's auc: 0.984824\n",
      "[170]\tvalid's auc: 0.984818\n",
      "[171]\tvalid's auc: 0.984825\n",
      "[172]\tvalid's auc: 0.984819\n",
      "[173]\tvalid's auc: 0.984838\n",
      "[174]\tvalid's auc: 0.984841\n",
      "[175]\tvalid's auc: 0.984846\n",
      "[176]\tvalid's auc: 0.984854\n",
      "[177]\tvalid's auc: 0.98487\n",
      "[178]\tvalid's auc: 0.98488\n",
      "[179]\tvalid's auc: 0.984893\n",
      "[180]\tvalid's auc: 0.984903\n",
      "[181]\tvalid's auc: 0.984912\n",
      "[182]\tvalid's auc: 0.984912\n",
      "[183]\tvalid's auc: 0.984922\n",
      "[184]\tvalid's auc: 0.984937\n",
      "[185]\tvalid's auc: 0.984933\n",
      "[186]\tvalid's auc: 0.984934\n",
      "[187]\tvalid's auc: 0.98494\n",
      "[188]\tvalid's auc: 0.984983\n",
      "[189]\tvalid's auc: 0.984989\n",
      "[190]\tvalid's auc: 0.985003\n",
      "[191]\tvalid's auc: 0.985007\n",
      "[192]\tvalid's auc: 0.985005\n",
      "[193]\tvalid's auc: 0.985015\n",
      "[194]\tvalid's auc: 0.985017\n",
      "[195]\tvalid's auc: 0.985031\n",
      "[196]\tvalid's auc: 0.985038\n",
      "[197]\tvalid's auc: 0.98503\n",
      "[198]\tvalid's auc: 0.985045\n",
      "[199]\tvalid's auc: 0.985052\n",
      "[200]\tvalid's auc: 0.985067\n",
      "[201]\tvalid's auc: 0.985079\n",
      "[202]\tvalid's auc: 0.985085\n",
      "[203]\tvalid's auc: 0.985087\n",
      "[204]\tvalid's auc: 0.985096\n",
      "[205]\tvalid's auc: 0.985094\n",
      "[206]\tvalid's auc: 0.985093\n",
      "[207]\tvalid's auc: 0.985113\n",
      "[208]\tvalid's auc: 0.985104\n",
      "[209]\tvalid's auc: 0.985163\n",
      "[210]\tvalid's auc: 0.985171\n",
      "[211]\tvalid's auc: 0.985224\n",
      "[212]\tvalid's auc: 0.985236\n",
      "[213]\tvalid's auc: 0.985234\n",
      "[214]\tvalid's auc: 0.985249\n",
      "[215]\tvalid's auc: 0.985249\n",
      "[216]\tvalid's auc: 0.985254\n",
      "[217]\tvalid's auc: 0.98526\n",
      "[218]\tvalid's auc: 0.985265\n",
      "[219]\tvalid's auc: 0.985259\n",
      "[220]\tvalid's auc: 0.985265\n",
      "[221]\tvalid's auc: 0.985271\n",
      "[222]\tvalid's auc: 0.985271\n",
      "[223]\tvalid's auc: 0.985282\n",
      "[224]\tvalid's auc: 0.985291\n",
      "[225]\tvalid's auc: 0.985293\n",
      "[226]\tvalid's auc: 0.985299\n",
      "[227]\tvalid's auc: 0.985298\n",
      "[228]\tvalid's auc: 0.985314\n",
      "[229]\tvalid's auc: 0.985311\n",
      "[230]\tvalid's auc: 0.985321\n",
      "[231]\tvalid's auc: 0.985328\n",
      "[232]\tvalid's auc: 0.98532\n",
      "[233]\tvalid's auc: 0.98532\n",
      "[234]\tvalid's auc: 0.985318\n",
      "[235]\tvalid's auc: 0.985318\n",
      "[236]\tvalid's auc: 0.985323\n",
      "[237]\tvalid's auc: 0.985322\n",
      "[238]\tvalid's auc: 0.985322\n",
      "[239]\tvalid's auc: 0.985314\n",
      "[240]\tvalid's auc: 0.985311\n",
      "[241]\tvalid's auc: 0.985315\n",
      "[242]\tvalid's auc: 0.985315\n",
      "[243]\tvalid's auc: 0.985313\n",
      "[244]\tvalid's auc: 0.985309\n",
      "[245]\tvalid's auc: 0.985307\n",
      "[246]\tvalid's auc: 0.985303\n",
      "[247]\tvalid's auc: 0.985308\n",
      "[248]\tvalid's auc: 0.985317\n",
      "[249]\tvalid's auc: 0.985315\n",
      "[250]\tvalid's auc: 0.985319\n",
      "Did not meet early stopping. Best iteration is:\n",
      "[231]\tvalid's auc: 0.985328\n"
     ]
    },
    {
     "data": {
      "text/plain": [
       "32"
      ]
     },
     "execution_count": 19,
     "metadata": {},
     "output_type": "execute_result"
    }
   ],
   "source": [
    "booster = lgb.train(\n",
    "     lgb_params, \n",
    "     xgtrain,\n",
    "     valid_sets=[xgvalid],\n",
    "     valid_names=['valid'],\n",
    "     evals_result=evals_results, \n",
    "     num_boost_round=num_boost_round,\n",
    "     early_stopping_rounds=early_stopping_rounds,\n",
    "     verbose_eval=1\n",
    ")\n",
    "\n",
    "# n_estimators = model.best_iteration\n",
    "\n",
    "# print('\\nModel Info:')\n",
    "# print('n_estimators:', n_estimators)\n",
    "# print(metrics+':', evals_results['valid'][metrics][n_estimators-1])\n",
    "\n",
    "del xgvalid\n",
    "del xgtrain\n",
    "gc.collect()"
   ]
  },
  {
   "cell_type": "markdown",
   "metadata": {},
   "source": [
    "[250]\tvalid's auc: 0.985319\n",
    "Did not meet early stopping. Best iteration is:\n",
    "[231]\tvalid's auc: 0.985328"
   ]
  },
  {
   "cell_type": "code",
   "execution_count": 21,
   "metadata": {},
   "outputs": [
    {
     "data": {
      "image/png": "[encoded data removed]",
      "text/plain": [
       "<matplotlib.figure.Figure at 0x7f831a784978>"
      ]
     },
     "metadata": {},
     "output_type": "display_data"
    }
   ],
   "source": [
    "import matplotlib.pyplot as plt\n",
    "ax = lgb.plot_importance(booster, max_num_features=100)\n",
    "# plt.savefig('04301-3imp.png', dpi=600, bbox_inches='tight')\n",
    "plt.show()"
   ]
  },
  {
   "cell_type": "code",
   "execution_count": 22,
   "metadata": {},
   "outputs": [],
   "source": [
    "preditions=booster.predict(test_df[predictors].values)"
   ]
  },
  {
   "cell_type": "code",
   "execution_count": 23,
   "metadata": {},
   "outputs": [],
   "source": [
    "sub['is_attributed']  = preditions\n",
    "\n",
    "sub.to_csv('04301-3sub.csv', float_format='%.8f', index=False)"
   ]
  },
  {
   "cell_type": "code",
   "execution_count": null,
   "metadata": {},
   "outputs": [],
   "source": []
  },
  {
   "cell_type": "code",
   "execution_count": null,
   "metadata": {},
   "outputs": [],
   "source": []
  },
  {
   "cell_type": "code",
   "execution_count": null,
   "metadata": {},
   "outputs": [],
   "source": []
  },
  {
   "cell_type": "code",
   "execution_count": null,
   "metadata": {},
   "outputs": [],
   "source": []
  }
 ],
 "metadata": {
  "kernelspec": {
   "display_name": "Python 3",
   "language": "python",
   "name": "python3"
  },
  "language_info": {
   "codemirror_mode": {
    "name": "ipython",
    "version": 3
   },
   "file_extension": ".py",
   "mimetype": "text/x-python",
   "name": "python",
   "nbconvert_exporter": "python",
   "pygments_lexer": "ipython3",
   "version": "3.6.4"
  }
 },
 "nbformat": 4,
 "nbformat_minor": 2
}
