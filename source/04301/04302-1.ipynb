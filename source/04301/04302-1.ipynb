{
 "cells": [
  {
   "cell_type": "markdown",
   "metadata": {},
   "source": [
    "testsupを特徴量の抽出に使用、sampleにないipの行を削除"
   ]
  },
  {
   "cell_type": "code",
   "execution_count": 1,
   "metadata": {},
   "outputs": [],
   "source": [
    "import pandas as pd\n",
    "import time\n",
    "import numpy as np\n",
    "from sklearn.model_selection import train_test_split\n",
    "import lightgbm as lgb\n",
    "import gc\n",
    "from contextlib import contextmanager\n",
    "import pickle"
   ]
  },
  {
   "cell_type": "code",
   "execution_count": 2,
   "metadata": {},
   "outputs": [],
   "source": [
    "@contextmanager\n",
    "def timer(name):\n",
    "    t0 = time.time()\n",
    "    yield\n",
    "    print(f'[{name}] done in {time.time() - t0:.0f} s')\n",
    "    \n",
    "def df_add_counts(df, cols):\n",
    "    arr_slice = df[cols].values\n",
    "    unq, unqtags, counts = np.unique(np.ravel_multi_index(arr_slice.T, arr_slice.max(axis=0) + 1),\n",
    "                                     return_inverse=True, return_counts=True)\n",
    "    df[\"_\".join(cols)+'_count'] = counts[unqtags]\n",
    "    \n",
    "def make_count_features(df):\n",
    "    with timer(\"add count features\"):\n",
    "        df['click_time']= pd.to_datetime(df['click_time'])\n",
    "        dt= df['click_time'].dt\n",
    "        df['day'] = dt.day.astype('uint8')\n",
    "        df['hour'] = dt.hour.astype('uint8')\n",
    "        df['minute'] = dt.minute.astype('uint8')\n",
    "#         df['second'] = dt.second.astype('uint8')#secondを追加\n",
    "\n",
    "        del(dt)\n",
    "        \n",
    "        df_add_counts(df, ['ip'])\n",
    "        df_add_counts(df, ['ip','day','hour','minute'])\n",
    "#         df_add_counts(df, ['os','device'])\n",
    "        df_add_counts(df, ['os','app','channel'])\n",
    "        \n",
    "        df_add_counts(df, ['ip', 'day', 'hour'])\n",
    "        df_add_counts(df, ['ip', 'app'])\n",
    "        df_add_counts(df, ['ip', 'app', 'os'])\n",
    "        df_add_counts(df, ['ip', 'device'])\n",
    "        df_add_counts(df, ['app', 'channel'])\n",
    "\n",
    "def make_next_click_feature(df):\n",
    "    with timer(\"Adding next click times\"):\n",
    "        D= 2**26\n",
    "        df['category'] = (df['ip'].astype(str) + \"_\" + df['app'].astype(str) + \"_\" + df['device'].astype(str) \\\n",
    "                         + \"_\" + df['os'].astype(str)).apply(hash) % D\n",
    "        click_buffer= np.full(D, 3000000000, dtype=np.uint32)\n",
    "        df['epochtime']= df['click_time'].astype(np.int64) // 10 ** 9\n",
    "        next_clicks= []\n",
    "        for category, time in zip(reversed(df['category'].values), reversed(df['epochtime'].values)):\n",
    "            next_clicks.append(click_buffer[category]-time)\n",
    "            click_buffer[category]= time\n",
    "        del(click_buffer)\n",
    "        df['next_click']= list(reversed(next_clicks))\n",
    "        \n",
    "path = '~/talkingdata/input/'\n",
    "\n",
    "dtypes = {\n",
    "        'ip'            : 'uint32',\n",
    "        'app'           : 'uint16',\n",
    "        'device'        : 'uint16',\n",
    "        'os'            : 'uint16',\n",
    "        'channel'       : 'uint16',\n",
    "        'is_attributed' : 'uint8',\n",
    "        'click_id'      : 'uint32'\n",
    "        }"
   ]
  },
  {
   "cell_type": "code",
   "execution_count": 3,
   "metadata": {},
   "outputs": [
    {
     "name": "stdout",
     "output_type": "stream",
     "text": [
      "[load training data] done in 170 s\n"
     ]
    }
   ],
   "source": [
    "with timer(\"load training data\"):\n",
    "    train_df = pd.read_csv(path+\"train.csv\", skiprows=range(1,104903891), nrows=80000000, usecols=['ip','app','device','os', 'channel', 'click_time', 'is_attributed'], dtype=dtypes)"
   ]
  },
  {
   "cell_type": "code",
   "execution_count": 4,
   "metadata": {},
   "outputs": [
    {
     "name": "stdout",
     "output_type": "stream",
     "text": [
      "   click_id      ip  app  device  os  channel           click_time\n",
      "0         0    5744    9       1   3      107  2017-11-10 04:00:00\n",
      "1         1  119901    9       1   3      466  2017-11-10 04:00:00\n",
      "2         2   72287   21       1  19      128  2017-11-10 04:00:00\n",
      "3         3   78477   15       1  13      111  2017-11-10 04:00:00\n",
      "4         4  123080   12       1  13      328  2017-11-10 04:00:00\n",
      "   click_id      ip  app  device  os  channel           click_time  \\\n",
      "0         0   43570    3       1  18      379  2017-11-09 14:23:39   \n",
      "1         1   80528    3       1  13      379  2017-11-09 14:23:51   \n",
      "2         2   32323    3       1  13      379  2017-11-09 14:25:57   \n",
      "3         3   42887    3       1  17      379  2017-11-09 14:26:03   \n",
      "4         4  119289   58       1  30      120  2017-11-09 14:26:41   \n",
      "\n",
      "   click_id.test  \n",
      "0            NaN  \n",
      "1            NaN  \n",
      "2            NaN  \n",
      "3            NaN  \n",
      "4            NaN  \n"
     ]
    }
   ],
   "source": [
    "with open('test.csv.pkl', 'rb') as f:\n",
    "  test_df = pickle.load(f)\n",
    "  print(test_df.head())\n",
    "    \n",
    "with open('testsup_without_test.csv.pkl', 'rb') as f:\n",
    "  testsup_df = pickle.load(f)\n",
    "  print(testsup_df.head())"
   ]
  },
  {
   "cell_type": "code",
   "execution_count": 5,
   "metadata": {},
   "outputs": [
    {
     "name": "stdout",
     "output_type": "stream",
     "text": [
      "65152679\n",
      "126411\n"
     ]
    }
   ],
   "source": [
    "test_ip_max = test_df.ip.max()\n",
    "train_df = train_df[train_df.ip <= test_ip_max]\n",
    "print(len(train_df.index))\n",
    "print(train_df.ip.max())"
   ]
  },
  {
   "cell_type": "code",
   "execution_count": 6,
   "metadata": {},
   "outputs": [
    {
     "data": {
      "text/html": [
       "<div>\n",
       "<style scoped>\n",
       "    .dataframe tbody tr th:only-of-type {\n",
       "        vertical-align: middle;\n",
       "    }\n",
       "\n",
       "    .dataframe tbody tr th {\n",
       "        vertical-align: top;\n",
       "    }\n",
       "\n",
       "    .dataframe thead th {\n",
       "        text-align: right;\n",
       "    }\n",
       "</style>\n",
       "<table border=\"1\" class=\"dataframe\">\n",
       "  <thead>\n",
       "    <tr style=\"text-align: right;\">\n",
       "      <th></th>\n",
       "      <th>click_id</th>\n",
       "      <th>ip</th>\n",
       "      <th>app</th>\n",
       "      <th>device</th>\n",
       "      <th>os</th>\n",
       "      <th>channel</th>\n",
       "      <th>click_time</th>\n",
       "    </tr>\n",
       "  </thead>\n",
       "  <tbody>\n",
       "    <tr>\n",
       "      <th>0</th>\n",
       "      <td>0</td>\n",
       "      <td>5744</td>\n",
       "      <td>9</td>\n",
       "      <td>1</td>\n",
       "      <td>3</td>\n",
       "      <td>107</td>\n",
       "      <td>2017-11-10 04:00:00</td>\n",
       "    </tr>\n",
       "    <tr>\n",
       "      <th>1</th>\n",
       "      <td>1</td>\n",
       "      <td>119901</td>\n",
       "      <td>9</td>\n",
       "      <td>1</td>\n",
       "      <td>3</td>\n",
       "      <td>466</td>\n",
       "      <td>2017-11-10 04:00:00</td>\n",
       "    </tr>\n",
       "    <tr>\n",
       "      <th>2</th>\n",
       "      <td>2</td>\n",
       "      <td>72287</td>\n",
       "      <td>21</td>\n",
       "      <td>1</td>\n",
       "      <td>19</td>\n",
       "      <td>128</td>\n",
       "      <td>2017-11-10 04:00:00</td>\n",
       "    </tr>\n",
       "    <tr>\n",
       "      <th>3</th>\n",
       "      <td>3</td>\n",
       "      <td>78477</td>\n",
       "      <td>15</td>\n",
       "      <td>1</td>\n",
       "      <td>13</td>\n",
       "      <td>111</td>\n",
       "      <td>2017-11-10 04:00:00</td>\n",
       "    </tr>\n",
       "    <tr>\n",
       "      <th>4</th>\n",
       "      <td>4</td>\n",
       "      <td>123080</td>\n",
       "      <td>12</td>\n",
       "      <td>1</td>\n",
       "      <td>13</td>\n",
       "      <td>328</td>\n",
       "      <td>2017-11-10 04:00:00</td>\n",
       "    </tr>\n",
       "  </tbody>\n",
       "</table>\n",
       "</div>"
      ],
      "text/plain": [
       "   click_id      ip  app  device  os  channel           click_time\n",
       "0         0    5744    9       1   3      107  2017-11-10 04:00:00\n",
       "1         1  119901    9       1   3      466  2017-11-10 04:00:00\n",
       "2         2   72287   21       1  19      128  2017-11-10 04:00:00\n",
       "3         3   78477   15       1  13      111  2017-11-10 04:00:00\n",
       "4         4  123080   12       1  13      328  2017-11-10 04:00:00"
      ]
     },
     "execution_count": 6,
     "metadata": {},
     "output_type": "execute_result"
    }
   ],
   "source": [
    "test_df.head()"
   ]
  },
  {
   "cell_type": "code",
   "execution_count": 7,
   "metadata": {},
   "outputs": [
    {
     "data": {
      "text/html": [
       "<div>\n",
       "<style scoped>\n",
       "    .dataframe tbody tr th:only-of-type {\n",
       "        vertical-align: middle;\n",
       "    }\n",
       "\n",
       "    .dataframe tbody tr th {\n",
       "        vertical-align: top;\n",
       "    }\n",
       "\n",
       "    .dataframe thead th {\n",
       "        text-align: right;\n",
       "    }\n",
       "</style>\n",
       "<table border=\"1\" class=\"dataframe\">\n",
       "  <thead>\n",
       "    <tr style=\"text-align: right;\">\n",
       "      <th></th>\n",
       "      <th>click_id</th>\n",
       "      <th>ip</th>\n",
       "      <th>app</th>\n",
       "      <th>device</th>\n",
       "      <th>os</th>\n",
       "      <th>channel</th>\n",
       "      <th>click_time</th>\n",
       "    </tr>\n",
       "  </thead>\n",
       "  <tbody>\n",
       "    <tr>\n",
       "      <th>0</th>\n",
       "      <td>0</td>\n",
       "      <td>43570</td>\n",
       "      <td>3</td>\n",
       "      <td>1</td>\n",
       "      <td>18</td>\n",
       "      <td>379</td>\n",
       "      <td>2017-11-09 14:23:39</td>\n",
       "    </tr>\n",
       "    <tr>\n",
       "      <th>1</th>\n",
       "      <td>1</td>\n",
       "      <td>80528</td>\n",
       "      <td>3</td>\n",
       "      <td>1</td>\n",
       "      <td>13</td>\n",
       "      <td>379</td>\n",
       "      <td>2017-11-09 14:23:51</td>\n",
       "    </tr>\n",
       "    <tr>\n",
       "      <th>2</th>\n",
       "      <td>2</td>\n",
       "      <td>32323</td>\n",
       "      <td>3</td>\n",
       "      <td>1</td>\n",
       "      <td>13</td>\n",
       "      <td>379</td>\n",
       "      <td>2017-11-09 14:25:57</td>\n",
       "    </tr>\n",
       "    <tr>\n",
       "      <th>3</th>\n",
       "      <td>3</td>\n",
       "      <td>42887</td>\n",
       "      <td>3</td>\n",
       "      <td>1</td>\n",
       "      <td>17</td>\n",
       "      <td>379</td>\n",
       "      <td>2017-11-09 14:26:03</td>\n",
       "    </tr>\n",
       "    <tr>\n",
       "      <th>4</th>\n",
       "      <td>4</td>\n",
       "      <td>119289</td>\n",
       "      <td>58</td>\n",
       "      <td>1</td>\n",
       "      <td>30</td>\n",
       "      <td>120</td>\n",
       "      <td>2017-11-09 14:26:41</td>\n",
       "    </tr>\n",
       "  </tbody>\n",
       "</table>\n",
       "</div>"
      ],
      "text/plain": [
       "   click_id      ip  app  device  os  channel           click_time\n",
       "0         0   43570    3       1  18      379  2017-11-09 14:23:39\n",
       "1         1   80528    3       1  13      379  2017-11-09 14:23:51\n",
       "2         2   32323    3       1  13      379  2017-11-09 14:25:57\n",
       "3         3   42887    3       1  17      379  2017-11-09 14:26:03\n",
       "4         4  119289   58       1  30      120  2017-11-09 14:26:41"
      ]
     },
     "execution_count": 7,
     "metadata": {},
     "output_type": "execute_result"
    }
   ],
   "source": [
    "testsup_df = testsup_df.drop(\"click_id.test\", axis=1)\n",
    "testsup_df.head()"
   ]
  },
  {
   "cell_type": "code",
   "execution_count": 8,
   "metadata": {},
   "outputs": [
    {
     "data": {
      "text/plain": [
       "136"
      ]
     },
     "execution_count": 8,
     "metadata": {},
     "output_type": "execute_result"
    }
   ],
   "source": [
    "num_train = train_df.shape[0]\n",
    "y = train_df.is_attributed.values\n",
    "\n",
    "sub = pd.DataFrame()\n",
    "sub['click_id'] = test_df.click_id.values\n",
    "\n",
    "common_column = ['ip','app','device','os','channel','click_time']\n",
    "concat_df = pd.concat([train_df[common_column],test_df[common_column],testsup_df[common_column]])\n",
    "\n",
    "del train_df, testsup_df, test_df\n",
    "gc.collect()"
   ]
  },
  {
   "cell_type": "code",
   "execution_count": 9,
   "metadata": {},
   "outputs": [
    {
     "name": "stdout",
     "output_type": "stream",
     "text": [
      "[add count features] done in 819 s\n",
      "[Adding next click times] done in 949 s\n"
     ]
    },
    {
     "data": {
      "text/plain": [
       "28"
      ]
     },
     "execution_count": 9,
     "metadata": {},
     "output_type": "execute_result"
    }
   ],
   "source": [
    "make_count_features(concat_df)\n",
    "make_next_click_feature(concat_df)\n",
    "\n",
    "gc.collect()"
   ]
  },
  {
   "cell_type": "code",
   "execution_count": 10,
   "metadata": {},
   "outputs": [
    {
     "name": "stdout",
     "output_type": "stream",
     "text": [
      "122997903\n"
     ]
    }
   ],
   "source": [
    "with open('test.csv.pkl', 'rb') as f:\n",
    "  test_df = pickle.load(f)\n",
    "#   print(test_df.head())\n",
    "\n",
    "num_test = test_df.shape[0]\n",
    "# print(num_test)\n",
    "del test_df\n",
    "print(concat_df.shape[0])"
   ]
  },
  {
   "cell_type": "code",
   "execution_count": 11,
   "metadata": {},
   "outputs": [
    {
     "name": "stdout",
     "output_type": "stream",
     "text": [
      "       ip  app  device  os  channel          click_time  day  hour  minute  \\\n",
      "0    5744    9       1   3      107 2017-11-10 04:00:00   10     4       0   \n",
      "1  119901    9       1   3      466 2017-11-10 04:00:00   10     4       0   \n",
      "2   72287   21       1  19      128 2017-11-10 04:00:00   10     4       0   \n",
      "3   78477   15       1  13      111 2017-11-10 04:00:00   10     4       0   \n",
      "4  123080   12       1  13      328 2017-11-10 04:00:00   10     4       0   \n",
      "\n",
      "   ip_count  ip_day_hour_minute_count  os_app_channel_count  \\\n",
      "0       827                         2                 31859   \n",
      "1     15131                        15                 40313   \n",
      "2     10457                         5                411240   \n",
      "3      7985                         9                 83715   \n",
      "4      1063                         4                271896   \n",
      "\n",
      "   ip_day_hour_count  ip_app_count  ip_app_os_count  ip_device_count  \\\n",
      "0                 34           191                7              781   \n",
      "1                406          1927               27            15021   \n",
      "2                231           719              100            10317   \n",
      "3                242           344               73             7937   \n",
      "4                 60           137               35             1055   \n",
      "\n",
      "   app_channel_count  category   epochtime  next_click  \n",
      "0            1411856  64532968  1510286400         753  \n",
      "1            2495411  61270217  1510286400         399  \n",
      "2            1578083  42778282  1510286400          88  \n",
      "3             391515  39750182  1510286400         425  \n",
      "4            1190325  16553867  1510286400        1208  \n"
     ]
    },
    {
     "data": {
      "text/plain": [
       "213"
      ]
     },
     "execution_count": 11,
     "metadata": {},
     "output_type": "execute_result"
    }
   ],
   "source": [
    "train_df = concat_df.iloc[:num_train]\n",
    "test_sup_df = concat_df.iloc[num_train:]\n",
    "test_df = test_sup_df.iloc[:num_test]\n",
    "# testsup_df = test_sup_df.iloc[:num_test]\n",
    "\n",
    "del concat_df, test_sup_df\n",
    "\n",
    "print(test_df.head())\n",
    "# print(testsup_df.head())\n",
    "\n",
    "gc.collect()"
   ]
  },
  {
   "cell_type": "code",
   "execution_count": 12,
   "metadata": {},
   "outputs": [
    {
     "name": "stderr",
     "output_type": "stream",
     "text": [
      "/home/um003580/.pyenv/versions/anaconda3-5.1.0/lib/python3.6/site-packages/sklearn/model_selection/_split.py:2026: FutureWarning: From version 0.21, test_size will always complement train_size unless both are specified.\n",
      "  FutureWarning)\n"
     ]
    }
   ],
   "source": [
    "train_df, val_df, y_train, y_val = train_test_split(train_df, y, train_size=0.8, shuffle=False)#trainを0.8、シャッフルfalseにした\n",
    "\n",
    "evals_results = {}\n",
    "num_boost_round = 250\n",
    "early_stopping_rounds = 30"
   ]
  },
  {
   "cell_type": "code",
   "execution_count": 13,
   "metadata": {},
   "outputs": [],
   "source": [
    "lgb_params = {\n",
    "    'boosting_type': 'gbdt',\n",
    "    'objective': 'binary',\n",
    "    'subsample_for_bin': 200000,  # Number of samples for constructing bin\n",
    "    'min_split_gain': 0,  # lambda_l1, lambda_l2 and min_gain_to_split to regularization\n",
    "    'reg_alpha': 0,  # L1 regularization term on weights\n",
    "    'reg_lambda': 0,  # L2 regularization term on weights\n",
    "    'nthread': 4,\n",
    "    'verbose': 0,\n",
    "    'metric':'auc',     \n",
    " \n",
    "    'learning_rate': 0.15,\n",
    "    'num_leaves': 7,  # 2^max_depth - 1\n",
    "    'max_depth': 3,  # -1 means no limit\n",
    "    'min_child_samples': 100,  # Minimum number of data need in a child(min_data_in_leaf)\n",
    "    'max_bin': 100,  # Number of bucketed bin for feature values\n",
    "    'subsample': 0.7,  # Subsample ratio of the training instance.\n",
    "    'subsample_freq': 1,  # frequence of subsample, <=0 means no enable\n",
    "    'colsample_bytree': 0.9,  # Subsample ratio of columns when constructing each tree.\n",
    "    'min_child_weight': 0,  # Minimum sum of instance weight(hessian) needed in a child(leaf)\n",
    "    'scale_pos_weight':99\n",
    "}\n",
    "# metrics = 'auc'\n",
    "# lgb_params = {\n",
    "#     'boosting_type': 'gbdt',\n",
    "#     'objective': 'binary',\n",
    "#     'metric': metrics,\n",
    "#     'learning_rate': .1,\n",
    "#     'num_leaves': 7,\n",
    "#     'max_depth': 4,\n",
    "#     'min_child_samples': 100,\n",
    "#     'max_bin': 100,\n",
    "#     'subsample': 0.7,\n",
    "#     'subsample_freq': 1,\n",
    "#     'colsample_bytree': 0.7,\n",
    "#     'min_child_weight': 0,\n",
    "#     'min_split_gain': 0,\n",
    "#     'nthread': 4,\n",
    "#     'verbose': 1,\n",
    "#     'scale_pos_weight': 99.7\n",
    "#     #'scale_pos_weight': 400\n",
    "# }"
   ]
  },
  {
   "cell_type": "code",
   "execution_count": 14,
   "metadata": {},
   "outputs": [
    {
     "name": "stdout",
     "output_type": "stream",
     "text": [
      "['app_channel_count', 'hour', 'ip_device_count', 'day', 'device', 'channel', 'next_click', 'os', 'ip_app_count', 'app', 'os_app_channel_count', 'ip_count', 'ip_day_hour_minute_count', 'ip_app_os_count', 'ip_day_hour_count']\n",
      "preparing validation datasets\n"
     ]
    },
    {
     "data": {
      "text/plain": [
       "25"
      ]
     },
     "execution_count": 14,
     "metadata": {},
     "output_type": "execute_result"
    }
   ],
   "source": [
    "target = \"is_attributed\"\n",
    "categorical = ['app','os','channel','device']\n",
    "predictors = list(set(train_df.columns)-set([target])-set(['click_time','category','epochtime','minute','ip']))\n",
    "print(predictors)\n",
    "\n",
    "print(\"preparing validation datasets\")\n",
    "\n",
    "xgtrain = lgb.Dataset(train_df[predictors].values,\n",
    "                      label=y_train,\n",
    "                      feature_name=predictors,\n",
    "                      categorical_feature=categorical\n",
    "                      )\n",
    "\n",
    "del train_df\n",
    "del y_train\n",
    "gc.collect()\n",
    "\n",
    "xgvalid = lgb.Dataset(val_df[predictors].values,\n",
    "                      label=y_val,\n",
    "                      feature_name=predictors,\n",
    "                      categorical_feature=categorical\n",
    "                      )\n",
    "\n",
    "del val_df\n",
    "del y_val\n",
    "gc.collect()"
   ]
  },
  {
   "cell_type": "code",
   "execution_count": 15,
   "metadata": {
    "scrolled": false
   },
   "outputs": [
    {
     "name": "stderr",
     "output_type": "stream",
     "text": [
      "/home/um003580/.pyenv/versions/anaconda3-5.1.0/lib/python3.6/site-packages/lightgbm/basic.py:1036: UserWarning: Using categorical_feature in Dataset.\n",
      "  warnings.warn('Using categorical_feature in Dataset.')\n",
      "/home/um003580/.pyenv/versions/anaconda3-5.1.0/lib/python3.6/site-packages/lightgbm/basic.py:681: UserWarning: categorical_feature in param dict is overrided.\n",
      "  warnings.warn('categorical_feature in param dict is overrided.')\n"
     ]
    },
    {
     "name": "stdout",
     "output_type": "stream",
     "text": [
      "[1]\tvalid's auc: 0.910353\n",
      "Training until validation scores don't improve for 30 rounds.\n",
      "[2]\tvalid's auc: 0.91087\n",
      "[3]\tvalid's auc: 0.911824\n",
      "[4]\tvalid's auc: 0.914754\n",
      "[5]\tvalid's auc: 0.915914\n",
      "[6]\tvalid's auc: 0.916105\n",
      "[7]\tvalid's auc: 0.916606\n",
      "[8]\tvalid's auc: 0.916769\n",
      "[9]\tvalid's auc: 0.924832\n",
      "[10]\tvalid's auc: 0.926427\n",
      "[11]\tvalid's auc: 0.930845\n",
      "[12]\tvalid's auc: 0.930558\n",
      "[13]\tvalid's auc: 0.930544\n",
      "[14]\tvalid's auc: 0.932337\n",
      "[15]\tvalid's auc: 0.932944\n",
      "[16]\tvalid's auc: 0.936796\n",
      "[17]\tvalid's auc: 0.936671\n",
      "[18]\tvalid's auc: 0.937088\n",
      "[19]\tvalid's auc: 0.937515\n",
      "[20]\tvalid's auc: 0.938886\n",
      "[21]\tvalid's auc: 0.939417\n",
      "[22]\tvalid's auc: 0.940419\n",
      "[23]\tvalid's auc: 0.941314\n",
      "[24]\tvalid's auc: 0.942351\n",
      "[25]\tvalid's auc: 0.942717\n",
      "[26]\tvalid's auc: 0.943836\n",
      "[27]\tvalid's auc: 0.943921\n",
      "[28]\tvalid's auc: 0.945266\n",
      "[29]\tvalid's auc: 0.946264\n",
      "[30]\tvalid's auc: 0.947679\n",
      "[31]\tvalid's auc: 0.948455\n",
      "[32]\tvalid's auc: 0.948985\n",
      "[33]\tvalid's auc: 0.949884\n",
      "[34]\tvalid's auc: 0.950572\n",
      "[35]\tvalid's auc: 0.951272\n",
      "[36]\tvalid's auc: 0.9519\n",
      "[37]\tvalid's auc: 0.952568\n",
      "[38]\tvalid's auc: 0.953242\n",
      "[39]\tvalid's auc: 0.953481\n",
      "[40]\tvalid's auc: 0.954144\n",
      "[41]\tvalid's auc: 0.954627\n",
      "[42]\tvalid's auc: 0.954811\n",
      "[43]\tvalid's auc: 0.955415\n",
      "[44]\tvalid's auc: 0.955597\n",
      "[45]\tvalid's auc: 0.955948\n",
      "[46]\tvalid's auc: 0.956419\n",
      "[47]\tvalid's auc: 0.956664\n",
      "[48]\tvalid's auc: 0.956674\n",
      "[49]\tvalid's auc: 0.957074\n",
      "[50]\tvalid's auc: 0.957395\n",
      "[51]\tvalid's auc: 0.957551\n",
      "[52]\tvalid's auc: 0.957599\n",
      "[53]\tvalid's auc: 0.957986\n",
      "[54]\tvalid's auc: 0.958302\n",
      "[55]\tvalid's auc: 0.958485\n",
      "[56]\tvalid's auc: 0.958752\n",
      "[57]\tvalid's auc: 0.958742\n",
      "[58]\tvalid's auc: 0.958917\n",
      "[59]\tvalid's auc: 0.959173\n",
      "[60]\tvalid's auc: 0.959473\n",
      "[61]\tvalid's auc: 0.959645\n",
      "[62]\tvalid's auc: 0.959695\n",
      "[63]\tvalid's auc: 0.959867\n",
      "[64]\tvalid's auc: 0.960031\n",
      "[65]\tvalid's auc: 0.960268\n",
      "[66]\tvalid's auc: 0.960403\n",
      "[67]\tvalid's auc: 0.96048\n",
      "[68]\tvalid's auc: 0.960581\n",
      "[69]\tvalid's auc: 0.960632\n",
      "[70]\tvalid's auc: 0.960843\n",
      "[71]\tvalid's auc: 0.960877\n",
      "[72]\tvalid's auc: 0.961005\n",
      "[73]\tvalid's auc: 0.961193\n",
      "[74]\tvalid's auc: 0.961267\n",
      "[75]\tvalid's auc: 0.961329\n",
      "[76]\tvalid's auc: 0.961387\n",
      "[77]\tvalid's auc: 0.961372\n",
      "[78]\tvalid's auc: 0.961394\n",
      "[79]\tvalid's auc: 0.961397\n",
      "[80]\tvalid's auc: 0.961596\n",
      "[81]\tvalid's auc: 0.961666\n",
      "[82]\tvalid's auc: 0.961842\n",
      "[83]\tvalid's auc: 0.96191\n",
      "[84]\tvalid's auc: 0.961898\n",
      "[85]\tvalid's auc: 0.962124\n",
      "[86]\tvalid's auc: 0.962189\n",
      "[87]\tvalid's auc: 0.962316\n",
      "[88]\tvalid's auc: 0.962663\n",
      "[89]\tvalid's auc: 0.962671\n",
      "[90]\tvalid's auc: 0.962778\n",
      "[91]\tvalid's auc: 0.962881\n",
      "[92]\tvalid's auc: 0.962935\n",
      "[93]\tvalid's auc: 0.963031\n",
      "[94]\tvalid's auc: 0.963124\n",
      "[95]\tvalid's auc: 0.963253\n",
      "[96]\tvalid's auc: 0.963245\n",
      "[97]\tvalid's auc: 0.963316\n",
      "[98]\tvalid's auc: 0.963382\n",
      "[99]\tvalid's auc: 0.963395\n",
      "[100]\tvalid's auc: 0.963522\n",
      "[101]\tvalid's auc: 0.963527\n",
      "[102]\tvalid's auc: 0.963695\n",
      "[103]\tvalid's auc: 0.963734\n",
      "[104]\tvalid's auc: 0.963814\n",
      "[105]\tvalid's auc: 0.96386\n",
      "[106]\tvalid's auc: 0.963981\n",
      "[107]\tvalid's auc: 0.964049\n",
      "[108]\tvalid's auc: 0.964061\n",
      "[109]\tvalid's auc: 0.964104\n",
      "[110]\tvalid's auc: 0.96431\n",
      "[111]\tvalid's auc: 0.964292\n",
      "[112]\tvalid's auc: 0.964312\n",
      "[113]\tvalid's auc: 0.964277\n",
      "[114]\tvalid's auc: 0.964348\n",
      "[115]\tvalid's auc: 0.964419\n",
      "[116]\tvalid's auc: 0.964415\n",
      "[117]\tvalid's auc: 0.964441\n",
      "[118]\tvalid's auc: 0.964481\n",
      "[119]\tvalid's auc: 0.964498\n",
      "[120]\tvalid's auc: 0.964549\n",
      "[121]\tvalid's auc: 0.964653\n",
      "[122]\tvalid's auc: 0.964705\n",
      "[123]\tvalid's auc: 0.964766\n",
      "[124]\tvalid's auc: 0.96478\n",
      "[125]\tvalid's auc: 0.964786\n",
      "[126]\tvalid's auc: 0.964835\n",
      "[127]\tvalid's auc: 0.964841\n",
      "[128]\tvalid's auc: 0.96485\n",
      "[129]\tvalid's auc: 0.964915\n",
      "[130]\tvalid's auc: 0.964945\n",
      "[131]\tvalid's auc: 0.964934\n",
      "[132]\tvalid's auc: 0.964935\n",
      "[133]\tvalid's auc: 0.965018\n",
      "[134]\tvalid's auc: 0.965057\n",
      "[135]\tvalid's auc: 0.96513\n",
      "[136]\tvalid's auc: 0.965139\n",
      "[137]\tvalid's auc: 0.965114\n",
      "[138]\tvalid's auc: 0.965113\n",
      "[139]\tvalid's auc: 0.965155\n",
      "[140]\tvalid's auc: 0.965166\n",
      "[141]\tvalid's auc: 0.965225\n",
      "[142]\tvalid's auc: 0.965245\n",
      "[143]\tvalid's auc: 0.965221\n",
      "[144]\tvalid's auc: 0.965216\n",
      "[145]\tvalid's auc: 0.965242\n",
      "[146]\tvalid's auc: 0.965292\n",
      "[147]\tvalid's auc: 0.9653\n",
      "[148]\tvalid's auc: 0.965315\n",
      "[149]\tvalid's auc: 0.965323\n",
      "[150]\tvalid's auc: 0.965356\n",
      "[151]\tvalid's auc: 0.965393\n",
      "[152]\tvalid's auc: 0.965417\n",
      "[153]\tvalid's auc: 0.965439\n",
      "[154]\tvalid's auc: 0.965461\n",
      "[155]\tvalid's auc: 0.965445\n",
      "[156]\tvalid's auc: 0.965441\n",
      "[157]\tvalid's auc: 0.965468\n",
      "[158]\tvalid's auc: 0.965636\n",
      "[159]\tvalid's auc: 0.965622\n",
      "[160]\tvalid's auc: 0.965622\n",
      "[161]\tvalid's auc: 0.965663\n",
      "[162]\tvalid's auc: 0.965651\n",
      "[163]\tvalid's auc: 0.965657\n",
      "[164]\tvalid's auc: 0.965684\n",
      "[165]\tvalid's auc: 0.965683\n",
      "[166]\tvalid's auc: 0.965648\n",
      "[167]\tvalid's auc: 0.965688\n",
      "[168]\tvalid's auc: 0.965687\n",
      "[169]\tvalid's auc: 0.965701\n",
      "[170]\tvalid's auc: 0.965757\n",
      "[171]\tvalid's auc: 0.965782\n",
      "[172]\tvalid's auc: 0.965826\n",
      "[173]\tvalid's auc: 0.965816\n",
      "[174]\tvalid's auc: 0.965838\n",
      "[175]\tvalid's auc: 0.96586\n",
      "[176]\tvalid's auc: 0.965899\n",
      "[177]\tvalid's auc: 0.965897\n",
      "[178]\tvalid's auc: 0.965891\n",
      "[179]\tvalid's auc: 0.96589\n",
      "[180]\tvalid's auc: 0.965892\n",
      "[181]\tvalid's auc: 0.965978\n",
      "[182]\tvalid's auc: 0.965981\n",
      "[183]\tvalid's auc: 0.965966\n",
      "[184]\tvalid's auc: 0.965982\n",
      "[185]\tvalid's auc: 0.966001\n",
      "[186]\tvalid's auc: 0.965976\n",
      "[187]\tvalid's auc: 0.965992\n",
      "[188]\tvalid's auc: 0.966012\n",
      "[189]\tvalid's auc: 0.966009\n",
      "[190]\tvalid's auc: 0.966008\n",
      "[191]\tvalid's auc: 0.965998\n",
      "[192]\tvalid's auc: 0.96603\n",
      "[193]\tvalid's auc: 0.966035\n",
      "[194]\tvalid's auc: 0.966011\n",
      "[195]\tvalid's auc: 0.966025\n",
      "[196]\tvalid's auc: 0.96604\n",
      "[197]\tvalid's auc: 0.966058\n",
      "[198]\tvalid's auc: 0.966094\n",
      "[199]\tvalid's auc: 0.966095\n",
      "[200]\tvalid's auc: 0.966102\n",
      "[201]\tvalid's auc: 0.966122\n",
      "[202]\tvalid's auc: 0.966136\n",
      "[203]\tvalid's auc: 0.966124\n",
      "[204]\tvalid's auc: 0.966141\n",
      "[205]\tvalid's auc: 0.966167\n",
      "[206]\tvalid's auc: 0.966203\n",
      "[207]\tvalid's auc: 0.966224\n",
      "[208]\tvalid's auc: 0.966285\n",
      "[209]\tvalid's auc: 0.966272\n",
      "[210]\tvalid's auc: 0.966274\n",
      "[211]\tvalid's auc: 0.966267\n",
      "[212]\tvalid's auc: 0.966264\n",
      "[213]\tvalid's auc: 0.966281\n",
      "[214]\tvalid's auc: 0.966276\n",
      "[215]\tvalid's auc: 0.966318\n",
      "[216]\tvalid's auc: 0.966324\n",
      "[217]\tvalid's auc: 0.966312\n",
      "[218]\tvalid's auc: 0.966293\n",
      "[219]\tvalid's auc: 0.966295\n",
      "[220]\tvalid's auc: 0.966321\n",
      "[221]\tvalid's auc: 0.966328\n",
      "[222]\tvalid's auc: 0.966339\n",
      "[223]\tvalid's auc: 0.966322\n",
      "[224]\tvalid's auc: 0.966334\n",
      "[225]\tvalid's auc: 0.966357\n",
      "[226]\tvalid's auc: 0.966365\n",
      "[227]\tvalid's auc: 0.966352\n",
      "[228]\tvalid's auc: 0.966356\n",
      "[229]\tvalid's auc: 0.966367\n",
      "[230]\tvalid's auc: 0.966362\n",
      "[231]\tvalid's auc: 0.966363\n",
      "[232]\tvalid's auc: 0.966378\n",
      "[233]\tvalid's auc: 0.966379\n",
      "[234]\tvalid's auc: 0.966392\n",
      "[235]\tvalid's auc: 0.966379\n",
      "[236]\tvalid's auc: 0.966377\n",
      "[237]\tvalid's auc: 0.966412\n",
      "[238]\tvalid's auc: 0.96643\n",
      "[239]\tvalid's auc: 0.96642\n",
      "[240]\tvalid's auc: 0.966438\n",
      "[241]\tvalid's auc: 0.966471\n",
      "[242]\tvalid's auc: 0.966492\n",
      "[243]\tvalid's auc: 0.966481\n",
      "[244]\tvalid's auc: 0.966493\n",
      "[245]\tvalid's auc: 0.966495\n",
      "[246]\tvalid's auc: 0.966481\n",
      "[247]\tvalid's auc: 0.966475\n",
      "[248]\tvalid's auc: 0.966476\n",
      "[249]\tvalid's auc: 0.966486\n",
      "[250]\tvalid's auc: 0.966482\n",
      "Did not meet early stopping. Best iteration is:\n",
      "[245]\tvalid's auc: 0.966495\n"
     ]
    },
    {
     "data": {
      "text/plain": [
       "32"
      ]
     },
     "execution_count": 15,
     "metadata": {},
     "output_type": "execute_result"
    }
   ],
   "source": [
    "booster = lgb.train(\n",
    "     lgb_params, \n",
    "     xgtrain,\n",
    "     valid_sets=[xgvalid],\n",
    "     valid_names=['valid'],\n",
    "     evals_result=evals_results, \n",
    "     num_boost_round=num_boost_round,\n",
    "     early_stopping_rounds=early_stopping_rounds,\n",
    "     verbose_eval=1\n",
    ")\n",
    "\n",
    "# n_estimators = model.best_iteration\n",
    "\n",
    "# print('\\nModel Info:')\n",
    "# print('n_estimators:', n_estimators)\n",
    "# print(metrics+':', evals_results['valid'][metrics][n_estimators-1])\n",
    "\n",
    "del xgvalid\n",
    "del xgtrain\n",
    "gc.collect()"
   ]
  },
  {
   "cell_type": "markdown",
   "metadata": {},
   "source": [
    "[250]\tvalid's auc: 0.966482\n",
    "Did not meet early stopping. Best iteration is:\n",
    "[245]\tvalid's auc: 0.966495"
   ]
  },
  {
   "cell_type": "code",
   "execution_count": 16,
   "metadata": {},
   "outputs": [
    {
     "data": {
      "text/plain": [
       "<matplotlib.figure.Figure at 0x7fd7e13cd828>"
      ]
     },
     "metadata": {},
     "output_type": "display_data"
    }
   ],
   "source": [
    "import matplotlib.pyplot as plt\n",
    "ax = lgb.plot_importance(booster, max_num_features=100)\n",
    "plt.savefig('04302-1imp.png', dpi=600, bbox_inches='tight')\n",
    "plt.show()"
   ]
  },
  {
   "cell_type": "code",
   "execution_count": 17,
   "metadata": {},
   "outputs": [],
   "source": [
    "preditions=booster.predict(test_df[predictors].values)"
   ]
  },
  {
   "cell_type": "code",
   "execution_count": 18,
   "metadata": {},
   "outputs": [],
   "source": [
    "sub['is_attributed']  = preditions\n",
    "\n",
    "sub.to_csv('04302-1sub.csv', float_format='%.8f', index=False)"
   ]
  },
  {
   "cell_type": "code",
   "execution_count": null,
   "metadata": {},
   "outputs": [],
   "source": []
  },
  {
   "cell_type": "code",
   "execution_count": null,
   "metadata": {},
   "outputs": [],
   "source": []
  },
  {
   "cell_type": "code",
   "execution_count": null,
   "metadata": {},
   "outputs": [],
   "source": []
  },
  {
   "cell_type": "code",
   "execution_count": null,
   "metadata": {},
   "outputs": [],
   "source": []
  }
 ],
 "metadata": {
  "kernelspec": {
   "display_name": "Python 3",
   "language": "python",
   "name": "python3"
  },
  "language_info": {
   "codemirror_mode": {
    "name": "ipython",
    "version": 3
   },
   "file_extension": ".py",
   "mimetype": "text/x-python",
   "name": "python",
   "nbconvert_exporter": "python",
   "pygments_lexer": "ipython3",
   "version": "3.6.4"
  }
 },
 "nbformat": 4,
 "nbformat_minor": 2
}
